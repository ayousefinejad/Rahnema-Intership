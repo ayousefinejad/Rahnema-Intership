{
  "nbformat": 4,
  "nbformat_minor": 0,
  "metadata": {
    "colab": {
      "name": "feature_extraction_S.ipynb",
      "provenance": [],
      "collapsed_sections": [
        "pE8RnZ3qKLN8",
        "8ICq5wu_Jqt1",
        "iRlGOHvYrTDe",
        "hPxULKj5WCkZ",
        "_8OEseLs2CXN",
        "xyTMxh8WXl1H",
        "oa_Vwg_6Tjwu",
        "xdb1lhs4gRwq",
        "V5dk8KjO3QEW",
        "FQeUDGre16cN",
        "F3I4Sz9CR6Se",
        "e6_CwFtrsdSl"
      ]
    },
    "kernelspec": {
      "name": "python3",
      "display_name": "Python 3"
    },
    "language_info": {
      "name": "python"
    }
  },
  "cells": [
    {
      "cell_type": "code",
      "execution_count": null,
      "metadata": {
        "id": "b4o9Iyi2L5Q0",
        "colab": {
          "base_uri": "https://localhost:8080/"
        },
        "outputId": "97eed208-2ea7-45a5-8ed9-1df39192509a"
      },
      "outputs": [
        {
          "output_type": "stream",
          "name": "stdout",
          "text": [
            "--2022-02-27 10:52:11--  https://mind201910small.blob.core.windows.net/release/MINDsmall_train.zip\n",
            "Resolving mind201910small.blob.core.windows.net (mind201910small.blob.core.windows.net)... 20.150.34.36\n",
            "Connecting to mind201910small.blob.core.windows.net (mind201910small.blob.core.windows.net)|20.150.34.36|:443... connected.\n",
            "HTTP request sent, awaiting response... 200 OK\n",
            "Length: 52952752 (50M) [application/octet-stream]\n",
            "Saving to: ‘MINDsmall_train.zip’\n",
            "\n",
            "MINDsmall_train.zip 100%[===================>]  50.50M  4.19MB/s    in 12s     \n",
            "\n",
            "2022-02-27 10:52:23 (4.29 MB/s) - ‘MINDsmall_train.zip’ saved [52952752/52952752]\n",
            "\n",
            "Archive:  MINDsmall_train.zip\n",
            "  inflating: behaviors.tsv           \n",
            "  inflating: entity_embedding.vec    \n",
            "  inflating: news.tsv                \n",
            "  inflating: relation_embedding.vec  \n"
          ]
        }
      ],
      "source": [
        "#main data\n",
        "!wget \"https://mind201910small.blob.core.windows.net/release/MINDsmall_train.zip\"\n",
        "!unzip MINDsmall_train.zip"
      ]
    },
    {
      "cell_type": "markdown",
      "metadata": {
        "id": "pE8RnZ3qKLN8"
      },
      "source": [
        "# Importing Libraries"
      ]
    },
    {
      "cell_type": "code",
      "execution_count": null,
      "metadata": {
        "id": "DX9SChvfxNdh"
      },
      "outputs": [],
      "source": [
        "import pandas as pd\n",
        "import numpy as np\n",
        "from dateutil.parser import parse\n",
        "import plotly\n",
        "import plotly.express as px\n",
        "import io\n",
        "from google.colab import files\n"
      ]
    },
    {
      "cell_type": "markdown",
      "metadata": {
        "id": "A_exHC5zKLN-"
      },
      "source": [
        "# Loading **Data**"
      ]
    },
    {
      "cell_type": "markdown",
      "source": [
        "Read behaviors data as users dataframe"
      ],
      "metadata": {
        "id": "67vuLsm9M5MT"
      }
    },
    {
      "cell_type": "code",
      "execution_count": null,
      "metadata": {
        "outputId": "ff30e7ed-7341-4723-a338-d0118efb1949",
        "colab": {
          "base_uri": "https://localhost:8080/",
          "height": 424
        },
        "id": "6K0Ok09lKLOA"
      },
      "outputs": [
        {
          "output_type": "execute_result",
          "data": {
            "text/html": [
              "\n",
              "  <div id=\"df-93f36ffe-e66b-46bf-9087-82196753fc1f\">\n",
              "    <div class=\"colab-df-container\">\n",
              "      <div>\n",
              "<style scoped>\n",
              "    .dataframe tbody tr th:only-of-type {\n",
              "        vertical-align: middle;\n",
              "    }\n",
              "\n",
              "    .dataframe tbody tr th {\n",
              "        vertical-align: top;\n",
              "    }\n",
              "\n",
              "    .dataframe thead th {\n",
              "        text-align: right;\n",
              "    }\n",
              "</style>\n",
              "<table border=\"1\" class=\"dataframe\">\n",
              "  <thead>\n",
              "    <tr style=\"text-align: right;\">\n",
              "      <th></th>\n",
              "      <th>UserID</th>\n",
              "      <th>Time</th>\n",
              "      <th>History</th>\n",
              "      <th>Recommended_Impressions</th>\n",
              "    </tr>\n",
              "  </thead>\n",
              "  <tbody>\n",
              "    <tr>\n",
              "      <th>0</th>\n",
              "      <td>U13740</td>\n",
              "      <td>11/11/2019 9:05:58 AM</td>\n",
              "      <td>N55189 N42782 N34694 N45794 N18445 N63302 N104...</td>\n",
              "      <td>N55689-1 N35729-0</td>\n",
              "    </tr>\n",
              "    <tr>\n",
              "      <th>1</th>\n",
              "      <td>U91836</td>\n",
              "      <td>11/12/2019 6:11:30 PM</td>\n",
              "      <td>N31739 N6072 N63045 N23979 N35656 N43353 N8129...</td>\n",
              "      <td>N20678-0 N39317-0 N58114-0 N20495-0 N42977-0 N...</td>\n",
              "    </tr>\n",
              "    <tr>\n",
              "      <th>2</th>\n",
              "      <td>U73700</td>\n",
              "      <td>11/14/2019 7:01:48 AM</td>\n",
              "      <td>N10732 N25792 N7563 N21087 N41087 N5445 N60384...</td>\n",
              "      <td>N50014-0 N23877-0 N35389-0 N49712-0 N16844-0 N...</td>\n",
              "    </tr>\n",
              "    <tr>\n",
              "      <th>3</th>\n",
              "      <td>U34670</td>\n",
              "      <td>11/11/2019 5:28:05 AM</td>\n",
              "      <td>N45729 N2203 N871 N53880 N41375 N43142 N33013 ...</td>\n",
              "      <td>N35729-0 N33632-0 N49685-1 N27581-0</td>\n",
              "    </tr>\n",
              "    <tr>\n",
              "      <th>4</th>\n",
              "      <td>U8125</td>\n",
              "      <td>11/12/2019 4:11:21 PM</td>\n",
              "      <td>N10078 N56514 N14904 N33740</td>\n",
              "      <td>N39985-0 N36050-0 N16096-0 N8400-1 N22407-0 N6...</td>\n",
              "    </tr>\n",
              "    <tr>\n",
              "      <th>...</th>\n",
              "      <td>...</td>\n",
              "      <td>...</td>\n",
              "      <td>...</td>\n",
              "      <td>...</td>\n",
              "    </tr>\n",
              "    <tr>\n",
              "      <th>156960</th>\n",
              "      <td>U21593</td>\n",
              "      <td>11/14/2019 10:24:05 PM</td>\n",
              "      <td>N7432 N58559 N1954 N43353 N14343 N13008 N28833...</td>\n",
              "      <td>N2235-0 N22975-0 N64037-0 N47652-0 N11378-0 N4...</td>\n",
              "    </tr>\n",
              "    <tr>\n",
              "      <th>156961</th>\n",
              "      <td>U10123</td>\n",
              "      <td>11/13/2019 6:57:04 AM</td>\n",
              "      <td>N9803 N104 N24462 N57318 N55743 N40526 N31726 ...</td>\n",
              "      <td>N3841-0 N61571-0 N58813-0 N28213-0 N4428-0 N25...</td>\n",
              "    </tr>\n",
              "    <tr>\n",
              "      <th>156962</th>\n",
              "      <td>U75630</td>\n",
              "      <td>11/14/2019 10:58:13 AM</td>\n",
              "      <td>N29898 N59704 N4408 N9803 N53644 N26103 N812 N...</td>\n",
              "      <td>N55913-0 N62318-0 N53515-0 N10960-0 N9135-0 N5...</td>\n",
              "    </tr>\n",
              "    <tr>\n",
              "      <th>156963</th>\n",
              "      <td>U44625</td>\n",
              "      <td>11/13/2019 2:57:02 PM</td>\n",
              "      <td>N4118 N47297 N3164 N43295 N6056 N38747 N42973 ...</td>\n",
              "      <td>N6219-0 N3663-0 N31147-0 N58363-0 N4107-0 N457...</td>\n",
              "    </tr>\n",
              "    <tr>\n",
              "      <th>156964</th>\n",
              "      <td>U64800</td>\n",
              "      <td>11/14/2019 3:25:49 PM</td>\n",
              "      <td>N22997 N48742</td>\n",
              "      <td>N61233-0 N33828-1 N19661-0 N41934-0</td>\n",
              "    </tr>\n",
              "  </tbody>\n",
              "</table>\n",
              "<p>156965 rows × 4 columns</p>\n",
              "</div>\n",
              "      <button class=\"colab-df-convert\" onclick=\"convertToInteractive('df-93f36ffe-e66b-46bf-9087-82196753fc1f')\"\n",
              "              title=\"Convert this dataframe to an interactive table.\"\n",
              "              style=\"display:none;\">\n",
              "        \n",
              "  <svg xmlns=\"http://www.w3.org/2000/svg\" height=\"24px\"viewBox=\"0 0 24 24\"\n",
              "       width=\"24px\">\n",
              "    <path d=\"M0 0h24v24H0V0z\" fill=\"none\"/>\n",
              "    <path d=\"M18.56 5.44l.94 2.06.94-2.06 2.06-.94-2.06-.94-.94-2.06-.94 2.06-2.06.94zm-11 1L8.5 8.5l.94-2.06 2.06-.94-2.06-.94L8.5 2.5l-.94 2.06-2.06.94zm10 10l.94 2.06.94-2.06 2.06-.94-2.06-.94-.94-2.06-.94 2.06-2.06.94z\"/><path d=\"M17.41 7.96l-1.37-1.37c-.4-.4-.92-.59-1.43-.59-.52 0-1.04.2-1.43.59L10.3 9.45l-7.72 7.72c-.78.78-.78 2.05 0 2.83L4 21.41c.39.39.9.59 1.41.59.51 0 1.02-.2 1.41-.59l7.78-7.78 2.81-2.81c.8-.78.8-2.07 0-2.86zM5.41 20L4 18.59l7.72-7.72 1.47 1.35L5.41 20z\"/>\n",
              "  </svg>\n",
              "      </button>\n",
              "      \n",
              "  <style>\n",
              "    .colab-df-container {\n",
              "      display:flex;\n",
              "      flex-wrap:wrap;\n",
              "      gap: 12px;\n",
              "    }\n",
              "\n",
              "    .colab-df-convert {\n",
              "      background-color: #E8F0FE;\n",
              "      border: none;\n",
              "      border-radius: 50%;\n",
              "      cursor: pointer;\n",
              "      display: none;\n",
              "      fill: #1967D2;\n",
              "      height: 32px;\n",
              "      padding: 0 0 0 0;\n",
              "      width: 32px;\n",
              "    }\n",
              "\n",
              "    .colab-df-convert:hover {\n",
              "      background-color: #E2EBFA;\n",
              "      box-shadow: 0px 1px 2px rgba(60, 64, 67, 0.3), 0px 1px 3px 1px rgba(60, 64, 67, 0.15);\n",
              "      fill: #174EA6;\n",
              "    }\n",
              "\n",
              "    [theme=dark] .colab-df-convert {\n",
              "      background-color: #3B4455;\n",
              "      fill: #D2E3FC;\n",
              "    }\n",
              "\n",
              "    [theme=dark] .colab-df-convert:hover {\n",
              "      background-color: #434B5C;\n",
              "      box-shadow: 0px 1px 3px 1px rgba(0, 0, 0, 0.15);\n",
              "      filter: drop-shadow(0px 1px 2px rgba(0, 0, 0, 0.3));\n",
              "      fill: #FFFFFF;\n",
              "    }\n",
              "  </style>\n",
              "\n",
              "      <script>\n",
              "        const buttonEl =\n",
              "          document.querySelector('#df-93f36ffe-e66b-46bf-9087-82196753fc1f button.colab-df-convert');\n",
              "        buttonEl.style.display =\n",
              "          google.colab.kernel.accessAllowed ? 'block' : 'none';\n",
              "\n",
              "        async function convertToInteractive(key) {\n",
              "          const element = document.querySelector('#df-93f36ffe-e66b-46bf-9087-82196753fc1f');\n",
              "          const dataTable =\n",
              "            await google.colab.kernel.invokeFunction('convertToInteractive',\n",
              "                                                     [key], {});\n",
              "          if (!dataTable) return;\n",
              "\n",
              "          const docLinkHtml = 'Like what you see? Visit the ' +\n",
              "            '<a target=\"_blank\" href=https://colab.research.google.com/notebooks/data_table.ipynb>data table notebook</a>'\n",
              "            + ' to learn more about interactive tables.';\n",
              "          element.innerHTML = '';\n",
              "          dataTable['output_type'] = 'display_data';\n",
              "          await google.colab.output.renderOutput(dataTable, element);\n",
              "          const docLink = document.createElement('div');\n",
              "          docLink.innerHTML = docLinkHtml;\n",
              "          element.appendChild(docLink);\n",
              "        }\n",
              "      </script>\n",
              "    </div>\n",
              "  </div>\n",
              "  "
            ],
            "text/plain": [
              "        UserID  ...                            Recommended_Impressions\n",
              "0       U13740  ...                                  N55689-1 N35729-0\n",
              "1       U91836  ...  N20678-0 N39317-0 N58114-0 N20495-0 N42977-0 N...\n",
              "2       U73700  ...  N50014-0 N23877-0 N35389-0 N49712-0 N16844-0 N...\n",
              "3       U34670  ...                N35729-0 N33632-0 N49685-1 N27581-0\n",
              "4        U8125  ...  N39985-0 N36050-0 N16096-0 N8400-1 N22407-0 N6...\n",
              "...        ...  ...                                                ...\n",
              "156960  U21593  ...  N2235-0 N22975-0 N64037-0 N47652-0 N11378-0 N4...\n",
              "156961  U10123  ...  N3841-0 N61571-0 N58813-0 N28213-0 N4428-0 N25...\n",
              "156962  U75630  ...  N55913-0 N62318-0 N53515-0 N10960-0 N9135-0 N5...\n",
              "156963  U44625  ...  N6219-0 N3663-0 N31147-0 N58363-0 N4107-0 N457...\n",
              "156964  U64800  ...                N61233-0 N33828-1 N19661-0 N41934-0\n",
              "\n",
              "[156965 rows x 4 columns]"
            ]
          },
          "metadata": {},
          "execution_count": 4
        }
      ],
      "source": [
        "behaviors_colnames = [\"impressionID\",\"UserID\",\"Time\",\"History\",\"Recommended_Impressions\"]\n",
        "users = pd.read_csv('behaviors.tsv',sep='\\t', names=behaviors_colnames, header=None , index_col=False)\n",
        "users = users.drop(\"impressionID\",axis = 1) #it's not necessary\n",
        "users"
      ]
    },
    {
      "cell_type": "markdown",
      "source": [
        "Read news Data as news dataframe"
      ],
      "metadata": {
        "id": "ZhP8CKkONE8c"
      }
    },
    {
      "cell_type": "code",
      "source": [
        "news_colnames = [\"NewsID\"\n",
        "        ,\"Category\",\"SubCategory\",\"Title\",\"Abstract\"\n",
        "            ,\"URL\",\"Title Entities\",\"Abstract Entities\"]\n",
        "news = pd.read_csv('news.tsv',sep='\\t', names=news_colnames, header=None , index_col=False)\n",
        "news=news.drop([\"URL\",\"Title Entities\", \"Abstract Entities\"],axis=1) #it's not necessary\n",
        "news"
      ],
      "metadata": {
        "id": "xaQzYK0SM0jI",
        "outputId": "4eebdefc-7dfa-4a47-8d7f-416706aee69a",
        "colab": {
          "base_uri": "https://localhost:8080/",
          "height": 424
        }
      },
      "execution_count": null,
      "outputs": [
        {
          "output_type": "execute_result",
          "data": {
            "text/html": [
              "\n",
              "  <div id=\"df-5598dc42-8fa4-4527-8414-b24bd8cfa3ea\">\n",
              "    <div class=\"colab-df-container\">\n",
              "      <div>\n",
              "<style scoped>\n",
              "    .dataframe tbody tr th:only-of-type {\n",
              "        vertical-align: middle;\n",
              "    }\n",
              "\n",
              "    .dataframe tbody tr th {\n",
              "        vertical-align: top;\n",
              "    }\n",
              "\n",
              "    .dataframe thead th {\n",
              "        text-align: right;\n",
              "    }\n",
              "</style>\n",
              "<table border=\"1\" class=\"dataframe\">\n",
              "  <thead>\n",
              "    <tr style=\"text-align: right;\">\n",
              "      <th></th>\n",
              "      <th>NewsID</th>\n",
              "      <th>Category</th>\n",
              "      <th>SubCategory</th>\n",
              "      <th>Title</th>\n",
              "      <th>Abstract</th>\n",
              "    </tr>\n",
              "  </thead>\n",
              "  <tbody>\n",
              "    <tr>\n",
              "      <th>0</th>\n",
              "      <td>N55528</td>\n",
              "      <td>lifestyle</td>\n",
              "      <td>lifestyleroyals</td>\n",
              "      <td>The Brands Queen Elizabeth, Prince Charles, an...</td>\n",
              "      <td>Shop the notebooks, jackets, and more that the...</td>\n",
              "    </tr>\n",
              "    <tr>\n",
              "      <th>1</th>\n",
              "      <td>N19639</td>\n",
              "      <td>health</td>\n",
              "      <td>weightloss</td>\n",
              "      <td>50 Worst Habits For Belly Fat</td>\n",
              "      <td>These seemingly harmless habits are holding yo...</td>\n",
              "    </tr>\n",
              "    <tr>\n",
              "      <th>2</th>\n",
              "      <td>N61837</td>\n",
              "      <td>news</td>\n",
              "      <td>newsworld</td>\n",
              "      <td>The Cost of Trump's Aid Freeze in the Trenches...</td>\n",
              "      <td>Lt. Ivan Molchanets peeked over a parapet of s...</td>\n",
              "    </tr>\n",
              "    <tr>\n",
              "      <th>3</th>\n",
              "      <td>N53526</td>\n",
              "      <td>health</td>\n",
              "      <td>voices</td>\n",
              "      <td>I Was An NBA Wife. Here's How It Affected My M...</td>\n",
              "      <td>I felt like I was a fraud, and being an NBA wi...</td>\n",
              "    </tr>\n",
              "    <tr>\n",
              "      <th>4</th>\n",
              "      <td>N38324</td>\n",
              "      <td>health</td>\n",
              "      <td>medical</td>\n",
              "      <td>How to Get Rid of Skin Tags, According to a De...</td>\n",
              "      <td>They seem harmless, but there's a very good re...</td>\n",
              "    </tr>\n",
              "    <tr>\n",
              "      <th>...</th>\n",
              "      <td>...</td>\n",
              "      <td>...</td>\n",
              "      <td>...</td>\n",
              "      <td>...</td>\n",
              "      <td>...</td>\n",
              "    </tr>\n",
              "    <tr>\n",
              "      <th>51277</th>\n",
              "      <td>N16909</td>\n",
              "      <td>weather</td>\n",
              "      <td>weathertopstories</td>\n",
              "      <td>Adapting, Learning And Soul Searching: Reflect...</td>\n",
              "      <td>Woolsey Fire Anniversary: A community is forev...</td>\n",
              "    </tr>\n",
              "    <tr>\n",
              "      <th>51278</th>\n",
              "      <td>N47585</td>\n",
              "      <td>lifestyle</td>\n",
              "      <td>lifestylefamily</td>\n",
              "      <td>Family says 13-year-old Broadway star died fro...</td>\n",
              "      <td>NaN</td>\n",
              "    </tr>\n",
              "    <tr>\n",
              "      <th>51279</th>\n",
              "      <td>N7482</td>\n",
              "      <td>sports</td>\n",
              "      <td>more_sports</td>\n",
              "      <td>St. Dominic soccer player tries to kick cancer...</td>\n",
              "      <td>Sometimes, what happens on the sidelines can b...</td>\n",
              "    </tr>\n",
              "    <tr>\n",
              "      <th>51280</th>\n",
              "      <td>N34418</td>\n",
              "      <td>sports</td>\n",
              "      <td>soccer_epl</td>\n",
              "      <td>How the Sounders won MLS Cup</td>\n",
              "      <td>Mark, Jeremiah and Casey were so excited they ...</td>\n",
              "    </tr>\n",
              "    <tr>\n",
              "      <th>51281</th>\n",
              "      <td>N44276</td>\n",
              "      <td>autos</td>\n",
              "      <td>autossports</td>\n",
              "      <td>Best Sports Car Deals for October</td>\n",
              "      <td>NaN</td>\n",
              "    </tr>\n",
              "  </tbody>\n",
              "</table>\n",
              "<p>51282 rows × 5 columns</p>\n",
              "</div>\n",
              "      <button class=\"colab-df-convert\" onclick=\"convertToInteractive('df-5598dc42-8fa4-4527-8414-b24bd8cfa3ea')\"\n",
              "              title=\"Convert this dataframe to an interactive table.\"\n",
              "              style=\"display:none;\">\n",
              "        \n",
              "  <svg xmlns=\"http://www.w3.org/2000/svg\" height=\"24px\"viewBox=\"0 0 24 24\"\n",
              "       width=\"24px\">\n",
              "    <path d=\"M0 0h24v24H0V0z\" fill=\"none\"/>\n",
              "    <path d=\"M18.56 5.44l.94 2.06.94-2.06 2.06-.94-2.06-.94-.94-2.06-.94 2.06-2.06.94zm-11 1L8.5 8.5l.94-2.06 2.06-.94-2.06-.94L8.5 2.5l-.94 2.06-2.06.94zm10 10l.94 2.06.94-2.06 2.06-.94-2.06-.94-.94-2.06-.94 2.06-2.06.94z\"/><path d=\"M17.41 7.96l-1.37-1.37c-.4-.4-.92-.59-1.43-.59-.52 0-1.04.2-1.43.59L10.3 9.45l-7.72 7.72c-.78.78-.78 2.05 0 2.83L4 21.41c.39.39.9.59 1.41.59.51 0 1.02-.2 1.41-.59l7.78-7.78 2.81-2.81c.8-.78.8-2.07 0-2.86zM5.41 20L4 18.59l7.72-7.72 1.47 1.35L5.41 20z\"/>\n",
              "  </svg>\n",
              "      </button>\n",
              "      \n",
              "  <style>\n",
              "    .colab-df-container {\n",
              "      display:flex;\n",
              "      flex-wrap:wrap;\n",
              "      gap: 12px;\n",
              "    }\n",
              "\n",
              "    .colab-df-convert {\n",
              "      background-color: #E8F0FE;\n",
              "      border: none;\n",
              "      border-radius: 50%;\n",
              "      cursor: pointer;\n",
              "      display: none;\n",
              "      fill: #1967D2;\n",
              "      height: 32px;\n",
              "      padding: 0 0 0 0;\n",
              "      width: 32px;\n",
              "    }\n",
              "\n",
              "    .colab-df-convert:hover {\n",
              "      background-color: #E2EBFA;\n",
              "      box-shadow: 0px 1px 2px rgba(60, 64, 67, 0.3), 0px 1px 3px 1px rgba(60, 64, 67, 0.15);\n",
              "      fill: #174EA6;\n",
              "    }\n",
              "\n",
              "    [theme=dark] .colab-df-convert {\n",
              "      background-color: #3B4455;\n",
              "      fill: #D2E3FC;\n",
              "    }\n",
              "\n",
              "    [theme=dark] .colab-df-convert:hover {\n",
              "      background-color: #434B5C;\n",
              "      box-shadow: 0px 1px 3px 1px rgba(0, 0, 0, 0.15);\n",
              "      filter: drop-shadow(0px 1px 2px rgba(0, 0, 0, 0.3));\n",
              "      fill: #FFFFFF;\n",
              "    }\n",
              "  </style>\n",
              "\n",
              "      <script>\n",
              "        const buttonEl =\n",
              "          document.querySelector('#df-5598dc42-8fa4-4527-8414-b24bd8cfa3ea button.colab-df-convert');\n",
              "        buttonEl.style.display =\n",
              "          google.colab.kernel.accessAllowed ? 'block' : 'none';\n",
              "\n",
              "        async function convertToInteractive(key) {\n",
              "          const element = document.querySelector('#df-5598dc42-8fa4-4527-8414-b24bd8cfa3ea');\n",
              "          const dataTable =\n",
              "            await google.colab.kernel.invokeFunction('convertToInteractive',\n",
              "                                                     [key], {});\n",
              "          if (!dataTable) return;\n",
              "\n",
              "          const docLinkHtml = 'Like what you see? Visit the ' +\n",
              "            '<a target=\"_blank\" href=https://colab.research.google.com/notebooks/data_table.ipynb>data table notebook</a>'\n",
              "            + ' to learn more about interactive tables.';\n",
              "          element.innerHTML = '';\n",
              "          dataTable['output_type'] = 'display_data';\n",
              "          await google.colab.output.renderOutput(dataTable, element);\n",
              "          const docLink = document.createElement('div');\n",
              "          docLink.innerHTML = docLinkHtml;\n",
              "          element.appendChild(docLink);\n",
              "        }\n",
              "      </script>\n",
              "    </div>\n",
              "  </div>\n",
              "  "
            ],
            "text/plain": [
              "       NewsID  ...                                           Abstract\n",
              "0      N55528  ...  Shop the notebooks, jackets, and more that the...\n",
              "1      N19639  ...  These seemingly harmless habits are holding yo...\n",
              "2      N61837  ...  Lt. Ivan Molchanets peeked over a parapet of s...\n",
              "3      N53526  ...  I felt like I was a fraud, and being an NBA wi...\n",
              "4      N38324  ...  They seem harmless, but there's a very good re...\n",
              "...       ...  ...                                                ...\n",
              "51277  N16909  ...  Woolsey Fire Anniversary: A community is forev...\n",
              "51278  N47585  ...                                                NaN\n",
              "51279   N7482  ...  Sometimes, what happens on the sidelines can b...\n",
              "51280  N34418  ...  Mark, Jeremiah and Casey were so excited they ...\n",
              "51281  N44276  ...                                                NaN\n",
              "\n",
              "[51282 rows x 5 columns]"
            ]
          },
          "metadata": {},
          "execution_count": 5
        }
      ]
    },
    {
      "cell_type": "markdown",
      "source": [
        "## Get Numbre Of Everything we have\n",
        "\n",
        "for further use,\n"
      ],
      "metadata": {
        "id": "8BdBxhQ_FVsX"
      }
    },
    {
      "cell_type": "code",
      "source": [
        "Nuser = users[\"UserID\"].nunique() #Numbre of Users\n",
        "Nimpression = len(users) #Numbre of Impressions\n",
        "Nnews = news[\"NewsID\"].nunique() #Numbre of News\n",
        "NCategory = news[\"Category\"].nunique() #Numbre of Categories in News\n",
        "NSubCategory = news[\"SubCategory\"].nunique() #Numbre of SubCategories in News\n",
        "print( \"Nuser = \",  Nuser, \"  Nimpression = \", Nimpression, \"  Nnews = \", Nnews, \"  NCategory = \", NCategory, \"  NSubCategory = \",NSubCategory )\n"
      ],
      "metadata": {
        "id": "4tkz-AA3Fcla",
        "outputId": "6508990c-41f7-4983-a65b-88738be32ad3",
        "colab": {
          "base_uri": "https://localhost:8080/"
        }
      },
      "execution_count": null,
      "outputs": [
        {
          "output_type": "stream",
          "name": "stdout",
          "text": [
            "Nuser =  50000   Nimpression =  156965   Nnews =  51282   NCategory =  17   NSubCategory =  264\n"
          ]
        }
      ]
    },
    {
      "cell_type": "markdown",
      "source": [
        "# Category and Subcategory distribution in data\n",
        "first we count numbre of News in each SubCategory, then show their distribution on a plot."
      ],
      "metadata": {
        "id": "O5vrIIJ-KLOF"
      }
    },
    {
      "cell_type": "markdown",
      "source": [
        "most seen category"
      ],
      "metadata": {
        "id": "3uoMsfv7s0zV"
      }
    },
    {
      "cell_type": "code",
      "source": [
        "Category_details = news[['Category','SubCategory']].value_counts()\n",
        "Category_details = Category_details.sort_values(ascending=False) # sort Base on most seen subcategory\n",
        "Category_details"
      ],
      "metadata": {
        "outputId": "ce8a9ab5-4cc7-46c6-c1cf-6f9ceeb4d40e",
        "colab": {
          "base_uri": "https://localhost:8080/"
        },
        "id": "dL_kvoqHkTB4"
      },
      "execution_count": null,
      "outputs": [
        {
          "output_type": "execute_result",
          "data": {
            "text/plain": [
              "Category      SubCategory            \n",
              "news          newsus                     6564\n",
              "sports        football_nfl               5420\n",
              "news          newspolitics               2826\n",
              "              newscrime                  2254\n",
              "weather       weathertopstories          2047\n",
              "                                         ... \n",
              "lifestyle     travel                        1\n",
              "foodanddrink  foodtips                      1\n",
              "lifestyle     pregnancyparenting            1\n",
              "              lifestylestyle                1\n",
              "finance       finance-insidetheticker       1\n",
              "Length: 283, dtype: int64"
            ]
          },
          "metadata": {},
          "execution_count": 9
        }
      ]
    },
    {
      "cell_type": "markdown",
      "source": [
        "## Plot Category/SubCategory distribution"
      ],
      "metadata": {
        "id": "8ICq5wu_Jqt1"
      }
    },
    {
      "cell_type": "code",
      "source": [
        "index=[]\n",
        "\n",
        "for i in Category_details.index:\n",
        "    index.append(np.array(i))\n",
        "\n",
        "index=np.array(index)\n",
        "\n",
        "Category_details_df=pd.DataFrame(columns=['Category','Sub Category','Values'])\n",
        "Category_details_df['Category']=index[:,0]\n",
        "Category_details_df['Sub Category']=index[:,1]\n",
        "Category_details_df['Values']=Category_details.values\n",
        "\n",
        "px.bar(data_frame=Category_details_df,x='Category',y='Values',color='Sub Category')\n",
        "\n"
      ],
      "metadata": {
        "colab": {
          "base_uri": "https://localhost:8080/",
          "height": 542
        },
        "outputId": "692138d4-0572-4af2-a8da-e1afb47d4d2a",
        "id": "STLefDwkKLOH"
      },
      "execution_count": null,
      "outputs": [
        {
          "output_type": "display_data",
          "data": {
            "text/html": [
              "<html>\n",
              "<head><meta charset=\"utf-8\" /></head>\n",
              "<body>\n",
              "    <div>            <script src=\"https://cdnjs.cloudflare.com/ajax/libs/mathjax/2.7.5/MathJax.js?config=TeX-AMS-MML_SVG\"></script><script type=\"text/javascript\">if (window.MathJax) {MathJax.Hub.Config({SVG: {font: \"STIX-Web\"}});}</script>                <script type=\"text/javascript\">window.PlotlyConfig = {MathJaxConfig: 'local'};</script>\n",
              "        <script src=\"https://cdn.plot.ly/plotly-2.8.3.min.js\"></script>                <div id=\"41d7ff8c-54fb-4398-8022-a0ba20f6798b\" class=\"plotly-graph-div\" style=\"height:525px; width:100%;\"></div>            <script type=\"text/javascript\">                                    window.PLOTLYENV=window.PLOTLYENV || {};                                    if (document.getElementById(\"41d7ff8c-54fb-4398-8022-a0ba20f6798b\")) {                    Plotly.newPlot(                        \"41d7ff8c-54fb-4398-8022-a0ba20f6798b\",                        [{\"alignmentgroup\":\"True\",\"hovertemplate\":\"Sub Category=newsus<br>Category=%{x}<br>Values=%{y}<extra></extra>\",\"legendgroup\":\"newsus\",\"marker\":{\"color\":\"#636efa\",\"pattern\":{\"shape\":\"\"}},\"name\":\"newsus\",\"offsetgroup\":\"newsus\",\"orientation\":\"v\",\"showlegend\":true,\"textposition\":\"auto\",\"x\":[\"news\"],\"xaxis\":\"x\",\"y\":[6564],\"yaxis\":\"y\",\"type\":\"bar\"},{\"alignmentgroup\":\"True\",\"hovertemplate\":\"Sub Category=football_nfl<br>Category=%{x}<br>Values=%{y}<extra></extra>\",\"legendgroup\":\"football_nfl\",\"marker\":{\"color\":\"#EF553B\",\"pattern\":{\"shape\":\"\"}},\"name\":\"football_nfl\",\"offsetgroup\":\"football_nfl\",\"orientation\":\"v\",\"showlegend\":true,\"textposition\":\"auto\",\"x\":[\"sports\"],\"xaxis\":\"x\",\"y\":[5420],\"yaxis\":\"y\",\"type\":\"bar\"},{\"alignmentgroup\":\"True\",\"hovertemplate\":\"Sub Category=newspolitics<br>Category=%{x}<br>Values=%{y}<extra></extra>\",\"legendgroup\":\"newspolitics\",\"marker\":{\"color\":\"#00cc96\",\"pattern\":{\"shape\":\"\"}},\"name\":\"newspolitics\",\"offsetgroup\":\"newspolitics\",\"orientation\":\"v\",\"showlegend\":true,\"textposition\":\"auto\",\"x\":[\"news\"],\"xaxis\":\"x\",\"y\":[2826],\"yaxis\":\"y\",\"type\":\"bar\"},{\"alignmentgroup\":\"True\",\"hovertemplate\":\"Sub Category=newscrime<br>Category=%{x}<br>Values=%{y}<extra></extra>\",\"legendgroup\":\"newscrime\",\"marker\":{\"color\":\"#ab63fa\",\"pattern\":{\"shape\":\"\"}},\"name\":\"newscrime\",\"offsetgroup\":\"newscrime\",\"orientation\":\"v\",\"showlegend\":true,\"textposition\":\"auto\",\"x\":[\"news\"],\"xaxis\":\"x\",\"y\":[2254],\"yaxis\":\"y\",\"type\":\"bar\"},{\"alignmentgroup\":\"True\",\"hovertemplate\":\"Sub Category=weathertopstories<br>Category=%{x}<br>Values=%{y}<extra></extra>\",\"legendgroup\":\"weathertopstories\",\"marker\":{\"color\":\"#FFA15A\",\"pattern\":{\"shape\":\"\"}},\"name\":\"weathertopstories\",\"offsetgroup\":\"weathertopstories\",\"orientation\":\"v\",\"showlegend\":true,\"textposition\":\"auto\",\"x\":[\"weather\"],\"xaxis\":\"x\",\"y\":[2047],\"yaxis\":\"y\",\"type\":\"bar\"},{\"alignmentgroup\":\"True\",\"hovertemplate\":\"Sub Category=newsworld<br>Category=%{x}<br>Values=%{y}<extra></extra>\",\"legendgroup\":\"newsworld\",\"marker\":{\"color\":\"#19d3f3\",\"pattern\":{\"shape\":\"\"}},\"name\":\"newsworld\",\"offsetgroup\":\"newsworld\",\"orientation\":\"v\",\"showlegend\":true,\"textposition\":\"auto\",\"x\":[\"news\"],\"xaxis\":\"x\",\"y\":[1720],\"yaxis\":\"y\",\"type\":\"bar\"},{\"alignmentgroup\":\"True\",\"hovertemplate\":\"Sub Category=football_ncaa<br>Category=%{x}<br>Values=%{y}<extra></extra>\",\"legendgroup\":\"football_ncaa\",\"marker\":{\"color\":\"#FF6692\",\"pattern\":{\"shape\":\"\"}},\"name\":\"football_ncaa\",\"offsetgroup\":\"football_ncaa\",\"orientation\":\"v\",\"showlegend\":true,\"textposition\":\"auto\",\"x\":[\"sports\"],\"xaxis\":\"x\",\"y\":[1665],\"yaxis\":\"y\",\"type\":\"bar\"},{\"alignmentgroup\":\"True\",\"hovertemplate\":\"Sub Category=baseball_mlb<br>Category=%{x}<br>Values=%{y}<extra></extra>\",\"legendgroup\":\"baseball_mlb\",\"marker\":{\"color\":\"#B6E880\",\"pattern\":{\"shape\":\"\"}},\"name\":\"baseball_mlb\",\"offsetgroup\":\"baseball_mlb\",\"orientation\":\"v\",\"showlegend\":true,\"textposition\":\"auto\",\"x\":[\"sports\"],\"xaxis\":\"x\",\"y\":[1661],\"yaxis\":\"y\",\"type\":\"bar\"},{\"alignmentgroup\":\"True\",\"hovertemplate\":\"Sub Category=basketball_nba<br>Category=%{x}<br>Values=%{y}<extra></extra>\",\"legendgroup\":\"basketball_nba\",\"marker\":{\"color\":\"#FF97FF\",\"pattern\":{\"shape\":\"\"}},\"name\":\"basketball_nba\",\"offsetgroup\":\"basketball_nba\",\"orientation\":\"v\",\"showlegend\":true,\"textposition\":\"auto\",\"x\":[\"sports\"],\"xaxis\":\"x\",\"y\":[1555],\"yaxis\":\"y\",\"type\":\"bar\"},{\"alignmentgroup\":\"True\",\"hovertemplate\":\"Sub Category=newsscienceandtechnology<br>Category=%{x}<br>Values=%{y}<extra></extra>\",\"legendgroup\":\"newsscienceandtechnology\",\"marker\":{\"color\":\"#FECB52\",\"pattern\":{\"shape\":\"\"}},\"name\":\"newsscienceandtechnology\",\"offsetgroup\":\"newsscienceandtechnology\",\"orientation\":\"v\",\"showlegend\":true,\"textposition\":\"auto\",\"x\":[\"news\"],\"xaxis\":\"x\",\"y\":[1210],\"yaxis\":\"y\",\"type\":\"bar\"},{\"alignmentgroup\":\"True\",\"hovertemplate\":\"Sub Category=newstrends<br>Category=%{x}<br>Values=%{y}<extra></extra>\",\"legendgroup\":\"newstrends\",\"marker\":{\"color\":\"#636efa\",\"pattern\":{\"shape\":\"\"}},\"name\":\"newstrends\",\"offsetgroup\":\"newstrends\",\"orientation\":\"v\",\"showlegend\":true,\"textposition\":\"auto\",\"x\":[\"foodanddrink\",\"travel\"],\"xaxis\":\"x\",\"y\":[1175,1],\"yaxis\":\"y\",\"type\":\"bar\"},{\"alignmentgroup\":\"True\",\"hovertemplate\":\"Sub Category=news<br>Category=%{x}<br>Values=%{y}<extra></extra>\",\"legendgroup\":\"news\",\"marker\":{\"color\":\"#EF553B\",\"pattern\":{\"shape\":\"\"}},\"name\":\"news\",\"offsetgroup\":\"news\",\"orientation\":\"v\",\"showlegend\":true,\"textposition\":\"auto\",\"x\":[\"video\",\"entertainment\"],\"xaxis\":\"x\",\"y\":[1168,17],\"yaxis\":\"y\",\"type\":\"bar\"},{\"alignmentgroup\":\"True\",\"hovertemplate\":\"Sub Category=more_sports<br>Category=%{x}<br>Values=%{y}<extra></extra>\",\"legendgroup\":\"more_sports\",\"marker\":{\"color\":\"#00cc96\",\"pattern\":{\"shape\":\"\"}},\"name\":\"more_sports\",\"offsetgroup\":\"more_sports\",\"orientation\":\"v\",\"showlegend\":true,\"textposition\":\"auto\",\"x\":[\"sports\"],\"xaxis\":\"x\",\"y\":[1065],\"yaxis\":\"y\",\"type\":\"bar\"},{\"alignmentgroup\":\"True\",\"hovertemplate\":\"Sub Category=travelarticle<br>Category=%{x}<br>Values=%{y}<extra></extra>\",\"legendgroup\":\"travelarticle\",\"marker\":{\"color\":\"#ab63fa\",\"pattern\":{\"shape\":\"\"}},\"name\":\"travelarticle\",\"offsetgroup\":\"travelarticle\",\"orientation\":\"v\",\"showlegend\":true,\"textposition\":\"auto\",\"x\":[\"travel\"],\"xaxis\":\"x\",\"y\":[1042],\"yaxis\":\"y\",\"type\":\"bar\"},{\"alignmentgroup\":\"True\",\"hovertemplate\":\"Sub Category=travelnews<br>Category=%{x}<br>Values=%{y}<extra></extra>\",\"legendgroup\":\"travelnews\",\"marker\":{\"color\":\"#FFA15A\",\"pattern\":{\"shape\":\"\"}},\"name\":\"travelnews\",\"offsetgroup\":\"travelnews\",\"orientation\":\"v\",\"showlegend\":true,\"textposition\":\"auto\",\"x\":[\"travel\"],\"xaxis\":\"x\",\"y\":[902],\"yaxis\":\"y\",\"type\":\"bar\"},{\"alignmentgroup\":\"True\",\"hovertemplate\":\"Sub Category=lifestylebuzz<br>Category=%{x}<br>Values=%{y}<extra></extra>\",\"legendgroup\":\"lifestylebuzz\",\"marker\":{\"color\":\"#19d3f3\",\"pattern\":{\"shape\":\"\"}},\"name\":\"lifestylebuzz\",\"offsetgroup\":\"lifestylebuzz\",\"orientation\":\"v\",\"showlegend\":true,\"textposition\":\"auto\",\"x\":[\"lifestyle\"],\"xaxis\":\"x\",\"y\":[894],\"yaxis\":\"y\",\"type\":\"bar\"},{\"alignmentgroup\":\"True\",\"hovertemplate\":\"Sub Category=autosnews<br>Category=%{x}<br>Values=%{y}<extra></extra>\",\"legendgroup\":\"autosnews\",\"marker\":{\"color\":\"#FF6692\",\"pattern\":{\"shape\":\"\"}},\"name\":\"autosnews\",\"offsetgroup\":\"autosnews\",\"orientation\":\"v\",\"showlegend\":true,\"textposition\":\"auto\",\"x\":[\"autos\"],\"xaxis\":\"x\",\"y\":[837],\"yaxis\":\"y\",\"type\":\"bar\"},{\"alignmentgroup\":\"True\",\"hovertemplate\":\"Sub Category=basketball_ncaa<br>Category=%{x}<br>Values=%{y}<extra></extra>\",\"legendgroup\":\"basketball_ncaa\",\"marker\":{\"color\":\"#B6E880\",\"pattern\":{\"shape\":\"\"}},\"name\":\"basketball_ncaa\",\"offsetgroup\":\"basketball_ncaa\",\"orientation\":\"v\",\"showlegend\":true,\"textposition\":\"auto\",\"x\":[\"sports\"],\"xaxis\":\"x\",\"y\":[774],\"yaxis\":\"y\",\"type\":\"bar\"},{\"alignmentgroup\":\"True\",\"hovertemplate\":\"Sub Category=financenews<br>Category=%{x}<br>Values=%{y}<extra></extra>\",\"legendgroup\":\"financenews\",\"marker\":{\"color\":\"#FF97FF\",\"pattern\":{\"shape\":\"\"}},\"name\":\"financenews\",\"offsetgroup\":\"financenews\",\"orientation\":\"v\",\"showlegend\":true,\"textposition\":\"auto\",\"x\":[\"finance\"],\"xaxis\":\"x\",\"y\":[697],\"yaxis\":\"y\",\"type\":\"bar\"},{\"alignmentgroup\":\"True\",\"hovertemplate\":\"Sub Category=finance-real-estate<br>Category=%{x}<br>Values=%{y}<extra></extra>\",\"legendgroup\":\"finance-real-estate\",\"marker\":{\"color\":\"#FECB52\",\"pattern\":{\"shape\":\"\"}},\"name\":\"finance-real-estate\",\"offsetgroup\":\"finance-real-estate\",\"orientation\":\"v\",\"showlegend\":true,\"textposition\":\"auto\",\"x\":[\"finance\"],\"xaxis\":\"x\",\"y\":[584],\"yaxis\":\"y\",\"type\":\"bar\"},{\"alignmentgroup\":\"True\",\"hovertemplate\":\"Sub Category=finance-companies<br>Category=%{x}<br>Values=%{y}<extra></extra>\",\"legendgroup\":\"finance-companies\",\"marker\":{\"color\":\"#636efa\",\"pattern\":{\"shape\":\"\"}},\"name\":\"finance-companies\",\"offsetgroup\":\"finance-companies\",\"orientation\":\"v\",\"showlegend\":true,\"textposition\":\"auto\",\"x\":[\"finance\"],\"xaxis\":\"x\",\"y\":[567],\"yaxis\":\"y\",\"type\":\"bar\"},{\"alignmentgroup\":\"True\",\"hovertemplate\":\"Sub Category=icehockey_nhl<br>Category=%{x}<br>Values=%{y}<extra></extra>\",\"legendgroup\":\"icehockey_nhl\",\"marker\":{\"color\":\"#EF553B\",\"pattern\":{\"shape\":\"\"}},\"name\":\"icehockey_nhl\",\"offsetgroup\":\"icehockey_nhl\",\"orientation\":\"v\",\"showlegend\":true,\"textposition\":\"auto\",\"x\":[\"sports\"],\"xaxis\":\"x\",\"y\":[531],\"yaxis\":\"y\",\"type\":\"bar\"},{\"alignmentgroup\":\"True\",\"hovertemplate\":\"Sub Category=medical<br>Category=%{x}<br>Values=%{y}<extra></extra>\",\"legendgroup\":\"medical\",\"marker\":{\"color\":\"#00cc96\",\"pattern\":{\"shape\":\"\"}},\"name\":\"medical\",\"offsetgroup\":\"medical\",\"orientation\":\"v\",\"showlegend\":true,\"textposition\":\"auto\",\"x\":[\"health\"],\"xaxis\":\"x\",\"y\":[479],\"yaxis\":\"y\",\"type\":\"bar\"},{\"alignmentgroup\":\"True\",\"hovertemplate\":\"Sub Category=recipes<br>Category=%{x}<br>Values=%{y}<extra></extra>\",\"legendgroup\":\"recipes\",\"marker\":{\"color\":\"#ab63fa\",\"pattern\":{\"shape\":\"\"}},\"name\":\"recipes\",\"offsetgroup\":\"recipes\",\"orientation\":\"v\",\"showlegend\":true,\"textposition\":\"auto\",\"x\":[\"foodanddrink\",\"health\"],\"xaxis\":\"x\",\"y\":[461,2],\"yaxis\":\"y\",\"type\":\"bar\"},{\"alignmentgroup\":\"True\",\"hovertemplate\":\"Sub Category=health-news<br>Category=%{x}<br>Values=%{y}<extra></extra>\",\"legendgroup\":\"health-news\",\"marker\":{\"color\":\"#FFA15A\",\"pattern\":{\"shape\":\"\"}},\"name\":\"health-news\",\"offsetgroup\":\"health-news\",\"orientation\":\"v\",\"showlegend\":true,\"textposition\":\"auto\",\"x\":[\"health\"],\"xaxis\":\"x\",\"y\":[459],\"yaxis\":\"y\",\"type\":\"bar\"},{\"alignmentgroup\":\"True\",\"hovertemplate\":\"Sub Category=golf<br>Category=%{x}<br>Values=%{y}<extra></extra>\",\"legendgroup\":\"golf\",\"marker\":{\"color\":\"#19d3f3\",\"pattern\":{\"shape\":\"\"}},\"name\":\"golf\",\"offsetgroup\":\"golf\",\"orientation\":\"v\",\"showlegend\":true,\"textposition\":\"auto\",\"x\":[\"sports\"],\"xaxis\":\"x\",\"y\":[446],\"yaxis\":\"y\",\"type\":\"bar\"},{\"alignmentgroup\":\"True\",\"hovertemplate\":\"Sub Category=mma<br>Category=%{x}<br>Values=%{y}<extra></extra>\",\"legendgroup\":\"mma\",\"marker\":{\"color\":\"#FF6692\",\"pattern\":{\"shape\":\"\"}},\"name\":\"mma\",\"offsetgroup\":\"mma\",\"orientation\":\"v\",\"showlegend\":true,\"textposition\":\"auto\",\"x\":[\"sports\"],\"xaxis\":\"x\",\"y\":[437],\"yaxis\":\"y\",\"type\":\"bar\"},{\"alignmentgroup\":\"True\",\"hovertemplate\":\"Sub Category=musicnews<br>Category=%{x}<br>Values=%{y}<extra></extra>\",\"legendgroup\":\"musicnews\",\"marker\":{\"color\":\"#B6E880\",\"pattern\":{\"shape\":\"\"}},\"name\":\"musicnews\",\"offsetgroup\":\"musicnews\",\"orientation\":\"v\",\"showlegend\":true,\"textposition\":\"auto\",\"x\":[\"music\"],\"xaxis\":\"x\",\"y\":[414],\"yaxis\":\"y\",\"type\":\"bar\"},{\"alignmentgroup\":\"True\",\"hovertemplate\":\"Sub Category=markets<br>Category=%{x}<br>Values=%{y}<extra></extra>\",\"legendgroup\":\"markets\",\"marker\":{\"color\":\"#FF97FF\",\"pattern\":{\"shape\":\"\"}},\"name\":\"markets\",\"offsetgroup\":\"markets\",\"orientation\":\"v\",\"showlegend\":true,\"textposition\":\"auto\",\"x\":[\"finance\"],\"xaxis\":\"x\",\"y\":[410],\"yaxis\":\"y\",\"type\":\"bar\"},{\"alignmentgroup\":\"True\",\"hovertemplate\":\"Sub Category=newsoffbeat<br>Category=%{x}<br>Values=%{y}<extra></extra>\",\"legendgroup\":\"newsoffbeat\",\"marker\":{\"color\":\"#FECB52\",\"pattern\":{\"shape\":\"\"}},\"name\":\"newsoffbeat\",\"offsetgroup\":\"newsoffbeat\",\"orientation\":\"v\",\"showlegend\":true,\"textposition\":\"auto\",\"x\":[\"news\"],\"xaxis\":\"x\",\"y\":[405],\"yaxis\":\"y\",\"type\":\"bar\"},{\"alignmentgroup\":\"True\",\"hovertemplate\":\"Sub Category=tvnews<br>Category=%{x}<br>Values=%{y}<extra></extra>\",\"legendgroup\":\"tvnews\",\"marker\":{\"color\":\"#636efa\",\"pattern\":{\"shape\":\"\"}},\"name\":\"tvnews\",\"offsetgroup\":\"tvnews\",\"orientation\":\"v\",\"showlegend\":true,\"textposition\":\"auto\",\"x\":[\"tv\"],\"xaxis\":\"x\",\"y\":[377],\"yaxis\":\"y\",\"type\":\"bar\"},{\"alignmentgroup\":\"True\",\"hovertemplate\":\"Sub Category=tv-celebrity<br>Category=%{x}<br>Values=%{y}<extra></extra>\",\"legendgroup\":\"tv-celebrity\",\"marker\":{\"color\":\"#EF553B\",\"pattern\":{\"shape\":\"\"}},\"name\":\"tv-celebrity\",\"offsetgroup\":\"tv-celebrity\",\"orientation\":\"v\",\"showlegend\":true,\"textposition\":\"auto\",\"x\":[\"tv\"],\"xaxis\":\"x\",\"y\":[356],\"yaxis\":\"y\",\"type\":\"bar\"},{\"alignmentgroup\":\"True\",\"hovertemplate\":\"Sub Category=wellness<br>Category=%{x}<br>Values=%{y}<extra></extra>\",\"legendgroup\":\"wellness\",\"marker\":{\"color\":\"#00cc96\",\"pattern\":{\"shape\":\"\"}},\"name\":\"wellness\",\"offsetgroup\":\"wellness\",\"orientation\":\"v\",\"showlegend\":true,\"textposition\":\"auto\",\"x\":[\"health\"],\"xaxis\":\"x\",\"y\":[340],\"yaxis\":\"y\",\"type\":\"bar\"},{\"alignmentgroup\":\"True\",\"hovertemplate\":\"Sub Category=newsopinion<br>Category=%{x}<br>Values=%{y}<extra></extra>\",\"legendgroup\":\"newsopinion\",\"marker\":{\"color\":\"#ab63fa\",\"pattern\":{\"shape\":\"\"}},\"name\":\"newsopinion\",\"offsetgroup\":\"newsopinion\",\"orientation\":\"v\",\"showlegend\":true,\"textposition\":\"auto\",\"x\":[\"news\"],\"xaxis\":\"x\",\"y\":[315],\"yaxis\":\"y\",\"type\":\"bar\"},{\"alignmentgroup\":\"True\",\"hovertemplate\":\"Sub Category=racing<br>Category=%{x}<br>Values=%{y}<extra></extra>\",\"legendgroup\":\"racing\",\"marker\":{\"color\":\"#FFA15A\",\"pattern\":{\"shape\":\"\"}},\"name\":\"racing\",\"offsetgroup\":\"racing\",\"orientation\":\"v\",\"showlegend\":true,\"textposition\":\"auto\",\"x\":[\"sports\"],\"xaxis\":\"x\",\"y\":[299],\"yaxis\":\"y\",\"type\":\"bar\"},{\"alignmentgroup\":\"True\",\"hovertemplate\":\"Sub Category=foodnews<br>Category=%{x}<br>Values=%{y}<extra></extra>\",\"legendgroup\":\"foodnews\",\"marker\":{\"color\":\"#19d3f3\",\"pattern\":{\"shape\":\"\"}},\"name\":\"foodnews\",\"offsetgroup\":\"foodnews\",\"orientation\":\"v\",\"showlegend\":true,\"textposition\":\"auto\",\"x\":[\"foodanddrink\"],\"xaxis\":\"x\",\"y\":[271],\"yaxis\":\"y\",\"type\":\"bar\"},{\"alignmentgroup\":\"True\",\"hovertemplate\":\"Sub Category=animals<br>Category=%{x}<br>Values=%{y}<extra></extra>\",\"legendgroup\":\"animals\",\"marker\":{\"color\":\"#FF6692\",\"pattern\":{\"shape\":\"\"}},\"name\":\"animals\",\"offsetgroup\":\"animals\",\"orientation\":\"v\",\"showlegend\":true,\"textposition\":\"auto\",\"x\":[\"video\",\"kids\"],\"xaxis\":\"x\",\"y\":[257,2],\"yaxis\":\"y\",\"type\":\"bar\"},{\"alignmentgroup\":\"True\",\"hovertemplate\":\"Sub Category=tipsandtricks<br>Category=%{x}<br>Values=%{y}<extra></extra>\",\"legendgroup\":\"tipsandtricks\",\"marker\":{\"color\":\"#B6E880\",\"pattern\":{\"shape\":\"\"}},\"name\":\"tipsandtricks\",\"offsetgroup\":\"tipsandtricks\",\"orientation\":\"v\",\"showlegend\":true,\"textposition\":\"auto\",\"x\":[\"foodanddrink\"],\"xaxis\":\"x\",\"y\":[251],\"yaxis\":\"y\",\"type\":\"bar\"},{\"alignmentgroup\":\"True\",\"hovertemplate\":\"Sub Category=traveltripideas<br>Category=%{x}<br>Values=%{y}<extra></extra>\",\"legendgroup\":\"traveltripideas\",\"marker\":{\"color\":\"#FF97FF\",\"pattern\":{\"shape\":\"\"}},\"name\":\"traveltripideas\",\"offsetgroup\":\"traveltripideas\",\"orientation\":\"v\",\"showlegend\":true,\"textposition\":\"auto\",\"x\":[\"travel\"],\"xaxis\":\"x\",\"y\":[243],\"yaxis\":\"y\",\"type\":\"bar\"},{\"alignmentgroup\":\"True\",\"hovertemplate\":\"Sub Category=lifestyleroyals<br>Category=%{x}<br>Values=%{y}<extra></extra>\",\"legendgroup\":\"lifestyleroyals\",\"marker\":{\"color\":\"#FECB52\",\"pattern\":{\"shape\":\"\"}},\"name\":\"lifestyleroyals\",\"offsetgroup\":\"lifestyleroyals\",\"orientation\":\"v\",\"showlegend\":true,\"textposition\":\"auto\",\"x\":[\"lifestyle\"],\"xaxis\":\"x\",\"y\":[239],\"yaxis\":\"y\",\"type\":\"bar\"},{\"alignmentgroup\":\"True\",\"hovertemplate\":\"Sub Category=movienews<br>Category=%{x}<br>Values=%{y}<extra></extra>\",\"legendgroup\":\"movienews\",\"marker\":{\"color\":\"#636efa\",\"pattern\":{\"shape\":\"\"}},\"name\":\"movienews\",\"offsetgroup\":\"movienews\",\"orientation\":\"v\",\"showlegend\":true,\"textposition\":\"auto\",\"x\":[\"movies\"],\"xaxis\":\"x\",\"y\":[231],\"yaxis\":\"y\",\"type\":\"bar\"},{\"alignmentgroup\":\"True\",\"hovertemplate\":\"Sub Category=autosenthusiasts<br>Category=%{x}<br>Values=%{y}<extra></extra>\",\"legendgroup\":\"autosenthusiasts\",\"marker\":{\"color\":\"#EF553B\",\"pattern\":{\"shape\":\"\"}},\"name\":\"autosenthusiasts\",\"offsetgroup\":\"autosenthusiasts\",\"orientation\":\"v\",\"showlegend\":true,\"textposition\":\"auto\",\"x\":[\"autos\"],\"xaxis\":\"x\",\"y\":[231],\"yaxis\":\"y\",\"type\":\"bar\"},{\"alignmentgroup\":\"True\",\"hovertemplate\":\"Sub Category=nutrition<br>Category=%{x}<br>Values=%{y}<extra></extra>\",\"legendgroup\":\"nutrition\",\"marker\":{\"color\":\"#00cc96\",\"pattern\":{\"shape\":\"\"}},\"name\":\"nutrition\",\"offsetgroup\":\"nutrition\",\"orientation\":\"v\",\"showlegend\":true,\"textposition\":\"auto\",\"x\":[\"health\"],\"xaxis\":\"x\",\"y\":[222],\"yaxis\":\"y\",\"type\":\"bar\"},{\"alignmentgroup\":\"True\",\"hovertemplate\":\"Sub Category=viral<br>Category=%{x}<br>Values=%{y}<extra></extra>\",\"legendgroup\":\"viral\",\"marker\":{\"color\":\"#ab63fa\",\"pattern\":{\"shape\":\"\"}},\"name\":\"viral\",\"offsetgroup\":\"viral\",\"orientation\":\"v\",\"showlegend\":true,\"textposition\":\"auto\",\"x\":[\"video\"],\"xaxis\":\"x\",\"y\":[217],\"yaxis\":\"y\",\"type\":\"bar\"},{\"alignmentgroup\":\"True\",\"hovertemplate\":\"Sub Category=movies-celebrity<br>Category=%{x}<br>Values=%{y}<extra></extra>\",\"legendgroup\":\"movies-celebrity\",\"marker\":{\"color\":\"#FFA15A\",\"pattern\":{\"shape\":\"\"}},\"name\":\"movies-celebrity\",\"offsetgroup\":\"movies-celebrity\",\"orientation\":\"v\",\"showlegend\":true,\"textposition\":\"auto\",\"x\":[\"movies\"],\"xaxis\":\"x\",\"y\":[213],\"yaxis\":\"y\",\"type\":\"bar\"},{\"alignmentgroup\":\"True\",\"hovertemplate\":\"Sub Category=music-celebrity<br>Category=%{x}<br>Values=%{y}<extra></extra>\",\"legendgroup\":\"music-celebrity\",\"marker\":{\"color\":\"#19d3f3\",\"pattern\":{\"shape\":\"\"}},\"name\":\"music-celebrity\",\"offsetgroup\":\"music-celebrity\",\"orientation\":\"v\",\"showlegend\":true,\"textposition\":\"auto\",\"x\":[\"music\"],\"xaxis\":\"x\",\"y\":[210],\"yaxis\":\"y\",\"type\":\"bar\"},{\"alignmentgroup\":\"True\",\"hovertemplate\":\"Sub Category=lifestylehomeandgarden<br>Category=%{x}<br>Values=%{y}<extra></extra>\",\"legendgroup\":\"lifestylehomeandgarden\",\"marker\":{\"color\":\"#FF6692\",\"pattern\":{\"shape\":\"\"}},\"name\":\"lifestylehomeandgarden\",\"offsetgroup\":\"lifestylehomeandgarden\",\"orientation\":\"v\",\"showlegend\":true,\"textposition\":\"auto\",\"x\":[\"lifestyle\"],\"xaxis\":\"x\",\"y\":[178],\"yaxis\":\"y\",\"type\":\"bar\"},{\"alignmentgroup\":\"True\",\"hovertemplate\":\"Sub Category=newsgoodnews<br>Category=%{x}<br>Values=%{y}<extra></extra>\",\"legendgroup\":\"newsgoodnews\",\"marker\":{\"color\":\"#B6E880\",\"pattern\":{\"shape\":\"\"}},\"name\":\"newsgoodnews\",\"offsetgroup\":\"newsgoodnews\",\"orientation\":\"v\",\"showlegend\":true,\"textposition\":\"auto\",\"x\":[\"news\"],\"xaxis\":\"x\",\"y\":[176],\"yaxis\":\"y\",\"type\":\"bar\"},{\"alignmentgroup\":\"True\",\"hovertemplate\":\"Sub Category=restaurantsandnews<br>Category=%{x}<br>Values=%{y}<extra></extra>\",\"legendgroup\":\"restaurantsandnews\",\"marker\":{\"color\":\"#FF97FF\",\"pattern\":{\"shape\":\"\"}},\"name\":\"restaurantsandnews\",\"offsetgroup\":\"restaurantsandnews\",\"orientation\":\"v\",\"showlegend\":true,\"textposition\":\"auto\",\"x\":[\"foodanddrink\"],\"xaxis\":\"x\",\"y\":[170],\"yaxis\":\"y\",\"type\":\"bar\"},{\"alignmentgroup\":\"True\",\"hovertemplate\":\"Sub Category=football_nfl_videos<br>Category=%{x}<br>Values=%{y}<extra></extra>\",\"legendgroup\":\"football_nfl_videos\",\"marker\":{\"color\":\"#FECB52\",\"pattern\":{\"shape\":\"\"}},\"name\":\"football_nfl_videos\",\"offsetgroup\":\"football_nfl_videos\",\"orientation\":\"v\",\"showlegend\":true,\"textposition\":\"auto\",\"x\":[\"sports\"],\"xaxis\":\"x\",\"y\":[161],\"yaxis\":\"y\",\"type\":\"bar\"},{\"alignmentgroup\":\"True\",\"hovertemplate\":\"Sub Category=soccer<br>Category=%{x}<br>Values=%{y}<extra></extra>\",\"legendgroup\":\"soccer\",\"marker\":{\"color\":\"#636efa\",\"pattern\":{\"shape\":\"\"}},\"name\":\"soccer\",\"offsetgroup\":\"soccer\",\"orientation\":\"v\",\"showlegend\":true,\"textposition\":\"auto\",\"x\":[\"sports\"],\"xaxis\":\"x\",\"y\":[156],\"yaxis\":\"y\",\"type\":\"bar\"},{\"alignmentgroup\":\"True\",\"hovertemplate\":\"Sub Category=lifestylefamily<br>Category=%{x}<br>Values=%{y}<extra></extra>\",\"legendgroup\":\"lifestylefamily\",\"marker\":{\"color\":\"#EF553B\",\"pattern\":{\"shape\":\"\"}},\"name\":\"lifestylefamily\",\"offsetgroup\":\"lifestylefamily\",\"orientation\":\"v\",\"showlegend\":true,\"textposition\":\"auto\",\"x\":[\"lifestyle\"],\"xaxis\":\"x\",\"y\":[147],\"yaxis\":\"y\",\"type\":\"bar\"},{\"alignmentgroup\":\"True\",\"hovertemplate\":\"Sub Category=celebrity<br>Category=%{x}<br>Values=%{y}<extra></extra>\",\"legendgroup\":\"celebrity\",\"marker\":{\"color\":\"#00cc96\",\"pattern\":{\"shape\":\"\"}},\"name\":\"celebrity\",\"offsetgroup\":\"celebrity\",\"orientation\":\"v\",\"showlegend\":true,\"textposition\":\"auto\",\"x\":[\"entertainment\"],\"xaxis\":\"x\",\"y\":[145],\"yaxis\":\"y\",\"type\":\"bar\"},{\"alignmentgroup\":\"True\",\"hovertemplate\":\"Sub Category=science<br>Category=%{x}<br>Values=%{y}<extra></extra>\",\"legendgroup\":\"science\",\"marker\":{\"color\":\"#ab63fa\",\"pattern\":{\"shape\":\"\"}},\"name\":\"science\",\"offsetgroup\":\"science\",\"orientation\":\"v\",\"showlegend\":true,\"textposition\":\"auto\",\"x\":[\"video\",\"kids\"],\"xaxis\":\"x\",\"y\":[134,1],\"yaxis\":\"y\",\"type\":\"bar\"},{\"alignmentgroup\":\"True\",\"hovertemplate\":\"Sub Category=entertainment-celebrity<br>Category=%{x}<br>Values=%{y}<extra></extra>\",\"legendgroup\":\"entertainment-celebrity\",\"marker\":{\"color\":\"#FFA15A\",\"pattern\":{\"shape\":\"\"}},\"name\":\"entertainment-celebrity\",\"offsetgroup\":\"entertainment-celebrity\",\"orientation\":\"v\",\"showlegend\":true,\"textposition\":\"auto\",\"x\":[\"entertainment\"],\"xaxis\":\"x\",\"y\":[129],\"yaxis\":\"y\",\"type\":\"bar\"},{\"alignmentgroup\":\"True\",\"hovertemplate\":\"Sub Category=autosmotorcycles<br>Category=%{x}<br>Values=%{y}<extra></extra>\",\"legendgroup\":\"autosmotorcycles\",\"marker\":{\"color\":\"#19d3f3\",\"pattern\":{\"shape\":\"\"}},\"name\":\"autosmotorcycles\",\"offsetgroup\":\"autosmotorcycles\",\"orientation\":\"v\",\"showlegend\":true,\"textposition\":\"auto\",\"x\":[\"autos\"],\"xaxis\":\"x\",\"y\":[128],\"yaxis\":\"y\",\"type\":\"bar\"},{\"alignmentgroup\":\"True\",\"hovertemplate\":\"Sub Category=weightloss<br>Category=%{x}<br>Values=%{y}<extra></extra>\",\"legendgroup\":\"weightloss\",\"marker\":{\"color\":\"#FF6692\",\"pattern\":{\"shape\":\"\"}},\"name\":\"weightloss\",\"offsetgroup\":\"weightloss\",\"orientation\":\"v\",\"showlegend\":true,\"textposition\":\"auto\",\"x\":[\"health\"],\"xaxis\":\"x\",\"y\":[127],\"yaxis\":\"y\",\"type\":\"bar\"},{\"alignmentgroup\":\"True\",\"hovertemplate\":\"Sub Category=lifestyle<br>Category=%{x}<br>Values=%{y}<extra></extra>\",\"legendgroup\":\"lifestyle\",\"marker\":{\"color\":\"#B6E880\",\"pattern\":{\"shape\":\"\"}},\"name\":\"lifestyle\",\"offsetgroup\":\"lifestyle\",\"orientation\":\"v\",\"showlegend\":true,\"textposition\":\"auto\",\"x\":[\"video\"],\"xaxis\":\"x\",\"y\":[122],\"yaxis\":\"y\",\"type\":\"bar\"},{\"alignmentgroup\":\"True\",\"hovertemplate\":\"Sub Category=autosclassics<br>Category=%{x}<br>Values=%{y}<extra></extra>\",\"legendgroup\":\"autosclassics\",\"marker\":{\"color\":\"#FF97FF\",\"pattern\":{\"shape\":\"\"}},\"name\":\"autosclassics\",\"offsetgroup\":\"autosclassics\",\"orientation\":\"v\",\"showlegend\":true,\"textposition\":\"auto\",\"x\":[\"autos\"],\"xaxis\":\"x\",\"y\":[119],\"yaxis\":\"y\",\"type\":\"bar\"},{\"alignmentgroup\":\"True\",\"hovertemplate\":\"Sub Category=personalfinance<br>Category=%{x}<br>Values=%{y}<extra></extra>\",\"legendgroup\":\"personalfinance\",\"marker\":{\"color\":\"#FECB52\",\"pattern\":{\"shape\":\"\"}},\"name\":\"personalfinance\",\"offsetgroup\":\"personalfinance\",\"orientation\":\"v\",\"showlegend\":true,\"textposition\":\"auto\",\"x\":[\"finance\",\"news\"],\"xaxis\":\"x\",\"y\":[118,2],\"yaxis\":\"y\",\"type\":\"bar\"},{\"alignmentgroup\":\"True\",\"hovertemplate\":\"Sub Category=finance-career-education<br>Category=%{x}<br>Values=%{y}<extra></extra>\",\"legendgroup\":\"finance-career-education\",\"marker\":{\"color\":\"#636efa\",\"pattern\":{\"shape\":\"\"}},\"name\":\"finance-career-education\",\"offsetgroup\":\"finance-career-education\",\"orientation\":\"v\",\"showlegend\":true,\"textposition\":\"auto\",\"x\":[\"finance\"],\"xaxis\":\"x\",\"y\":[118],\"yaxis\":\"y\",\"type\":\"bar\"},{\"alignmentgroup\":\"True\",\"hovertemplate\":\"Sub Category=finance-top-stocks<br>Category=%{x}<br>Values=%{y}<extra></extra>\",\"legendgroup\":\"finance-top-stocks\",\"marker\":{\"color\":\"#EF553B\",\"pattern\":{\"shape\":\"\"}},\"name\":\"finance-top-stocks\",\"offsetgroup\":\"finance-top-stocks\",\"orientation\":\"v\",\"showlegend\":true,\"textposition\":\"auto\",\"x\":[\"finance\"],\"xaxis\":\"x\",\"y\":[117],\"yaxis\":\"y\",\"type\":\"bar\"},{\"alignmentgroup\":\"True\",\"hovertemplate\":\"Sub Category=elections-2020-us<br>Category=%{x}<br>Values=%{y}<extra></extra>\",\"legendgroup\":\"elections-2020-us\",\"marker\":{\"color\":\"#00cc96\",\"pattern\":{\"shape\":\"\"}},\"name\":\"elections-2020-us\",\"offsetgroup\":\"elections-2020-us\",\"orientation\":\"v\",\"showlegend\":true,\"textposition\":\"auto\",\"x\":[\"news\"],\"xaxis\":\"x\",\"y\":[116],\"yaxis\":\"y\",\"type\":\"bar\"},{\"alignmentgroup\":\"True\",\"hovertemplate\":\"Sub Category=gaming<br>Category=%{x}<br>Values=%{y}<extra></extra>\",\"legendgroup\":\"gaming\",\"marker\":{\"color\":\"#ab63fa\",\"pattern\":{\"shape\":\"\"}},\"name\":\"gaming\",\"offsetgroup\":\"gaming\",\"orientation\":\"v\",\"showlegend\":true,\"textposition\":\"auto\",\"x\":[\"entertainment\"],\"xaxis\":\"x\",\"y\":[115],\"yaxis\":\"y\",\"type\":\"bar\"},{\"alignmentgroup\":\"True\",\"hovertemplate\":\"Sub Category=tennis<br>Category=%{x}<br>Values=%{y}<extra></extra>\",\"legendgroup\":\"tennis\",\"marker\":{\"color\":\"#FFA15A\",\"pattern\":{\"shape\":\"\"}},\"name\":\"tennis\",\"offsetgroup\":\"tennis\",\"orientation\":\"v\",\"showlegend\":true,\"textposition\":\"auto\",\"x\":[\"sports\"],\"xaxis\":\"x\",\"y\":[111],\"yaxis\":\"y\",\"type\":\"bar\"},{\"alignmentgroup\":\"True\",\"hovertemplate\":\"Sub Category=entertainment-books<br>Category=%{x}<br>Values=%{y}<extra></extra>\",\"legendgroup\":\"entertainment-books\",\"marker\":{\"color\":\"#19d3f3\",\"pattern\":{\"shape\":\"\"}},\"name\":\"entertainment-books\",\"offsetgroup\":\"entertainment-books\",\"orientation\":\"v\",\"showlegend\":true,\"textposition\":\"auto\",\"x\":[\"entertainment\"],\"xaxis\":\"x\",\"y\":[110],\"yaxis\":\"y\",\"type\":\"bar\"},{\"alignmentgroup\":\"True\",\"hovertemplate\":\"Sub Category=fitness<br>Category=%{x}<br>Values=%{y}<extra></extra>\",\"legendgroup\":\"fitness\",\"marker\":{\"color\":\"#FF6692\",\"pattern\":{\"shape\":\"\"}},\"name\":\"fitness\",\"offsetgroup\":\"fitness\",\"orientation\":\"v\",\"showlegend\":true,\"textposition\":\"auto\",\"x\":[\"health\"],\"xaxis\":\"x\",\"y\":[107],\"yaxis\":\"y\",\"type\":\"bar\"},{\"alignmentgroup\":\"True\",\"hovertemplate\":\"Sub Category=shop-holidays<br>Category=%{x}<br>Values=%{y}<extra></extra>\",\"legendgroup\":\"shop-holidays\",\"marker\":{\"color\":\"#B6E880\",\"pattern\":{\"shape\":\"\"}},\"name\":\"shop-holidays\",\"offsetgroup\":\"shop-holidays\",\"orientation\":\"v\",\"showlegend\":true,\"textposition\":\"auto\",\"x\":[\"lifestyle\"],\"xaxis\":\"x\",\"y\":[107],\"yaxis\":\"y\",\"type\":\"bar\"},{\"alignmentgroup\":\"True\",\"hovertemplate\":\"Sub Category=lifestyledidyouknow<br>Category=%{x}<br>Values=%{y}<extra></extra>\",\"legendgroup\":\"lifestyledidyouknow\",\"marker\":{\"color\":\"#FF97FF\",\"pattern\":{\"shape\":\"\"}},\"name\":\"lifestyledidyouknow\",\"offsetgroup\":\"lifestyledidyouknow\",\"orientation\":\"v\",\"showlegend\":true,\"textposition\":\"auto\",\"x\":[\"lifestyle\"],\"xaxis\":\"x\",\"y\":[103],\"yaxis\":\"y\",\"type\":\"bar\"},{\"alignmentgroup\":\"True\",\"hovertemplate\":\"Sub Category=popculture<br>Category=%{x}<br>Values=%{y}<extra></extra>\",\"legendgroup\":\"popculture\",\"marker\":{\"color\":\"#FECB52\",\"pattern\":{\"shape\":\"\"}},\"name\":\"popculture\",\"offsetgroup\":\"popculture\",\"orientation\":\"v\",\"showlegend\":true,\"textposition\":\"auto\",\"x\":[\"video\"],\"xaxis\":\"x\",\"y\":[98],\"yaxis\":\"y\",\"type\":\"bar\"},{\"alignmentgroup\":\"True\",\"hovertemplate\":\"Sub Category=videos<br>Category=%{x}<br>Values=%{y}<extra></extra>\",\"legendgroup\":\"videos\",\"marker\":{\"color\":\"#636efa\",\"pattern\":{\"shape\":\"\"}},\"name\":\"videos\",\"offsetgroup\":\"videos\",\"orientation\":\"v\",\"showlegend\":true,\"textposition\":\"auto\",\"x\":[\"foodanddrink\"],\"xaxis\":\"x\",\"y\":[87],\"yaxis\":\"y\",\"type\":\"bar\"},{\"alignmentgroup\":\"True\",\"hovertemplate\":\"Sub Category=voices<br>Category=%{x}<br>Values=%{y}<extra></extra>\",\"legendgroup\":\"voices\",\"marker\":{\"color\":\"#EF553B\",\"pattern\":{\"shape\":\"\"}},\"name\":\"voices\",\"offsetgroup\":\"voices\",\"orientation\":\"v\",\"showlegend\":true,\"textposition\":\"auto\",\"x\":[\"lifestyle\",\"health\",\"travel\"],\"xaxis\":\"x\",\"y\":[86,51,6],\"yaxis\":\"y\",\"type\":\"bar\"},{\"alignmentgroup\":\"True\",\"hovertemplate\":\"Sub Category=finance-video<br>Category=%{x}<br>Values=%{y}<extra></extra>\",\"legendgroup\":\"finance-video\",\"marker\":{\"color\":\"#00cc96\",\"pattern\":{\"shape\":\"\"}},\"name\":\"finance-video\",\"offsetgroup\":\"finance-video\",\"orientation\":\"v\",\"showlegend\":true,\"textposition\":\"auto\",\"x\":[\"finance\"],\"xaxis\":\"x\",\"y\":[81],\"yaxis\":\"y\",\"type\":\"bar\"},{\"alignmentgroup\":\"True\",\"hovertemplate\":\"Sub Category=tv-gallery<br>Category=%{x}<br>Values=%{y}<extra></extra>\",\"legendgroup\":\"tv-gallery\",\"marker\":{\"color\":\"#ab63fa\",\"pattern\":{\"shape\":\"\"}},\"name\":\"tv-gallery\",\"offsetgroup\":\"tv-gallery\",\"orientation\":\"v\",\"showlegend\":true,\"textposition\":\"auto\",\"x\":[\"tv\"],\"xaxis\":\"x\",\"y\":[78],\"yaxis\":\"y\",\"type\":\"bar\"},{\"alignmentgroup\":\"True\",\"hovertemplate\":\"Sub Category=movievideo<br>Category=%{x}<br>Values=%{y}<extra></extra>\",\"legendgroup\":\"movievideo\",\"marker\":{\"color\":\"#FFA15A\",\"pattern\":{\"shape\":\"\"}},\"name\":\"movievideo\",\"offsetgroup\":\"movievideo\",\"orientation\":\"v\",\"showlegend\":true,\"textposition\":\"auto\",\"x\":[\"movies\"],\"xaxis\":\"x\",\"y\":[77],\"yaxis\":\"y\",\"type\":\"bar\"},{\"alignmentgroup\":\"True\",\"hovertemplate\":\"Sub Category=lifestylepets<br>Category=%{x}<br>Values=%{y}<extra></extra>\",\"legendgroup\":\"lifestylepets\",\"marker\":{\"color\":\"#19d3f3\",\"pattern\":{\"shape\":\"\"}},\"name\":\"lifestylepets\",\"offsetgroup\":\"lifestylepets\",\"orientation\":\"v\",\"showlegend\":true,\"textposition\":\"auto\",\"x\":[\"lifestyle\"],\"xaxis\":\"x\",\"y\":[77],\"yaxis\":\"y\",\"type\":\"bar\"},{\"alignmentgroup\":\"True\",\"hovertemplate\":\"Sub Category=traveltips<br>Category=%{x}<br>Values=%{y}<extra></extra>\",\"legendgroup\":\"traveltips\",\"marker\":{\"color\":\"#FF6692\",\"pattern\":{\"shape\":\"\"}},\"name\":\"traveltips\",\"offsetgroup\":\"traveltips\",\"orientation\":\"v\",\"showlegend\":true,\"textposition\":\"auto\",\"x\":[\"travel\"],\"xaxis\":\"x\",\"y\":[76],\"yaxis\":\"y\",\"type\":\"bar\"},{\"alignmentgroup\":\"True\",\"hovertemplate\":\"Sub Category=finance-retirement<br>Category=%{x}<br>Values=%{y}<extra></extra>\",\"legendgroup\":\"finance-retirement\",\"marker\":{\"color\":\"#B6E880\",\"pattern\":{\"shape\":\"\"}},\"name\":\"finance-retirement\",\"offsetgroup\":\"finance-retirement\",\"orientation\":\"v\",\"showlegend\":true,\"textposition\":\"auto\",\"x\":[\"finance\"],\"xaxis\":\"x\",\"y\":[76],\"yaxis\":\"y\",\"type\":\"bar\"},{\"alignmentgroup\":\"True\",\"hovertemplate\":\"Sub Category=finance-saving-investing<br>Category=%{x}<br>Values=%{y}<extra></extra>\",\"legendgroup\":\"finance-saving-investing\",\"marker\":{\"color\":\"#FF97FF\",\"pattern\":{\"shape\":\"\"}},\"name\":\"finance-saving-investing\",\"offsetgroup\":\"finance-saving-investing\",\"orientation\":\"v\",\"showlegend\":true,\"textposition\":\"auto\",\"x\":[\"finance\"],\"xaxis\":\"x\",\"y\":[71],\"yaxis\":\"y\",\"type\":\"bar\"},{\"alignmentgroup\":\"True\",\"hovertemplate\":\"Sub Category=autossuvs<br>Category=%{x}<br>Values=%{y}<extra></extra>\",\"legendgroup\":\"autossuvs\",\"marker\":{\"color\":\"#FECB52\",\"pattern\":{\"shape\":\"\"}},\"name\":\"autossuvs\",\"offsetgroup\":\"autossuvs\",\"orientation\":\"v\",\"showlegend\":true,\"textposition\":\"auto\",\"x\":[\"autos\"],\"xaxis\":\"x\",\"y\":[68],\"yaxis\":\"y\",\"type\":\"bar\"},{\"alignmentgroup\":\"True\",\"hovertemplate\":\"Sub Category=lifestylepetsanimals<br>Category=%{x}<br>Values=%{y}<extra></extra>\",\"legendgroup\":\"lifestylepetsanimals\",\"marker\":{\"color\":\"#636efa\",\"pattern\":{\"shape\":\"\"}},\"name\":\"lifestylepetsanimals\",\"offsetgroup\":\"lifestylepetsanimals\",\"orientation\":\"v\",\"showlegend\":true,\"textposition\":\"auto\",\"x\":[\"lifestyle\"],\"xaxis\":\"x\",\"y\":[67],\"yaxis\":\"y\",\"type\":\"bar\"},{\"alignmentgroup\":\"True\",\"hovertemplate\":\"Sub Category=finance-savemoney<br>Category=%{x}<br>Values=%{y}<extra></extra>\",\"legendgroup\":\"finance-savemoney\",\"marker\":{\"color\":\"#EF553B\",\"pattern\":{\"shape\":\"\"}},\"name\":\"finance-savemoney\",\"offsetgroup\":\"finance-savemoney\",\"orientation\":\"v\",\"showlegend\":true,\"textposition\":\"auto\",\"x\":[\"finance\"],\"xaxis\":\"x\",\"y\":[65],\"yaxis\":\"y\",\"type\":\"bar\"},{\"alignmentgroup\":\"True\",\"hovertemplate\":\"Sub Category=movies-gallery<br>Category=%{x}<br>Values=%{y}<extra></extra>\",\"legendgroup\":\"movies-gallery\",\"marker\":{\"color\":\"#00cc96\",\"pattern\":{\"shape\":\"\"}},\"name\":\"movies-gallery\",\"offsetgroup\":\"movies-gallery\",\"orientation\":\"v\",\"showlegend\":true,\"textposition\":\"auto\",\"x\":[\"movies\"],\"xaxis\":\"x\",\"y\":[64],\"yaxis\":\"y\",\"type\":\"bar\"},{\"alignmentgroup\":\"True\",\"hovertemplate\":\"Sub Category=beverages<br>Category=%{x}<br>Values=%{y}<extra></extra>\",\"legendgroup\":\"beverages\",\"marker\":{\"color\":\"#ab63fa\",\"pattern\":{\"shape\":\"\"}},\"name\":\"beverages\",\"offsetgroup\":\"beverages\",\"orientation\":\"v\",\"showlegend\":true,\"textposition\":\"auto\",\"x\":[\"foodanddrink\"],\"xaxis\":\"x\",\"y\":[63],\"yaxis\":\"y\",\"type\":\"bar\"},{\"alignmentgroup\":\"True\",\"hovertemplate\":\"Sub Category=lifestylesmartliving<br>Category=%{x}<br>Values=%{y}<extra></extra>\",\"legendgroup\":\"lifestylesmartliving\",\"marker\":{\"color\":\"#FFA15A\",\"pattern\":{\"shape\":\"\"}},\"name\":\"lifestylesmartliving\",\"offsetgroup\":\"lifestylesmartliving\",\"orientation\":\"v\",\"showlegend\":true,\"textposition\":\"auto\",\"x\":[\"lifestyle\"],\"xaxis\":\"x\",\"y\":[61],\"yaxis\":\"y\",\"type\":\"bar\"},{\"alignmentgroup\":\"True\",\"hovertemplate\":\"Sub Category=lifestylecelebstyle<br>Category=%{x}<br>Values=%{y}<extra></extra>\",\"legendgroup\":\"lifestylecelebstyle\",\"marker\":{\"color\":\"#19d3f3\",\"pattern\":{\"shape\":\"\"}},\"name\":\"lifestylecelebstyle\",\"offsetgroup\":\"lifestylecelebstyle\",\"orientation\":\"v\",\"showlegend\":true,\"textposition\":\"auto\",\"x\":[\"lifestyle\"],\"xaxis\":\"x\",\"y\":[59],\"yaxis\":\"y\",\"type\":\"bar\"},{\"alignmentgroup\":\"True\",\"hovertemplate\":\"Sub Category=autossports<br>Category=%{x}<br>Values=%{y}<extra></extra>\",\"legendgroup\":\"autossports\",\"marker\":{\"color\":\"#FF6692\",\"pattern\":{\"shape\":\"\"}},\"name\":\"autossports\",\"offsetgroup\":\"autossports\",\"orientation\":\"v\",\"showlegend\":true,\"textposition\":\"auto\",\"x\":[\"autos\"],\"xaxis\":\"x\",\"y\":[58],\"yaxis\":\"y\",\"type\":\"bar\"},{\"alignmentgroup\":\"True\",\"hovertemplate\":\"Sub Category=peopleandplaces<br>Category=%{x}<br>Values=%{y}<extra></extra>\",\"legendgroup\":\"peopleandplaces\",\"marker\":{\"color\":\"#B6E880\",\"pattern\":{\"shape\":\"\"}},\"name\":\"peopleandplaces\",\"offsetgroup\":\"peopleandplaces\",\"orientation\":\"v\",\"showlegend\":true,\"textposition\":\"auto\",\"x\":[\"video\"],\"xaxis\":\"x\",\"y\":[54],\"yaxis\":\"y\",\"type\":\"bar\"},{\"alignmentgroup\":\"True\",\"hovertemplate\":\"Sub Category=video<br>Category=%{x}<br>Values=%{y}<extra></extra>\",\"legendgroup\":\"video\",\"marker\":{\"color\":\"#FF97FF\",\"pattern\":{\"shape\":\"\"}},\"name\":\"video\",\"offsetgroup\":\"video\",\"orientation\":\"v\",\"showlegend\":true,\"textposition\":\"auto\",\"x\":[\"travel\",\"entertainment\",\"health\",\"kids\"],\"xaxis\":\"x\",\"y\":[50,28,11,5],\"yaxis\":\"y\",\"type\":\"bar\"},{\"alignmentgroup\":\"True\",\"hovertemplate\":\"Sub Category=music-gallery<br>Category=%{x}<br>Values=%{y}<extra></extra>\",\"legendgroup\":\"music-gallery\",\"marker\":{\"color\":\"#FECB52\",\"pattern\":{\"shape\":\"\"}},\"name\":\"music-gallery\",\"offsetgroup\":\"music-gallery\",\"orientation\":\"v\",\"showlegend\":true,\"textposition\":\"auto\",\"x\":[\"music\"],\"xaxis\":\"x\",\"y\":[48],\"yaxis\":\"y\",\"type\":\"bar\"},{\"alignmentgroup\":\"True\",\"hovertemplate\":\"Sub Category=newsbusiness<br>Category=%{x}<br>Values=%{y}<extra></extra>\",\"legendgroup\":\"newsbusiness\",\"marker\":{\"color\":\"#636efa\",\"pattern\":{\"shape\":\"\"}},\"name\":\"newsbusiness\",\"offsetgroup\":\"newsbusiness\",\"orientation\":\"v\",\"showlegend\":true,\"textposition\":\"auto\",\"x\":[\"news\"],\"xaxis\":\"x\",\"y\":[48],\"yaxis\":\"y\",\"type\":\"bar\"},{\"alignmentgroup\":\"True\",\"hovertemplate\":\"Sub Category=quickandeasy<br>Category=%{x}<br>Values=%{y}<extra></extra>\",\"legendgroup\":\"quickandeasy\",\"marker\":{\"color\":\"#EF553B\",\"pattern\":{\"shape\":\"\"}},\"name\":\"quickandeasy\",\"offsetgroup\":\"quickandeasy\",\"orientation\":\"v\",\"showlegend\":true,\"textposition\":\"auto\",\"x\":[\"foodanddrink\"],\"xaxis\":\"x\",\"y\":[44],\"yaxis\":\"y\",\"type\":\"bar\"},{\"alignmentgroup\":\"True\",\"hovertemplate\":\"Sub Category=factcheck<br>Category=%{x}<br>Values=%{y}<extra></extra>\",\"legendgroup\":\"factcheck\",\"marker\":{\"color\":\"#00cc96\",\"pattern\":{\"shape\":\"\"}},\"name\":\"factcheck\",\"offsetgroup\":\"factcheck\",\"orientation\":\"v\",\"showlegend\":true,\"textposition\":\"auto\",\"x\":[\"news\"],\"xaxis\":\"x\",\"y\":[40],\"yaxis\":\"y\",\"type\":\"bar\"},{\"alignmentgroup\":\"True\",\"hovertemplate\":\"Sub Category=tvvideos<br>Category=%{x}<br>Values=%{y}<extra></extra>\",\"legendgroup\":\"tvvideos\",\"marker\":{\"color\":\"#ab63fa\",\"pattern\":{\"shape\":\"\"}},\"name\":\"tvvideos\",\"offsetgroup\":\"tvvideos\",\"orientation\":\"v\",\"showlegend\":true,\"textposition\":\"auto\",\"x\":[\"tv\"],\"xaxis\":\"x\",\"y\":[39],\"yaxis\":\"y\",\"type\":\"bar\"},{\"alignmentgroup\":\"True\",\"hovertemplate\":\"Sub Category=cma-awards<br>Category=%{x}<br>Values=%{y}<extra></extra>\",\"legendgroup\":\"cma-awards\",\"marker\":{\"color\":\"#FFA15A\",\"pattern\":{\"shape\":\"\"}},\"name\":\"cma-awards\",\"offsetgroup\":\"cma-awards\",\"orientation\":\"v\",\"showlegend\":true,\"textposition\":\"auto\",\"x\":[\"music\"],\"xaxis\":\"x\",\"y\":[37],\"yaxis\":\"y\",\"type\":\"bar\"},{\"alignmentgroup\":\"True\",\"hovertemplate\":\"Sub Category=soccer_mls<br>Category=%{x}<br>Values=%{y}<extra></extra>\",\"legendgroup\":\"soccer_mls\",\"marker\":{\"color\":\"#19d3f3\",\"pattern\":{\"shape\":\"\"}},\"name\":\"soccer_mls\",\"offsetgroup\":\"soccer_mls\",\"orientation\":\"v\",\"showlegend\":true,\"textposition\":\"auto\",\"x\":[\"sports\"],\"xaxis\":\"x\",\"y\":[37],\"yaxis\":\"y\",\"type\":\"bar\"},{\"alignmentgroup\":\"True\",\"hovertemplate\":\"Sub Category=finance-taxes<br>Category=%{x}<br>Values=%{y}<extra></extra>\",\"legendgroup\":\"finance-taxes\",\"marker\":{\"color\":\"#FF6692\",\"pattern\":{\"shape\":\"\"}},\"name\":\"finance-taxes\",\"offsetgroup\":\"finance-taxes\",\"orientation\":\"v\",\"showlegend\":true,\"textposition\":\"auto\",\"x\":[\"finance\"],\"xaxis\":\"x\",\"y\":[37],\"yaxis\":\"y\",\"type\":\"bar\"},{\"alignmentgroup\":\"True\",\"hovertemplate\":\"Sub Category=baseball_mlb_videos<br>Category=%{x}<br>Values=%{y}<extra></extra>\",\"legendgroup\":\"baseball_mlb_videos\",\"marker\":{\"color\":\"#B6E880\",\"pattern\":{\"shape\":\"\"}},\"name\":\"baseball_mlb_videos\",\"offsetgroup\":\"baseball_mlb_videos\",\"orientation\":\"v\",\"showlegend\":true,\"textposition\":\"auto\",\"x\":[\"sports\"],\"xaxis\":\"x\",\"y\":[36],\"yaxis\":\"y\",\"type\":\"bar\"},{\"alignmentgroup\":\"True\",\"hovertemplate\":\"Sub Category=football_ncaa_videos<br>Category=%{x}<br>Values=%{y}<extra></extra>\",\"legendgroup\":\"football_ncaa_videos\",\"marker\":{\"color\":\"#FF97FF\",\"pattern\":{\"shape\":\"\"}},\"name\":\"football_ncaa_videos\",\"offsetgroup\":\"football_ncaa_videos\",\"orientation\":\"v\",\"showlegend\":true,\"textposition\":\"auto\",\"x\":[\"sports\"],\"xaxis\":\"x\",\"y\":[36],\"yaxis\":\"y\",\"type\":\"bar\"},{\"alignmentgroup\":\"True\",\"hovertemplate\":\"Sub Category=lifestylerelationships<br>Category=%{x}<br>Values=%{y}<extra></extra>\",\"legendgroup\":\"lifestylerelationships\",\"marker\":{\"color\":\"#FECB52\",\"pattern\":{\"shape\":\"\"}},\"name\":\"lifestylerelationships\",\"offsetgroup\":\"lifestylerelationships\",\"orientation\":\"v\",\"showlegend\":true,\"textposition\":\"auto\",\"x\":[\"lifestyle\"],\"xaxis\":\"x\",\"y\":[36],\"yaxis\":\"y\",\"type\":\"bar\"},{\"alignmentgroup\":\"True\",\"hovertemplate\":\"Sub Category=healthnews<br>Category=%{x}<br>Values=%{y}<extra></extra>\",\"legendgroup\":\"healthnews\",\"marker\":{\"color\":\"#636efa\",\"pattern\":{\"shape\":\"\"}},\"name\":\"healthnews\",\"offsetgroup\":\"healthnews\",\"orientation\":\"v\",\"showlegend\":true,\"textposition\":\"auto\",\"x\":[\"health\"],\"xaxis\":\"x\",\"y\":[36],\"yaxis\":\"y\",\"type\":\"bar\"},{\"alignmentgroup\":\"True\",\"hovertemplate\":\"Sub Category=autostrucks<br>Category=%{x}<br>Values=%{y}<extra></extra>\",\"legendgroup\":\"autostrucks\",\"marker\":{\"color\":\"#EF553B\",\"pattern\":{\"shape\":\"\"}},\"name\":\"autostrucks\",\"offsetgroup\":\"autostrucks\",\"orientation\":\"v\",\"showlegend\":true,\"textposition\":\"auto\",\"x\":[\"autos\"],\"xaxis\":\"x\",\"y\":[36],\"yaxis\":\"y\",\"type\":\"bar\"},{\"alignmentgroup\":\"True\",\"hovertemplate\":\"Sub Category=lifestylehoroscope<br>Category=%{x}<br>Values=%{y}<extra></extra>\",\"legendgroup\":\"lifestylehoroscope\",\"marker\":{\"color\":\"#00cc96\",\"pattern\":{\"shape\":\"\"}},\"name\":\"lifestylehoroscope\",\"offsetgroup\":\"lifestylehoroscope\",\"orientation\":\"v\",\"showlegend\":true,\"textposition\":\"auto\",\"x\":[\"lifestyle\"],\"xaxis\":\"x\",\"y\":[34],\"yaxis\":\"y\",\"type\":\"bar\"},{\"alignmentgroup\":\"True\",\"hovertemplate\":\"Sub Category=outdoors<br>Category=%{x}<br>Values=%{y}<extra></extra>\",\"legendgroup\":\"outdoors\",\"marker\":{\"color\":\"#ab63fa\",\"pattern\":{\"shape\":\"\"}},\"name\":\"outdoors\",\"offsetgroup\":\"outdoors\",\"orientation\":\"v\",\"showlegend\":true,\"textposition\":\"auto\",\"x\":[\"sports\"],\"xaxis\":\"x\",\"y\":[34],\"yaxis\":\"y\",\"type\":\"bar\"},{\"alignmentgroup\":\"True\",\"hovertemplate\":\"Sub Category=autosbuying<br>Category=%{x}<br>Values=%{y}<extra></extra>\",\"legendgroup\":\"autosbuying\",\"marker\":{\"color\":\"#FFA15A\",\"pattern\":{\"shape\":\"\"}},\"name\":\"autosbuying\",\"offsetgroup\":\"autosbuying\",\"orientation\":\"v\",\"showlegend\":true,\"textposition\":\"auto\",\"x\":[\"autos\"],\"xaxis\":\"x\",\"y\":[32],\"yaxis\":\"y\",\"type\":\"bar\"},{\"alignmentgroup\":\"True\",\"hovertemplate\":\"Sub Category=shop-all<br>Category=%{x}<br>Values=%{y}<extra></extra>\",\"legendgroup\":\"shop-all\",\"marker\":{\"color\":\"#19d3f3\",\"pattern\":{\"shape\":\"\"}},\"name\":\"shop-all\",\"offsetgroup\":\"shop-all\",\"orientation\":\"v\",\"showlegend\":true,\"textposition\":\"auto\",\"x\":[\"lifestyle\"],\"xaxis\":\"x\",\"y\":[32],\"yaxis\":\"y\",\"type\":\"bar\"},{\"alignmentgroup\":\"True\",\"hovertemplate\":\"Sub Category=finance-small-business<br>Category=%{x}<br>Values=%{y}<extra></extra>\",\"legendgroup\":\"finance-small-business\",\"marker\":{\"color\":\"#FF6692\",\"pattern\":{\"shape\":\"\"}},\"name\":\"finance-small-business\",\"offsetgroup\":\"finance-small-business\",\"orientation\":\"v\",\"showlegend\":true,\"textposition\":\"auto\",\"x\":[\"finance\"],\"xaxis\":\"x\",\"y\":[32],\"yaxis\":\"y\",\"type\":\"bar\"},{\"alignmentgroup\":\"True\",\"hovertemplate\":\"Sub Category=lifestylebeauty<br>Category=%{x}<br>Values=%{y}<extra></extra>\",\"legendgroup\":\"lifestylebeauty\",\"marker\":{\"color\":\"#B6E880\",\"pattern\":{\"shape\":\"\"}},\"name\":\"lifestylebeauty\",\"offsetgroup\":\"lifestylebeauty\",\"orientation\":\"v\",\"showlegend\":true,\"textposition\":\"auto\",\"x\":[\"lifestyle\"],\"xaxis\":\"x\",\"y\":[30],\"yaxis\":\"y\",\"type\":\"bar\"},{\"alignmentgroup\":\"True\",\"hovertemplate\":\"Sub Category=lifestyleparenting<br>Category=%{x}<br>Values=%{y}<extra></extra>\",\"legendgroup\":\"lifestyleparenting\",\"marker\":{\"color\":\"#FF97FF\",\"pattern\":{\"shape\":\"\"}},\"name\":\"lifestyleparenting\",\"offsetgroup\":\"lifestyleparenting\",\"orientation\":\"v\",\"showlegend\":true,\"textposition\":\"auto\",\"x\":[\"lifestyle\"],\"xaxis\":\"x\",\"y\":[30],\"yaxis\":\"y\",\"type\":\"bar\"},{\"alignmentgroup\":\"True\",\"hovertemplate\":\"Sub Category=lifestylecareer<br>Category=%{x}<br>Values=%{y}<extra></extra>\",\"legendgroup\":\"lifestylecareer\",\"marker\":{\"color\":\"#FECB52\",\"pattern\":{\"shape\":\"\"}},\"name\":\"lifestylecareer\",\"offsetgroup\":\"lifestylecareer\",\"orientation\":\"v\",\"showlegend\":true,\"textposition\":\"auto\",\"x\":[\"lifestyle\"],\"xaxis\":\"x\",\"y\":[30],\"yaxis\":\"y\",\"type\":\"bar\"},{\"alignmentgroup\":\"True\",\"hovertemplate\":\"Sub Category=lifestylemindandsoul<br>Category=%{x}<br>Values=%{y}<extra></extra>\",\"legendgroup\":\"lifestylemindandsoul\",\"marker\":{\"color\":\"#636efa\",\"pattern\":{\"shape\":\"\"}},\"name\":\"lifestylemindandsoul\",\"offsetgroup\":\"lifestylemindandsoul\",\"orientation\":\"v\",\"showlegend\":true,\"textposition\":\"auto\",\"x\":[\"lifestyle\"],\"xaxis\":\"x\",\"y\":[29],\"yaxis\":\"y\",\"type\":\"bar\"},{\"alignmentgroup\":\"True\",\"hovertemplate\":\"Sub Category=lifestylefamilyandrelationships<br>Category=%{x}<br>Values=%{y}<extra></extra>\",\"legendgroup\":\"lifestylefamilyandrelationships\",\"marker\":{\"color\":\"#EF553B\",\"pattern\":{\"shape\":\"\"}},\"name\":\"lifestylefamilyandrelationships\",\"offsetgroup\":\"lifestylefamilyandrelationships\",\"orientation\":\"v\",\"showlegend\":true,\"textposition\":\"auto\",\"x\":[\"lifestyle\"],\"xaxis\":\"x\",\"y\":[28],\"yaxis\":\"y\",\"type\":\"bar\"},{\"alignmentgroup\":\"True\",\"hovertemplate\":\"Sub Category=awards<br>Category=%{x}<br>Values=%{y}<extra></extra>\",\"legendgroup\":\"awards\",\"marker\":{\"color\":\"#00cc96\",\"pattern\":{\"shape\":\"\"}},\"name\":\"awards\",\"offsetgroup\":\"awards\",\"orientation\":\"v\",\"showlegend\":true,\"textposition\":\"auto\",\"x\":[\"entertainment\"],\"xaxis\":\"x\",\"y\":[27],\"yaxis\":\"y\",\"type\":\"bar\"},{\"alignmentgroup\":\"True\",\"hovertemplate\":\"Sub Category=music-awards<br>Category=%{x}<br>Values=%{y}<extra></extra>\",\"legendgroup\":\"music-awards\",\"marker\":{\"color\":\"#ab63fa\",\"pattern\":{\"shape\":\"\"}},\"name\":\"music-awards\",\"offsetgroup\":\"music-awards\",\"orientation\":\"v\",\"showlegend\":true,\"textposition\":\"auto\",\"x\":[\"music\"],\"xaxis\":\"x\",\"y\":[26],\"yaxis\":\"y\",\"type\":\"bar\"},{\"alignmentgroup\":\"True\",\"hovertemplate\":\"Sub Category=autosownership<br>Category=%{x}<br>Values=%{y}<extra></extra>\",\"legendgroup\":\"autosownership\",\"marker\":{\"color\":\"#FFA15A\",\"pattern\":{\"shape\":\"\"}},\"name\":\"autosownership\",\"offsetgroup\":\"autosownership\",\"orientation\":\"v\",\"showlegend\":true,\"textposition\":\"auto\",\"x\":[\"autos\"],\"xaxis\":\"x\",\"y\":[26],\"yaxis\":\"y\",\"type\":\"bar\"},{\"alignmentgroup\":\"True\",\"hovertemplate\":\"Sub Category=soccer_epl<br>Category=%{x}<br>Values=%{y}<extra></extra>\",\"legendgroup\":\"soccer_epl\",\"marker\":{\"color\":\"#19d3f3\",\"pattern\":{\"shape\":\"\"}},\"name\":\"soccer_epl\",\"offsetgroup\":\"soccer_epl\",\"orientation\":\"v\",\"showlegend\":true,\"textposition\":\"auto\",\"x\":[\"sports\"],\"xaxis\":\"x\",\"y\":[25],\"yaxis\":\"y\",\"type\":\"bar\"},{\"alignmentgroup\":\"True\",\"hovertemplate\":\"Sub Category=advice<br>Category=%{x}<br>Values=%{y}<extra></extra>\",\"legendgroup\":\"advice\",\"marker\":{\"color\":\"#FF6692\",\"pattern\":{\"shape\":\"\"}},\"name\":\"advice\",\"offsetgroup\":\"advice\",\"orientation\":\"v\",\"showlegend\":true,\"textposition\":\"auto\",\"x\":[\"lifestyle\"],\"xaxis\":\"x\",\"y\":[25],\"yaxis\":\"y\",\"type\":\"bar\"},{\"alignmentgroup\":\"True\",\"hovertemplate\":\"Sub Category=lifestylecleaningandorganizing<br>Category=%{x}<br>Values=%{y}<extra></extra>\",\"legendgroup\":\"lifestylecleaningandorganizing\",\"marker\":{\"color\":\"#B6E880\",\"pattern\":{\"shape\":\"\"}},\"name\":\"lifestylecleaningandorganizing\",\"offsetgroup\":\"lifestylecleaningandorganizing\",\"orientation\":\"v\",\"showlegend\":true,\"textposition\":\"auto\",\"x\":[\"lifestyle\"],\"xaxis\":\"x\",\"y\":[23],\"yaxis\":\"y\",\"type\":\"bar\"},{\"alignmentgroup\":\"True\",\"hovertemplate\":\"Sub Category=newsphotos<br>Category=%{x}<br>Values=%{y}<extra></extra>\",\"legendgroup\":\"newsphotos\",\"marker\":{\"color\":\"#FF97FF\",\"pattern\":{\"shape\":\"\"}},\"name\":\"newsphotos\",\"offsetgroup\":\"newsphotos\",\"orientation\":\"v\",\"showlegend\":true,\"textposition\":\"auto\",\"x\":[\"news\"],\"xaxis\":\"x\",\"y\":[22],\"yaxis\":\"y\",\"type\":\"bar\"},{\"alignmentgroup\":\"True\",\"hovertemplate\":\"Sub Category=autosluxury<br>Category=%{x}<br>Values=%{y}<extra></extra>\",\"legendgroup\":\"autosluxury\",\"marker\":{\"color\":\"#FECB52\",\"pattern\":{\"shape\":\"\"}},\"name\":\"autosluxury\",\"offsetgroup\":\"autosluxury\",\"orientation\":\"v\",\"showlegend\":true,\"textposition\":\"auto\",\"x\":[\"autos\"],\"xaxis\":\"x\",\"y\":[20],\"yaxis\":\"y\",\"type\":\"bar\"},{\"alignmentgroup\":\"True\",\"hovertemplate\":\"Sub Category=finance-technology<br>Category=%{x}<br>Values=%{y}<extra></extra>\",\"legendgroup\":\"finance-technology\",\"marker\":{\"color\":\"#636efa\",\"pattern\":{\"shape\":\"\"}},\"name\":\"finance-technology\",\"offsetgroup\":\"finance-technology\",\"orientation\":\"v\",\"showlegend\":true,\"textposition\":\"auto\",\"x\":[\"finance\"],\"xaxis\":\"x\",\"y\":[20],\"yaxis\":\"y\",\"type\":\"bar\"},{\"alignmentgroup\":\"True\",\"hovertemplate\":\"Sub Category=autossema<br>Category=%{x}<br>Values=%{y}<extra></extra>\",\"legendgroup\":\"autossema\",\"marker\":{\"color\":\"#EF553B\",\"pattern\":{\"shape\":\"\"}},\"name\":\"autossema\",\"offsetgroup\":\"autossema\",\"orientation\":\"v\",\"showlegend\":true,\"textposition\":\"auto\",\"x\":[\"autos\"],\"xaxis\":\"x\",\"y\":[19],\"yaxis\":\"y\",\"type\":\"bar\"},{\"alignmentgroup\":\"True\",\"hovertemplate\":\"Sub Category=finance-career<br>Category=%{x}<br>Values=%{y}<extra></extra>\",\"legendgroup\":\"finance-career\",\"marker\":{\"color\":\"#00cc96\",\"pattern\":{\"shape\":\"\"}},\"name\":\"finance-career\",\"offsetgroup\":\"finance-career\",\"orientation\":\"v\",\"showlegend\":true,\"textposition\":\"auto\",\"x\":[\"finance\"],\"xaxis\":\"x\",\"y\":[18],\"yaxis\":\"y\",\"type\":\"bar\"},{\"alignmentgroup\":\"True\",\"hovertemplate\":\"Sub Category=musicvideos<br>Category=%{x}<br>Values=%{y}<extra></extra>\",\"legendgroup\":\"musicvideos\",\"marker\":{\"color\":\"#ab63fa\",\"pattern\":{\"shape\":\"\"}},\"name\":\"musicvideos\",\"offsetgroup\":\"musicvideos\",\"orientation\":\"v\",\"showlegend\":true,\"textposition\":\"auto\",\"x\":[\"music\"],\"xaxis\":\"x\",\"y\":[17],\"yaxis\":\"y\",\"type\":\"bar\"},{\"alignmentgroup\":\"True\",\"hovertemplate\":\"Sub Category=newsfactcheck<br>Category=%{x}<br>Values=%{y}<extra></extra>\",\"legendgroup\":\"newsfactcheck\",\"marker\":{\"color\":\"#FFA15A\",\"pattern\":{\"shape\":\"\"}},\"name\":\"newsfactcheck\",\"offsetgroup\":\"newsfactcheck\",\"orientation\":\"v\",\"showlegend\":true,\"textposition\":\"auto\",\"x\":[\"news\"],\"xaxis\":\"x\",\"y\":[17],\"yaxis\":\"y\",\"type\":\"bar\"},{\"alignmentgroup\":\"True\",\"hovertemplate\":\"Sub Category=shop-apparel<br>Category=%{x}<br>Values=%{y}<extra></extra>\",\"legendgroup\":\"shop-apparel\",\"marker\":{\"color\":\"#19d3f3\",\"pattern\":{\"shape\":\"\"}},\"name\":\"shop-apparel\",\"offsetgroup\":\"shop-apparel\",\"orientation\":\"v\",\"showlegend\":true,\"textposition\":\"auto\",\"x\":[\"lifestyle\"],\"xaxis\":\"x\",\"y\":[17],\"yaxis\":\"y\",\"type\":\"bar\"},{\"alignmentgroup\":\"True\",\"hovertemplate\":\"Sub Category=lifestylevideo<br>Category=%{x}<br>Values=%{y}<extra></extra>\",\"legendgroup\":\"lifestylevideo\",\"marker\":{\"color\":\"#FF6692\",\"pattern\":{\"shape\":\"\"}},\"name\":\"lifestylevideo\",\"offsetgroup\":\"lifestylevideo\",\"orientation\":\"v\",\"showlegend\":true,\"textposition\":\"auto\",\"x\":[\"lifestyle\"],\"xaxis\":\"x\",\"y\":[16],\"yaxis\":\"y\",\"type\":\"bar\"},{\"alignmentgroup\":\"True\",\"hovertemplate\":\"Sub Category=autosresearchguides<br>Category=%{x}<br>Values=%{y}<extra></extra>\",\"legendgroup\":\"autosresearchguides\",\"marker\":{\"color\":\"#B6E880\",\"pattern\":{\"shape\":\"\"}},\"name\":\"autosresearchguides\",\"offsetgroup\":\"autosresearchguides\",\"orientation\":\"v\",\"showlegend\":true,\"textposition\":\"auto\",\"x\":[\"autos\"],\"xaxis\":\"x\",\"y\":[16],\"yaxis\":\"y\",\"type\":\"bar\"},{\"alignmentgroup\":\"True\",\"hovertemplate\":\"Sub Category=finance-credit<br>Category=%{x}<br>Values=%{y}<extra></extra>\",\"legendgroup\":\"finance-credit\",\"marker\":{\"color\":\"#FF97FF\",\"pattern\":{\"shape\":\"\"}},\"name\":\"finance-credit\",\"offsetgroup\":\"finance-credit\",\"orientation\":\"v\",\"showlegend\":true,\"textposition\":\"auto\",\"x\":[\"finance\"],\"xaxis\":\"x\",\"y\":[16],\"yaxis\":\"y\",\"type\":\"bar\"},{\"alignmentgroup\":\"True\",\"hovertemplate\":\"Sub Category=tv-recaps<br>Category=%{x}<br>Values=%{y}<extra></extra>\",\"legendgroup\":\"tv-recaps\",\"marker\":{\"color\":\"#FECB52\",\"pattern\":{\"shape\":\"\"}},\"name\":\"tv-recaps\",\"offsetgroup\":\"tv-recaps\",\"orientation\":\"v\",\"showlegend\":true,\"textposition\":\"auto\",\"x\":[\"tv\"],\"xaxis\":\"x\",\"y\":[16],\"yaxis\":\"y\",\"type\":\"bar\"},{\"alignmentgroup\":\"True\",\"hovertemplate\":\"Sub Category=autosresearch<br>Category=%{x}<br>Values=%{y}<extra></extra>\",\"legendgroup\":\"autosresearch\",\"marker\":{\"color\":\"#636efa\",\"pattern\":{\"shape\":\"\"}},\"name\":\"autosresearch\",\"offsetgroup\":\"autosresearch\",\"orientation\":\"v\",\"showlegend\":true,\"textposition\":\"auto\",\"x\":[\"autos\"],\"xaxis\":\"x\",\"y\":[15],\"yaxis\":\"y\",\"type\":\"bar\"},{\"alignmentgroup\":\"True\",\"hovertemplate\":\"Sub Category=boxing<br>Category=%{x}<br>Values=%{y}<extra></extra>\",\"legendgroup\":\"boxing\",\"marker\":{\"color\":\"#EF553B\",\"pattern\":{\"shape\":\"\"}},\"name\":\"boxing\",\"offsetgroup\":\"boxing\",\"orientation\":\"v\",\"showlegend\":true,\"textposition\":\"auto\",\"x\":[\"sports\"],\"xaxis\":\"x\",\"y\":[15],\"yaxis\":\"y\",\"type\":\"bar\"},{\"alignmentgroup\":\"True\",\"hovertemplate\":\"Sub Category=lifestylelovesex<br>Category=%{x}<br>Values=%{y}<extra></extra>\",\"legendgroup\":\"lifestylelovesex\",\"marker\":{\"color\":\"#00cc96\",\"pattern\":{\"shape\":\"\"}},\"name\":\"lifestylelovesex\",\"offsetgroup\":\"lifestylelovesex\",\"orientation\":\"v\",\"showlegend\":true,\"textposition\":\"auto\",\"x\":[\"lifestyle\"],\"xaxis\":\"x\",\"y\":[15],\"yaxis\":\"y\",\"type\":\"bar\"},{\"alignmentgroup\":\"True\",\"hovertemplate\":\"Sub Category=lifestylefashion<br>Category=%{x}<br>Values=%{y}<extra></extra>\",\"legendgroup\":\"lifestylefashion\",\"marker\":{\"color\":\"#ab63fa\",\"pattern\":{\"shape\":\"\"}},\"name\":\"lifestylefashion\",\"offsetgroup\":\"lifestylefashion\",\"orientation\":\"v\",\"showlegend\":true,\"textposition\":\"auto\",\"x\":[\"lifestyle\"],\"xaxis\":\"x\",\"y\":[15],\"yaxis\":\"y\",\"type\":\"bar\"},{\"alignmentgroup\":\"True\",\"hovertemplate\":\"Sub Category=newsscience<br>Category=%{x}<br>Values=%{y}<extra></extra>\",\"legendgroup\":\"newsscience\",\"marker\":{\"color\":\"#FFA15A\",\"pattern\":{\"shape\":\"\"}},\"name\":\"newsscience\",\"offsetgroup\":\"newsscience\",\"orientation\":\"v\",\"showlegend\":true,\"textposition\":\"auto\",\"x\":[\"news\"],\"xaxis\":\"x\",\"y\":[15],\"yaxis\":\"y\",\"type\":\"bar\"},{\"alignmentgroup\":\"True\",\"hovertemplate\":\"Sub Category=humor<br>Category=%{x}<br>Values=%{y}<extra></extra>\",\"legendgroup\":\"humor\",\"marker\":{\"color\":\"#19d3f3\",\"pattern\":{\"shape\":\"\"}},\"name\":\"humor\",\"offsetgroup\":\"humor\",\"orientation\":\"v\",\"showlegend\":true,\"textposition\":\"auto\",\"x\":[\"tv\",\"entertainment\",\"music\"],\"xaxis\":\"x\",\"y\":[15,9,1],\"yaxis\":\"y\",\"type\":\"bar\"},{\"alignmentgroup\":\"True\",\"hovertemplate\":\"Sub Category=finance-insurance<br>Category=%{x}<br>Values=%{y}<extra></extra>\",\"legendgroup\":\"finance-insurance\",\"marker\":{\"color\":\"#FF6692\",\"pattern\":{\"shape\":\"\"}},\"name\":\"finance-insurance\",\"offsetgroup\":\"finance-insurance\",\"orientation\":\"v\",\"showlegend\":true,\"textposition\":\"auto\",\"x\":[\"finance\"],\"xaxis\":\"x\",\"y\":[15],\"yaxis\":\"y\",\"type\":\"bar\"},{\"alignmentgroup\":\"True\",\"hovertemplate\":\"Sub Category=finance-healthcare<br>Category=%{x}<br>Values=%{y}<extra></extra>\",\"legendgroup\":\"finance-healthcare\",\"marker\":{\"color\":\"#B6E880\",\"pattern\":{\"shape\":\"\"}},\"name\":\"finance-healthcare\",\"offsetgroup\":\"finance-healthcare\",\"orientation\":\"v\",\"showlegend\":true,\"textposition\":\"auto\",\"x\":[\"finance\"],\"xaxis\":\"x\",\"y\":[14],\"yaxis\":\"y\",\"type\":\"bar\"},{\"alignmentgroup\":\"True\",\"hovertemplate\":\"Sub Category=lifestyle-news-feature<br>Category=%{x}<br>Values=%{y}<extra></extra>\",\"legendgroup\":\"lifestyle-news-feature\",\"marker\":{\"color\":\"#FF97FF\",\"pattern\":{\"shape\":\"\"}},\"name\":\"lifestyle-news-feature\",\"offsetgroup\":\"lifestyle-news-feature\",\"orientation\":\"v\",\"showlegend\":true,\"textposition\":\"auto\",\"x\":[\"lifestyle\"],\"xaxis\":\"x\",\"y\":[14],\"yaxis\":\"y\",\"type\":\"bar\"},{\"alignmentgroup\":\"True\",\"hovertemplate\":\"Sub Category=basketball_ncaa_videos<br>Category=%{x}<br>Values=%{y}<extra></extra>\",\"legendgroup\":\"basketball_ncaa_videos\",\"marker\":{\"color\":\"#FECB52\",\"pattern\":{\"shape\":\"\"}},\"name\":\"basketball_ncaa_videos\",\"offsetgroup\":\"basketball_ncaa_videos\",\"orientation\":\"v\",\"showlegend\":true,\"textposition\":\"auto\",\"x\":[\"sports\"],\"xaxis\":\"x\",\"y\":[14],\"yaxis\":\"y\",\"type\":\"bar\"},{\"alignmentgroup\":\"True\",\"hovertemplate\":\"Sub Category=wines<br>Category=%{x}<br>Values=%{y}<extra></extra>\",\"legendgroup\":\"wines\",\"marker\":{\"color\":\"#636efa\",\"pattern\":{\"shape\":\"\"}},\"name\":\"wines\",\"offsetgroup\":\"wines\",\"orientation\":\"v\",\"showlegend\":true,\"textposition\":\"auto\",\"x\":[\"foodanddrink\"],\"xaxis\":\"x\",\"y\":[13],\"yaxis\":\"y\",\"type\":\"bar\"},{\"alignmentgroup\":\"True\",\"hovertemplate\":\"Sub Category=lifestylediy<br>Category=%{x}<br>Values=%{y}<extra></extra>\",\"legendgroup\":\"lifestylediy\",\"marker\":{\"color\":\"#EF553B\",\"pattern\":{\"shape\":\"\"}},\"name\":\"lifestylediy\",\"offsetgroup\":\"lifestylediy\",\"orientation\":\"v\",\"showlegend\":true,\"textposition\":\"auto\",\"x\":[\"lifestyle\"],\"xaxis\":\"x\",\"y\":[13],\"yaxis\":\"y\",\"type\":\"bar\"},{\"alignmentgroup\":\"True\",\"hovertemplate\":\"Sub Category=finance-billstopay<br>Category=%{x}<br>Values=%{y}<extra></extra>\",\"legendgroup\":\"finance-billstopay\",\"marker\":{\"color\":\"#00cc96\",\"pattern\":{\"shape\":\"\"}},\"name\":\"finance-billstopay\",\"offsetgroup\":\"finance-billstopay\",\"orientation\":\"v\",\"showlegend\":true,\"textposition\":\"auto\",\"x\":[\"finance\"],\"xaxis\":\"x\",\"y\":[12],\"yaxis\":\"y\",\"type\":\"bar\"},{\"alignmentgroup\":\"True\",\"hovertemplate\":\"Sub Category=awardstyle<br>Category=%{x}<br>Values=%{y}<extra></extra>\",\"legendgroup\":\"awardstyle\",\"marker\":{\"color\":\"#ab63fa\",\"pattern\":{\"shape\":\"\"}},\"name\":\"awardstyle\",\"offsetgroup\":\"awardstyle\",\"orientation\":\"v\",\"showlegend\":true,\"textposition\":\"auto\",\"x\":[\"lifestyle\"],\"xaxis\":\"x\",\"y\":[12],\"yaxis\":\"y\",\"type\":\"bar\"},{\"alignmentgroup\":\"True\",\"hovertemplate\":\"Sub Category=movies-awards<br>Category=%{x}<br>Values=%{y}<extra></extra>\",\"legendgroup\":\"movies-awards\",\"marker\":{\"color\":\"#FFA15A\",\"pattern\":{\"shape\":\"\"}},\"name\":\"movies-awards\",\"offsetgroup\":\"movies-awards\",\"orientation\":\"v\",\"showlegend\":true,\"textposition\":\"auto\",\"x\":[\"movies\"],\"xaxis\":\"x\",\"y\":[12],\"yaxis\":\"y\",\"type\":\"bar\"},{\"alignmentgroup\":\"True\",\"hovertemplate\":\"Sub Category=causes<br>Category=%{x}<br>Values=%{y}<extra></extra>\",\"legendgroup\":\"causes\",\"marker\":{\"color\":\"#19d3f3\",\"pattern\":{\"shape\":\"\"}},\"name\":\"causes\",\"offsetgroup\":\"causes\",\"orientation\":\"v\",\"showlegend\":true,\"textposition\":\"auto\",\"x\":[\"lifestyle\",\"health\",\"finance\",\"news\"],\"xaxis\":\"x\",\"y\":[11,11,3,2],\"yaxis\":\"y\",\"type\":\"bar\"},{\"alignmentgroup\":\"True\",\"hovertemplate\":\"Sub Category=lifestyleweddings<br>Category=%{x}<br>Values=%{y}<extra></extra>\",\"legendgroup\":\"lifestyleweddings\",\"marker\":{\"color\":\"#FF6692\",\"pattern\":{\"shape\":\"\"}},\"name\":\"lifestyleweddings\",\"offsetgroup\":\"lifestyleweddings\",\"orientation\":\"v\",\"showlegend\":true,\"textposition\":\"auto\",\"x\":[\"lifestyle\"],\"xaxis\":\"x\",\"y\":[11],\"yaxis\":\"y\",\"type\":\"bar\"},{\"alignmentgroup\":\"True\",\"hovertemplate\":\"Sub Category=ads-lung-health<br>Category=%{x}<br>Values=%{y}<extra></extra>\",\"legendgroup\":\"ads-lung-health\",\"marker\":{\"color\":\"#B6E880\",\"pattern\":{\"shape\":\"\"}},\"name\":\"ads-lung-health\",\"offsetgroup\":\"ads-lung-health\",\"orientation\":\"v\",\"showlegend\":true,\"textposition\":\"auto\",\"x\":[\"health\"],\"xaxis\":\"x\",\"y\":[11],\"yaxis\":\"y\",\"type\":\"bar\"},{\"alignmentgroup\":\"True\",\"hovertemplate\":\"Sub Category=newsweather<br>Category=%{x}<br>Values=%{y}<extra></extra>\",\"legendgroup\":\"newsweather\",\"marker\":{\"color\":\"#FF97FF\",\"pattern\":{\"shape\":\"\"}},\"name\":\"newsweather\",\"offsetgroup\":\"newsweather\",\"orientation\":\"v\",\"showlegend\":true,\"textposition\":\"auto\",\"x\":[\"news\"],\"xaxis\":\"x\",\"y\":[11],\"yaxis\":\"y\",\"type\":\"bar\"},{\"alignmentgroup\":\"True\",\"hovertemplate\":\"Sub Category=finance-education<br>Category=%{x}<br>Values=%{y}<extra></extra>\",\"legendgroup\":\"finance-education\",\"marker\":{\"color\":\"#FECB52\",\"pattern\":{\"shape\":\"\"}},\"name\":\"finance-education\",\"offsetgroup\":\"finance-education\",\"orientation\":\"v\",\"showlegend\":true,\"textposition\":\"auto\",\"x\":[\"finance\"],\"xaxis\":\"x\",\"y\":[11],\"yaxis\":\"y\",\"type\":\"bar\"},{\"alignmentgroup\":\"True\",\"hovertemplate\":\"Sub Category=retirement<br>Category=%{x}<br>Values=%{y}<extra></extra>\",\"legendgroup\":\"retirement\",\"marker\":{\"color\":\"#636efa\",\"pattern\":{\"shape\":\"\"}},\"name\":\"retirement\",\"offsetgroup\":\"retirement\",\"orientation\":\"v\",\"showlegend\":true,\"textposition\":\"auto\",\"x\":[\"finance\"],\"xaxis\":\"x\",\"y\":[10],\"yaxis\":\"y\",\"type\":\"bar\"},{\"alignmentgroup\":\"True\",\"hovertemplate\":\"Sub Category=travel-points-rewards<br>Category=%{x}<br>Values=%{y}<extra></extra>\",\"legendgroup\":\"travel-points-rewards\",\"marker\":{\"color\":\"#EF553B\",\"pattern\":{\"shape\":\"\"}},\"name\":\"travel-points-rewards\",\"offsetgroup\":\"travel-points-rewards\",\"orientation\":\"v\",\"showlegend\":true,\"textposition\":\"auto\",\"x\":[\"travel\"],\"xaxis\":\"x\",\"y\":[10],\"yaxis\":\"y\",\"type\":\"bar\"},{\"alignmentgroup\":\"True\",\"hovertemplate\":\"Sub Category=mentalhealth<br>Category=%{x}<br>Values=%{y}<extra></extra>\",\"legendgroup\":\"mentalhealth\",\"marker\":{\"color\":\"#00cc96\",\"pattern\":{\"shape\":\"\"}},\"name\":\"mentalhealth\",\"offsetgroup\":\"mentalhealth\",\"orientation\":\"v\",\"showlegend\":true,\"textposition\":\"auto\",\"x\":[\"health\"],\"xaxis\":\"x\",\"y\":[9],\"yaxis\":\"y\",\"type\":\"bar\"},{\"alignmentgroup\":\"True\",\"hovertemplate\":\"Sub Category=basketball_nba_videos<br>Category=%{x}<br>Values=%{y}<extra></extra>\",\"legendgroup\":\"basketball_nba_videos\",\"marker\":{\"color\":\"#ab63fa\",\"pattern\":{\"shape\":\"\"}},\"name\":\"basketball_nba_videos\",\"offsetgroup\":\"basketball_nba_videos\",\"orientation\":\"v\",\"showlegend\":true,\"textposition\":\"auto\",\"x\":[\"sports\"],\"xaxis\":\"x\",\"y\":[9],\"yaxis\":\"y\",\"type\":\"bar\"},{\"alignmentgroup\":\"True\",\"hovertemplate\":\"Sub Category=boxing-mma<br>Category=%{x}<br>Values=%{y}<extra></extra>\",\"legendgroup\":\"boxing-mma\",\"marker\":{\"color\":\"#FFA15A\",\"pattern\":{\"shape\":\"\"}},\"name\":\"boxing-mma\",\"offsetgroup\":\"boxing-mma\",\"orientation\":\"v\",\"showlegend\":true,\"textposition\":\"auto\",\"x\":[\"sports\"],\"xaxis\":\"x\",\"y\":[8],\"yaxis\":\"y\",\"type\":\"bar\"},{\"alignmentgroup\":\"True\",\"hovertemplate\":\"Sub Category=pregnancyparenting<br>Category=%{x}<br>Values=%{y}<extra></extra>\",\"legendgroup\":\"pregnancyparenting\",\"marker\":{\"color\":\"#19d3f3\",\"pattern\":{\"shape\":\"\"}},\"name\":\"pregnancyparenting\",\"offsetgroup\":\"pregnancyparenting\",\"orientation\":\"v\",\"showlegend\":true,\"textposition\":\"auto\",\"x\":[\"health\",\"lifestyle\"],\"xaxis\":\"x\",\"y\":[8,1],\"yaxis\":\"y\",\"type\":\"bar\"},{\"alignmentgroup\":\"True\",\"hovertemplate\":\"Sub Category=lifestyledecor<br>Category=%{x}<br>Values=%{y}<extra></extra>\",\"legendgroup\":\"lifestyledecor\",\"marker\":{\"color\":\"#FF6692\",\"pattern\":{\"shape\":\"\"}},\"name\":\"lifestyledecor\",\"offsetgroup\":\"lifestyledecor\",\"orientation\":\"v\",\"showlegend\":true,\"textposition\":\"auto\",\"x\":[\"lifestyle\"],\"xaxis\":\"x\",\"y\":[8],\"yaxis\":\"y\",\"type\":\"bar\"},{\"alignmentgroup\":\"True\",\"hovertemplate\":\"Sub Category=newselection2020<br>Category=%{x}<br>Values=%{y}<extra></extra>\",\"legendgroup\":\"newselection2020\",\"marker\":{\"color\":\"#B6E880\",\"pattern\":{\"shape\":\"\"}},\"name\":\"newselection2020\",\"offsetgroup\":\"newselection2020\",\"orientation\":\"v\",\"showlegend\":true,\"textposition\":\"auto\",\"x\":[\"news\"],\"xaxis\":\"x\",\"y\":[8],\"yaxis\":\"y\",\"type\":\"bar\"},{\"alignmentgroup\":\"True\",\"hovertemplate\":\"Sub Category=ads-latingrammys<br>Category=%{x}<br>Values=%{y}<extra></extra>\",\"legendgroup\":\"ads-latingrammys\",\"marker\":{\"color\":\"#FF97FF\",\"pattern\":{\"shape\":\"\"}},\"name\":\"ads-latingrammys\",\"offsetgroup\":\"ads-latingrammys\",\"orientation\":\"v\",\"showlegend\":true,\"textposition\":\"auto\",\"x\":[\"music\"],\"xaxis\":\"x\",\"y\":[7],\"yaxis\":\"y\",\"type\":\"bar\"},{\"alignmentgroup\":\"True\",\"hovertemplate\":\"Sub Category=autosvideonew<br>Category=%{x}<br>Values=%{y}<extra></extra>\",\"legendgroup\":\"autosvideonew\",\"marker\":{\"color\":\"#FECB52\",\"pattern\":{\"shape\":\"\"}},\"name\":\"autosvideonew\",\"offsetgroup\":\"autosvideonew\",\"orientation\":\"v\",\"showlegend\":true,\"textposition\":\"auto\",\"x\":[\"autos\"],\"xaxis\":\"x\",\"y\":[7],\"yaxis\":\"y\",\"type\":\"bar\"},{\"alignmentgroup\":\"True\",\"hovertemplate\":\"Sub Category=weight-loss<br>Category=%{x}<br>Values=%{y}<extra></extra>\",\"legendgroup\":\"weight-loss\",\"marker\":{\"color\":\"#636efa\",\"pattern\":{\"shape\":\"\"}},\"name\":\"weight-loss\",\"offsetgroup\":\"weight-loss\",\"orientation\":\"v\",\"showlegend\":true,\"textposition\":\"auto\",\"x\":[\"health\"],\"xaxis\":\"x\",\"y\":[6],\"yaxis\":\"y\",\"type\":\"bar\"},{\"alignmentgroup\":\"True\",\"hovertemplate\":\"Sub Category=autoshybrids<br>Category=%{x}<br>Values=%{y}<extra></extra>\",\"legendgroup\":\"autoshybrids\",\"marker\":{\"color\":\"#EF553B\",\"pattern\":{\"shape\":\"\"}},\"name\":\"autoshybrids\",\"offsetgroup\":\"autoshybrids\",\"orientation\":\"v\",\"showlegend\":true,\"textposition\":\"auto\",\"x\":[\"autos\"],\"xaxis\":\"x\",\"y\":[6],\"yaxis\":\"y\",\"type\":\"bar\"},{\"alignmentgroup\":\"True\",\"hovertemplate\":\"Sub Category=ustravel<br>Category=%{x}<br>Values=%{y}<extra></extra>\",\"legendgroup\":\"ustravel\",\"marker\":{\"color\":\"#00cc96\",\"pattern\":{\"shape\":\"\"}},\"name\":\"ustravel\",\"offsetgroup\":\"ustravel\",\"orientation\":\"v\",\"showlegend\":true,\"textposition\":\"auto\",\"x\":[\"travel\"],\"xaxis\":\"x\",\"y\":[6],\"yaxis\":\"y\",\"type\":\"bar\"},{\"alignmentgroup\":\"True\",\"hovertemplate\":\"Sub Category=autostokyo<br>Category=%{x}<br>Values=%{y}<extra></extra>\",\"legendgroup\":\"autostokyo\",\"marker\":{\"color\":\"#ab63fa\",\"pattern\":{\"shape\":\"\"}},\"name\":\"autostokyo\",\"offsetgroup\":\"autostokyo\",\"orientation\":\"v\",\"showlegend\":true,\"textposition\":\"auto\",\"x\":[\"autos\"],\"xaxis\":\"x\",\"y\":[6],\"yaxis\":\"y\",\"type\":\"bar\"},{\"alignmentgroup\":\"True\",\"hovertemplate\":\"Sub Category=movies-oscars<br>Category=%{x}<br>Values=%{y}<extra></extra>\",\"legendgroup\":\"movies-oscars\",\"marker\":{\"color\":\"#FFA15A\",\"pattern\":{\"shape\":\"\"}},\"name\":\"movies-oscars\",\"offsetgroup\":\"movies-oscars\",\"orientation\":\"v\",\"showlegend\":true,\"textposition\":\"auto\",\"x\":[\"movies\"],\"xaxis\":\"x\",\"y\":[5],\"yaxis\":\"y\",\"type\":\"bar\"},{\"alignmentgroup\":\"True\",\"hovertemplate\":\"Sub Category=tunedin<br>Category=%{x}<br>Values=%{y}<extra></extra>\",\"legendgroup\":\"tunedin\",\"marker\":{\"color\":\"#19d3f3\",\"pattern\":{\"shape\":\"\"}},\"name\":\"tunedin\",\"offsetgroup\":\"tunedin\",\"orientation\":\"v\",\"showlegend\":true,\"textposition\":\"auto\",\"x\":[\"video\"],\"xaxis\":\"x\",\"y\":[5],\"yaxis\":\"y\",\"type\":\"bar\"},{\"alignmentgroup\":\"True\",\"hovertemplate\":\"Sub Category=newsworldpolitics<br>Category=%{x}<br>Values=%{y}<extra></extra>\",\"legendgroup\":\"newsworldpolitics\",\"marker\":{\"color\":\"#FF6692\",\"pattern\":{\"shape\":\"\"}},\"name\":\"newsworldpolitics\",\"offsetgroup\":\"newsworldpolitics\",\"orientation\":\"v\",\"showlegend\":true,\"textposition\":\"auto\",\"x\":[\"news\"],\"xaxis\":\"x\",\"y\":[5],\"yaxis\":\"y\",\"type\":\"bar\"},{\"alignmentgroup\":\"True\",\"hovertemplate\":\"Sub Category=causes-green-living<br>Category=%{x}<br>Values=%{y}<extra></extra>\",\"legendgroup\":\"causes-green-living\",\"marker\":{\"color\":\"#B6E880\",\"pattern\":{\"shape\":\"\"}},\"name\":\"causes-green-living\",\"offsetgroup\":\"causes-green-living\",\"orientation\":\"v\",\"showlegend\":true,\"textposition\":\"auto\",\"x\":[\"lifestyle\"],\"xaxis\":\"x\",\"y\":[5],\"yaxis\":\"y\",\"type\":\"bar\"},{\"alignmentgroup\":\"True\",\"hovertemplate\":\"Sub Category=wonder<br>Category=%{x}<br>Values=%{y}<extra></extra>\",\"legendgroup\":\"wonder\",\"marker\":{\"color\":\"#FF97FF\",\"pattern\":{\"shape\":\"\"}},\"name\":\"wonder\",\"offsetgroup\":\"wonder\",\"orientation\":\"v\",\"showlegend\":true,\"textposition\":\"auto\",\"x\":[\"video\"],\"xaxis\":\"x\",\"y\":[5],\"yaxis\":\"y\",\"type\":\"bar\"},{\"alignmentgroup\":\"True\",\"hovertemplate\":\"Sub Category=internationaltravel<br>Category=%{x}<br>Values=%{y}<extra></extra>\",\"legendgroup\":\"internationaltravel\",\"marker\":{\"color\":\"#FECB52\",\"pattern\":{\"shape\":\"\"}},\"name\":\"internationaltravel\",\"offsetgroup\":\"internationaltravel\",\"orientation\":\"v\",\"showlegend\":true,\"textposition\":\"auto\",\"x\":[\"travel\"],\"xaxis\":\"x\",\"y\":[5],\"yaxis\":\"y\",\"type\":\"bar\"},{\"alignmentgroup\":\"True\",\"hovertemplate\":\"Sub Category=causes-animals<br>Category=%{x}<br>Values=%{y}<extra></extra>\",\"legendgroup\":\"causes-animals\",\"marker\":{\"color\":\"#636efa\",\"pattern\":{\"shape\":\"\"}},\"name\":\"causes-animals\",\"offsetgroup\":\"causes-animals\",\"orientation\":\"v\",\"showlegend\":true,\"textposition\":\"auto\",\"x\":[\"lifestyle\"],\"xaxis\":\"x\",\"y\":[5],\"yaxis\":\"y\",\"type\":\"bar\"},{\"alignmentgroup\":\"True\",\"hovertemplate\":\"Sub Category=lifestyleshopping<br>Category=%{x}<br>Values=%{y}<extra></extra>\",\"legendgroup\":\"lifestyleshopping\",\"marker\":{\"color\":\"#EF553B\",\"pattern\":{\"shape\":\"\"}},\"name\":\"lifestyleshopping\",\"offsetgroup\":\"lifestyleshopping\",\"orientation\":\"v\",\"showlegend\":true,\"textposition\":\"auto\",\"x\":[\"lifestyle\"],\"xaxis\":\"x\",\"y\":[5],\"yaxis\":\"y\",\"type\":\"bar\"},{\"alignmentgroup\":\"True\",\"hovertemplate\":\"Sub Category=people-places<br>Category=%{x}<br>Values=%{y}<extra></extra>\",\"legendgroup\":\"people-places\",\"marker\":{\"color\":\"#00cc96\",\"pattern\":{\"shape\":\"\"}},\"name\":\"people-places\",\"offsetgroup\":\"people-places\",\"orientation\":\"v\",\"showlegend\":true,\"textposition\":\"auto\",\"x\":[\"kids\"],\"xaxis\":\"x\",\"y\":[5],\"yaxis\":\"y\",\"type\":\"bar\"},{\"alignmentgroup\":\"True\",\"hovertemplate\":\"Sub Category=music-grammys<br>Category=%{x}<br>Values=%{y}<extra></extra>\",\"legendgroup\":\"music-grammys\",\"marker\":{\"color\":\"#ab63fa\",\"pattern\":{\"shape\":\"\"}},\"name\":\"music-grammys\",\"offsetgroup\":\"music-grammys\",\"orientation\":\"v\",\"showlegend\":true,\"textposition\":\"auto\",\"x\":[\"music\"],\"xaxis\":\"x\",\"y\":[4],\"yaxis\":\"y\",\"type\":\"bar\"},{\"alignmentgroup\":\"True\",\"hovertemplate\":\"Sub Category=finance-mutual-funds<br>Category=%{x}<br>Values=%{y}<extra></extra>\",\"legendgroup\":\"finance-mutual-funds\",\"marker\":{\"color\":\"#FFA15A\",\"pattern\":{\"shape\":\"\"}},\"name\":\"finance-mutual-funds\",\"offsetgroup\":\"finance-mutual-funds\",\"orientation\":\"v\",\"showlegend\":true,\"textposition\":\"auto\",\"x\":[\"finance\"],\"xaxis\":\"x\",\"y\":[4],\"yaxis\":\"y\",\"type\":\"bar\"},{\"alignmentgroup\":\"True\",\"hovertemplate\":\"Sub Category=fun<br>Category=%{x}<br>Values=%{y}<extra></extra>\",\"legendgroup\":\"fun\",\"marker\":{\"color\":\"#19d3f3\",\"pattern\":{\"shape\":\"\"}},\"name\":\"fun\",\"offsetgroup\":\"fun\",\"orientation\":\"v\",\"showlegend\":true,\"textposition\":\"auto\",\"x\":[\"kids\"],\"xaxis\":\"x\",\"y\":[4],\"yaxis\":\"y\",\"type\":\"bar\"},{\"alignmentgroup\":\"True\",\"hovertemplate\":\"Sub Category=basketball_wnba<br>Category=%{x}<br>Values=%{y}<extra></extra>\",\"legendgroup\":\"basketball_wnba\",\"marker\":{\"color\":\"#FF6692\",\"pattern\":{\"shape\":\"\"}},\"name\":\"basketball_wnba\",\"offsetgroup\":\"basketball_wnba\",\"orientation\":\"v\",\"showlegend\":true,\"textposition\":\"auto\",\"x\":[\"sports\"],\"xaxis\":\"x\",\"y\":[4],\"yaxis\":\"y\",\"type\":\"bar\"},{\"alignmentgroup\":\"True\",\"hovertemplate\":\"Sub Category=causes-food-insecurity<br>Category=%{x}<br>Values=%{y}<extra></extra>\",\"legendgroup\":\"causes-food-insecurity\",\"marker\":{\"color\":\"#B6E880\",\"pattern\":{\"shape\":\"\"}},\"name\":\"causes-food-insecurity\",\"offsetgroup\":\"causes-food-insecurity\",\"orientation\":\"v\",\"showlegend\":true,\"textposition\":\"auto\",\"x\":[\"foodanddrink\"],\"xaxis\":\"x\",\"y\":[4],\"yaxis\":\"y\",\"type\":\"bar\"},{\"alignmentgroup\":\"True\",\"hovertemplate\":\"Sub Category=travel-adventure-travel<br>Category=%{x}<br>Values=%{y}<extra></extra>\",\"legendgroup\":\"travel-adventure-travel\",\"marker\":{\"color\":\"#FF97FF\",\"pattern\":{\"shape\":\"\"}},\"name\":\"travel-adventure-travel\",\"offsetgroup\":\"travel-adventure-travel\",\"orientation\":\"v\",\"showlegend\":true,\"textposition\":\"auto\",\"x\":[\"travel\"],\"xaxis\":\"x\",\"y\":[4],\"yaxis\":\"y\",\"type\":\"bar\"},{\"alignmentgroup\":\"True\",\"hovertemplate\":\"Sub Category=sports_news<br>Category=%{x}<br>Values=%{y}<extra></extra>\",\"legendgroup\":\"sports_news\",\"marker\":{\"color\":\"#FECB52\",\"pattern\":{\"shape\":\"\"}},\"name\":\"sports_news\",\"offsetgroup\":\"sports_news\",\"orientation\":\"v\",\"showlegend\":true,\"textposition\":\"auto\",\"x\":[\"sports\"],\"xaxis\":\"x\",\"y\":[4],\"yaxis\":\"y\",\"type\":\"bar\"},{\"alignmentgroup\":\"True\",\"hovertemplate\":\"Sub Category=tv-golden-globes<br>Category=%{x}<br>Values=%{y}<extra></extra>\",\"legendgroup\":\"tv-golden-globes\",\"marker\":{\"color\":\"#636efa\",\"pattern\":{\"shape\":\"\"}},\"name\":\"tv-golden-globes\",\"offsetgroup\":\"tv-golden-globes\",\"orientation\":\"v\",\"showlegend\":true,\"textposition\":\"auto\",\"x\":[\"tv\"],\"xaxis\":\"x\",\"y\":[4],\"yaxis\":\"y\",\"type\":\"bar\"},{\"alignmentgroup\":\"True\",\"hovertemplate\":\"Sub Category=music-reviews<br>Category=%{x}<br>Values=%{y}<extra></extra>\",\"legendgroup\":\"music-reviews\",\"marker\":{\"color\":\"#EF553B\",\"pattern\":{\"shape\":\"\"}},\"name\":\"music-reviews\",\"offsetgroup\":\"music-reviews\",\"orientation\":\"v\",\"showlegend\":true,\"textposition\":\"auto\",\"x\":[\"music\"],\"xaxis\":\"x\",\"y\":[4],\"yaxis\":\"y\",\"type\":\"bar\"},{\"alignmentgroup\":\"True\",\"hovertemplate\":\"Sub Category=reviews<br>Category=%{x}<br>Values=%{y}<extra></extra>\",\"legendgroup\":\"reviews\",\"marker\":{\"color\":\"#00cc96\",\"pattern\":{\"shape\":\"\"}},\"name\":\"reviews\",\"offsetgroup\":\"reviews\",\"orientation\":\"v\",\"showlegend\":true,\"textposition\":\"auto\",\"x\":[\"movies\"],\"xaxis\":\"x\",\"y\":[4],\"yaxis\":\"y\",\"type\":\"bar\"},{\"alignmentgroup\":\"True\",\"hovertemplate\":\"Sub Category=shop-home-goods<br>Category=%{x}<br>Values=%{y}<extra></extra>\",\"legendgroup\":\"shop-home-goods\",\"marker\":{\"color\":\"#ab63fa\",\"pattern\":{\"shape\":\"\"}},\"name\":\"shop-home-goods\",\"offsetgroup\":\"shop-home-goods\",\"orientation\":\"v\",\"showlegend\":true,\"textposition\":\"auto\",\"x\":[\"lifestyle\"],\"xaxis\":\"x\",\"y\":[3],\"yaxis\":\"y\",\"type\":\"bar\"},{\"alignmentgroup\":\"True\",\"hovertemplate\":\"Sub Category=autosreview<br>Category=%{x}<br>Values=%{y}<extra></extra>\",\"legendgroup\":\"autosreview\",\"marker\":{\"color\":\"#FFA15A\",\"pattern\":{\"shape\":\"\"}},\"name\":\"autosreview\",\"offsetgroup\":\"autosreview\",\"orientation\":\"v\",\"showlegend\":true,\"textposition\":\"auto\",\"x\":[\"autos\"],\"xaxis\":\"x\",\"y\":[3],\"yaxis\":\"y\",\"type\":\"bar\"},{\"alignmentgroup\":\"True\",\"hovertemplate\":\"Sub Category=downtime<br>Category=%{x}<br>Values=%{y}<extra></extra>\",\"legendgroup\":\"downtime\",\"marker\":{\"color\":\"#19d3f3\",\"pattern\":{\"shape\":\"\"}},\"name\":\"downtime\",\"offsetgroup\":\"downtime\",\"orientation\":\"v\",\"showlegend\":true,\"textposition\":\"auto\",\"x\":[\"video\"],\"xaxis\":\"x\",\"y\":[3],\"yaxis\":\"y\",\"type\":\"bar\"},{\"alignmentgroup\":\"True\",\"hovertemplate\":\"Sub Category=autospassenger<br>Category=%{x}<br>Values=%{y}<extra></extra>\",\"legendgroup\":\"autospassenger\",\"marker\":{\"color\":\"#FF6692\",\"pattern\":{\"shape\":\"\"}},\"name\":\"autospassenger\",\"offsetgroup\":\"autospassenger\",\"orientation\":\"v\",\"showlegend\":true,\"textposition\":\"auto\",\"x\":[\"autos\"],\"xaxis\":\"x\",\"y\":[3],\"yaxis\":\"y\",\"type\":\"bar\"},{\"alignmentgroup\":\"True\",\"hovertemplate\":\"Sub Category=autosvideos<br>Category=%{x}<br>Values=%{y}<extra></extra>\",\"legendgroup\":\"autosvideos\",\"marker\":{\"color\":\"#B6E880\",\"pattern\":{\"shape\":\"\"}},\"name\":\"autosvideos\",\"offsetgroup\":\"autosvideos\",\"orientation\":\"v\",\"showlegend\":true,\"textposition\":\"auto\",\"x\":[\"autos\"],\"xaxis\":\"x\",\"y\":[3],\"yaxis\":\"y\",\"type\":\"bar\"},{\"alignmentgroup\":\"True\",\"hovertemplate\":\"Sub Category=foodrecipes<br>Category=%{x}<br>Values=%{y}<extra></extra>\",\"legendgroup\":\"foodrecipes\",\"marker\":{\"color\":\"#FF97FF\",\"pattern\":{\"shape\":\"\"}},\"name\":\"foodrecipes\",\"offsetgroup\":\"foodrecipes\",\"orientation\":\"v\",\"showlegend\":true,\"textposition\":\"auto\",\"x\":[\"foodanddrink\"],\"xaxis\":\"x\",\"y\":[3],\"yaxis\":\"y\",\"type\":\"bar\"},{\"alignmentgroup\":\"True\",\"hovertemplate\":\"Sub Category=cooking<br>Category=%{x}<br>Values=%{y}<extra></extra>\",\"legendgroup\":\"cooking\",\"marker\":{\"color\":\"#FECB52\",\"pattern\":{\"shape\":\"\"}},\"name\":\"cooking\",\"offsetgroup\":\"cooking\",\"orientation\":\"v\",\"showlegend\":true,\"textposition\":\"auto\",\"x\":[\"foodanddrink\"],\"xaxis\":\"x\",\"y\":[3],\"yaxis\":\"y\",\"type\":\"bar\"},{\"alignmentgroup\":\"True\",\"hovertemplate\":\"Sub Category=middleeast-top-stories<br>Category=%{x}<br>Values=%{y}<extra></extra>\",\"legendgroup\":\"middleeast-top-stories\",\"marker\":{\"color\":\"#636efa\",\"pattern\":{\"shape\":\"\"}},\"name\":\"middleeast-top-stories\",\"offsetgroup\":\"middleeast-top-stories\",\"orientation\":\"v\",\"showlegend\":true,\"textposition\":\"auto\",\"x\":[\"middleeast\"],\"xaxis\":\"x\",\"y\":[2],\"yaxis\":\"y\",\"type\":\"bar\"},{\"alignmentgroup\":\"True\",\"hovertemplate\":\"Sub Category=cocktails<br>Category=%{x}<br>Values=%{y}<extra></extra>\",\"legendgroup\":\"cocktails\",\"marker\":{\"color\":\"#EF553B\",\"pattern\":{\"shape\":\"\"}},\"name\":\"cocktails\",\"offsetgroup\":\"cocktails\",\"orientation\":\"v\",\"showlegend\":true,\"textposition\":\"auto\",\"x\":[\"foodanddrink\"],\"xaxis\":\"x\",\"y\":[2],\"yaxis\":\"y\",\"type\":\"bar\"},{\"alignmentgroup\":\"True\",\"hovertemplate\":\"Sub Category=holidays<br>Category=%{x}<br>Values=%{y}<extra></extra>\",\"legendgroup\":\"holidays\",\"marker\":{\"color\":\"#00cc96\",\"pattern\":{\"shape\":\"\"}},\"name\":\"holidays\",\"offsetgroup\":\"holidays\",\"orientation\":\"v\",\"showlegend\":true,\"textposition\":\"auto\",\"x\":[\"lifestyle\",\"travel\"],\"xaxis\":\"x\",\"y\":[2,2],\"yaxis\":\"y\",\"type\":\"bar\"},{\"alignmentgroup\":\"True\",\"hovertemplate\":\"Sub Category=causes-environment<br>Category=%{x}<br>Values=%{y}<extra></extra>\",\"legendgroup\":\"causes-environment\",\"marker\":{\"color\":\"#ab63fa\",\"pattern\":{\"shape\":\"\"}},\"name\":\"causes-environment\",\"offsetgroup\":\"causes-environment\",\"orientation\":\"v\",\"showlegend\":true,\"textposition\":\"auto\",\"x\":[\"news\"],\"xaxis\":\"x\",\"y\":[2],\"yaxis\":\"y\",\"type\":\"bar\"},{\"alignmentgroup\":\"True\",\"hovertemplate\":\"Sub Category=indepth<br>Category=%{x}<br>Values=%{y}<extra></extra>\",\"legendgroup\":\"indepth\",\"marker\":{\"color\":\"#FFA15A\",\"pattern\":{\"shape\":\"\"}},\"name\":\"indepth\",\"offsetgroup\":\"indepth\",\"orientation\":\"v\",\"showlegend\":true,\"textposition\":\"auto\",\"x\":[\"news\"],\"xaxis\":\"x\",\"y\":[2],\"yaxis\":\"y\",\"type\":\"bar\"},{\"alignmentgroup\":\"True\",\"hovertemplate\":\"Sub Category=healthagingwell<br>Category=%{x}<br>Values=%{y}<extra></extra>\",\"legendgroup\":\"healthagingwell\",\"marker\":{\"color\":\"#19d3f3\",\"pattern\":{\"shape\":\"\"}},\"name\":\"healthagingwell\",\"offsetgroup\":\"healthagingwell\",\"orientation\":\"v\",\"showlegend\":true,\"textposition\":\"auto\",\"x\":[\"health\"],\"xaxis\":\"x\",\"y\":[2],\"yaxis\":\"y\",\"type\":\"bar\"},{\"alignmentgroup\":\"True\",\"hovertemplate\":\"Sub Category=shop-books-movies-tv<br>Category=%{x}<br>Values=%{y}<extra></extra>\",\"legendgroup\":\"shop-books-movies-tv\",\"marker\":{\"color\":\"#FF6692\",\"pattern\":{\"shape\":\"\"}},\"name\":\"shop-books-movies-tv\",\"offsetgroup\":\"shop-books-movies-tv\",\"orientation\":\"v\",\"showlegend\":true,\"textposition\":\"auto\",\"x\":[\"lifestyle\"],\"xaxis\":\"x\",\"y\":[2],\"yaxis\":\"y\",\"type\":\"bar\"},{\"alignmentgroup\":\"True\",\"hovertemplate\":\"Sub Category=sports<br>Category=%{x}<br>Values=%{y}<extra></extra>\",\"legendgroup\":\"sports\",\"marker\":{\"color\":\"#B6E880\",\"pattern\":{\"shape\":\"\"}},\"name\":\"sports\",\"offsetgroup\":\"sports\",\"orientation\":\"v\",\"showlegend\":true,\"textposition\":\"auto\",\"x\":[\"video\"],\"xaxis\":\"x\",\"y\":[2],\"yaxis\":\"y\",\"type\":\"bar\"},{\"alignmentgroup\":\"True\",\"hovertemplate\":\"Sub Category=autoscartech<br>Category=%{x}<br>Values=%{y}<extra></extra>\",\"legendgroup\":\"autoscartech\",\"marker\":{\"color\":\"#FF97FF\",\"pattern\":{\"shape\":\"\"}},\"name\":\"autoscartech\",\"offsetgroup\":\"autoscartech\",\"orientation\":\"v\",\"showlegend\":true,\"textposition\":\"auto\",\"x\":[\"autos\"],\"xaxis\":\"x\",\"y\":[2],\"yaxis\":\"y\",\"type\":\"bar\"},{\"alignmentgroup\":\"True\",\"hovertemplate\":\"Sub Category=seasonal<br>Category=%{x}<br>Values=%{y}<extra></extra>\",\"legendgroup\":\"seasonal\",\"marker\":{\"color\":\"#FECB52\",\"pattern\":{\"shape\":\"\"}},\"name\":\"seasonal\",\"offsetgroup\":\"seasonal\",\"orientation\":\"v\",\"showlegend\":true,\"textposition\":\"auto\",\"x\":[\"foodanddrink\"],\"xaxis\":\"x\",\"y\":[2],\"yaxis\":\"y\",\"type\":\"bar\"},{\"alignmentgroup\":\"True\",\"hovertemplate\":\"Sub Category=technologyinvesting<br>Category=%{x}<br>Values=%{y}<extra></extra>\",\"legendgroup\":\"technologyinvesting\",\"marker\":{\"color\":\"#636efa\",\"pattern\":{\"shape\":\"\"}},\"name\":\"technologyinvesting\",\"offsetgroup\":\"technologyinvesting\",\"orientation\":\"v\",\"showlegend\":true,\"textposition\":\"auto\",\"x\":[\"finance\"],\"xaxis\":\"x\",\"y\":[2],\"yaxis\":\"y\",\"type\":\"bar\"},{\"alignmentgroup\":\"True\",\"hovertemplate\":\"Sub Category=photos<br>Category=%{x}<br>Values=%{y}<extra></extra>\",\"legendgroup\":\"photos\",\"marker\":{\"color\":\"#EF553B\",\"pattern\":{\"shape\":\"\"}},\"name\":\"photos\",\"offsetgroup\":\"photos\",\"orientation\":\"v\",\"showlegend\":true,\"textposition\":\"auto\",\"x\":[\"news\"],\"xaxis\":\"x\",\"y\":[2],\"yaxis\":\"y\",\"type\":\"bar\"},{\"alignmentgroup\":\"True\",\"hovertemplate\":\"Sub Category=career-news<br>Category=%{x}<br>Values=%{y}<extra></extra>\",\"legendgroup\":\"career-news\",\"marker\":{\"color\":\"#00cc96\",\"pattern\":{\"shape\":\"\"}},\"name\":\"career-news\",\"offsetgroup\":\"career-news\",\"orientation\":\"v\",\"showlegend\":true,\"textposition\":\"auto\",\"x\":[\"finance\"],\"xaxis\":\"x\",\"y\":[2],\"yaxis\":\"y\",\"type\":\"bar\"},{\"alignmentgroup\":\"True\",\"hovertemplate\":\"Sub Category=travel-videos<br>Category=%{x}<br>Values=%{y}<extra></extra>\",\"legendgroup\":\"travel-videos\",\"marker\":{\"color\":\"#ab63fa\",\"pattern\":{\"shape\":\"\"}},\"name\":\"travel-videos\",\"offsetgroup\":\"travel-videos\",\"orientation\":\"v\",\"showlegend\":true,\"textposition\":\"auto\",\"x\":[\"travel\"],\"xaxis\":\"x\",\"y\":[2],\"yaxis\":\"y\",\"type\":\"bar\"},{\"alignmentgroup\":\"True\",\"hovertemplate\":\"Sub Category=yearinoffbeatgoodnews<br>Category=%{x}<br>Values=%{y}<extra></extra>\",\"legendgroup\":\"yearinoffbeatgoodnews\",\"marker\":{\"color\":\"#FFA15A\",\"pattern\":{\"shape\":\"\"}},\"name\":\"yearinoffbeatgoodnews\",\"offsetgroup\":\"yearinoffbeatgoodnews\",\"orientation\":\"v\",\"showlegend\":true,\"textposition\":\"auto\",\"x\":[\"news\"],\"xaxis\":\"x\",\"y\":[2],\"yaxis\":\"y\",\"type\":\"bar\"},{\"alignmentgroup\":\"True\",\"hovertemplate\":\"Sub Category=tv-reviews<br>Category=%{x}<br>Values=%{y}<extra></extra>\",\"legendgroup\":\"tv-reviews\",\"marker\":{\"color\":\"#19d3f3\",\"pattern\":{\"shape\":\"\"}},\"name\":\"tv-reviews\",\"offsetgroup\":\"tv-reviews\",\"orientation\":\"v\",\"showlegend\":true,\"textposition\":\"auto\",\"x\":[\"tv\"],\"xaxis\":\"x\",\"y\":[2],\"yaxis\":\"y\",\"type\":\"bar\"},{\"alignmentgroup\":\"True\",\"hovertemplate\":\"Sub Category=causes-military-appreciation<br>Category=%{x}<br>Values=%{y}<extra></extra>\",\"legendgroup\":\"causes-military-appreciation\",\"marker\":{\"color\":\"#FF6692\",\"pattern\":{\"shape\":\"\"}},\"name\":\"causes-military-appreciation\",\"offsetgroup\":\"causes-military-appreciation\",\"orientation\":\"v\",\"showlegend\":true,\"textposition\":\"auto\",\"x\":[\"news\"],\"xaxis\":\"x\",\"y\":[1],\"yaxis\":\"y\",\"type\":\"bar\"},{\"alignmentgroup\":\"True\",\"hovertemplate\":\"Sub Category=entertainmenttv<br>Category=%{x}<br>Values=%{y}<extra></extra>\",\"legendgroup\":\"entertainmenttv\",\"marker\":{\"color\":\"#B6E880\",\"pattern\":{\"shape\":\"\"}},\"name\":\"entertainmenttv\",\"offsetgroup\":\"entertainmenttv\",\"orientation\":\"v\",\"showlegend\":true,\"textposition\":\"auto\",\"x\":[\"entertainment\"],\"xaxis\":\"x\",\"y\":[1],\"yaxis\":\"y\",\"type\":\"bar\"},{\"alignmentgroup\":\"True\",\"hovertemplate\":\"Sub Category=olympics-videos<br>Category=%{x}<br>Values=%{y}<extra></extra>\",\"legendgroup\":\"olympics-videos\",\"marker\":{\"color\":\"#FF97FF\",\"pattern\":{\"shape\":\"\"}},\"name\":\"olympics-videos\",\"offsetgroup\":\"olympics-videos\",\"orientation\":\"v\",\"showlegend\":true,\"textposition\":\"auto\",\"x\":[\"sports\"],\"xaxis\":\"x\",\"y\":[1],\"yaxis\":\"y\",\"type\":\"bar\"},{\"alignmentgroup\":\"True\",\"hovertemplate\":\"Sub Category=empowering-the-planet<br>Category=%{x}<br>Values=%{y}<extra></extra>\",\"legendgroup\":\"empowering-the-planet\",\"marker\":{\"color\":\"#FECB52\",\"pattern\":{\"shape\":\"\"}},\"name\":\"empowering-the-planet\",\"offsetgroup\":\"empowering-the-planet\",\"orientation\":\"v\",\"showlegend\":true,\"textposition\":\"auto\",\"x\":[\"news\"],\"xaxis\":\"x\",\"y\":[1],\"yaxis\":\"y\",\"type\":\"bar\"},{\"alignmentgroup\":\"True\",\"hovertemplate\":\"Sub Category=finance-startinvesting<br>Category=%{x}<br>Values=%{y}<extra></extra>\",\"legendgroup\":\"finance-startinvesting\",\"marker\":{\"color\":\"#636efa\",\"pattern\":{\"shape\":\"\"}},\"name\":\"finance-startinvesting\",\"offsetgroup\":\"finance-startinvesting\",\"orientation\":\"v\",\"showlegend\":true,\"textposition\":\"auto\",\"x\":[\"finance\"],\"xaxis\":\"x\",\"y\":[1],\"yaxis\":\"y\",\"type\":\"bar\"},{\"alignmentgroup\":\"True\",\"hovertemplate\":\"Sub Category=causes-poverty<br>Category=%{x}<br>Values=%{y}<extra></extra>\",\"legendgroup\":\"causes-poverty\",\"marker\":{\"color\":\"#EF553B\",\"pattern\":{\"shape\":\"\"}},\"name\":\"causes-poverty\",\"offsetgroup\":\"causes-poverty\",\"orientation\":\"v\",\"showlegend\":true,\"textposition\":\"auto\",\"x\":[\"news\"],\"xaxis\":\"x\",\"y\":[1],\"yaxis\":\"y\",\"type\":\"bar\"},{\"alignmentgroup\":\"True\",\"hovertemplate\":\"Sub Category=healthyliving<br>Category=%{x}<br>Values=%{y}<extra></extra>\",\"legendgroup\":\"healthyliving\",\"marker\":{\"color\":\"#00cc96\",\"pattern\":{\"shape\":\"\"}},\"name\":\"healthyliving\",\"offsetgroup\":\"healthyliving\",\"orientation\":\"v\",\"showlegend\":true,\"textposition\":\"auto\",\"x\":[\"health\"],\"xaxis\":\"x\",\"y\":[1],\"yaxis\":\"y\",\"type\":\"bar\"},{\"alignmentgroup\":\"True\",\"hovertemplate\":\"Sub Category=halloween<br>Category=%{x}<br>Values=%{y}<extra></extra>\",\"legendgroup\":\"halloween\",\"marker\":{\"color\":\"#ab63fa\",\"pattern\":{\"shape\":\"\"}},\"name\":\"halloween\",\"offsetgroup\":\"halloween\",\"orientation\":\"v\",\"showlegend\":true,\"textposition\":\"auto\",\"x\":[\"lifestyle\"],\"xaxis\":\"x\",\"y\":[1],\"yaxis\":\"y\",\"type\":\"bar\"},{\"alignmentgroup\":\"True\",\"hovertemplate\":\"Sub Category=lifestyle-wedding<br>Category=%{x}<br>Values=%{y}<extra></extra>\",\"legendgroup\":\"lifestyle-wedding\",\"marker\":{\"color\":\"#FFA15A\",\"pattern\":{\"shape\":\"\"}},\"name\":\"lifestyle-wedding\",\"offsetgroup\":\"lifestyle-wedding\",\"orientation\":\"v\",\"showlegend\":true,\"textposition\":\"auto\",\"x\":[\"lifestyle\"],\"xaxis\":\"x\",\"y\":[1],\"yaxis\":\"y\",\"type\":\"bar\"},{\"alignmentgroup\":\"True\",\"hovertemplate\":\"Sub Category=games<br>Category=%{x}<br>Values=%{y}<extra></extra>\",\"legendgroup\":\"games\",\"marker\":{\"color\":\"#19d3f3\",\"pattern\":{\"shape\":\"\"}},\"name\":\"games\",\"offsetgroup\":\"games\",\"orientation\":\"v\",\"showlegend\":true,\"textposition\":\"auto\",\"x\":[\"entertainment\"],\"xaxis\":\"x\",\"y\":[1],\"yaxis\":\"y\",\"type\":\"bar\"},{\"alignmentgroup\":\"True\",\"hovertemplate\":\"Sub Category=health-cancer<br>Category=%{x}<br>Values=%{y}<extra></extra>\",\"legendgroup\":\"health-cancer\",\"marker\":{\"color\":\"#FF6692\",\"pattern\":{\"shape\":\"\"}},\"name\":\"health-cancer\",\"offsetgroup\":\"health-cancer\",\"orientation\":\"v\",\"showlegend\":true,\"textposition\":\"auto\",\"x\":[\"health\"],\"xaxis\":\"x\",\"y\":[1],\"yaxis\":\"y\",\"type\":\"bar\"},{\"alignmentgroup\":\"True\",\"hovertemplate\":\"Sub Category=lifestylehoroscopefish<br>Category=%{x}<br>Values=%{y}<extra></extra>\",\"legendgroup\":\"lifestylehoroscopefish\",\"marker\":{\"color\":\"#B6E880\",\"pattern\":{\"shape\":\"\"}},\"name\":\"lifestylehoroscopefish\",\"offsetgroup\":\"lifestylehoroscopefish\",\"orientation\":\"v\",\"showlegend\":true,\"textposition\":\"auto\",\"x\":[\"lifestyle\"],\"xaxis\":\"x\",\"y\":[1],\"yaxis\":\"y\",\"type\":\"bar\"},{\"alignmentgroup\":\"True\",\"hovertemplate\":\"Sub Category=mmaufc<br>Category=%{x}<br>Values=%{y}<extra></extra>\",\"legendgroup\":\"mmaufc\",\"marker\":{\"color\":\"#FF97FF\",\"pattern\":{\"shape\":\"\"}},\"name\":\"mmaufc\",\"offsetgroup\":\"mmaufc\",\"orientation\":\"v\",\"showlegend\":true,\"textposition\":\"auto\",\"x\":[\"sports\"],\"xaxis\":\"x\",\"y\":[1],\"yaxis\":\"y\",\"type\":\"bar\"},{\"alignmentgroup\":\"True\",\"hovertemplate\":\"Sub Category=finance-auto-insurance<br>Category=%{x}<br>Values=%{y}<extra></extra>\",\"legendgroup\":\"finance-auto-insurance\",\"marker\":{\"color\":\"#FECB52\",\"pattern\":{\"shape\":\"\"}},\"name\":\"finance-auto-insurance\",\"offsetgroup\":\"finance-auto-insurance\",\"orientation\":\"v\",\"showlegend\":true,\"textposition\":\"auto\",\"x\":[\"finance\"],\"xaxis\":\"x\",\"y\":[1],\"yaxis\":\"y\",\"type\":\"bar\"},{\"alignmentgroup\":\"True\",\"hovertemplate\":\"Sub Category=hollywood<br>Category=%{x}<br>Values=%{y}<extra></extra>\",\"legendgroup\":\"hollywood\",\"marker\":{\"color\":\"#636efa\",\"pattern\":{\"shape\":\"\"}},\"name\":\"hollywood\",\"offsetgroup\":\"hollywood\",\"orientation\":\"v\",\"showlegend\":true,\"textposition\":\"auto\",\"x\":[\"entertainment\"],\"xaxis\":\"x\",\"y\":[1],\"yaxis\":\"y\",\"type\":\"bar\"},{\"alignmentgroup\":\"True\",\"hovertemplate\":\"Sub Category=golfvideos<br>Category=%{x}<br>Values=%{y}<extra></extra>\",\"legendgroup\":\"golfvideos\",\"marker\":{\"color\":\"#EF553B\",\"pattern\":{\"shape\":\"\"}},\"name\":\"golfvideos\",\"offsetgroup\":\"golfvideos\",\"orientation\":\"v\",\"showlegend\":true,\"textposition\":\"auto\",\"x\":[\"sports\"],\"xaxis\":\"x\",\"y\":[1],\"yaxis\":\"y\",\"type\":\"bar\"},{\"alignmentgroup\":\"True\",\"hovertemplate\":\"Sub Category=tv<br>Category=%{x}<br>Values=%{y}<extra></extra>\",\"legendgroup\":\"tv\",\"marker\":{\"color\":\"#00cc96\",\"pattern\":{\"shape\":\"\"}},\"name\":\"tv\",\"offsetgroup\":\"tv\",\"orientation\":\"v\",\"showlegend\":true,\"textposition\":\"auto\",\"x\":[\"entertainment\"],\"xaxis\":\"x\",\"y\":[1],\"yaxis\":\"y\",\"type\":\"bar\"},{\"alignmentgroup\":\"True\",\"hovertemplate\":\"Sub Category=company-news<br>Category=%{x}<br>Values=%{y}<extra></extra>\",\"legendgroup\":\"company-news\",\"marker\":{\"color\":\"#ab63fa\",\"pattern\":{\"shape\":\"\"}},\"name\":\"company-news\",\"offsetgroup\":\"company-news\",\"orientation\":\"v\",\"showlegend\":true,\"textposition\":\"auto\",\"x\":[\"finance\"],\"xaxis\":\"x\",\"y\":[1],\"yaxis\":\"y\",\"type\":\"bar\"},{\"alignmentgroup\":\"True\",\"hovertemplate\":\"Sub Category=cardio<br>Category=%{x}<br>Values=%{y}<extra></extra>\",\"legendgroup\":\"cardio\",\"marker\":{\"color\":\"#FFA15A\",\"pattern\":{\"shape\":\"\"}},\"name\":\"cardio\",\"offsetgroup\":\"cardio\",\"orientation\":\"v\",\"showlegend\":true,\"textposition\":\"auto\",\"x\":[\"health\"],\"xaxis\":\"x\",\"y\":[1],\"yaxis\":\"y\",\"type\":\"bar\"},{\"alignmentgroup\":\"True\",\"hovertemplate\":\"Sub Category=baseball<br>Category=%{x}<br>Values=%{y}<extra></extra>\",\"legendgroup\":\"baseball\",\"marker\":{\"color\":\"#19d3f3\",\"pattern\":{\"shape\":\"\"}},\"name\":\"baseball\",\"offsetgroup\":\"baseball\",\"orientation\":\"v\",\"showlegend\":true,\"textposition\":\"auto\",\"x\":[\"sports\"],\"xaxis\":\"x\",\"y\":[1],\"yaxis\":\"y\",\"type\":\"bar\"},{\"alignmentgroup\":\"True\",\"hovertemplate\":\"Sub Category=northamerica-video<br>Category=%{x}<br>Values=%{y}<extra></extra>\",\"legendgroup\":\"northamerica-video\",\"marker\":{\"color\":\"#FF6692\",\"pattern\":{\"shape\":\"\"}},\"name\":\"northamerica-video\",\"offsetgroup\":\"northamerica-video\",\"orientation\":\"v\",\"showlegend\":true,\"textposition\":\"auto\",\"x\":[\"northamerica\"],\"xaxis\":\"x\",\"y\":[1],\"yaxis\":\"y\",\"type\":\"bar\"},{\"alignmentgroup\":\"True\",\"hovertemplate\":\"Sub Category=newsvideo<br>Category=%{x}<br>Values=%{y}<extra></extra>\",\"legendgroup\":\"newsvideo\",\"marker\":{\"color\":\"#B6E880\",\"pattern\":{\"shape\":\"\"}},\"name\":\"newsvideo\",\"offsetgroup\":\"newsvideo\",\"orientation\":\"v\",\"showlegend\":true,\"textposition\":\"auto\",\"x\":[\"news\"],\"xaxis\":\"x\",\"y\":[1],\"yaxis\":\"y\",\"type\":\"bar\"},{\"alignmentgroup\":\"True\",\"hovertemplate\":\"Sub Category=newstvmedia<br>Category=%{x}<br>Values=%{y}<extra></extra>\",\"legendgroup\":\"newstvmedia\",\"marker\":{\"color\":\"#FF97FF\",\"pattern\":{\"shape\":\"\"}},\"name\":\"newstvmedia\",\"offsetgroup\":\"newstvmedia\",\"orientation\":\"v\",\"showlegend\":true,\"textposition\":\"auto\",\"x\":[\"news\"],\"xaxis\":\"x\",\"y\":[1],\"yaxis\":\"y\",\"type\":\"bar\"},{\"alignmentgroup\":\"True\",\"hovertemplate\":\"Sub Category=newsrealestate<br>Category=%{x}<br>Values=%{y}<extra></extra>\",\"legendgroup\":\"newsrealestate\",\"marker\":{\"color\":\"#FECB52\",\"pattern\":{\"shape\":\"\"}},\"name\":\"newsrealestate\",\"offsetgroup\":\"newsrealestate\",\"orientation\":\"v\",\"showlegend\":true,\"textposition\":\"auto\",\"x\":[\"news\"],\"xaxis\":\"x\",\"y\":[1],\"yaxis\":\"y\",\"type\":\"bar\"},{\"alignmentgroup\":\"True\",\"hovertemplate\":\"Sub Category=newsother<br>Category=%{x}<br>Values=%{y}<extra></extra>\",\"legendgroup\":\"newsother\",\"marker\":{\"color\":\"#636efa\",\"pattern\":{\"shape\":\"\"}},\"name\":\"newsother\",\"offsetgroup\":\"newsother\",\"orientation\":\"v\",\"showlegend\":true,\"textposition\":\"auto\",\"x\":[\"news\"],\"xaxis\":\"x\",\"y\":[1],\"yaxis\":\"y\",\"type\":\"bar\"},{\"alignmentgroup\":\"True\",\"hovertemplate\":\"Sub Category=finance-home-loans<br>Category=%{x}<br>Values=%{y}<extra></extra>\",\"legendgroup\":\"finance-home-loans\",\"marker\":{\"color\":\"#EF553B\",\"pattern\":{\"shape\":\"\"}},\"name\":\"finance-home-loans\",\"offsetgroup\":\"finance-home-loans\",\"orientation\":\"v\",\"showlegend\":true,\"textposition\":\"auto\",\"x\":[\"finance\"],\"xaxis\":\"x\",\"y\":[1],\"yaxis\":\"y\",\"type\":\"bar\"},{\"alignmentgroup\":\"True\",\"hovertemplate\":\"Sub Category=finance-homesandpropertysection<br>Category=%{x}<br>Values=%{y}<extra></extra>\",\"legendgroup\":\"finance-homesandpropertysection\",\"marker\":{\"color\":\"#00cc96\",\"pattern\":{\"shape\":\"\"}},\"name\":\"finance-homesandpropertysection\",\"offsetgroup\":\"finance-homesandpropertysection\",\"orientation\":\"v\",\"showlegend\":true,\"textposition\":\"auto\",\"x\":[\"finance\"],\"xaxis\":\"x\",\"y\":[1],\"yaxis\":\"y\",\"type\":\"bar\"},{\"alignmentgroup\":\"True\",\"hovertemplate\":\"Sub Category=newsnational<br>Category=%{x}<br>Values=%{y}<extra></extra>\",\"legendgroup\":\"newsnational\",\"marker\":{\"color\":\"#ab63fa\",\"pattern\":{\"shape\":\"\"}},\"name\":\"newsnational\",\"offsetgroup\":\"newsnational\",\"orientation\":\"v\",\"showlegend\":true,\"textposition\":\"auto\",\"x\":[\"news\"],\"xaxis\":\"x\",\"y\":[1],\"yaxis\":\"y\",\"type\":\"bar\"},{\"alignmentgroup\":\"True\",\"hovertemplate\":\"Sub Category=narendramodi_opinion<br>Category=%{x}<br>Values=%{y}<extra></extra>\",\"legendgroup\":\"narendramodi_opinion\",\"marker\":{\"color\":\"#FFA15A\",\"pattern\":{\"shape\":\"\"}},\"name\":\"narendramodi_opinion\",\"offsetgroup\":\"narendramodi_opinion\",\"orientation\":\"v\",\"showlegend\":true,\"textposition\":\"auto\",\"x\":[\"news\"],\"xaxis\":\"x\",\"y\":[1],\"yaxis\":\"y\",\"type\":\"bar\"},{\"alignmentgroup\":\"True\",\"hovertemplate\":\"Sub Category=lifestylemarriage<br>Category=%{x}<br>Values=%{y}<extra></extra>\",\"legendgroup\":\"lifestylemarriage\",\"marker\":{\"color\":\"#19d3f3\",\"pattern\":{\"shape\":\"\"}},\"name\":\"lifestylemarriage\",\"offsetgroup\":\"lifestylemarriage\",\"orientation\":\"v\",\"showlegend\":true,\"textposition\":\"auto\",\"x\":[\"lifestyle\"],\"xaxis\":\"x\",\"y\":[1],\"yaxis\":\"y\",\"type\":\"bar\"},{\"alignmentgroup\":\"True\",\"hovertemplate\":\"Sub Category=relationships<br>Category=%{x}<br>Values=%{y}<extra></extra>\",\"legendgroup\":\"relationships\",\"marker\":{\"color\":\"#FF6692\",\"pattern\":{\"shape\":\"\"}},\"name\":\"relationships\",\"offsetgroup\":\"relationships\",\"orientation\":\"v\",\"showlegend\":true,\"textposition\":\"auto\",\"x\":[\"lifestyle\"],\"xaxis\":\"x\",\"y\":[1],\"yaxis\":\"y\",\"type\":\"bar\"},{\"alignmentgroup\":\"True\",\"hovertemplate\":\"Sub Category=lifestyleshoppinghomegarden<br>Category=%{x}<br>Values=%{y}<extra></extra>\",\"legendgroup\":\"lifestyleshoppinghomegarden\",\"marker\":{\"color\":\"#B6E880\",\"pattern\":{\"shape\":\"\"}},\"name\":\"lifestyleshoppinghomegarden\",\"offsetgroup\":\"lifestyleshoppinghomegarden\",\"orientation\":\"v\",\"showlegend\":true,\"textposition\":\"auto\",\"x\":[\"lifestyle\"],\"xaxis\":\"x\",\"y\":[1],\"yaxis\":\"y\",\"type\":\"bar\"},{\"alignmentgroup\":\"True\",\"hovertemplate\":\"Sub Category=tv-golden-globes-video<br>Category=%{x}<br>Values=%{y}<extra></extra>\",\"legendgroup\":\"tv-golden-globes-video\",\"marker\":{\"color\":\"#FF97FF\",\"pattern\":{\"shape\":\"\"}},\"name\":\"tv-golden-globes-video\",\"offsetgroup\":\"tv-golden-globes-video\",\"orientation\":\"v\",\"showlegend\":true,\"textposition\":\"auto\",\"x\":[\"tv\"],\"xaxis\":\"x\",\"y\":[1],\"yaxis\":\"y\",\"type\":\"bar\"},{\"alignmentgroup\":\"True\",\"hovertemplate\":\"Sub Category=celebhub<br>Category=%{x}<br>Values=%{y}<extra></extra>\",\"legendgroup\":\"celebhub\",\"marker\":{\"color\":\"#FECB52\",\"pattern\":{\"shape\":\"\"}},\"name\":\"celebhub\",\"offsetgroup\":\"celebhub\",\"orientation\":\"v\",\"showlegend\":true,\"textposition\":\"auto\",\"x\":[\"entertainment\"],\"xaxis\":\"x\",\"y\":[1],\"yaxis\":\"y\",\"type\":\"bar\"},{\"alignmentgroup\":\"True\",\"hovertemplate\":\"Sub Category=weatherfullscreenmaps<br>Category=%{x}<br>Values=%{y}<extra></extra>\",\"legendgroup\":\"weatherfullscreenmaps\",\"marker\":{\"color\":\"#636efa\",\"pattern\":{\"shape\":\"\"}},\"name\":\"weatherfullscreenmaps\",\"offsetgroup\":\"weatherfullscreenmaps\",\"orientation\":\"v\",\"showlegend\":true,\"textposition\":\"auto\",\"x\":[\"weather\"],\"xaxis\":\"x\",\"y\":[1],\"yaxis\":\"y\",\"type\":\"bar\"},{\"alignmentgroup\":\"True\",\"hovertemplate\":\"Sub Category=tennis_intl<br>Category=%{x}<br>Values=%{y}<extra></extra>\",\"legendgroup\":\"tennis_intl\",\"marker\":{\"color\":\"#EF553B\",\"pattern\":{\"shape\":\"\"}},\"name\":\"tennis_intl\",\"offsetgroup\":\"tennis_intl\",\"orientation\":\"v\",\"showlegend\":true,\"textposition\":\"auto\",\"x\":[\"sports\"],\"xaxis\":\"x\",\"y\":[1],\"yaxis\":\"y\",\"type\":\"bar\"},{\"alignmentgroup\":\"True\",\"hovertemplate\":\"Sub Category=watch<br>Category=%{x}<br>Values=%{y}<extra></extra>\",\"legendgroup\":\"watch\",\"marker\":{\"color\":\"#00cc96\",\"pattern\":{\"shape\":\"\"}},\"name\":\"watch\",\"offsetgroup\":\"watch\",\"orientation\":\"v\",\"showlegend\":true,\"textposition\":\"auto\",\"x\":[\"video\"],\"xaxis\":\"x\",\"y\":[1],\"yaxis\":\"y\",\"type\":\"bar\"},{\"alignmentgroup\":\"True\",\"hovertemplate\":\"Sub Category=autoscompact<br>Category=%{x}<br>Values=%{y}<extra></extra>\",\"legendgroup\":\"autoscompact\",\"marker\":{\"color\":\"#ab63fa\",\"pattern\":{\"shape\":\"\"}},\"name\":\"autoscompact\",\"offsetgroup\":\"autoscompact\",\"orientation\":\"v\",\"showlegend\":true,\"textposition\":\"auto\",\"x\":[\"autos\"],\"xaxis\":\"x\",\"y\":[1],\"yaxis\":\"y\",\"type\":\"bar\"},{\"alignmentgroup\":\"True\",\"hovertemplate\":\"Sub Category=autosvans<br>Category=%{x}<br>Values=%{y}<extra></extra>\",\"legendgroup\":\"autosvans\",\"marker\":{\"color\":\"#FFA15A\",\"pattern\":{\"shape\":\"\"}},\"name\":\"autosvans\",\"offsetgroup\":\"autosvans\",\"orientation\":\"v\",\"showlegend\":true,\"textposition\":\"auto\",\"x\":[\"autos\"],\"xaxis\":\"x\",\"y\":[1],\"yaxis\":\"y\",\"type\":\"bar\"},{\"alignmentgroup\":\"True\",\"hovertemplate\":\"Sub Category=autoslosangeles<br>Category=%{x}<br>Values=%{y}<extra></extra>\",\"legendgroup\":\"autoslosangeles\",\"marker\":{\"color\":\"#19d3f3\",\"pattern\":{\"shape\":\"\"}},\"name\":\"autoslosangeles\",\"offsetgroup\":\"autoslosangeles\",\"orientation\":\"v\",\"showlegend\":true,\"textposition\":\"auto\",\"x\":[\"autos\"],\"xaxis\":\"x\",\"y\":[1],\"yaxis\":\"y\",\"type\":\"bar\"},{\"alignmentgroup\":\"True\",\"hovertemplate\":\"Sub Category=traveltrivia<br>Category=%{x}<br>Values=%{y}<extra></extra>\",\"legendgroup\":\"traveltrivia\",\"marker\":{\"color\":\"#FF6692\",\"pattern\":{\"shape\":\"\"}},\"name\":\"traveltrivia\",\"offsetgroup\":\"traveltrivia\",\"orientation\":\"v\",\"showlegend\":true,\"textposition\":\"auto\",\"x\":[\"travel\"],\"xaxis\":\"x\",\"y\":[1],\"yaxis\":\"y\",\"type\":\"bar\"},{\"alignmentgroup\":\"True\",\"hovertemplate\":\"Sub Category=autosmidsize<br>Category=%{x}<br>Values=%{y}<extra></extra>\",\"legendgroup\":\"autosmidsize\",\"marker\":{\"color\":\"#B6E880\",\"pattern\":{\"shape\":\"\"}},\"name\":\"autosmidsize\",\"offsetgroup\":\"autosmidsize\",\"orientation\":\"v\",\"showlegend\":true,\"textposition\":\"auto\",\"x\":[\"autos\"],\"xaxis\":\"x\",\"y\":[1],\"yaxis\":\"y\",\"type\":\"bar\"},{\"alignmentgroup\":\"True\",\"hovertemplate\":\"Sub Category=foodanddrink<br>Category=%{x}<br>Values=%{y}<extra></extra>\",\"legendgroup\":\"foodanddrink\",\"marker\":{\"color\":\"#FF97FF\",\"pattern\":{\"shape\":\"\"}},\"name\":\"foodanddrink\",\"offsetgroup\":\"foodanddrink\",\"orientation\":\"v\",\"showlegend\":true,\"textposition\":\"auto\",\"x\":[\"video\"],\"xaxis\":\"x\",\"y\":[1],\"yaxis\":\"y\",\"type\":\"bar\"},{\"alignmentgroup\":\"True\",\"hovertemplate\":\"Sub Category=comedy<br>Category=%{x}<br>Values=%{y}<extra></extra>\",\"legendgroup\":\"comedy\",\"marker\":{\"color\":\"#FECB52\",\"pattern\":{\"shape\":\"\"}},\"name\":\"comedy\",\"offsetgroup\":\"comedy\",\"orientation\":\"v\",\"showlegend\":true,\"textposition\":\"auto\",\"x\":[\"video\"],\"xaxis\":\"x\",\"y\":[1],\"yaxis\":\"y\",\"type\":\"bar\"},{\"alignmentgroup\":\"True\",\"hovertemplate\":\"Sub Category=celebritynews<br>Category=%{x}<br>Values=%{y}<extra></extra>\",\"legendgroup\":\"celebritynews\",\"marker\":{\"color\":\"#636efa\",\"pattern\":{\"shape\":\"\"}},\"name\":\"celebritynews\",\"offsetgroup\":\"celebritynews\",\"orientation\":\"v\",\"showlegend\":true,\"textposition\":\"auto\",\"x\":[\"entertainment\"],\"xaxis\":\"x\",\"y\":[1],\"yaxis\":\"y\",\"type\":\"bar\"},{\"alignmentgroup\":\"True\",\"hovertemplate\":\"Sub Category=topnews<br>Category=%{x}<br>Values=%{y}<extra></extra>\",\"legendgroup\":\"topnews\",\"marker\":{\"color\":\"#EF553B\",\"pattern\":{\"shape\":\"\"}},\"name\":\"topnews\",\"offsetgroup\":\"topnews\",\"orientation\":\"v\",\"showlegend\":true,\"textposition\":\"auto\",\"x\":[\"tv\",\"music\"],\"xaxis\":\"x\",\"y\":[1,1],\"yaxis\":\"y\",\"type\":\"bar\"},{\"alignmentgroup\":\"True\",\"hovertemplate\":\"Sub Category=othersports<br>Category=%{x}<br>Values=%{y}<extra></extra>\",\"legendgroup\":\"othersports\",\"marker\":{\"color\":\"#00cc96\",\"pattern\":{\"shape\":\"\"}},\"name\":\"othersports\",\"offsetgroup\":\"othersports\",\"orientation\":\"v\",\"showlegend\":true,\"textposition\":\"auto\",\"x\":[\"sports\"],\"xaxis\":\"x\",\"y\":[1],\"yaxis\":\"y\",\"type\":\"bar\"},{\"alignmentgroup\":\"True\",\"hovertemplate\":\"Sub Category=soccer_bund<br>Category=%{x}<br>Values=%{y}<extra></extra>\",\"legendgroup\":\"soccer_bund\",\"marker\":{\"color\":\"#ab63fa\",\"pattern\":{\"shape\":\"\"}},\"name\":\"soccer_bund\",\"offsetgroup\":\"soccer_bund\",\"orientation\":\"v\",\"showlegend\":true,\"textposition\":\"auto\",\"x\":[\"sports\"],\"xaxis\":\"x\",\"y\":[1],\"yaxis\":\"y\",\"type\":\"bar\"},{\"alignmentgroup\":\"True\",\"hovertemplate\":\"Sub Category=strength<br>Category=%{x}<br>Values=%{y}<extra></extra>\",\"legendgroup\":\"strength\",\"marker\":{\"color\":\"#FFA15A\",\"pattern\":{\"shape\":\"\"}},\"name\":\"strength\",\"offsetgroup\":\"strength\",\"orientation\":\"v\",\"showlegend\":true,\"textposition\":\"auto\",\"x\":[\"health\"],\"xaxis\":\"x\",\"y\":[1],\"yaxis\":\"y\",\"type\":\"bar\"},{\"alignmentgroup\":\"True\",\"hovertemplate\":\"Sub Category=entertainmentmusic<br>Category=%{x}<br>Values=%{y}<extra></extra>\",\"legendgroup\":\"entertainmentmusic\",\"marker\":{\"color\":\"#19d3f3\",\"pattern\":{\"shape\":\"\"}},\"name\":\"entertainmentmusic\",\"offsetgroup\":\"entertainmentmusic\",\"orientation\":\"v\",\"showlegend\":true,\"textposition\":\"auto\",\"x\":[\"entertainment\"],\"xaxis\":\"x\",\"y\":[1],\"yaxis\":\"y\",\"type\":\"bar\"},{\"alignmentgroup\":\"True\",\"hovertemplate\":\"Sub Category=lifestylewhatshot<br>Category=%{x}<br>Values=%{y}<extra></extra>\",\"legendgroup\":\"lifestylewhatshot\",\"marker\":{\"color\":\"#FF6692\",\"pattern\":{\"shape\":\"\"}},\"name\":\"lifestylewhatshot\",\"offsetgroup\":\"lifestylewhatshot\",\"orientation\":\"v\",\"showlegend\":true,\"textposition\":\"auto\",\"x\":[\"lifestyle\"],\"xaxis\":\"x\",\"y\":[1],\"yaxis\":\"y\",\"type\":\"bar\"},{\"alignmentgroup\":\"True\",\"hovertemplate\":\"Sub Category=causes-disaster-relief<br>Category=%{x}<br>Values=%{y}<extra></extra>\",\"legendgroup\":\"causes-disaster-relief\",\"marker\":{\"color\":\"#B6E880\",\"pattern\":{\"shape\":\"\"}},\"name\":\"causes-disaster-relief\",\"offsetgroup\":\"causes-disaster-relief\",\"orientation\":\"v\",\"showlegend\":true,\"textposition\":\"auto\",\"x\":[\"news\"],\"xaxis\":\"x\",\"y\":[1],\"yaxis\":\"y\",\"type\":\"bar\"},{\"alignmentgroup\":\"True\",\"hovertemplate\":\"Sub Category=spendingandborrowing<br>Category=%{x}<br>Values=%{y}<extra></extra>\",\"legendgroup\":\"spendingandborrowing\",\"marker\":{\"color\":\"#FF97FF\",\"pattern\":{\"shape\":\"\"}},\"name\":\"spendingandborrowing\",\"offsetgroup\":\"spendingandborrowing\",\"orientation\":\"v\",\"showlegend\":true,\"textposition\":\"auto\",\"x\":[\"finance\"],\"xaxis\":\"x\",\"y\":[1],\"yaxis\":\"y\",\"type\":\"bar\"},{\"alignmentgroup\":\"True\",\"hovertemplate\":\"Sub Category=cookingschool<br>Category=%{x}<br>Values=%{y}<extra></extra>\",\"legendgroup\":\"cookingschool\",\"marker\":{\"color\":\"#FECB52\",\"pattern\":{\"shape\":\"\"}},\"name\":\"cookingschool\",\"offsetgroup\":\"cookingschool\",\"orientation\":\"v\",\"showlegend\":true,\"textposition\":\"auto\",\"x\":[\"foodanddrink\"],\"xaxis\":\"x\",\"y\":[1],\"yaxis\":\"y\",\"type\":\"bar\"},{\"alignmentgroup\":\"True\",\"hovertemplate\":\"Sub Category=travel<br>Category=%{x}<br>Values=%{y}<extra></extra>\",\"legendgroup\":\"travel\",\"marker\":{\"color\":\"#636efa\",\"pattern\":{\"shape\":\"\"}},\"name\":\"travel\",\"offsetgroup\":\"travel\",\"orientation\":\"v\",\"showlegend\":true,\"textposition\":\"auto\",\"x\":[\"lifestyle\"],\"xaxis\":\"x\",\"y\":[1],\"yaxis\":\"y\",\"type\":\"bar\"},{\"alignmentgroup\":\"True\",\"hovertemplate\":\"Sub Category=foodtips<br>Category=%{x}<br>Values=%{y}<extra></extra>\",\"legendgroup\":\"foodtips\",\"marker\":{\"color\":\"#EF553B\",\"pattern\":{\"shape\":\"\"}},\"name\":\"foodtips\",\"offsetgroup\":\"foodtips\",\"orientation\":\"v\",\"showlegend\":true,\"textposition\":\"auto\",\"x\":[\"foodanddrink\"],\"xaxis\":\"x\",\"y\":[1],\"yaxis\":\"y\",\"type\":\"bar\"},{\"alignmentgroup\":\"True\",\"hovertemplate\":\"Sub Category=lifestylestyle<br>Category=%{x}<br>Values=%{y}<extra></extra>\",\"legendgroup\":\"lifestylestyle\",\"marker\":{\"color\":\"#00cc96\",\"pattern\":{\"shape\":\"\"}},\"name\":\"lifestylestyle\",\"offsetgroup\":\"lifestylestyle\",\"orientation\":\"v\",\"showlegend\":true,\"textposition\":\"auto\",\"x\":[\"lifestyle\"],\"xaxis\":\"x\",\"y\":[1],\"yaxis\":\"y\",\"type\":\"bar\"},{\"alignmentgroup\":\"True\",\"hovertemplate\":\"Sub Category=finance-insidetheticker<br>Category=%{x}<br>Values=%{y}<extra></extra>\",\"legendgroup\":\"finance-insidetheticker\",\"marker\":{\"color\":\"#ab63fa\",\"pattern\":{\"shape\":\"\"}},\"name\":\"finance-insidetheticker\",\"offsetgroup\":\"finance-insidetheticker\",\"orientation\":\"v\",\"showlegend\":true,\"textposition\":\"auto\",\"x\":[\"finance\"],\"xaxis\":\"x\",\"y\":[1],\"yaxis\":\"y\",\"type\":\"bar\"}],                        {\"template\":{\"data\":{\"bar\":[{\"error_x\":{\"color\":\"#2a3f5f\"},\"error_y\":{\"color\":\"#2a3f5f\"},\"marker\":{\"line\":{\"color\":\"#E5ECF6\",\"width\":0.5},\"pattern\":{\"fillmode\":\"overlay\",\"size\":10,\"solidity\":0.2}},\"type\":\"bar\"}],\"barpolar\":[{\"marker\":{\"line\":{\"color\":\"#E5ECF6\",\"width\":0.5},\"pattern\":{\"fillmode\":\"overlay\",\"size\":10,\"solidity\":0.2}},\"type\":\"barpolar\"}],\"carpet\":[{\"aaxis\":{\"endlinecolor\":\"#2a3f5f\",\"gridcolor\":\"white\",\"linecolor\":\"white\",\"minorgridcolor\":\"white\",\"startlinecolor\":\"#2a3f5f\"},\"baxis\":{\"endlinecolor\":\"#2a3f5f\",\"gridcolor\":\"white\",\"linecolor\":\"white\",\"minorgridcolor\":\"white\",\"startlinecolor\":\"#2a3f5f\"},\"type\":\"carpet\"}],\"choropleth\":[{\"colorbar\":{\"outlinewidth\":0,\"ticks\":\"\"},\"type\":\"choropleth\"}],\"contour\":[{\"colorbar\":{\"outlinewidth\":0,\"ticks\":\"\"},\"colorscale\":[[0.0,\"#0d0887\"],[0.1111111111111111,\"#46039f\"],[0.2222222222222222,\"#7201a8\"],[0.3333333333333333,\"#9c179e\"],[0.4444444444444444,\"#bd3786\"],[0.5555555555555556,\"#d8576b\"],[0.6666666666666666,\"#ed7953\"],[0.7777777777777778,\"#fb9f3a\"],[0.8888888888888888,\"#fdca26\"],[1.0,\"#f0f921\"]],\"type\":\"contour\"}],\"contourcarpet\":[{\"colorbar\":{\"outlinewidth\":0,\"ticks\":\"\"},\"type\":\"contourcarpet\"}],\"heatmap\":[{\"colorbar\":{\"outlinewidth\":0,\"ticks\":\"\"},\"colorscale\":[[0.0,\"#0d0887\"],[0.1111111111111111,\"#46039f\"],[0.2222222222222222,\"#7201a8\"],[0.3333333333333333,\"#9c179e\"],[0.4444444444444444,\"#bd3786\"],[0.5555555555555556,\"#d8576b\"],[0.6666666666666666,\"#ed7953\"],[0.7777777777777778,\"#fb9f3a\"],[0.8888888888888888,\"#fdca26\"],[1.0,\"#f0f921\"]],\"type\":\"heatmap\"}],\"heatmapgl\":[{\"colorbar\":{\"outlinewidth\":0,\"ticks\":\"\"},\"colorscale\":[[0.0,\"#0d0887\"],[0.1111111111111111,\"#46039f\"],[0.2222222222222222,\"#7201a8\"],[0.3333333333333333,\"#9c179e\"],[0.4444444444444444,\"#bd3786\"],[0.5555555555555556,\"#d8576b\"],[0.6666666666666666,\"#ed7953\"],[0.7777777777777778,\"#fb9f3a\"],[0.8888888888888888,\"#fdca26\"],[1.0,\"#f0f921\"]],\"type\":\"heatmapgl\"}],\"histogram\":[{\"marker\":{\"pattern\":{\"fillmode\":\"overlay\",\"size\":10,\"solidity\":0.2}},\"type\":\"histogram\"}],\"histogram2d\":[{\"colorbar\":{\"outlinewidth\":0,\"ticks\":\"\"},\"colorscale\":[[0.0,\"#0d0887\"],[0.1111111111111111,\"#46039f\"],[0.2222222222222222,\"#7201a8\"],[0.3333333333333333,\"#9c179e\"],[0.4444444444444444,\"#bd3786\"],[0.5555555555555556,\"#d8576b\"],[0.6666666666666666,\"#ed7953\"],[0.7777777777777778,\"#fb9f3a\"],[0.8888888888888888,\"#fdca26\"],[1.0,\"#f0f921\"]],\"type\":\"histogram2d\"}],\"histogram2dcontour\":[{\"colorbar\":{\"outlinewidth\":0,\"ticks\":\"\"},\"colorscale\":[[0.0,\"#0d0887\"],[0.1111111111111111,\"#46039f\"],[0.2222222222222222,\"#7201a8\"],[0.3333333333333333,\"#9c179e\"],[0.4444444444444444,\"#bd3786\"],[0.5555555555555556,\"#d8576b\"],[0.6666666666666666,\"#ed7953\"],[0.7777777777777778,\"#fb9f3a\"],[0.8888888888888888,\"#fdca26\"],[1.0,\"#f0f921\"]],\"type\":\"histogram2dcontour\"}],\"mesh3d\":[{\"colorbar\":{\"outlinewidth\":0,\"ticks\":\"\"},\"type\":\"mesh3d\"}],\"parcoords\":[{\"line\":{\"colorbar\":{\"outlinewidth\":0,\"ticks\":\"\"}},\"type\":\"parcoords\"}],\"pie\":[{\"automargin\":true,\"type\":\"pie\"}],\"scatter\":[{\"marker\":{\"colorbar\":{\"outlinewidth\":0,\"ticks\":\"\"}},\"type\":\"scatter\"}],\"scatter3d\":[{\"line\":{\"colorbar\":{\"outlinewidth\":0,\"ticks\":\"\"}},\"marker\":{\"colorbar\":{\"outlinewidth\":0,\"ticks\":\"\"}},\"type\":\"scatter3d\"}],\"scattercarpet\":[{\"marker\":{\"colorbar\":{\"outlinewidth\":0,\"ticks\":\"\"}},\"type\":\"scattercarpet\"}],\"scattergeo\":[{\"marker\":{\"colorbar\":{\"outlinewidth\":0,\"ticks\":\"\"}},\"type\":\"scattergeo\"}],\"scattergl\":[{\"marker\":{\"colorbar\":{\"outlinewidth\":0,\"ticks\":\"\"}},\"type\":\"scattergl\"}],\"scattermapbox\":[{\"marker\":{\"colorbar\":{\"outlinewidth\":0,\"ticks\":\"\"}},\"type\":\"scattermapbox\"}],\"scatterpolar\":[{\"marker\":{\"colorbar\":{\"outlinewidth\":0,\"ticks\":\"\"}},\"type\":\"scatterpolar\"}],\"scatterpolargl\":[{\"marker\":{\"colorbar\":{\"outlinewidth\":0,\"ticks\":\"\"}},\"type\":\"scatterpolargl\"}],\"scatterternary\":[{\"marker\":{\"colorbar\":{\"outlinewidth\":0,\"ticks\":\"\"}},\"type\":\"scatterternary\"}],\"surface\":[{\"colorbar\":{\"outlinewidth\":0,\"ticks\":\"\"},\"colorscale\":[[0.0,\"#0d0887\"],[0.1111111111111111,\"#46039f\"],[0.2222222222222222,\"#7201a8\"],[0.3333333333333333,\"#9c179e\"],[0.4444444444444444,\"#bd3786\"],[0.5555555555555556,\"#d8576b\"],[0.6666666666666666,\"#ed7953\"],[0.7777777777777778,\"#fb9f3a\"],[0.8888888888888888,\"#fdca26\"],[1.0,\"#f0f921\"]],\"type\":\"surface\"}],\"table\":[{\"cells\":{\"fill\":{\"color\":\"#EBF0F8\"},\"line\":{\"color\":\"white\"}},\"header\":{\"fill\":{\"color\":\"#C8D4E3\"},\"line\":{\"color\":\"white\"}},\"type\":\"table\"}]},\"layout\":{\"annotationdefaults\":{\"arrowcolor\":\"#2a3f5f\",\"arrowhead\":0,\"arrowwidth\":1},\"autotypenumbers\":\"strict\",\"coloraxis\":{\"colorbar\":{\"outlinewidth\":0,\"ticks\":\"\"}},\"colorscale\":{\"diverging\":[[0,\"#8e0152\"],[0.1,\"#c51b7d\"],[0.2,\"#de77ae\"],[0.3,\"#f1b6da\"],[0.4,\"#fde0ef\"],[0.5,\"#f7f7f7\"],[0.6,\"#e6f5d0\"],[0.7,\"#b8e186\"],[0.8,\"#7fbc41\"],[0.9,\"#4d9221\"],[1,\"#276419\"]],\"sequential\":[[0.0,\"#0d0887\"],[0.1111111111111111,\"#46039f\"],[0.2222222222222222,\"#7201a8\"],[0.3333333333333333,\"#9c179e\"],[0.4444444444444444,\"#bd3786\"],[0.5555555555555556,\"#d8576b\"],[0.6666666666666666,\"#ed7953\"],[0.7777777777777778,\"#fb9f3a\"],[0.8888888888888888,\"#fdca26\"],[1.0,\"#f0f921\"]],\"sequentialminus\":[[0.0,\"#0d0887\"],[0.1111111111111111,\"#46039f\"],[0.2222222222222222,\"#7201a8\"],[0.3333333333333333,\"#9c179e\"],[0.4444444444444444,\"#bd3786\"],[0.5555555555555556,\"#d8576b\"],[0.6666666666666666,\"#ed7953\"],[0.7777777777777778,\"#fb9f3a\"],[0.8888888888888888,\"#fdca26\"],[1.0,\"#f0f921\"]]},\"colorway\":[\"#636efa\",\"#EF553B\",\"#00cc96\",\"#ab63fa\",\"#FFA15A\",\"#19d3f3\",\"#FF6692\",\"#B6E880\",\"#FF97FF\",\"#FECB52\"],\"font\":{\"color\":\"#2a3f5f\"},\"geo\":{\"bgcolor\":\"white\",\"lakecolor\":\"white\",\"landcolor\":\"#E5ECF6\",\"showlakes\":true,\"showland\":true,\"subunitcolor\":\"white\"},\"hoverlabel\":{\"align\":\"left\"},\"hovermode\":\"closest\",\"mapbox\":{\"style\":\"light\"},\"paper_bgcolor\":\"white\",\"plot_bgcolor\":\"#E5ECF6\",\"polar\":{\"angularaxis\":{\"gridcolor\":\"white\",\"linecolor\":\"white\",\"ticks\":\"\"},\"bgcolor\":\"#E5ECF6\",\"radialaxis\":{\"gridcolor\":\"white\",\"linecolor\":\"white\",\"ticks\":\"\"}},\"scene\":{\"xaxis\":{\"backgroundcolor\":\"#E5ECF6\",\"gridcolor\":\"white\",\"gridwidth\":2,\"linecolor\":\"white\",\"showbackground\":true,\"ticks\":\"\",\"zerolinecolor\":\"white\"},\"yaxis\":{\"backgroundcolor\":\"#E5ECF6\",\"gridcolor\":\"white\",\"gridwidth\":2,\"linecolor\":\"white\",\"showbackground\":true,\"ticks\":\"\",\"zerolinecolor\":\"white\"},\"zaxis\":{\"backgroundcolor\":\"#E5ECF6\",\"gridcolor\":\"white\",\"gridwidth\":2,\"linecolor\":\"white\",\"showbackground\":true,\"ticks\":\"\",\"zerolinecolor\":\"white\"}},\"shapedefaults\":{\"line\":{\"color\":\"#2a3f5f\"}},\"ternary\":{\"aaxis\":{\"gridcolor\":\"white\",\"linecolor\":\"white\",\"ticks\":\"\"},\"baxis\":{\"gridcolor\":\"white\",\"linecolor\":\"white\",\"ticks\":\"\"},\"bgcolor\":\"#E5ECF6\",\"caxis\":{\"gridcolor\":\"white\",\"linecolor\":\"white\",\"ticks\":\"\"}},\"title\":{\"x\":0.05},\"xaxis\":{\"automargin\":true,\"gridcolor\":\"white\",\"linecolor\":\"white\",\"ticks\":\"\",\"title\":{\"standoff\":15},\"zerolinecolor\":\"white\",\"zerolinewidth\":2},\"yaxis\":{\"automargin\":true,\"gridcolor\":\"white\",\"linecolor\":\"white\",\"ticks\":\"\",\"title\":{\"standoff\":15},\"zerolinecolor\":\"white\",\"zerolinewidth\":2}}},\"xaxis\":{\"anchor\":\"y\",\"domain\":[0.0,1.0],\"title\":{\"text\":\"Category\"}},\"yaxis\":{\"anchor\":\"x\",\"domain\":[0.0,1.0],\"title\":{\"text\":\"Values\"}},\"legend\":{\"title\":{\"text\":\"Sub Category\"},\"tracegroupgap\":0},\"margin\":{\"t\":60},\"barmode\":\"relative\"},                        {\"responsive\": true}                    ).then(function(){\n",
              "                            \n",
              "var gd = document.getElementById('41d7ff8c-54fb-4398-8022-a0ba20f6798b');\n",
              "var x = new MutationObserver(function (mutations, observer) {{\n",
              "        var display = window.getComputedStyle(gd).display;\n",
              "        if (!display || display === 'none') {{\n",
              "            console.log([gd, 'removed!']);\n",
              "            Plotly.purge(gd);\n",
              "            observer.disconnect();\n",
              "        }}\n",
              "}});\n",
              "\n",
              "// Listen for the removal of the full notebook cells\n",
              "var notebookContainer = gd.closest('#notebook-container');\n",
              "if (notebookContainer) {{\n",
              "    x.observe(notebookContainer, {childList: true});\n",
              "}}\n",
              "\n",
              "// Listen for the clearing of the current output cell\n",
              "var outputEl = gd.closest('.output');\n",
              "if (outputEl) {{\n",
              "    x.observe(outputEl, {childList: true});\n",
              "}}\n",
              "\n",
              "                        })                };                            </script>        </div>\n",
              "</body>\n",
              "</html>"
            ]
          },
          "metadata": {}
        }
      ]
    },
    {
      "cell_type": "code",
      "source": [
        "news[['Category']].value_counts().plot.bar() #Category Distribution\n"
      ],
      "metadata": {
        "colab": {
          "base_uri": "https://localhost:8080/",
          "height": 370
        },
        "id": "ArqOMuCbPMsp",
        "outputId": "1f414ffc-cba3-4ee8-f4be-751c92063305"
      },
      "execution_count": null,
      "outputs": [
        {
          "output_type": "execute_result",
          "data": {
            "text/plain": [
              "<matplotlib.axes._subplots.AxesSubplot at 0x7fc86ee8c450>"
            ]
          },
          "metadata": {},
          "execution_count": 109
        },
        {
          "output_type": "display_data",
          "data": {
            "image/png": "[encoded data removed]",
            "text/plain": [
              "<Figure size 432x288 with 1 Axes>"
            ]
          },
          "metadata": {
            "needs_background": "light"
          }
        }
      ]
    },
    {
      "cell_type": "markdown",
      "source": [
        "# Transformation\n",
        "here we turn our data into a readable and easier to use, Dataframe "
      ],
      "metadata": {
        "id": "WVZya2pOKtKN"
      }
    },
    {
      "cell_type": "markdown",
      "source": [
        "## Users DataFrame Transformation\n",
        " **ATENTION** because it's Time consuming for real data we should seprate this Cell into, more Cells \n"
      ],
      "metadata": {
        "id": "iRlGOHvYrTDe"
      }
    },
    {
      "cell_type": "code",
      "source": [
        "# Counting list of cliked news in Recommended_Impressions\n",
        "users['Impressions_Option_count'] = (users['Recommended_Impressions'].str.count('\\w+'))/2\n",
        "users['Impressions_Click_count']=users['Recommended_Impressions'].str.count('-1')\n",
        "# Counting list of cliked news in History (seen News)\n",
        "users['History'] = users['History'].apply(lambda x: x.split(' ') if type(x) == str else [])\n",
        "users['History_click_num'] = users['History'].apply(lambda x: len(x))\n",
        "# Makeing list of boserved news in Impressions\n",
        "users['Recommended_Impressions'] = users['Recommended_Impressions'].apply(lambda x: x.split(' ') if type(x) == str else [])\n",
        "# users = users.sort_values(by = \"Time\")\n",
        "users"
      ],
      "metadata": {
        "id": "JP_RU_wWKzCm"
      },
      "execution_count": null,
      "outputs": []
    },
    {
      "cell_type": "markdown",
      "source": [
        "sort dataframe base on Recommended_Impressions Time"
      ],
      "metadata": {
        "id": "5mBoYKyOMSMn"
      }
    },
    {
      "cell_type": "code",
      "source": [
        "users[\"Time\"]= pd.to_datetime(users[\"Time\"])\n",
        "users = users.sort_values(by = \"Time\")\n",
        "users"
      ],
      "metadata": {
        "colab": {
          "base_uri": "https://localhost:8080/",
          "height": 641
        },
        "id": "EwNDnxF3LImG",
        "outputId": "47f96aec-639e-4235-b01e-bbe35062e2e3"
      },
      "execution_count": null,
      "outputs": [
        {
          "output_type": "execute_result",
          "data": {
            "text/html": [
              "\n",
              "  <div id=\"df-cbdd130f-0c3f-45f4-99c1-561f2dbfe618\">\n",
              "    <div class=\"colab-df-container\">\n",
              "      <div>\n",
              "<style scoped>\n",
              "    .dataframe tbody tr th:only-of-type {\n",
              "        vertical-align: middle;\n",
              "    }\n",
              "\n",
              "    .dataframe tbody tr th {\n",
              "        vertical-align: top;\n",
              "    }\n",
              "\n",
              "    .dataframe thead th {\n",
              "        text-align: right;\n",
              "    }\n",
              "</style>\n",
              "<table border=\"1\" class=\"dataframe\">\n",
              "  <thead>\n",
              "    <tr style=\"text-align: right;\">\n",
              "      <th></th>\n",
              "      <th>UserID</th>\n",
              "      <th>Time</th>\n",
              "      <th>History</th>\n",
              "      <th>Recommended_Impressions</th>\n",
              "      <th>Impressions_Option_count</th>\n",
              "      <th>Impressions_Click_count</th>\n",
              "      <th>History_click_num</th>\n",
              "    </tr>\n",
              "  </thead>\n",
              "  <tbody>\n",
              "    <tr>\n",
              "      <th>20111</th>\n",
              "      <td>U65916</td>\n",
              "      <td>2019-11-09 00:00:19</td>\n",
              "      <td>[N51706, N40767, N12096, N9798, N38802, N54827...</td>\n",
              "      <td>[N54300-0, N46057-1, N57005-0, N52154-0, N5709...</td>\n",
              "      <td>31.0</td>\n",
              "      <td>3</td>\n",
              "      <td>15</td>\n",
              "    </tr>\n",
              "    <tr>\n",
              "      <th>13806</th>\n",
              "      <td>U49985</td>\n",
              "      <td>2019-11-09 00:01:13</td>\n",
              "      <td>[N5056, N29975, N53234, N39603, N50032, N8422,...</td>\n",
              "      <td>[N20602-0, N50059-0, N57768-1, N50135-1, N1513...</td>\n",
              "      <td>29.0</td>\n",
              "      <td>5</td>\n",
              "      <td>93</td>\n",
              "    </tr>\n",
              "    <tr>\n",
              "      <th>27659</th>\n",
              "      <td>U25550</td>\n",
              "      <td>2019-11-09 00:02:44</td>\n",
              "      <td>[N17260, N38298, N33976, N47719, N14888, N1887...</td>\n",
              "      <td>[N50135-0, N15134-0, N52433-1, N20602-0, N6453...</td>\n",
              "      <td>5.0</td>\n",
              "      <td>1</td>\n",
              "      <td>7</td>\n",
              "    </tr>\n",
              "    <tr>\n",
              "      <th>152216</th>\n",
              "      <td>U19710</td>\n",
              "      <td>2019-11-09 00:02:50</td>\n",
              "      <td>[N3530, N48284, N43019, N62546, N138, N13138, ...</td>\n",
              "      <td>[N57099-0, N30295-0, N21086-0, N5379-0, N57005...</td>\n",
              "      <td>56.0</td>\n",
              "      <td>1</td>\n",
              "      <td>8</td>\n",
              "    </tr>\n",
              "    <tr>\n",
              "      <th>42165</th>\n",
              "      <td>U38106</td>\n",
              "      <td>2019-11-09 00:03:09</td>\n",
              "      <td>[N16874, N264, N48697, N51366]</td>\n",
              "      <td>[N3491-0, N20602-0, N25785-0, N23575-0, N38783...</td>\n",
              "      <td>48.0</td>\n",
              "      <td>1</td>\n",
              "      <td>4</td>\n",
              "    </tr>\n",
              "    <tr>\n",
              "      <th>...</th>\n",
              "      <td>...</td>\n",
              "      <td>...</td>\n",
              "      <td>...</td>\n",
              "      <td>...</td>\n",
              "      <td>...</td>\n",
              "      <td>...</td>\n",
              "      <td>...</td>\n",
              "    </tr>\n",
              "    <tr>\n",
              "      <th>66233</th>\n",
              "      <td>U717</td>\n",
              "      <td>2019-11-14 23:58:46</td>\n",
              "      <td>[N54822, N46392, N27863, N13138, N40448, N14006]</td>\n",
              "      <td>[N7494-0, N46917-0, N62197-0, N2960-0, N22978-...</td>\n",
              "      <td>37.0</td>\n",
              "      <td>1</td>\n",
              "      <td>6</td>\n",
              "    </tr>\n",
              "    <tr>\n",
              "      <th>36003</th>\n",
              "      <td>U44395</td>\n",
              "      <td>2019-11-14 23:58:47</td>\n",
              "      <td>[N38488, N11231, N14761, N21164, N42128, N7328...</td>\n",
              "      <td>[N48487-0, N41934-0, N64037-0, N63913-0, N5532...</td>\n",
              "      <td>40.0</td>\n",
              "      <td>1</td>\n",
              "      <td>10</td>\n",
              "    </tr>\n",
              "    <tr>\n",
              "      <th>105362</th>\n",
              "      <td>U41595</td>\n",
              "      <td>2019-11-14 23:58:51</td>\n",
              "      <td>[]</td>\n",
              "      <td>[N14478-0, N7342-0, N48487-0, N29490-0, N27737...</td>\n",
              "      <td>28.0</td>\n",
              "      <td>1</td>\n",
              "      <td>0</td>\n",
              "    </tr>\n",
              "    <tr>\n",
              "      <th>108432</th>\n",
              "      <td>U75895</td>\n",
              "      <td>2019-11-14 23:59:06</td>\n",
              "      <td>[N1300, N9803, N14114, N31996]</td>\n",
              "      <td>[N29490-0, N22975-0, N27737-0, N6837-0, N47652...</td>\n",
              "      <td>11.0</td>\n",
              "      <td>1</td>\n",
              "      <td>4</td>\n",
              "    </tr>\n",
              "    <tr>\n",
              "      <th>90251</th>\n",
              "      <td>U82996</td>\n",
              "      <td>2019-11-14 23:59:13</td>\n",
              "      <td>[N39556, N22279, N56461, N33393, N6233, N33617...</td>\n",
              "      <td>[N3678-0, N41934-0, N36786-0, N23535-0, N29490...</td>\n",
              "      <td>17.0</td>\n",
              "      <td>2</td>\n",
              "      <td>23</td>\n",
              "    </tr>\n",
              "  </tbody>\n",
              "</table>\n",
              "<p>156965 rows × 7 columns</p>\n",
              "</div>\n",
              "      <button class=\"colab-df-convert\" onclick=\"convertToInteractive('df-cbdd130f-0c3f-45f4-99c1-561f2dbfe618')\"\n",
              "              title=\"Convert this dataframe to an interactive table.\"\n",
              "              style=\"display:none;\">\n",
              "        \n",
              "  <svg xmlns=\"http://www.w3.org/2000/svg\" height=\"24px\"viewBox=\"0 0 24 24\"\n",
              "       width=\"24px\">\n",
              "    <path d=\"M0 0h24v24H0V0z\" fill=\"none\"/>\n",
              "    <path d=\"M18.56 5.44l.94 2.06.94-2.06 2.06-.94-2.06-.94-.94-2.06-.94 2.06-2.06.94zm-11 1L8.5 8.5l.94-2.06 2.06-.94-2.06-.94L8.5 2.5l-.94 2.06-2.06.94zm10 10l.94 2.06.94-2.06 2.06-.94-2.06-.94-.94-2.06-.94 2.06-2.06.94z\"/><path d=\"M17.41 7.96l-1.37-1.37c-.4-.4-.92-.59-1.43-.59-.52 0-1.04.2-1.43.59L10.3 9.45l-7.72 7.72c-.78.78-.78 2.05 0 2.83L4 21.41c.39.39.9.59 1.41.59.51 0 1.02-.2 1.41-.59l7.78-7.78 2.81-2.81c.8-.78.8-2.07 0-2.86zM5.41 20L4 18.59l7.72-7.72 1.47 1.35L5.41 20z\"/>\n",
              "  </svg>\n",
              "      </button>\n",
              "      \n",
              "  <style>\n",
              "    .colab-df-container {\n",
              "      display:flex;\n",
              "      flex-wrap:wrap;\n",
              "      gap: 12px;\n",
              "    }\n",
              "\n",
              "    .colab-df-convert {\n",
              "      background-color: #E8F0FE;\n",
              "      border: none;\n",
              "      border-radius: 50%;\n",
              "      cursor: pointer;\n",
              "      display: none;\n",
              "      fill: #1967D2;\n",
              "      height: 32px;\n",
              "      padding: 0 0 0 0;\n",
              "      width: 32px;\n",
              "    }\n",
              "\n",
              "    .colab-df-convert:hover {\n",
              "      background-color: #E2EBFA;\n",
              "      box-shadow: 0px 1px 2px rgba(60, 64, 67, 0.3), 0px 1px 3px 1px rgba(60, 64, 67, 0.15);\n",
              "      fill: #174EA6;\n",
              "    }\n",
              "\n",
              "    [theme=dark] .colab-df-convert {\n",
              "      background-color: #3B4455;\n",
              "      fill: #D2E3FC;\n",
              "    }\n",
              "\n",
              "    [theme=dark] .colab-df-convert:hover {\n",
              "      background-color: #434B5C;\n",
              "      box-shadow: 0px 1px 3px 1px rgba(0, 0, 0, 0.15);\n",
              "      filter: drop-shadow(0px 1px 2px rgba(0, 0, 0, 0.3));\n",
              "      fill: #FFFFFF;\n",
              "    }\n",
              "  </style>\n",
              "\n",
              "      <script>\n",
              "        const buttonEl =\n",
              "          document.querySelector('#df-cbdd130f-0c3f-45f4-99c1-561f2dbfe618 button.colab-df-convert');\n",
              "        buttonEl.style.display =\n",
              "          google.colab.kernel.accessAllowed ? 'block' : 'none';\n",
              "\n",
              "        async function convertToInteractive(key) {\n",
              "          const element = document.querySelector('#df-cbdd130f-0c3f-45f4-99c1-561f2dbfe618');\n",
              "          const dataTable =\n",
              "            await google.colab.kernel.invokeFunction('convertToInteractive',\n",
              "                                                     [key], {});\n",
              "          if (!dataTable) return;\n",
              "\n",
              "          const docLinkHtml = 'Like what you see? Visit the ' +\n",
              "            '<a target=\"_blank\" href=https://colab.research.google.com/notebooks/data_table.ipynb>data table notebook</a>'\n",
              "            + ' to learn more about interactive tables.';\n",
              "          element.innerHTML = '';\n",
              "          dataTable['output_type'] = 'display_data';\n",
              "          await google.colab.output.renderOutput(dataTable, element);\n",
              "          const docLink = document.createElement('div');\n",
              "          docLink.innerHTML = docLinkHtml;\n",
              "          element.appendChild(docLink);\n",
              "        }\n",
              "      </script>\n",
              "    </div>\n",
              "  </div>\n",
              "  "
            ],
            "text/plain": [
              "        UserID                Time  ... Impressions_Click_count History_click_num\n",
              "20111   U65916 2019-11-09 00:00:19  ...                       3                15\n",
              "13806   U49985 2019-11-09 00:01:13  ...                       5                93\n",
              "27659   U25550 2019-11-09 00:02:44  ...                       1                 7\n",
              "152216  U19710 2019-11-09 00:02:50  ...                       1                 8\n",
              "42165   U38106 2019-11-09 00:03:09  ...                       1                 4\n",
              "...        ...                 ...  ...                     ...               ...\n",
              "66233     U717 2019-11-14 23:58:46  ...                       1                 6\n",
              "36003   U44395 2019-11-14 23:58:47  ...                       1                10\n",
              "105362  U41595 2019-11-14 23:58:51  ...                       1                 0\n",
              "108432  U75895 2019-11-14 23:59:06  ...                       1                 4\n",
              "90251   U82996 2019-11-14 23:59:13  ...                       2                23\n",
              "\n",
              "[156965 rows x 7 columns]"
            ]
          },
          "metadata": {},
          "execution_count": 10
        }
      ]
    },
    {
      "cell_type": "markdown",
      "source": [
        "### make Groups by UserID from USers DataFrame \n",
        "to make a better sight"
      ],
      "metadata": {
        "id": "hPxULKj5WCkZ"
      }
    },
    {
      "cell_type": "code",
      "source": [
        "userID_gp = users.groupby([\"UserID\"])\n"
      ],
      "metadata": {
        "id": "ECW3Qg24bsUQ"
      },
      "execution_count": null,
      "outputs": []
    },
    {
      "cell_type": "code",
      "source": [
        "# exmpl = userID_gp.get_group((\"U717\"))\n",
        "# exmpl\n"
      ],
      "metadata": {
        "id": "BJWKDG_EdXag",
        "colab": {
          "base_uri": "https://localhost:8080/",
          "height": 190
        },
        "outputId": "ef18a3ee-c4f1-4365-f387-fbc8b5d248fc"
      },
      "execution_count": null,
      "outputs": [
        {
          "output_type": "execute_result",
          "data": {
            "text/html": [
              "\n",
              "  <div id=\"df-857f6ae8-74e3-49ca-a72b-3a406603afec\">\n",
              "    <div class=\"colab-df-container\">\n",
              "      <div>\n",
              "<style scoped>\n",
              "    .dataframe tbody tr th:only-of-type {\n",
              "        vertical-align: middle;\n",
              "    }\n",
              "\n",
              "    .dataframe tbody tr th {\n",
              "        vertical-align: top;\n",
              "    }\n",
              "\n",
              "    .dataframe thead th {\n",
              "        text-align: right;\n",
              "    }\n",
              "</style>\n",
              "<table border=\"1\" class=\"dataframe\">\n",
              "  <thead>\n",
              "    <tr style=\"text-align: right;\">\n",
              "      <th></th>\n",
              "      <th>UserID</th>\n",
              "      <th>Time</th>\n",
              "      <th>History</th>\n",
              "      <th>Recommended_Impressions</th>\n",
              "      <th>Impressions_Option_count</th>\n",
              "      <th>Impressions_Click_count</th>\n",
              "      <th>History_click_num</th>\n",
              "    </tr>\n",
              "  </thead>\n",
              "  <tbody>\n",
              "    <tr>\n",
              "      <th>153939</th>\n",
              "      <td>U717</td>\n",
              "      <td>2019-11-13 01:59:42</td>\n",
              "      <td>[N54822, N46392, N27863, N13138, N40448, N14006]</td>\n",
              "      <td>[N36659-0, N13579-0, N47061-0, N17059-0, N3517...</td>\n",
              "      <td>7.0</td>\n",
              "      <td>1</td>\n",
              "      <td>6</td>\n",
              "    </tr>\n",
              "    <tr>\n",
              "      <th>66233</th>\n",
              "      <td>U717</td>\n",
              "      <td>2019-11-14 23:58:46</td>\n",
              "      <td>[N54822, N46392, N27863, N13138, N40448, N14006]</td>\n",
              "      <td>[N7494-0, N46917-0, N62197-0, N2960-0, N22978-...</td>\n",
              "      <td>37.0</td>\n",
              "      <td>1</td>\n",
              "      <td>6</td>\n",
              "    </tr>\n",
              "  </tbody>\n",
              "</table>\n",
              "</div>\n",
              "      <button class=\"colab-df-convert\" onclick=\"convertToInteractive('df-857f6ae8-74e3-49ca-a72b-3a406603afec')\"\n",
              "              title=\"Convert this dataframe to an interactive table.\"\n",
              "              style=\"display:none;\">\n",
              "        \n",
              "  <svg xmlns=\"http://www.w3.org/2000/svg\" height=\"24px\"viewBox=\"0 0 24 24\"\n",
              "       width=\"24px\">\n",
              "    <path d=\"M0 0h24v24H0V0z\" fill=\"none\"/>\n",
              "    <path d=\"M18.56 5.44l.94 2.06.94-2.06 2.06-.94-2.06-.94-.94-2.06-.94 2.06-2.06.94zm-11 1L8.5 8.5l.94-2.06 2.06-.94-2.06-.94L8.5 2.5l-.94 2.06-2.06.94zm10 10l.94 2.06.94-2.06 2.06-.94-2.06-.94-.94-2.06-.94 2.06-2.06.94z\"/><path d=\"M17.41 7.96l-1.37-1.37c-.4-.4-.92-.59-1.43-.59-.52 0-1.04.2-1.43.59L10.3 9.45l-7.72 7.72c-.78.78-.78 2.05 0 2.83L4 21.41c.39.39.9.59 1.41.59.51 0 1.02-.2 1.41-.59l7.78-7.78 2.81-2.81c.8-.78.8-2.07 0-2.86zM5.41 20L4 18.59l7.72-7.72 1.47 1.35L5.41 20z\"/>\n",
              "  </svg>\n",
              "      </button>\n",
              "      \n",
              "  <style>\n",
              "    .colab-df-container {\n",
              "      display:flex;\n",
              "      flex-wrap:wrap;\n",
              "      gap: 12px;\n",
              "    }\n",
              "\n",
              "    .colab-df-convert {\n",
              "      background-color: #E8F0FE;\n",
              "      border: none;\n",
              "      border-radius: 50%;\n",
              "      cursor: pointer;\n",
              "      display: none;\n",
              "      fill: #1967D2;\n",
              "      height: 32px;\n",
              "      padding: 0 0 0 0;\n",
              "      width: 32px;\n",
              "    }\n",
              "\n",
              "    .colab-df-convert:hover {\n",
              "      background-color: #E2EBFA;\n",
              "      box-shadow: 0px 1px 2px rgba(60, 64, 67, 0.3), 0px 1px 3px 1px rgba(60, 64, 67, 0.15);\n",
              "      fill: #174EA6;\n",
              "    }\n",
              "\n",
              "    [theme=dark] .colab-df-convert {\n",
              "      background-color: #3B4455;\n",
              "      fill: #D2E3FC;\n",
              "    }\n",
              "\n",
              "    [theme=dark] .colab-df-convert:hover {\n",
              "      background-color: #434B5C;\n",
              "      box-shadow: 0px 1px 3px 1px rgba(0, 0, 0, 0.15);\n",
              "      filter: drop-shadow(0px 1px 2px rgba(0, 0, 0, 0.3));\n",
              "      fill: #FFFFFF;\n",
              "    }\n",
              "  </style>\n",
              "\n",
              "      <script>\n",
              "        const buttonEl =\n",
              "          document.querySelector('#df-857f6ae8-74e3-49ca-a72b-3a406603afec button.colab-df-convert');\n",
              "        buttonEl.style.display =\n",
              "          google.colab.kernel.accessAllowed ? 'block' : 'none';\n",
              "\n",
              "        async function convertToInteractive(key) {\n",
              "          const element = document.querySelector('#df-857f6ae8-74e3-49ca-a72b-3a406603afec');\n",
              "          const dataTable =\n",
              "            await google.colab.kernel.invokeFunction('convertToInteractive',\n",
              "                                                     [key], {});\n",
              "          if (!dataTable) return;\n",
              "\n",
              "          const docLinkHtml = 'Like what you see? Visit the ' +\n",
              "            '<a target=\"_blank\" href=https://colab.research.google.com/notebooks/data_table.ipynb>data table notebook</a>'\n",
              "            + ' to learn more about interactive tables.';\n",
              "          element.innerHTML = '';\n",
              "          dataTable['output_type'] = 'display_data';\n",
              "          await google.colab.output.renderOutput(dataTable, element);\n",
              "          const docLink = document.createElement('div');\n",
              "          docLink.innerHTML = docLinkHtml;\n",
              "          element.appendChild(docLink);\n",
              "        }\n",
              "      </script>\n",
              "    </div>\n",
              "  </div>\n",
              "  "
            ],
            "text/plain": [
              "       UserID                Time  ... Impressions_Click_count History_click_num\n",
              "153939   U717 2019-11-13 01:59:42  ...                       1                 6\n",
              "66233    U717 2019-11-14 23:58:46  ...                       1                 6\n",
              "\n",
              "[2 rows x 7 columns]"
            ]
          },
          "metadata": {},
          "execution_count": 103
        }
      ]
    },
    {
      "cell_type": "code",
      "source": [
        "# show a single group\n",
        "test= users[users[\"UserID\"] == \"U1000\"]\n",
        "test"
      ],
      "metadata": {
        "colab": {
          "base_uri": "https://localhost:8080/",
          "height": 143
        },
        "id": "9UZnDlXbJJCA",
        "outputId": "0ffa90b6-35c8-438c-8fab-b1e6b36498ce"
      },
      "execution_count": null,
      "outputs": [
        {
          "output_type": "execute_result",
          "data": {
            "text/html": [
              "\n",
              "  <div id=\"df-0d55bbdf-0e47-4652-b931-335b2adc01a2\">\n",
              "    <div class=\"colab-df-container\">\n",
              "      <div>\n",
              "<style scoped>\n",
              "    .dataframe tbody tr th:only-of-type {\n",
              "        vertical-align: middle;\n",
              "    }\n",
              "\n",
              "    .dataframe tbody tr th {\n",
              "        vertical-align: top;\n",
              "    }\n",
              "\n",
              "    .dataframe thead th {\n",
              "        text-align: right;\n",
              "    }\n",
              "</style>\n",
              "<table border=\"1\" class=\"dataframe\">\n",
              "  <thead>\n",
              "    <tr style=\"text-align: right;\">\n",
              "      <th></th>\n",
              "      <th>UserID</th>\n",
              "      <th>Time</th>\n",
              "      <th>History</th>\n",
              "      <th>Recommended_Impressions</th>\n",
              "      <th>Impressions_Option_count</th>\n",
              "      <th>Impressions_Click_count</th>\n",
              "      <th>History_click_num</th>\n",
              "    </tr>\n",
              "  </thead>\n",
              "  <tbody>\n",
              "    <tr>\n",
              "      <th>86766</th>\n",
              "      <td>U1000</td>\n",
              "      <td>2019-11-13 23:16:18</td>\n",
              "      <td>[N29641, N1789, N41244]</td>\n",
              "      <td>[N35273-0, N7618-0, N55281-0, N4021-0, N16148-...</td>\n",
              "      <td>56.0</td>\n",
              "      <td>1</td>\n",
              "      <td>3</td>\n",
              "    </tr>\n",
              "    <tr>\n",
              "      <th>46639</th>\n",
              "      <td>U1000</td>\n",
              "      <td>2019-11-14 01:00:56</td>\n",
              "      <td>[N29641, N1789, N41244]</td>\n",
              "      <td>[N16148-0, N43628-0, N13094-0, N32774-0, N5703...</td>\n",
              "      <td>92.0</td>\n",
              "      <td>2</td>\n",
              "      <td>3</td>\n",
              "    </tr>\n",
              "    <tr>\n",
              "      <th>74344</th>\n",
              "      <td>U1000</td>\n",
              "      <td>2019-11-14 22:37:21</td>\n",
              "      <td>[N29641, N1789, N41244]</td>\n",
              "      <td>[N14478-0, N58264-0, N7494-0, N46917-0, N22257...</td>\n",
              "      <td>57.0</td>\n",
              "      <td>1</td>\n",
              "      <td>3</td>\n",
              "    </tr>\n",
              "  </tbody>\n",
              "</table>\n",
              "</div>\n",
              "      <button class=\"colab-df-convert\" onclick=\"convertToInteractive('df-0d55bbdf-0e47-4652-b931-335b2adc01a2')\"\n",
              "              title=\"Convert this dataframe to an interactive table.\"\n",
              "              style=\"display:none;\">\n",
              "        \n",
              "  <svg xmlns=\"http://www.w3.org/2000/svg\" height=\"24px\"viewBox=\"0 0 24 24\"\n",
              "       width=\"24px\">\n",
              "    <path d=\"M0 0h24v24H0V0z\" fill=\"none\"/>\n",
              "    <path d=\"M18.56 5.44l.94 2.06.94-2.06 2.06-.94-2.06-.94-.94-2.06-.94 2.06-2.06.94zm-11 1L8.5 8.5l.94-2.06 2.06-.94-2.06-.94L8.5 2.5l-.94 2.06-2.06.94zm10 10l.94 2.06.94-2.06 2.06-.94-2.06-.94-.94-2.06-.94 2.06-2.06.94z\"/><path d=\"M17.41 7.96l-1.37-1.37c-.4-.4-.92-.59-1.43-.59-.52 0-1.04.2-1.43.59L10.3 9.45l-7.72 7.72c-.78.78-.78 2.05 0 2.83L4 21.41c.39.39.9.59 1.41.59.51 0 1.02-.2 1.41-.59l7.78-7.78 2.81-2.81c.8-.78.8-2.07 0-2.86zM5.41 20L4 18.59l7.72-7.72 1.47 1.35L5.41 20z\"/>\n",
              "  </svg>\n",
              "      </button>\n",
              "      \n",
              "  <style>\n",
              "    .colab-df-container {\n",
              "      display:flex;\n",
              "      flex-wrap:wrap;\n",
              "      gap: 12px;\n",
              "    }\n",
              "\n",
              "    .colab-df-convert {\n",
              "      background-color: #E8F0FE;\n",
              "      border: none;\n",
              "      border-radius: 50%;\n",
              "      cursor: pointer;\n",
              "      display: none;\n",
              "      fill: #1967D2;\n",
              "      height: 32px;\n",
              "      padding: 0 0 0 0;\n",
              "      width: 32px;\n",
              "    }\n",
              "\n",
              "    .colab-df-convert:hover {\n",
              "      background-color: #E2EBFA;\n",
              "      box-shadow: 0px 1px 2px rgba(60, 64, 67, 0.3), 0px 1px 3px 1px rgba(60, 64, 67, 0.15);\n",
              "      fill: #174EA6;\n",
              "    }\n",
              "\n",
              "    [theme=dark] .colab-df-convert {\n",
              "      background-color: #3B4455;\n",
              "      fill: #D2E3FC;\n",
              "    }\n",
              "\n",
              "    [theme=dark] .colab-df-convert:hover {\n",
              "      background-color: #434B5C;\n",
              "      box-shadow: 0px 1px 3px 1px rgba(0, 0, 0, 0.15);\n",
              "      filter: drop-shadow(0px 1px 2px rgba(0, 0, 0, 0.3));\n",
              "      fill: #FFFFFF;\n",
              "    }\n",
              "  </style>\n",
              "\n",
              "      <script>\n",
              "        const buttonEl =\n",
              "          document.querySelector('#df-0d55bbdf-0e47-4652-b931-335b2adc01a2 button.colab-df-convert');\n",
              "        buttonEl.style.display =\n",
              "          google.colab.kernel.accessAllowed ? 'block' : 'none';\n",
              "\n",
              "        async function convertToInteractive(key) {\n",
              "          const element = document.querySelector('#df-0d55bbdf-0e47-4652-b931-335b2adc01a2');\n",
              "          const dataTable =\n",
              "            await google.colab.kernel.invokeFunction('convertToInteractive',\n",
              "                                                     [key], {});\n",
              "          if (!dataTable) return;\n",
              "\n",
              "          const docLinkHtml = 'Like what you see? Visit the ' +\n",
              "            '<a target=\"_blank\" href=https://colab.research.google.com/notebooks/data_table.ipynb>data table notebook</a>'\n",
              "            + ' to learn more about interactive tables.';\n",
              "          element.innerHTML = '';\n",
              "          dataTable['output_type'] = 'display_data';\n",
              "          await google.colab.output.renderOutput(dataTable, element);\n",
              "          const docLink = document.createElement('div');\n",
              "          docLink.innerHTML = docLinkHtml;\n",
              "          element.appendChild(docLink);\n",
              "        }\n",
              "      </script>\n",
              "    </div>\n",
              "  </div>\n",
              "  "
            ],
            "text/plain": [
              "      UserID                Time  ... Impressions_Click_count History_click_num\n",
              "86766  U1000 2019-11-13 23:16:18  ...                       1                 3\n",
              "46639  U1000 2019-11-14 01:00:56  ...                       2                 3\n",
              "74344  U1000 2019-11-14 22:37:21  ...                       1                 3\n",
              "\n",
              "[3 rows x 7 columns]"
            ]
          },
          "metadata": {},
          "execution_count": 15
        }
      ]
    },
    {
      "cell_type": "markdown",
      "source": [
        "متوجه شدم در مسیر زمان بعد از پیشنهاد دادن اخبار جدید به کاربر و دیده شدن آن، این اخبار به تاریخچه ی داده ها اضافه نشده است\n",
        "\n"
      ],
      "metadata": {
        "id": "jXuA56WeRnA8"
      }
    },
    {
      "cell_type": "markdown",
      "source": [
        "#### update Users dataframe's History after each clicked impression by User"
      ],
      "metadata": {
        "id": "_8OEseLs2CXN"
      }
    },
    {
      "cell_type": "code",
      "source": [
        "# i wanna add clicked impresseion to history for next state\n",
        "#i = 0\n",
        "for users in userID_gp:\n",
        "  #i+=1\n",
        "  #print(i)\n",
        "  new_impression_history = []\n",
        "  counter = 0\n",
        "  for state in users[1].index:\n",
        "    new_impression_state = []\n",
        "    for impression in users[1].loc[state,\"Recommended_Impressions\"]:\n",
        "      if \"-1\" in impression:\n",
        "        news_id_im = impression.split(\"-1\")[0]\n",
        "        new_impression_state.append(news_id_im)\n",
        "        counter+=1   \n",
        "    \n",
        "    if counter>1:\n",
        "      users[1].at[state,\"History\"]+=(new_impression_history)\n",
        "    \n",
        "    new_impression_history += (new_impression_state)\n",
        "\n",
        "  users[1].at[state,\"History\"]+= new_impression_state\n",
        "\n"
      ],
      "metadata": {
        "id": "EzwMVEGUMoyg"
      },
      "execution_count": null,
      "outputs": []
    },
    {
      "cell_type": "code",
      "source": [
        "# #show the resault\n",
        "# userID_gp.get_group((\"U1000\"))\n"
      ],
      "metadata": {
        "colab": {
          "base_uri": "https://localhost:8080/",
          "height": 239
        },
        "id": "SG-DwuJSNhrm",
        "outputId": "1ea6e14d-b9ad-472b-f689-c162422c982b"
      },
      "execution_count": null,
      "outputs": [
        {
          "output_type": "execute_result",
          "data": {
            "text/html": [
              "\n",
              "  <div id=\"df-e63962fd-6e55-41c6-885d-68c59fcc7057\">\n",
              "    <div class=\"colab-df-container\">\n",
              "      <div>\n",
              "<style scoped>\n",
              "    .dataframe tbody tr th:only-of-type {\n",
              "        vertical-align: middle;\n",
              "    }\n",
              "\n",
              "    .dataframe tbody tr th {\n",
              "        vertical-align: top;\n",
              "    }\n",
              "\n",
              "    .dataframe thead th {\n",
              "        text-align: right;\n",
              "    }\n",
              "</style>\n",
              "<table border=\"1\" class=\"dataframe\">\n",
              "  <thead>\n",
              "    <tr style=\"text-align: right;\">\n",
              "      <th></th>\n",
              "      <th>UserID</th>\n",
              "      <th>Time</th>\n",
              "      <th>History</th>\n",
              "      <th>Recommended_Impressions</th>\n",
              "      <th>Impressions_Option_count</th>\n",
              "      <th>Impressions_Click_count</th>\n",
              "      <th>History_click_num</th>\n",
              "    </tr>\n",
              "  </thead>\n",
              "  <tbody>\n",
              "    <tr>\n",
              "      <th>86766</th>\n",
              "      <td>U1000</td>\n",
              "      <td>2019-11-13 23:16:18</td>\n",
              "      <td>[N29641, N1789, N41244]</td>\n",
              "      <td>[N35273-0, N7618-0, N55281-0, N4021-0, N16148-...</td>\n",
              "      <td>56.0</td>\n",
              "      <td>1</td>\n",
              "      <td>3</td>\n",
              "    </tr>\n",
              "    <tr>\n",
              "      <th>46639</th>\n",
              "      <td>U1000</td>\n",
              "      <td>2019-11-14 01:00:56</td>\n",
              "      <td>[N29641, N1789, N41244, N53875]</td>\n",
              "      <td>[N16148-0, N43628-0, N13094-0, N32774-0, N5703...</td>\n",
              "      <td>92.0</td>\n",
              "      <td>2</td>\n",
              "      <td>3</td>\n",
              "    </tr>\n",
              "    <tr>\n",
              "      <th>74344</th>\n",
              "      <td>U1000</td>\n",
              "      <td>2019-11-14 22:37:21</td>\n",
              "      <td>[N29641, N1789, N41244, N53875, N29739, N7670,...</td>\n",
              "      <td>[N14478-0, N58264-0, N7494-0, N46917-0, N22257...</td>\n",
              "      <td>57.0</td>\n",
              "      <td>1</td>\n",
              "      <td>3</td>\n",
              "    </tr>\n",
              "  </tbody>\n",
              "</table>\n",
              "</div>\n",
              "      <button class=\"colab-df-convert\" onclick=\"convertToInteractive('df-e63962fd-6e55-41c6-885d-68c59fcc7057')\"\n",
              "              title=\"Convert this dataframe to an interactive table.\"\n",
              "              style=\"display:none;\">\n",
              "        \n",
              "  <svg xmlns=\"http://www.w3.org/2000/svg\" height=\"24px\"viewBox=\"0 0 24 24\"\n",
              "       width=\"24px\">\n",
              "    <path d=\"M0 0h24v24H0V0z\" fill=\"none\"/>\n",
              "    <path d=\"M18.56 5.44l.94 2.06.94-2.06 2.06-.94-2.06-.94-.94-2.06-.94 2.06-2.06.94zm-11 1L8.5 8.5l.94-2.06 2.06-.94-2.06-.94L8.5 2.5l-.94 2.06-2.06.94zm10 10l.94 2.06.94-2.06 2.06-.94-2.06-.94-.94-2.06-.94 2.06-2.06.94z\"/><path d=\"M17.41 7.96l-1.37-1.37c-.4-.4-.92-.59-1.43-.59-.52 0-1.04.2-1.43.59L10.3 9.45l-7.72 7.72c-.78.78-.78 2.05 0 2.83L4 21.41c.39.39.9.59 1.41.59.51 0 1.02-.2 1.41-.59l7.78-7.78 2.81-2.81c.8-.78.8-2.07 0-2.86zM5.41 20L4 18.59l7.72-7.72 1.47 1.35L5.41 20z\"/>\n",
              "  </svg>\n",
              "      </button>\n",
              "      \n",
              "  <style>\n",
              "    .colab-df-container {\n",
              "      display:flex;\n",
              "      flex-wrap:wrap;\n",
              "      gap: 12px;\n",
              "    }\n",
              "\n",
              "    .colab-df-convert {\n",
              "      background-color: #E8F0FE;\n",
              "      border: none;\n",
              "      border-radius: 50%;\n",
              "      cursor: pointer;\n",
              "      display: none;\n",
              "      fill: #1967D2;\n",
              "      height: 32px;\n",
              "      padding: 0 0 0 0;\n",
              "      width: 32px;\n",
              "    }\n",
              "\n",
              "    .colab-df-convert:hover {\n",
              "      background-color: #E2EBFA;\n",
              "      box-shadow: 0px 1px 2px rgba(60, 64, 67, 0.3), 0px 1px 3px 1px rgba(60, 64, 67, 0.15);\n",
              "      fill: #174EA6;\n",
              "    }\n",
              "\n",
              "    [theme=dark] .colab-df-convert {\n",
              "      background-color: #3B4455;\n",
              "      fill: #D2E3FC;\n",
              "    }\n",
              "\n",
              "    [theme=dark] .colab-df-convert:hover {\n",
              "      background-color: #434B5C;\n",
              "      box-shadow: 0px 1px 3px 1px rgba(0, 0, 0, 0.15);\n",
              "      filter: drop-shadow(0px 1px 2px rgba(0, 0, 0, 0.3));\n",
              "      fill: #FFFFFF;\n",
              "    }\n",
              "  </style>\n",
              "\n",
              "      <script>\n",
              "        const buttonEl =\n",
              "          document.querySelector('#df-e63962fd-6e55-41c6-885d-68c59fcc7057 button.colab-df-convert');\n",
              "        buttonEl.style.display =\n",
              "          google.colab.kernel.accessAllowed ? 'block' : 'none';\n",
              "\n",
              "        async function convertToInteractive(key) {\n",
              "          const element = document.querySelector('#df-e63962fd-6e55-41c6-885d-68c59fcc7057');\n",
              "          const dataTable =\n",
              "            await google.colab.kernel.invokeFunction('convertToInteractive',\n",
              "                                                     [key], {});\n",
              "          if (!dataTable) return;\n",
              "\n",
              "          const docLinkHtml = 'Like what you see? Visit the ' +\n",
              "            '<a target=\"_blank\" href=https://colab.research.google.com/notebooks/data_table.ipynb>data table notebook</a>'\n",
              "            + ' to learn more about interactive tables.';\n",
              "          element.innerHTML = '';\n",
              "          dataTable['output_type'] = 'display_data';\n",
              "          await google.colab.output.renderOutput(dataTable, element);\n",
              "          const docLink = document.createElement('div');\n",
              "          docLink.innerHTML = docLinkHtml;\n",
              "          element.appendChild(docLink);\n",
              "        }\n",
              "      </script>\n",
              "    </div>\n",
              "  </div>\n",
              "  "
            ],
            "text/plain": [
              "      UserID                Time  ... Impressions_Click_count History_click_num\n",
              "86766  U1000 2019-11-13 23:16:18  ...                       1                 3\n",
              "46639  U1000 2019-11-14 01:00:56  ...                       2                 3\n",
              "74344  U1000 2019-11-14 22:37:21  ...                       1                 3\n",
              "\n",
              "[3 rows x 7 columns]"
            ]
          },
          "metadata": {},
          "execution_count": 281
        }
      ]
    },
    {
      "cell_type": "markdown",
      "source": [
        "convert Group Series to dataframe"
      ],
      "metadata": {
        "id": "imFu-aEW2W-p"
      }
    },
    {
      "cell_type": "code",
      "source": [
        "# First make Dataframe From Group Series\n",
        "userID_gp_df = userID_gp.apply(lambda x: x)\n",
        "userID_gp_df"
      ],
      "metadata": {
        "colab": {
          "base_uri": "https://localhost:8080/",
          "height": 641
        },
        "id": "xN-0e2tMPSqs",
        "outputId": "2a2efd07-b546-4ed0-dc85-4e69a1b82978"
      },
      "execution_count": null,
      "outputs": [
        {
          "output_type": "execute_result",
          "data": {
            "text/html": [
              "\n",
              "  <div id=\"df-f43f75ec-63ee-4287-aabb-2d91001a066d\">\n",
              "    <div class=\"colab-df-container\">\n",
              "      <div>\n",
              "<style scoped>\n",
              "    .dataframe tbody tr th:only-of-type {\n",
              "        vertical-align: middle;\n",
              "    }\n",
              "\n",
              "    .dataframe tbody tr th {\n",
              "        vertical-align: top;\n",
              "    }\n",
              "\n",
              "    .dataframe thead th {\n",
              "        text-align: right;\n",
              "    }\n",
              "</style>\n",
              "<table border=\"1\" class=\"dataframe\">\n",
              "  <thead>\n",
              "    <tr style=\"text-align: right;\">\n",
              "      <th></th>\n",
              "      <th>UserID</th>\n",
              "      <th>Time</th>\n",
              "      <th>History</th>\n",
              "      <th>Recommended_Impressions</th>\n",
              "      <th>Impressions_Option_count</th>\n",
              "      <th>Impressions_Click_count</th>\n",
              "      <th>History_click_num</th>\n",
              "    </tr>\n",
              "  </thead>\n",
              "  <tbody>\n",
              "    <tr>\n",
              "      <th>20111</th>\n",
              "      <td>U65916</td>\n",
              "      <td>2019-11-09 00:00:19</td>\n",
              "      <td>[N51706, N40767, N12096, N9798, N38802, N54827...</td>\n",
              "      <td>[N54300-0, N46057-1, N57005-0, N52154-0, N5709...</td>\n",
              "      <td>31.0</td>\n",
              "      <td>3</td>\n",
              "      <td>15</td>\n",
              "    </tr>\n",
              "    <tr>\n",
              "      <th>13806</th>\n",
              "      <td>U49985</td>\n",
              "      <td>2019-11-09 00:01:13</td>\n",
              "      <td>[N5056, N29975, N53234, N39603, N50032, N8422,...</td>\n",
              "      <td>[N20602-0, N50059-0, N57768-1, N50135-1, N1513...</td>\n",
              "      <td>29.0</td>\n",
              "      <td>5</td>\n",
              "      <td>93</td>\n",
              "    </tr>\n",
              "    <tr>\n",
              "      <th>27659</th>\n",
              "      <td>U25550</td>\n",
              "      <td>2019-11-09 00:02:44</td>\n",
              "      <td>[N17260, N38298, N33976, N47719, N14888, N1887...</td>\n",
              "      <td>[N50135-0, N15134-0, N52433-1, N20602-0, N6453...</td>\n",
              "      <td>5.0</td>\n",
              "      <td>1</td>\n",
              "      <td>7</td>\n",
              "    </tr>\n",
              "    <tr>\n",
              "      <th>152216</th>\n",
              "      <td>U19710</td>\n",
              "      <td>2019-11-09 00:02:50</td>\n",
              "      <td>[N3530, N48284, N43019, N62546, N138, N13138, ...</td>\n",
              "      <td>[N57099-0, N30295-0, N21086-0, N5379-0, N57005...</td>\n",
              "      <td>56.0</td>\n",
              "      <td>1</td>\n",
              "      <td>8</td>\n",
              "    </tr>\n",
              "    <tr>\n",
              "      <th>42165</th>\n",
              "      <td>U38106</td>\n",
              "      <td>2019-11-09 00:03:09</td>\n",
              "      <td>[N16874, N264, N48697, N51366, N48925]</td>\n",
              "      <td>[N3491-0, N20602-0, N25785-0, N23575-0, N38783...</td>\n",
              "      <td>48.0</td>\n",
              "      <td>1</td>\n",
              "      <td>4</td>\n",
              "    </tr>\n",
              "    <tr>\n",
              "      <th>...</th>\n",
              "      <td>...</td>\n",
              "      <td>...</td>\n",
              "      <td>...</td>\n",
              "      <td>...</td>\n",
              "      <td>...</td>\n",
              "      <td>...</td>\n",
              "      <td>...</td>\n",
              "    </tr>\n",
              "    <tr>\n",
              "      <th>66233</th>\n",
              "      <td>U717</td>\n",
              "      <td>2019-11-14 23:58:46</td>\n",
              "      <td>[N54822, N46392, N27863, N13138, N40448, N1400...</td>\n",
              "      <td>[N7494-0, N46917-0, N62197-0, N2960-0, N22978-...</td>\n",
              "      <td>37.0</td>\n",
              "      <td>1</td>\n",
              "      <td>6</td>\n",
              "    </tr>\n",
              "    <tr>\n",
              "      <th>36003</th>\n",
              "      <td>U44395</td>\n",
              "      <td>2019-11-14 23:58:47</td>\n",
              "      <td>[N38488, N11231, N14761, N21164, N42128, N7328...</td>\n",
              "      <td>[N48487-0, N41934-0, N64037-0, N63913-0, N5532...</td>\n",
              "      <td>40.0</td>\n",
              "      <td>1</td>\n",
              "      <td>10</td>\n",
              "    </tr>\n",
              "    <tr>\n",
              "      <th>105362</th>\n",
              "      <td>U41595</td>\n",
              "      <td>2019-11-14 23:58:51</td>\n",
              "      <td>[N15457, N64513, N41220, N27349, N40495, N3572...</td>\n",
              "      <td>[N14478-0, N7342-0, N48487-0, N29490-0, N27737...</td>\n",
              "      <td>28.0</td>\n",
              "      <td>1</td>\n",
              "      <td>0</td>\n",
              "    </tr>\n",
              "    <tr>\n",
              "      <th>108432</th>\n",
              "      <td>U75895</td>\n",
              "      <td>2019-11-14 23:59:06</td>\n",
              "      <td>[N1300, N9803, N14114, N31996, N61233]</td>\n",
              "      <td>[N29490-0, N22975-0, N27737-0, N6837-0, N47652...</td>\n",
              "      <td>11.0</td>\n",
              "      <td>1</td>\n",
              "      <td>4</td>\n",
              "    </tr>\n",
              "    <tr>\n",
              "      <th>90251</th>\n",
              "      <td>U82996</td>\n",
              "      <td>2019-11-14 23:59:13</td>\n",
              "      <td>[N39556, N22279, N56461, N33393, N6233, N33617...</td>\n",
              "      <td>[N3678-0, N41934-0, N36786-0, N23535-0, N29490...</td>\n",
              "      <td>17.0</td>\n",
              "      <td>2</td>\n",
              "      <td>23</td>\n",
              "    </tr>\n",
              "  </tbody>\n",
              "</table>\n",
              "<p>156965 rows × 7 columns</p>\n",
              "</div>\n",
              "      <button class=\"colab-df-convert\" onclick=\"convertToInteractive('df-f43f75ec-63ee-4287-aabb-2d91001a066d')\"\n",
              "              title=\"Convert this dataframe to an interactive table.\"\n",
              "              style=\"display:none;\">\n",
              "        \n",
              "  <svg xmlns=\"http://www.w3.org/2000/svg\" height=\"24px\"viewBox=\"0 0 24 24\"\n",
              "       width=\"24px\">\n",
              "    <path d=\"M0 0h24v24H0V0z\" fill=\"none\"/>\n",
              "    <path d=\"M18.56 5.44l.94 2.06.94-2.06 2.06-.94-2.06-.94-.94-2.06-.94 2.06-2.06.94zm-11 1L8.5 8.5l.94-2.06 2.06-.94-2.06-.94L8.5 2.5l-.94 2.06-2.06.94zm10 10l.94 2.06.94-2.06 2.06-.94-2.06-.94-.94-2.06-.94 2.06-2.06.94z\"/><path d=\"M17.41 7.96l-1.37-1.37c-.4-.4-.92-.59-1.43-.59-.52 0-1.04.2-1.43.59L10.3 9.45l-7.72 7.72c-.78.78-.78 2.05 0 2.83L4 21.41c.39.39.9.59 1.41.59.51 0 1.02-.2 1.41-.59l7.78-7.78 2.81-2.81c.8-.78.8-2.07 0-2.86zM5.41 20L4 18.59l7.72-7.72 1.47 1.35L5.41 20z\"/>\n",
              "  </svg>\n",
              "      </button>\n",
              "      \n",
              "  <style>\n",
              "    .colab-df-container {\n",
              "      display:flex;\n",
              "      flex-wrap:wrap;\n",
              "      gap: 12px;\n",
              "    }\n",
              "\n",
              "    .colab-df-convert {\n",
              "      background-color: #E8F0FE;\n",
              "      border: none;\n",
              "      border-radius: 50%;\n",
              "      cursor: pointer;\n",
              "      display: none;\n",
              "      fill: #1967D2;\n",
              "      height: 32px;\n",
              "      padding: 0 0 0 0;\n",
              "      width: 32px;\n",
              "    }\n",
              "\n",
              "    .colab-df-convert:hover {\n",
              "      background-color: #E2EBFA;\n",
              "      box-shadow: 0px 1px 2px rgba(60, 64, 67, 0.3), 0px 1px 3px 1px rgba(60, 64, 67, 0.15);\n",
              "      fill: #174EA6;\n",
              "    }\n",
              "\n",
              "    [theme=dark] .colab-df-convert {\n",
              "      background-color: #3B4455;\n",
              "      fill: #D2E3FC;\n",
              "    }\n",
              "\n",
              "    [theme=dark] .colab-df-convert:hover {\n",
              "      background-color: #434B5C;\n",
              "      box-shadow: 0px 1px 3px 1px rgba(0, 0, 0, 0.15);\n",
              "      filter: drop-shadow(0px 1px 2px rgba(0, 0, 0, 0.3));\n",
              "      fill: #FFFFFF;\n",
              "    }\n",
              "  </style>\n",
              "\n",
              "      <script>\n",
              "        const buttonEl =\n",
              "          document.querySelector('#df-f43f75ec-63ee-4287-aabb-2d91001a066d button.colab-df-convert');\n",
              "        buttonEl.style.display =\n",
              "          google.colab.kernel.accessAllowed ? 'block' : 'none';\n",
              "\n",
              "        async function convertToInteractive(key) {\n",
              "          const element = document.querySelector('#df-f43f75ec-63ee-4287-aabb-2d91001a066d');\n",
              "          const dataTable =\n",
              "            await google.colab.kernel.invokeFunction('convertToInteractive',\n",
              "                                                     [key], {});\n",
              "          if (!dataTable) return;\n",
              "\n",
              "          const docLinkHtml = 'Like what you see? Visit the ' +\n",
              "            '<a target=\"_blank\" href=https://colab.research.google.com/notebooks/data_table.ipynb>data table notebook</a>'\n",
              "            + ' to learn more about interactive tables.';\n",
              "          element.innerHTML = '';\n",
              "          dataTable['output_type'] = 'display_data';\n",
              "          await google.colab.output.renderOutput(dataTable, element);\n",
              "          const docLink = document.createElement('div');\n",
              "          docLink.innerHTML = docLinkHtml;\n",
              "          element.appendChild(docLink);\n",
              "        }\n",
              "      </script>\n",
              "    </div>\n",
              "  </div>\n",
              "  "
            ],
            "text/plain": [
              "        UserID                Time  ... Impressions_Click_count History_click_num\n",
              "20111   U65916 2019-11-09 00:00:19  ...                       3                15\n",
              "13806   U49985 2019-11-09 00:01:13  ...                       5                93\n",
              "27659   U25550 2019-11-09 00:02:44  ...                       1                 7\n",
              "152216  U19710 2019-11-09 00:02:50  ...                       1                 8\n",
              "42165   U38106 2019-11-09 00:03:09  ...                       1                 4\n",
              "...        ...                 ...  ...                     ...               ...\n",
              "66233     U717 2019-11-14 23:58:46  ...                       1                 6\n",
              "36003   U44395 2019-11-14 23:58:47  ...                       1                10\n",
              "105362  U41595 2019-11-14 23:58:51  ...                       1                 0\n",
              "108432  U75895 2019-11-14 23:59:06  ...                       1                 4\n",
              "90251   U82996 2019-11-14 23:59:13  ...                       2                23\n",
              "\n",
              "[156965 rows x 7 columns]"
            ]
          },
          "metadata": {},
          "execution_count": 17
        }
      ]
    },
    {
      "cell_type": "code",
      "source": [
        "# 2nd: Rewrite History_click_num\n",
        "userID_gp_df['History_click_num'] = userID_gp_df['History'].apply(lambda x: len(x))\n",
        "userID_gp_df"
      ],
      "metadata": {
        "colab": {
          "base_uri": "https://localhost:8080/",
          "height": 641
        },
        "id": "AO2LobDIRKig",
        "outputId": "8625f342-32bf-4300-a90e-5ccec1340d49"
      },
      "execution_count": null,
      "outputs": [
        {
          "output_type": "execute_result",
          "data": {
            "text/html": [
              "\n",
              "  <div id=\"df-af516bb5-82bc-43e2-ab85-62da88652b5d\">\n",
              "    <div class=\"colab-df-container\">\n",
              "      <div>\n",
              "<style scoped>\n",
              "    .dataframe tbody tr th:only-of-type {\n",
              "        vertical-align: middle;\n",
              "    }\n",
              "\n",
              "    .dataframe tbody tr th {\n",
              "        vertical-align: top;\n",
              "    }\n",
              "\n",
              "    .dataframe thead th {\n",
              "        text-align: right;\n",
              "    }\n",
              "</style>\n",
              "<table border=\"1\" class=\"dataframe\">\n",
              "  <thead>\n",
              "    <tr style=\"text-align: right;\">\n",
              "      <th></th>\n",
              "      <th>UserID</th>\n",
              "      <th>Time</th>\n",
              "      <th>History</th>\n",
              "      <th>Recommended_Impressions</th>\n",
              "      <th>Impressions_Option_count</th>\n",
              "      <th>Impressions_Click_count</th>\n",
              "      <th>History_click_num</th>\n",
              "    </tr>\n",
              "  </thead>\n",
              "  <tbody>\n",
              "    <tr>\n",
              "      <th>20111</th>\n",
              "      <td>U65916</td>\n",
              "      <td>2019-11-09 00:00:19</td>\n",
              "      <td>[N51706, N40767, N12096, N9798, N38802, N54827...</td>\n",
              "      <td>[N54300-0, N46057-1, N57005-0, N52154-0, N5709...</td>\n",
              "      <td>31.0</td>\n",
              "      <td>3</td>\n",
              "      <td>15</td>\n",
              "    </tr>\n",
              "    <tr>\n",
              "      <th>13806</th>\n",
              "      <td>U49985</td>\n",
              "      <td>2019-11-09 00:01:13</td>\n",
              "      <td>[N5056, N29975, N53234, N39603, N50032, N8422,...</td>\n",
              "      <td>[N20602-0, N50059-0, N57768-1, N50135-1, N1513...</td>\n",
              "      <td>29.0</td>\n",
              "      <td>5</td>\n",
              "      <td>93</td>\n",
              "    </tr>\n",
              "    <tr>\n",
              "      <th>27659</th>\n",
              "      <td>U25550</td>\n",
              "      <td>2019-11-09 00:02:44</td>\n",
              "      <td>[N17260, N38298, N33976, N47719, N14888, N1887...</td>\n",
              "      <td>[N50135-0, N15134-0, N52433-1, N20602-0, N6453...</td>\n",
              "      <td>5.0</td>\n",
              "      <td>1</td>\n",
              "      <td>7</td>\n",
              "    </tr>\n",
              "    <tr>\n",
              "      <th>152216</th>\n",
              "      <td>U19710</td>\n",
              "      <td>2019-11-09 00:02:50</td>\n",
              "      <td>[N3530, N48284, N43019, N62546, N138, N13138, ...</td>\n",
              "      <td>[N57099-0, N30295-0, N21086-0, N5379-0, N57005...</td>\n",
              "      <td>56.0</td>\n",
              "      <td>1</td>\n",
              "      <td>9</td>\n",
              "    </tr>\n",
              "    <tr>\n",
              "      <th>42165</th>\n",
              "      <td>U38106</td>\n",
              "      <td>2019-11-09 00:03:09</td>\n",
              "      <td>[N16874, N264, N48697, N51366, N48925]</td>\n",
              "      <td>[N3491-0, N20602-0, N25785-0, N23575-0, N38783...</td>\n",
              "      <td>48.0</td>\n",
              "      <td>1</td>\n",
              "      <td>5</td>\n",
              "    </tr>\n",
              "    <tr>\n",
              "      <th>...</th>\n",
              "      <td>...</td>\n",
              "      <td>...</td>\n",
              "      <td>...</td>\n",
              "      <td>...</td>\n",
              "      <td>...</td>\n",
              "      <td>...</td>\n",
              "      <td>...</td>\n",
              "    </tr>\n",
              "    <tr>\n",
              "      <th>66233</th>\n",
              "      <td>U717</td>\n",
              "      <td>2019-11-14 23:58:46</td>\n",
              "      <td>[N54822, N46392, N27863, N13138, N40448, N1400...</td>\n",
              "      <td>[N7494-0, N46917-0, N62197-0, N2960-0, N22978-...</td>\n",
              "      <td>37.0</td>\n",
              "      <td>1</td>\n",
              "      <td>8</td>\n",
              "    </tr>\n",
              "    <tr>\n",
              "      <th>36003</th>\n",
              "      <td>U44395</td>\n",
              "      <td>2019-11-14 23:58:47</td>\n",
              "      <td>[N38488, N11231, N14761, N21164, N42128, N7328...</td>\n",
              "      <td>[N48487-0, N41934-0, N64037-0, N63913-0, N5532...</td>\n",
              "      <td>40.0</td>\n",
              "      <td>1</td>\n",
              "      <td>20</td>\n",
              "    </tr>\n",
              "    <tr>\n",
              "      <th>105362</th>\n",
              "      <td>U41595</td>\n",
              "      <td>2019-11-14 23:58:51</td>\n",
              "      <td>[N15457, N64513, N41220, N27349, N40495, N3572...</td>\n",
              "      <td>[N14478-0, N7342-0, N48487-0, N29490-0, N27737...</td>\n",
              "      <td>28.0</td>\n",
              "      <td>1</td>\n",
              "      <td>22</td>\n",
              "    </tr>\n",
              "    <tr>\n",
              "      <th>108432</th>\n",
              "      <td>U75895</td>\n",
              "      <td>2019-11-14 23:59:06</td>\n",
              "      <td>[N1300, N9803, N14114, N31996, N61233]</td>\n",
              "      <td>[N29490-0, N22975-0, N27737-0, N6837-0, N47652...</td>\n",
              "      <td>11.0</td>\n",
              "      <td>1</td>\n",
              "      <td>5</td>\n",
              "    </tr>\n",
              "    <tr>\n",
              "      <th>90251</th>\n",
              "      <td>U82996</td>\n",
              "      <td>2019-11-14 23:59:13</td>\n",
              "      <td>[N39556, N22279, N56461, N33393, N6233, N33617...</td>\n",
              "      <td>[N3678-0, N41934-0, N36786-0, N23535-0, N29490...</td>\n",
              "      <td>17.0</td>\n",
              "      <td>2</td>\n",
              "      <td>27</td>\n",
              "    </tr>\n",
              "  </tbody>\n",
              "</table>\n",
              "<p>156965 rows × 7 columns</p>\n",
              "</div>\n",
              "      <button class=\"colab-df-convert\" onclick=\"convertToInteractive('df-af516bb5-82bc-43e2-ab85-62da88652b5d')\"\n",
              "              title=\"Convert this dataframe to an interactive table.\"\n",
              "              style=\"display:none;\">\n",
              "        \n",
              "  <svg xmlns=\"http://www.w3.org/2000/svg\" height=\"24px\"viewBox=\"0 0 24 24\"\n",
              "       width=\"24px\">\n",
              "    <path d=\"M0 0h24v24H0V0z\" fill=\"none\"/>\n",
              "    <path d=\"M18.56 5.44l.94 2.06.94-2.06 2.06-.94-2.06-.94-.94-2.06-.94 2.06-2.06.94zm-11 1L8.5 8.5l.94-2.06 2.06-.94-2.06-.94L8.5 2.5l-.94 2.06-2.06.94zm10 10l.94 2.06.94-2.06 2.06-.94-2.06-.94-.94-2.06-.94 2.06-2.06.94z\"/><path d=\"M17.41 7.96l-1.37-1.37c-.4-.4-.92-.59-1.43-.59-.52 0-1.04.2-1.43.59L10.3 9.45l-7.72 7.72c-.78.78-.78 2.05 0 2.83L4 21.41c.39.39.9.59 1.41.59.51 0 1.02-.2 1.41-.59l7.78-7.78 2.81-2.81c.8-.78.8-2.07 0-2.86zM5.41 20L4 18.59l7.72-7.72 1.47 1.35L5.41 20z\"/>\n",
              "  </svg>\n",
              "      </button>\n",
              "      \n",
              "  <style>\n",
              "    .colab-df-container {\n",
              "      display:flex;\n",
              "      flex-wrap:wrap;\n",
              "      gap: 12px;\n",
              "    }\n",
              "\n",
              "    .colab-df-convert {\n",
              "      background-color: #E8F0FE;\n",
              "      border: none;\n",
              "      border-radius: 50%;\n",
              "      cursor: pointer;\n",
              "      display: none;\n",
              "      fill: #1967D2;\n",
              "      height: 32px;\n",
              "      padding: 0 0 0 0;\n",
              "      width: 32px;\n",
              "    }\n",
              "\n",
              "    .colab-df-convert:hover {\n",
              "      background-color: #E2EBFA;\n",
              "      box-shadow: 0px 1px 2px rgba(60, 64, 67, 0.3), 0px 1px 3px 1px rgba(60, 64, 67, 0.15);\n",
              "      fill: #174EA6;\n",
              "    }\n",
              "\n",
              "    [theme=dark] .colab-df-convert {\n",
              "      background-color: #3B4455;\n",
              "      fill: #D2E3FC;\n",
              "    }\n",
              "\n",
              "    [theme=dark] .colab-df-convert:hover {\n",
              "      background-color: #434B5C;\n",
              "      box-shadow: 0px 1px 3px 1px rgba(0, 0, 0, 0.15);\n",
              "      filter: drop-shadow(0px 1px 2px rgba(0, 0, 0, 0.3));\n",
              "      fill: #FFFFFF;\n",
              "    }\n",
              "  </style>\n",
              "\n",
              "      <script>\n",
              "        const buttonEl =\n",
              "          document.querySelector('#df-af516bb5-82bc-43e2-ab85-62da88652b5d button.colab-df-convert');\n",
              "        buttonEl.style.display =\n",
              "          google.colab.kernel.accessAllowed ? 'block' : 'none';\n",
              "\n",
              "        async function convertToInteractive(key) {\n",
              "          const element = document.querySelector('#df-af516bb5-82bc-43e2-ab85-62da88652b5d');\n",
              "          const dataTable =\n",
              "            await google.colab.kernel.invokeFunction('convertToInteractive',\n",
              "                                                     [key], {});\n",
              "          if (!dataTable) return;\n",
              "\n",
              "          const docLinkHtml = 'Like what you see? Visit the ' +\n",
              "            '<a target=\"_blank\" href=https://colab.research.google.com/notebooks/data_table.ipynb>data table notebook</a>'\n",
              "            + ' to learn more about interactive tables.';\n",
              "          element.innerHTML = '';\n",
              "          dataTable['output_type'] = 'display_data';\n",
              "          await google.colab.output.renderOutput(dataTable, element);\n",
              "          const docLink = document.createElement('div');\n",
              "          docLink.innerHTML = docLinkHtml;\n",
              "          element.appendChild(docLink);\n",
              "        }\n",
              "      </script>\n",
              "    </div>\n",
              "  </div>\n",
              "  "
            ],
            "text/plain": [
              "        UserID                Time  ... Impressions_Click_count History_click_num\n",
              "20111   U65916 2019-11-09 00:00:19  ...                       3                15\n",
              "13806   U49985 2019-11-09 00:01:13  ...                       5                93\n",
              "27659   U25550 2019-11-09 00:02:44  ...                       1                 7\n",
              "152216  U19710 2019-11-09 00:02:50  ...                       1                 9\n",
              "42165   U38106 2019-11-09 00:03:09  ...                       1                 5\n",
              "...        ...                 ...  ...                     ...               ...\n",
              "66233     U717 2019-11-14 23:58:46  ...                       1                 8\n",
              "36003   U44395 2019-11-14 23:58:47  ...                       1                20\n",
              "105362  U41595 2019-11-14 23:58:51  ...                       1                22\n",
              "108432  U75895 2019-11-14 23:59:06  ...                       1                 5\n",
              "90251   U82996 2019-11-14 23:59:13  ...                       2                27\n",
              "\n",
              "[156965 rows x 7 columns]"
            ]
          },
          "metadata": {},
          "execution_count": 18
        }
      ]
    },
    {
      "cell_type": "code",
      "source": [
        "Category_details = news[['Category','SubCategory']].value_counts()\n",
        "Category_details = Category_details.sort_values(ascending=False) # sort Base on most seen subcategory\n",
        "Category_details"
      ],
      "metadata": {
        "id": "RQDe_mMCGHVq",
        "outputId": "685efb09-0b1e-43b2-a9b0-725016ed08bb",
        "colab": {
          "base_uri": "https://localhost:8080/"
        }
      },
      "execution_count": null,
      "outputs": [
        {
          "output_type": "execute_result",
          "data": {
            "text/plain": [
              "Category      SubCategory            \n",
              "news          newsus                     6564\n",
              "sports        football_nfl               5420\n",
              "news          newspolitics               2826\n",
              "              newscrime                  2254\n",
              "weather       weathertopstories          2047\n",
              "                                         ... \n",
              "lifestyle     travel                        1\n",
              "foodanddrink  foodtips                      1\n",
              "lifestyle     pregnancyparenting            1\n",
              "              lifestylestyle                1\n",
              "finance       finance-insidetheticker       1\n",
              "Length: 283, dtype: int64"
            ]
          },
          "metadata": {},
          "execution_count": 7
        }
      ]
    },
    {
      "cell_type": "markdown",
      "source": [
        "# Find most repeated words\n"
      ],
      "metadata": {
        "id": "xyTMxh8WXl1H"
      }
    },
    {
      "cell_type": "code",
      "source": [
        "from wordcloud import WordCloud\n",
        "import matplotlib.pyplot as plt\n",
        "import re\n",
        "from nltk.corpus import stopwords\n",
        "import nltk\n",
        "nltk.download('stopwords')\n"
      ],
      "metadata": {
        "id": "Mt80NvMfPXU_",
        "colab": {
          "base_uri": "https://localhost:8080/"
        },
        "outputId": "f03be9ac-b85e-456d-e6c9-2a6e01b2d238"
      },
      "execution_count": null,
      "outputs": [
        {
          "output_type": "stream",
          "name": "stdout",
          "text": [
            "[nltk_data] Downloading package stopwords to /root/nltk_data...\n",
            "[nltk_data]   Unzipping corpora/stopwords.zip.\n"
          ]
        },
        {
          "output_type": "execute_result",
          "data": {
            "text/plain": [
              "True"
            ]
          },
          "metadata": {},
          "execution_count": 9
        }
      ]
    },
    {
      "cell_type": "code",
      "source": [
        "### sport\n",
        "text=' '\n",
        "for i in news[news['Category']=='sports']['Title']:\n",
        "    text+=i+' '\n",
        "    \n",
        "# Make the figure\n",
        "wordcloud = WordCloud(width=800, height=800, max_words=20).generate(text)\n",
        "plt.figure()\n",
        "plt.imshow(wordcloud, interpolation=\"bilinear\")\n",
        "plt.axis(\"off\")\n",
        "\n",
        "plt.show()"
      ],
      "metadata": {
        "id": "aCcsjkQSDPqQ",
        "colab": {
          "base_uri": "https://localhost:8080/",
          "height": 248
        },
        "outputId": "f9bf7366-f761-4c7b-d6fc-f6870f70e95b"
      },
      "execution_count": null,
      "outputs": [
        {
          "output_type": "display_data",
          "data": {
            "image/png": "[encoded data removed]",
            "text/plain": [
              "<Figure size 432x288 with 1 Axes>"
            ]
          },
          "metadata": {
            "needs_background": "light"
          }
        }
      ]
    },
    {
      "cell_type": "code",
      "source": [
        "### news\n",
        "text=' '\n",
        "for i in news[news['Category']=='news']['Title']:\n",
        "    text+=i+' '\n",
        "    \n",
        "# Make the figure\n",
        "wordcloud = WordCloud(width=800, height=800, max_words=20).generate(text)\n",
        "plt.figure()\n",
        "plt.imshow(wordcloud, interpolation=\"bilinear\")\n",
        "plt.axis(\"off\")\n",
        "\n",
        "plt.show()"
      ],
      "metadata": {
        "id": "UvNnzKbHHyiD",
        "colab": {
          "base_uri": "https://localhost:8080/",
          "height": 248
        },
        "outputId": "af36a6fd-b54d-4e57-fbcc-68c36c1556e8"
      },
      "execution_count": null,
      "outputs": [
        {
          "output_type": "display_data",
          "data": {
            "image/png": "[encoded data removed]",
            "text/plain": [
              "<Figure size 432x288 with 1 Axes>"
            ]
          },
          "metadata": {
            "needs_background": "light"
          }
        }
      ]
    },
    {
      "cell_type": "markdown",
      "source": [
        "Histogram For Title Length"
      ],
      "metadata": {
        "id": "2wYrdC6ERQJh"
      }
    },
    {
      "cell_type": "code",
      "source": [
        "t=[]\n",
        "for i in news['Title']:\n",
        "    t.append(len(i))\n",
        "  \n",
        "px.histogram(t,color=news['Category'])\n",
        "## as we see most of titles have 50 - 100 words!!"
      ],
      "metadata": {
        "id": "tZ-ci9TFPjGB",
        "colab": {
          "base_uri": "https://localhost:8080/",
          "height": 542
        },
        "outputId": "0c5598e3-4835-4dfd-d50c-736ae27309f6"
      },
      "execution_count": null,
      "outputs": [
        {
          "output_type": "display_data",
          "data": {
            "text/html": [
              "<html>\n",
              "<head><meta charset=\"utf-8\" /></head>\n",
              "<body>\n",
              "    <div>            <script src=\"https://cdnjs.cloudflare.com/ajax/libs/mathjax/2.7.5/MathJax.js?config=TeX-AMS-MML_SVG\"></script><script type=\"text/javascript\">if (window.MathJax) {MathJax.Hub.Config({SVG: {font: \"STIX-Web\"}});}</script>                <script type=\"text/javascript\">window.PlotlyConfig = {MathJaxConfig: 'local'};</script>\n",
              "        <script src=\"https://cdn.plot.ly/plotly-2.8.3.min.js\"></script>                <div id=\"9fd80e0a-1fad-4393-9b8c-791e21615e15\" class=\"plotly-graph-div\" style=\"height:525px; width:100%;\"></div>            <script type=\"text/javascript\">                                    window.PLOTLYENV=window.PLOTLYENV || {};                                    if (document.getElementById(\"9fd80e0a-1fad-4393-9b8c-791e21615e15\")) {                    Plotly.newPlot(                        \"9fd80e0a-1fad-4393-9b8c-791e21615e15\",                        [{\"alignmentgroup\":\"True\",\"bingroup\":\"x\",\"hovertemplate\":\"color=lifestyle<br>value=%{x}<br>count=%{y}<extra></extra>\",\"legendgroup\":\"lifestyle\",\"marker\":{\"color\":\"#636efa\",\"pattern\":{\"shape\":\"\"}},\"name\":\"lifestyle\",\"offsetgroup\":\"lifestyle\",\"orientation\":\"v\",\"showlegend\":true,\"x\":[70,50,35,42,61,53,81,46,36,78,69,49,45,65,65,41,56,50,55,57,64,72,34,55,68,59,66,51,94,29,58,71,68,78,52,92,72,87,61,49,53,44,63,69,53,85,59,53,85,73,51,38,84,48,53,56,56,86,39,44,46,60,72,54,52,66,43,114,70,47,46,56,38,50,46,39,52,29,55,46,70,72,66,90,77,131,53,66,73,25,84,95,57,68,62,50,65,79,40,50,65,74,63,46,41,51,61,51,94,43,61,65,62,78,51,50,55,40,49,70,58,53,73,40,26,60,58,76,46,40,42,48,75,50,53,76,75,53,44,66,136,50,42,49,74,58,78,51,140,40,85,88,82,55,90,48,41,29,78,51,51,56,51,70,60,50,55,53,68,75,43,59,99,78,59,54,52,43,44,82,51,48,48,56,38,47,45,125,54,64,54,89,53,72,47,93,50,59,54,55,68,58,76,67,84,78,79,44,50,65,46,39,48,90,42,41,44,153,42,84,61,46,74,95,95,59,63,90,72,50,56,52,81,43,41,128,47,44,41,59,49,60,140,77,50,42,66,39,67,44,54,71,50,64,77,55,40,64,66,54,62,54,60,53,92,71,91,58,48,38,45,53,15,70,51,102,37,81,45,68,20,54,69,44,56,120,87,71,63,70,53,63,60,101,58,51,44,50,44,58,68,57,82,73,46,111,72,60,57,55,57,57,80,82,72,55,55,60,28,50,44,59,34,30,49,72,63,88,53,59,54,101,32,51,62,73,61,61,65,73,39,64,112,85,74,92,108,69,59,117,61,59,69,54,71,33,100,46,56,55,49,61,64,53,76,45,63,64,38,30,56,77,95,72,106,39,90,50,50,67,35,117,85,39,50,74,85,57,50,96,73,100,65,52,45,66,66,38,42,101,64,55,76,71,60,42,55,55,64,48,63,56,66,43,78,44,77,63,56,39,42,92,91,40,52,62,42,31,103,58,35,30,57,83,73,29,51,61,43,63,49,76,95,65,63,39,52,80,94,29,65,64,120,56,54,47,89,43,68,81,65,46,60,96,45,92,110,26,70,51,65,117,35,47,34,47,60,52,61,99,99,55,44,37,81,59,54,57,52,102,72,83,109,39,87,86,49,51,67,85,84,84,59,53,38,56,68,51,43,40,62,36,62,55,52,63,54,37,52,82,68,52,96,94,64,51,65,48,59,56,47,67,51,80,77,67,60,38,60,92,42,30,64,60,53,51,78,82,68,55,66,89,76,53,46,60,68,65,55,34,73,47,46,41,98,63,42,43,52,64,58,44,54,65,52,80,87,58,55,73,68,63,59,37,81,74,86,53,58,56,75,56,46,84,72,43,58,61,45,56,57,45,60,84,36,57,73,74,39,39,88,30,49,52,49,77,59,71,56,27,64,72,47,78,77,32,74,63,60,63,108,22,36,78,105,71,70,82,60,41,58,84,42,195,54,50,55,52,86,56,54,58,68,74,47,75,68,82,49,81,69,55,50,65,45,74,44,65,115,43,41,87,41,81,103,39,88,142,47,77,47,68,62,86,50,84,68,67,142,57,40,78,77,57,73,42,62,59,49,42,15,56,28,42,67,34,82,41,41,24,66,68,94,63,51,88,48,73,100,89,87,58,50,37,60,56,29,59,67,71,69,59,66,46,61,72,48,45,68,91,61,56,55,32,81,30,57,83,91,62,99,60,112,94,76,39,70,80,78,72,75,65,66,51,25,94,84,84,61,63,44,79,48,83,71,44,72,54,64,87,91,49,65,60,45,74,110,73,49,91,68,70,69,51,57,94,63,45,68,83,47,47,51,41,43,76,36,24,85,73,49,122,63,62,57,33,69,50,73,48,44,80,85,75,38,55,75,92,86,53,83,81,119,49,67,44,120,112,66,63,76,44,63,44,47,52,42,82,50,85,103,55,41,66,89,64,94,44,70,46,76,35,100,63,100,83,56,63,69,70,81,60,89,58,64,75,77,76,57,32,80,56,36,15,85,101,43,70,78,86,85,53,67,52,51,56,62,49,74,82,49,74,77,69,70,77,67,36,76,52,91,43,83,48,54,55,92,74,101,162,34,38,80,57,79,76,74,25,49,65,98,84,81,93,48,69,41,46,75,79,84,68,70,53,120,52,87,70,51,60,64,56,44,68,62,90,50,72,64,86,22,52,105,51,58,71,92,81,63,45,47,71,64,62,53,62,58,36,48,83,69,129,61,75,100,81,91,126,75,49,84,44,99,70,89,44,60,92,47,48,62,49,74,71,63,62,66,96,59,67,89,89,45,55,93,71,69,31,74,76,61,74,41,96,93,59,39,87,70,70,69,58,60,52,31,43,112,49,70,37,82,33,26,69,70,37,45,83,80,66,51,135,47,45,69,74,61,68,68,61,58,82,66,53,63,81,42,64,52,56,67,44,45,81,62,48,64,82,62,52,53,91,53,44,92,70,57,38,52,29,75,45,61,58,43,39,27,65,19,50,92,40,57,107,42,61,63,87,76,31,70,38,79,74,95,57,80,58,53,91,69,35,56,69,68,58,39,71,66,54,64,44,33,15,61,101,51,65,63,69,64,42,75,26,70,92,87,83,87,113,65,90,63,62,60,53,74,34,76,26,86,136,36,55,46,41,65,68,66,45,89,68,63,36,53,50,57,81,35,87,79,75,56,60,60,37,97,78,66,47,112,56,83,82,52,50,73,77,87,84,69,48,108,66,101,88,58,92,74,81,45,65,71,62,37,68,60,43,83,74,64,87,94,79,63,81,73,48,51,98,73,79,43,47,74,68,82,54,77,54,47,41,76,58,101,61,147,52,40,65,89,93,50,58,48,83,56,148,76,73,87,43,50,15,114,93,155,58,78,104,64,92,65,61,53,69,54,66,44,62,64,71,83,52,54,80,62,89,61,62,45,49,71,92,74,51,58,66,46,102,45,89,75,67,75,26,74,85,68,88,69,65,52,15,44,89,30,97,49,49,62,55,49,56,84,55,54,82,56,55,60,75,108,93,40,69,41,92,62,82,60,54,62,83,50,61,62,90,95,93,55,64,62,59,89,29,50,78,84,48,55,58,15,43,75,55,44,88,58,56,73,54,49,63,53,51,47,46,94,110,82,87,79,70,77,94,60,99,27,31,87,91,56,91,60,45,28,36,69,79,95,44,15,81,44,66,82,57,35,80,62,34,34,63,64,52,45,76,34,40,55,67,46,87,94,59,58,79,89,70,67,86,54,44,94,84,28,38,35,68,93,40,81,75,102,65,56,64,56,67,63,71,70,63,74,64,81,49,67,88,63,119,73,29,69,37,35,58,74,59,67,79,65,95,66,66,48,41,51,91,27,27,86,35,60,50,105,39,69,42,60,54,64,66,48,37,119,91,59,68,62,92,43,90,40,57,58,82,87,54,89,62,47,147,85,89,80,42,48,15,89,70,91,46,75,49,128,41,80,61,166,57,76,31,90,68,58,57,50,113,60,45,36,60,100,57,105,44,94,59,71,124,99,122,99,49,94,96,76,46,97,87,45,113,62,49,57,38,73,66,63,74,40,86,42,59,59,51,102,52,40,72,58,44,90,41,142,63,61,37,39,78,112,68,73,105,65,62,62,89,68,66,39,63,39,64,72,27,75,85,45,62,66,97,47,70,78,91,82,63,70,53,66,46,59,52,72,40,57,60,53,51,51,59,62,45,40,55,85,57,59,81,52,56,42,72,61,56,50,53,25,44,82,68,69,76,63,69,36,79,49,25,69,48,64,72,62,52,65,48,42,62,63,62,70,33,45,64,51,62,67,36,66,68,34,59,89,50,60,73,60,72,38,71,71,55,55,71,59,70,46,49,24,35,46,41,60,61,53,79,76,45,45,73,66,76,56,77,52,83,49,72,34,31,68,56,63,79,49,55,72,50,38,68,54,38,57,73,37,33,72,54,28,46,61,73,41,67,62,86,32,70,58,69,39,61,51,57,48,56,54,53,93,24,61,90,80,60,84,50,66,36,68,49,39,55,57,65,68,83,84,43,58,97,84,72,38,56,15,64,60,72,44,15,50,71,72,87,82,91,45,54,37,43,66,84,82,64,44,51,76,79,162,58,65,128,49,113,67,79,38,49,81,85,55,62,39,61,129,90,86,47,87,65,79,72,61,43,39,80,61,130,94,95,84,53,61,76,63,72,67,52,53,80,43,68,58,90,75,63,56,43,89,83,39,83,82,66,41,47,54,91,70,90,92,62,65,64,41,69,87,69,102,62,90,74,60,113,25,61,49,78,62,44,31,78,96,53,55,69,76,63,60,114,92,76,52,90,48,53,74,63,81,54,53,82,57,84,99,78,78,79,55,49,60,64,60,53,49,60,75,50,87,75,37,60,82,60,84,98,90,32,59,77,44,87,72,15,69,65,54,60,88,59,88,32,90,76,73,47,61,43,115,61,25,85,69,75,61,107,75,70,92,41,70,17,64,59,73,76,48,69,68,45,87,97,71,91,66,86,94,99,33,82,59,84,91,67,66,45,75,38,58,67,81,68,79,64,85,55,58,61,84,60,45,107,73,83,97,55,74,85,72,74,72,77,95,80,70,83,48,70,52,74,64,65,91,49,58,61,62,67,47,27,40,43,45,116,48,48,59,47,54,90,38,97,41,41,87,42,143,51,80,68,76,82,43,75,61,43,50,73,50,109,78,102,86,61,91,46,32,75,59,41,97,69,70,64,101,100,58,50,79,74,78,35,38,44,51,69,93,82,81,86,68,65,60,56,93,63,106,76,91,93,39,85,44,83,56,82,56,41,84,52,73,79,78,63,57,54,93,40,89,57,83,53,88,85,53,29,80,36,55,67,176,15,66,51,82,56,50,37,60,64,82,36,45,58,39,34,50,67,54,41,62,117,76,75,69,99,61,70,53,79,82,83,59,24,40,61,124,73,51,61,73,74,96,60,49,34,69,78,93,40,87,94,55,82,30,88,67,66,72,62,78,67,36,81,113,62,56,88,62,73,70,85,85,74,37,81,60,57,101,98,72,63,59,64,62,57,60,82,53,68,42,139,57,54,81,70,70,91,84,76,90,60,43,64,71,85,82,102,53,51,73,61,122,68,68,72,79,72,47,32,15,77,112,89,75,50,67,76,56,78,70,41,90,79,59,72,96,68,54,90,108,66,65,58,174,47,70,92,109,77,40,90,68,80,33,48,60,66,41,48,76,71,94,69,62,54,40,55,63,72,61,66,65,88,72,66,63,85,65,68,55,59,75,59,45,60,53,63,85,61,65,36,69,87,71,67,65,51,58,63,31,91,55,73,76,97,66,70,72,63,41,45,74,73,89,34,55,62,58,48,50,56,89,79,72,63,75,68,78,30,89,82,44,61,82,60,78,60,92,52,49,88,50,53,38,60,77,65,77,73,60,76,109,105,46,57,39,67,99,74,97,84,112,73,87,69,65,54,68,44,73,83,80,36,70,62,74,84,58,54,68,54,88,57,66,81,65,60,84,87,70,77,119,83,87,64,55,45,70,52,85,70,57,67,94,66,69,79,68,82,67,77,62,65,60,72,59,58,72,76,86,73,43,50,56,56,57,38,71,60,93,68,82,57,69],\"xaxis\":\"x\",\"yaxis\":\"y\",\"type\":\"histogram\"},{\"alignmentgroup\":\"True\",\"bingroup\":\"x\",\"hovertemplate\":\"color=health<br>value=%{x}<br>count=%{y}<extra></extra>\",\"legendgroup\":\"health\",\"marker\":{\"color\":\"#EF553B\",\"pattern\":{\"shape\":\"\"}},\"name\":\"health\",\"offsetgroup\":\"health\",\"orientation\":\"v\",\"showlegend\":true,\"x\":[29,59,57,58,56,76,78,68,55,52,58,71,67,45,48,42,56,96,77,34,77,33,51,53,88,37,63,67,80,28,66,23,29,53,173,68,70,50,67,24,61,51,52,75,74,23,104,95,74,36,68,61,60,57,52,70,66,57,171,64,34,66,83,43,53,86,42,39,39,56,160,60,83,34,59,67,60,49,52,81,37,59,50,85,36,83,29,34,73,70,61,69,61,91,28,37,90,52,70,43,47,55,102,67,77,79,78,55,79,78,45,78,65,78,62,43,76,65,43,31,84,71,106,78,68,50,73,74,73,40,86,76,66,89,54,35,40,41,50,85,81,51,42,71,38,67,73,86,80,53,67,50,76,68,66,94,99,33,72,89,88,82,50,89,46,90,70,44,88,64,63,57,57,34,78,42,43,70,69,29,58,75,80,50,43,168,29,70,89,70,42,70,49,52,76,77,33,102,68,87,57,83,48,42,48,64,97,54,77,53,44,52,55,76,34,45,78,51,74,71,70,80,92,72,41,31,44,60,72,45,116,96,82,61,83,42,49,77,39,44,61,85,82,56,61,63,45,60,54,50,64,80,42,69,43,67,34,48,34,51,63,33,54,38,70,67,38,93,62,54,45,73,63,76,64,60,115,28,28,71,30,95,92,60,55,79,51,60,78,105,74,73,84,51,38,67,73,66,65,91,41,63,35,50,53,88,43,69,84,88,48,82,76,134,45,70,66,32,51,37,114,40,92,42,59,50,59,44,58,101,70,58,53,77,43,63,76,58,74,54,81,72,43,84,69,68,79,86,53,42,55,59,46,67,60,77,80,39,43,69,69,67,40,110,80,72,66,39,72,72,59,62,61,140,56,44,70,34,98,57,45,73,95,53,91,33,36,66,90,64,88,57,64,80,69,69,63,66,40,67,65,63,45,33,55,89,29,32,51,95,57,68,67,28,66,41,26,43,39,76,67,63,53,59,75,90,66,81,79,45,74,82,89,59,77,73,49,59,60,96,53,41,62,39,37,61,53,53,63,89,79,33,96,48,80,57,81,52,52,91,75,49,81,95,61,39,42,87,69,93,53,43,88,72,72,103,97,38,64,63,78,59,63,49,49,27,65,87,59,67,92,64,38,48,78,70,97,72,46,83,85,83,73,67,61,63,78,92,38,58,86,79,79,83,58,62,70,118,81,63,60,53,84,39,72,42,97,70,38,86,109,52,46,55,82,37,79,74,79,67,65,49,83,50,78,65,64,38,101,95,52,43,63,57,66,78,49,52,91,49,62,97,92,51,60,69,49,56,62,63,78,51,79,58,74,56,92,64,71,61,79,64,135,65,48,80,35,62,111,76,51,96,27,37,59,53,68,87,56,49,52,43,65,58,80,81,41,95,81,72,51,69,58,75,69,61,61,74,70,69,36,104,99,69,40,85,66,47,48,73,56,67,73,62,33,92,98,65,72,52,82,43,86,55,75,71,59,45,56,97,79,79,83,101,41,57,64,50,35,61,76,116,70,36,105,37,77,46,59,61,82,53,32,93,51,66,90,63,70,54,82,53,45,140,68,61,90,103,86,67,82,65,89,72,54,102,60,98,71,67,57,66,67,61,57,48,42,34,188,91,86,55,65,44,71,60,36,34,66,62,76,90,88,70,102,49,89,70,87,57,76,78,95,62,63,102,80,58,53,49,87,53,62,80,41,70,56,85,182,62,95,74,43,96,115,39,75,36,37,69,85,83,130,65,51,91,77,59,55,79,51,97,81,45,54,32,56,81,68,56,53,65,41,54,68,61,69,47,45,93,75,69,121,89,58,56,59,63,97,65,106,42,72,45,39,52,78,33,59,60,69,97,70,89,34,54,28,58,63,72,89,44,63,58,93,82,37,93,75,39,86,97,75,75,80,43,77,72,40,78,48,50,76,125,72,72,57,45,35,54,55,63,65,80,51,74,52,90,51,81,27,78,59,26,60,72,91,46,61,59,94,87,47,80,96,70,52,65,64,61,48,58,41,39,48,71,55,107,109,46,78,41,36,82,39,96,109,66,97,70,63,56,78,96,64,78,75,44,69,83,57,30,87,67,80,32,80,68,57,77,59,87,51,69,101,54,90,56,56,51,64,95,69,71,74,44,50,70,73,67,68,45,106,24,78,39,139,84,78,77,60,54,41,89,84,88,50,68,53,60,80,62,49,77,55,79,99,159,74,89,55,63,80,76,51,42,60,59,65,42,67,60,81,78,52,77,66,65,75,90,72,62,57,106,64,81,67,63,74,51,52,89,60,64,39,90,63,77,96,119,63,174,49,82,54,48,86,114,100,53,74,62,40,56,72,70,70,43,41,63,52,60,54,45,40,85,80,82,75,64,70,75,60,40,56,61,82,46,116,56,62,61,85,54,99,65,67,86,96,44,42,96,87,51,51,104,74,87,51,99,49,33,70,66,85,55,36,103,48,65,80,82,68,44,97,91,64,95,79,56,81,74,76,45,46,55,78,76,47,50,35,74,32,54,47,76,69,68,31,41,50,92,57,59,88,65,48,67,49,92,64,68,58,54,48,75,69,50,78,102,54,64,96,88,71,89,58,48,68,100,58,79,40,41,60,63,87,54,54,78,44,58,39,61,43,86,70,80,71,79,95,60,57,63,53,59,103,46,64,102,48,75,68,41,87,69,56,58,74,83,65,59,79,58,71,82,32,77,76,100,86,82,67,71,38,28,50,66,65,66,71,64,79,56,30,66,53,63,91,79,56,64,84,78,71,55,88,47,47,53,71,52,92,58,62,68,69,93,70,84,115,44,67,109,85,76,62,75,57,77,60,27,74,46,56,73,58,48,36,71,58,37,100,44,63,61,45,49,61,83,74,40,90,84,101,75,43,62,61,69,50,75,78,79,104,48,55,62,86,73,55,57,68,58,69,73,49,51,63,72,102,73,65,59,76,54,55,57,49,89,67,68,85,53,43,38,73,37,58,60,63,59,40,42,65,61,59,51,58,52,69,57,71,66,75,39,49,90,50,77,99,52,94,79,72,57,38,57,82,67,72,58,44,49,27,60,50,57,61,63,62,75,56,79,48,54,63,72,72,54,80,56,142,67,77,64,60,75,71,69,62,73,84,77,68,69,93,41,51,81,72,74,83,50,63,78,69,95,68,53,63,50,71,86,43,81,45,58,41,93,90,31,58,62,56,53,81,37,48,50,63,45,55,47,76,95,65,89,47,30,77,102,53,27,87,39,70,46,50,93,73,91,70,56,83,65,65,94,65,60,71,62,59,101,77,90,54,50,52,93,61,39,54,95,49,65,79,32,74,87,62,47,81,40,69,58,43,59,30,79,61,109,68,90,81,43,71,55,71,47,78,53,63,83,58,111,45,93,45,84,52,88,53,48,72,80,61,104,52,65,58,57,84,86,84,84,66,54,73,39,89,69,81,54,112,77,64,50,44,47,42,42,65,107,74,97,49,83,78,84,50,58,35,84,37,62,78,70,69,68,60,54,43,69,63,116,46,57,71,58,49,61,80,65,54,62,56,60,52,41,56,54,96,50,73,77,71,68,59,105,58,59,77,63,65,55,71,77,59,46,49,53,63,61,82,64,63,69,61,131,87,84,68,58,99,36,91,74,41,43,65,59,52,67,62,95,94,72,81,54,70,46,49,88,48,71,62,61,32,67,70,69,79,46,57,80,59,58,54,73,53,70,56,60,59,41,70,57,91,41,62,37,76,103,79,65,67,86,95,79,48,92,65,57,78,81,50,74,56,97,52,81,50,56,62,35,73,60,63,82,52,80,95,74,69,70,87,60,42,56,67,60,49,72,49,54,49,53,63,71,58,85,65,71,67,59,89,58,84,65,65,61,55,62,66,71,53,55,35,79,62,76,44,61,79,66,81,60,69,38,84,85,71,63,68,93,70,64,25,51,60,54,46,69,58,84,100,55,60,75,93,83,101,77,71,59,68,89,74,62,79,76,79,105,82,58,45,96,67,59,94,75,62,58,64,67,48,149,69,80,55,54,157,88,90,84,64,48,76,74,55,65,53,63,72,58,67,59,55,81,85,51,60,76,63,88,47,106,88,43,17,45,37,68,61,70,95,62,85,66,81,67,76,49,63,52,58,67,36,70,54,86,56,50,47,67,87,51,93,83,35,41,72,69,115,57,56,82,68,87,105,90,61,36,70,44,101,74,61,79,68,53,48,58,45,69,49,66,67,42,48,58,84,74,28,89,68,66,37,68,46,53,48,97,66,89,71,83,79,81,56,79,44,74,70],\"xaxis\":\"x\",\"yaxis\":\"y\",\"type\":\"histogram\"},{\"alignmentgroup\":\"True\",\"bingroup\":\"x\",\"hovertemplate\":\"color=news<br>value=%{x}<br>count=%{y}<extra></extra>\",\"legendgroup\":\"news\",\"marker\":{\"color\":\"#00cc96\",\"pattern\":{\"shape\":\"\"}},\"name\":\"news\",\"offsetgroup\":\"news\",\"orientation\":\"v\",\"showlegend\":true,\"x\":[63,50,46,54,62,53,60,41,63,98,28,20,52,87,76,78,73,110,62,59,59,94,55,115,85,70,52,89,72,89,89,85,62,80,42,87,68,89,80,83,49,34,56,79,68,59,28,61,85,61,56,64,62,87,68,54,80,67,56,98,67,49,62,84,54,66,74,110,85,86,89,67,74,44,54,93,86,53,72,49,91,104,96,79,51,61,43,75,68,60,69,61,133,82,33,64,62,63,69,17,62,53,75,28,76,52,41,65,60,59,83,89,39,74,100,47,83,72,87,53,47,152,65,75,52,76,58,52,83,52,75,65,61,59,79,95,74,77,101,59,69,56,78,75,41,74,46,72,63,53,47,145,60,85,67,48,76,60,57,98,54,58,55,85,39,54,70,70,54,70,63,71,59,88,63,64,53,77,48,65,94,94,50,54,29,78,52,76,73,60,59,58,61,64,68,73,51,74,79,102,60,62,60,65,60,60,62,88,59,46,62,88,127,74,71,74,64,124,89,78,59,58,39,65,80,46,55,78,72,68,77,96,104,79,77,49,89,28,77,57,80,71,55,55,60,55,63,76,82,62,82,49,67,75,61,56,51,64,76,49,88,57,54,29,55,60,67,59,57,41,39,66,91,36,46,52,80,60,104,72,53,88,49,76,59,56,62,81,92,36,76,25,47,62,59,68,58,46,108,92,57,34,58,59,49,49,45,68,50,86,97,77,105,88,88,28,76,64,67,70,61,58,17,58,79,53,67,55,60,92,60,69,84,54,52,41,98,47,60,50,98,72,58,75,81,58,56,59,101,55,55,76,72,73,54,62,98,25,55,55,62,72,46,83,73,59,34,58,69,71,60,39,69,70,64,95,108,89,47,64,51,71,71,84,54,65,57,67,68,67,89,58,112,89,60,47,93,240,76,66,61,78,74,98,55,64,58,48,52,84,79,72,25,59,67,97,62,78,83,107,70,55,73,44,72,80,67,28,140,79,70,73,98,97,87,64,56,71,61,53,63,81,66,64,73,80,96,79,72,63,72,34,78,58,69,48,84,80,55,112,52,56,64,58,48,76,84,75,76,56,60,66,66,80,101,74,42,58,51,63,31,86,77,47,99,110,76,69,62,78,57,58,63,75,65,34,91,48,49,38,58,57,75,63,99,61,69,46,65,82,94,41,71,61,54,74,58,35,68,73,77,52,36,61,63,55,62,28,49,56,58,57,61,66,32,69,58,76,54,64,52,49,58,80,97,107,64,57,63,103,55,72,92,72,48,74,72,45,87,63,74,68,63,70,66,69,59,42,70,54,89,70,76,25,94,40,58,55,101,66,56,60,61,60,34,53,73,76,58,78,50,63,61,73,62,96,65,54,87,37,57,75,25,63,99,71,66,84,71,52,43,59,87,64,112,49,89,89,71,56,34,58,52,77,46,33,51,58,23,63,93,79,71,64,75,71,88,61,70,85,92,76,68,92,87,67,59,32,60,55,61,67,85,61,62,75,118,71,71,39,43,83,71,65,65,54,63,39,80,50,93,54,45,98,50,86,63,67,94,66,68,91,79,58,58,87,54,59,28,51,87,66,32,54,75,87,64,57,57,88,51,72,58,55,53,52,60,73,59,40,78,57,54,60,28,49,29,52,56,31,114,46,75,73,99,60,85,63,75,57,104,58,50,122,47,55,42,78,65,103,83,95,61,106,70,55,60,83,38,47,79,94,69,66,90,63,53,151,82,54,56,65,53,95,51,55,65,73,54,87,85,91,73,70,88,53,55,60,65,83,102,81,78,61,65,56,64,59,95,63,84,22,75,62,96,54,57,75,101,65,56,76,55,64,53,91,64,61,54,78,102,75,49,76,53,61,73,53,71,97,82,81,73,67,90,119,81,66,53,83,87,72,79,48,57,60,45,86,84,91,54,60,84,87,80,68,66,66,77,60,67,66,85,50,88,56,35,77,104,69,76,67,72,78,59,61,106,38,90,100,84,75,86,69,84,69,78,66,87,78,51,57,66,55,124,91,63,64,67,84,91,65,96,77,80,58,60,56,84,63,66,92,112,79,45,67,108,90,90,67,69,95,93,79,64,40,89,64,80,85,63,136,64,65,93,57,64,69,94,81,63,79,62,51,65,66,62,71,94,63,70,88,70,87,76,79,80,67,83,85,73,64,58,76,49,91,62,67,61,74,40,87,75,63,64,54,80,61,66,57,85,60,80,65,70,62,75,82,66,58,73,73,55,71,49,72,73,71,58,63,28,73,83,90,75,60,106,60,54,45,60,68,52,85,62,62,62,79,49,67,69,83,56,93,101,65,57,160,92,81,89,99,74,78,88,65,63,58,81,77,70,50,59,101,65,117,70,75,37,51,51,71,57,79,44,83,22,76,92,69,75,78,56,77,75,70,42,94,77,57,47,105,72,70,50,65,91,84,80,74,69,84,98,48,105,83,66,68,34,76,89,48,58,54,70,78,88,52,63,87,53,62,71,86,62,45,69,30,74,104,64,69,88,69,64,61,54,69,112,52,78,63,73,64,82,102,43,26,71,49,80,88,62,111,65,80,65,67,71,65,62,30,91,52,89,66,40,53,58,71,26,68,55,67,104,56,21,88,76,55,42,36,78,56,59,86,60,96,84,97,83,58,42,76,54,60,104,58,44,114,134,46,75,77,69,45,33,56,76,93,23,94,56,60,72,51,87,97,75,67,85,72,99,48,57,56,48,47,93,60,40,44,86,46,60,68,71,76,58,74,51,51,47,55,83,102,59,61,85,62,86,60,76,67,120,76,94,94,51,48,47,47,48,70,50,41,68,67,77,45,55,58,60,33,82,107,45,60,59,99,86,78,87,64,111,73,73,73,57,48,65,61,83,64,89,59,28,88,62,55,70,88,87,68,83,58,70,68,96,64,61,79,68,64,63,65,79,56,31,61,54,56,43,56,69,91,90,76,88,56,80,88,56,52,56,92,69,106,83,60,90,76,51,92,82,62,73,70,66,41,56,77,81,58,71,66,50,98,61,78,86,78,74,70,51,54,60,69,63,63,70,53,63,82,83,40,67,31,86,94,52,63,63,141,40,45,69,62,52,88,77,41,98,81,76,106,51,91,75,78,62,66,68,57,81,132,59,109,50,147,83,61,78,75,64,80,38,97,86,70,84,71,64,75,61,79,59,96,81,71,75,79,63,75,71,53,70,58,59,108,60,66,100,66,93,53,80,54,52,54,62,78,58,65,38,58,67,69,38,51,74,130,86,47,57,66,57,58,88,60,100,39,100,67,52,109,86,77,81,60,75,86,71,48,38,59,74,98,87,64,101,54,56,61,84,66,58,40,85,85,108,86,73,98,44,97,57,49,86,60,82,88,87,60,62,65,94,84,107,55,54,28,29,68,86,63,66,56,59,56,171,63,49,76,37,95,54,53,69,78,51,121,37,64,75,93,56,28,72,60,57,101,85,68,75,41,63,48,55,71,55,117,70,58,75,58,53,126,62,79,59,50,55,60,77,50,55,58,76,92,78,41,72,75,87,64,98,64,86,60,63,103,59,71,76,63,111,98,59,58,81,74,89,79,101,66,60,49,88,68,89,71,84,58,78,72,60,98,55,91,65,83,29,76,88,44,80,53,107,45,48,94,111,88,54,69,48,51,61,66,38,68,54,49,57,72,37,45,77,44,85,118,84,60,90,69,100,55,90,65,57,184,34,52,58,57,51,67,55,71,92,56,60,48,30,57,84,67,54,60,82,63,49,44,58,84,87,48,75,86,68,63,73,59,54,109,58,41,69,64,81,72,62,76,84,85,101,59,61,60,69,96,94,90,67,123,55,55,90,82,68,98,70,63,79,62,67,65,58,85,56,93,46,60,112,65,80,71,70,81,23,100,109,64,62,79,54,29,64,23,66,74,58,60,67,56,63,59,109,49,55,59,85,62,60,68,69,33,78,77,103,63,60,111,56,83,76,51,82,77,60,63,79,36,59,97,80,62,54,111,48,82,73,78,64,111,63,61,50,61,60,55,59,57,84,56,64,65,86,65,101,53,55,88,97,82,65,55,67,83,52,52,54,72,43,68,60,55,29,51,72,78,95,69,57,60,58,75,68,48,87,78,97,66,60,75,57,49,88,84,53,58,86,54,128,48,35,68,85,46,58,98,76,112,65,69,90,66,85,54,87,54,84,71,50,54,67,89,77,72,114,84,129,66,87,62,68,149,53,54,69,48,93,56,88,77,59,53,63,98,46,83,70,63,74,81,95,56,92,51,58,55,52,74,57,89,79,53,67,54,42,91,78,89,50,68,47,59,60,55,60,67,60,81,59,61,95,72,78,74,76,53,54,66,38,39,90,52,59,90,66,64,56,78,100,43,65,78,81,70,69,60,58,48,59,61,59,58,67,46,75,77,77,71,70,99,65,62,85,63,63,60,88,30,62,39,59,81,117,116,82,53,90,90,124,56,28,58,71,24,66,62,60,65,55,67,56,63,49,76,63,71,59,60,66,54,49,62,64,85,97,61,60,76,100,58,63,73,92,57,62,55,56,34,76,65,91,98,68,78,51,70,77,59,60,67,72,101,56,65,52,56,56,52,75,53,55,77,57,58,69,60,58,81,65,68,54,73,114,51,99,63,55,83,65,88,116,88,59,117,76,84,62,51,95,53,63,89,65,57,79,67,49,83,57,65,87,44,103,72,38,52,69,54,65,50,107,63,62,76,45,66,85,58,52,79,99,66,60,64,78,65,53,72,61,52,71,71,71,88,119,116,99,75,60,99,82,77,65,66,51,71,74,80,51,57,84,54,101,53,57,63,54,102,44,60,75,78,85,71,75,57,70,84,53,65,58,79,77,77,85,53,85,78,74,58,59,50,63,57,67,80,90,59,55,67,82,94,90,102,95,55,54,112,59,58,69,72,62,79,114,37,60,84,87,67,79,64,92,107,137,71,73,45,57,80,63,46,102,43,88,60,70,71,81,83,59,61,72,50,48,76,87,78,80,62,45,69,78,48,70,78,73,69,77,70,103,90,141,71,113,70,55,67,69,68,56,45,57,82,77,92,59,60,79,52,45,68,54,63,56,76,75,76,78,76,41,57,85,71,61,80,64,57,42,60,56,79,69,67,93,63,51,81,83,38,70,84,90,49,87,58,56,89,82,39,53,42,59,55,77,67,32,72,57,51,67,56,61,71,60,62,64,62,79,92,74,63,40,58,65,94,56,56,74,63,45,87,17,73,52,59,64,94,48,46,77,88,83,50,63,73,91,58,64,115,65,55,63,41,89,102,53,91,88,70,81,47,67,98,77,58,86,101,60,49,67,63,62,50,70,54,72,58,84,59,76,90,112,63,60,61,63,57,78,100,82,82,62,85,84,65,78,85,64,67,48,38,75,49,98,48,72,71,65,62,60,73,48,63,45,160,127,72,59,94,76,100,109,39,71,75,58,87,76,51,56,90,117,49,93,96,87,38,57,87,71,62,57,53,64,67,70,62,70,72,112,53,45,76,105,58,66,57,84,84,75,92,81,68,83,57,48,59,60,64,49,53,40,84,45,69,69,72,46,17,45,63,39,87,72,87,56,70,80,55,39,88,108,76,53,64,41,85,47,37,115,79,48,91,82,89,65,55,75,80,81,57,66,77,58,73,64,54,48,37,68,63,72,58,23,87,60,92,78,93,41,41,49,77,117,53,72,80,51,77,67,69,54,16,74,59,62,82,58,72,89,79,85,106,56,49,52,62,62,56,59,101,52,64,49,88,91,82,59,67,40,74,64,89,73,50,80,86,83,51,59,89,33,53,80,79,77,50,59,75,52,68,65,92,57,54,67,76,50,87,102,101,78,72,57,100,62,32,101,42,49,76,54,96,98,61,77,58,68,32,56,63,87,28,60,80,89,47,63,78,60,49,84,38,82,20,57,79,66,91,85,56,74,60,61,62,82,65,63,73,47,80,69,72,66,92,62,103,43,86,45,76,66,60,73,49,117,69,42,70,50,94,73,85,78,64,65,56,56,69,60,76,61,64,43,86,63,85,68,30,38,64,66,55,83,57,83,63,88,52,76,96,46,75,76,67,64,62,110,92,60,77,60,67,84,71,50,77,58,71,65,73,81,71,71,58,66,52,72,73,55,59,81,100,47,55,76,58,85,60,104,63,71,67,70,28,81,55,47,75,103,30,78,50,25,86,75,63,87,60,79,75,85,64,25,65,74,77,88,69,72,153,79,52,73,59,77,70,68,65,89,92,56,38,86,75,108,65,83,94,60,68,78,57,47,77,64,64,69,60,62,94,64,76,90,58,87,65,73,60,103,68,60,73,66,65,17,49,58,71,55,66,47,56,75,58,54,53,50,63,57,60,77,97,73,39,98,28,77,101,28,90,74,58,68,104,85,61,54,69,66,58,129,94,88,68,39,94,70,40,103,60,60,88,77,97,72,117,81,58,86,97,71,84,67,50,82,83,83,55,80,57,38,54,94,65,79,60,75,54,65,62,70,78,77,52,54,105,42,63,74,50,84,41,49,60,38,76,85,65,112,84,55,78,76,52,47,77,60,69,74,46,76,69,62,56,47,67,84,161,37,76,112,82,82,75,99,85,69,87,84,77,66,102,62,70,56,89,60,68,92,42,74,63,107,61,57,50,47,56,91,87,46,89,65,58,86,77,80,89,100,48,65,59,58,63,104,67,54,35,84,36,92,85,84,67,57,75,46,81,107,73,60,92,71,93,45,60,80,58,81,87,49,98,61,61,41,98,99,49,80,83,67,90,80,73,78,101,99,74,73,46,86,42,87,74,81,85,65,67,91,85,59,61,84,68,109,99,59,79,71,71,85,61,78,54,104,60,85,47,57,50,84,59,75,103,85,88,82,100,29,89,67,59,71,82,74,73,72,124,93,86,91,56,86,103,70,83,41,61,77,87,70,69,73,41,49,59,95,71,78,62,66,65,71,66,51,80,90,60,92,66,71,63,57,49,67,79,56,51,100,83,83,99,75,80,106,43,61,102,80,58,69,54,63,25,66,78,66,79,45,38,64,69,92,82,52,57,61,66,70,73,64,52,64,57,81,71,64,58,59,67,47,78,80,64,79,59,65,92,81,83,75,70,89,78,50,60,70,72,82,94,77,85,82,76,76,28,67,77,87,46,59,49,53,110,56,55,90,95,94,77,57,67,67,51,33,54,83,64,64,42,44,59,77,78,63,65,28,109,70,91,52,103,54,66,56,70,65,76,82,84,50,61,78,106,93,106,55,66,65,80,57,69,72,46,70,56,80,74,76,42,81,93,48,104,45,72,90,63,71,80,78,51,59,58,49,51,61,56,63,64,52,75,52,102,85,86,50,84,89,67,54,58,72,76,55,83,63,49,44,80,56,72,19,63,41,49,68,49,80,52,78,81,87,85,58,77,77,53,73,64,95,55,64,95,82,75,82,85,95,114,55,71,71,79,84,59,91,80,151,41,64,56,69,88,84,74,65,92,64,91,60,60,61,75,65,98,64,58,71,71,75,50,44,59,52,66,44,74,69,68,77,96,65,57,73,89,66,104,68,58,59,62,56,87,32,68,90,49,40,66,89,65,87,58,95,84,90,51,91,79,92,67,170,63,70,86,87,66,107,40,44,41,65,68,70,54,74,78,71,87,57,71,65,57,79,57,111,72,113,52,60,92,80,66,85,60,97,91,55,105,82,42,87,80,119,102,58,72,48,89,47,60,63,67,70,65,77,127,77,67,67,53,97,67,65,58,59,44,69,74,48,59,67,110,59,49,85,104,86,72,87,79,101,63,35,50,60,111,43,75,51,68,64,89,63,79,75,45,66,54,58,74,90,80,71,56,94,103,72,78,87,56,50,70,62,96,49,107,80,73,82,57,62,46,66,36,46,116,69,74,80,63,59,60,57,26,38,108,81,70,57,70,83,64,113,69,79,44,70,57,81,96,48,138,81,73,59,86,127,67,88,57,60,75,77,62,75,67,77,87,59,92,69,73,66,59,56,60,53,52,114,54,81,50,61,36,90,77,37,76,70,52,99,78,94,56,60,38,98,70,87,77,69,55,56,95,61,69,57,92,69,77,77,59,34,53,62,89,78,63,60,49,63,90,93,62,81,62,51,78,85,84,67,39,84,84,73,76,123,70,73,85,56,53,56,64,82,82,61,92,70,67,87,52,54,82,117,92,63,62,94,89,78,65,82,46,71,50,90,77,60,52,61,93,82,79,43,71,81,60,130,70,56,101,101,79,47,52,55,104,37,54,93,86,61,56,42,59,76,60,68,72,70,93,90,25,43,54,82,69,108,52,64,108,102,37,83,66,73,87,66,43,55,108,56,84,69,103,55,57,67,60,75,64,82,56,43,56,56,75,60,37,44,74,81,112,77,106,97,57,59,83,81,52,48,74,57,70,87,84,72,45,112,62,66,59,95,78,78,75,58,136,55,59,64,80,75,45,78,71,77,81,77,49,78,72,59,71,98,69,56,78,70,111,67,71,76,62,64,100,90,25,92,57,74,64,58,93,77,71,28,66,77,79,94,56,63,60,56,71,53,77,131,45,67,81,56,75,67,83,83,70,58,65,82,53,17,61,59,90,48,68,78,82,63,78,85,76,39,49,69,54,39,58,75,67,56,45,76,73,56,45,60,83,80,28,63,73,100,62,56,81,86,94,65,79,69,75,84,80,68,59,71,69,73,57,94,117,69,83,77,70,68,58,50,84,60,71,58,41,55,65,43,49,89,61,109,63,64,114,66,39,36,76,71,66,75,85,63,54,46,121,59,69,59,59,66,65,47,83,66,64,56,75,71,84,76,70,38,72,78,45,48,64,71,89,80,82,84,83,77,74,101,60,97,76,59,35,64,70,74,59,88,95,54,65,62,78,84,53,51,41,70,59,52,31,88,88,70,51,87,85,68,84,75,66,79,80,55,68,86,96,39,79,70,69,69,74,55,58,30,100,60,52,46,76,95,82,67,54,67,46,93,74,88,84,69,54,73,64,56,75,20,60,78,92,77,61,60,100,59,68,69,58,58,57,72,33,73,55,83,83,77,80,84,59,105,56,84,107,28,80,59,61,55,61,72,69,68,94,83,51,69,105,49,66,69,75,61,67,53,67,63,70,116,87,66,61,83,78,68,37,81,107,67,76,92,97,86,97,94,70,74,88,86,77,39,63,79,71,55,49,33,106,110,75,68,59,55,67,72,100,59,91,71,81,105,102,66,59,79,47,60,66,62,79,78,66,81,95,92,101,109,68,51,80,73,66,74,87,60,56,45,41,59,33,53,44,72,133,61,83,47,58,60,68,61,93,82,65,57,73,65,82,77,53,108,71,64,81,52,64,73,71,59,71,59,60,60,52,92,77,81,36,105,51,82,78,46,100,71,70,75,52,73,64,66,64,90,86,73,93,82,79,65,49,98,112,73,55,52,61,56,43,79,85,74,64,52,60,80,76,90,69,54,71,78,57,79,51,84,66,66,50,66,65,66,54,85,72,48,51,72,102,61,72,84,51,61,54,77,56,88,62,60,83,73,60,51,70,55,54,66,52,63,78,43,89,61,55,70,46,69,84,61,49,58,50,76,54,28,52,73,59,80,62,75,64,65,70,94,51,59,90,64,60,68,111,62,69,60,65,44,70,61,61,88,41,44,49,72,68,64,98,100,71,71,68,82,32,91,60,115,54,93,62,104,68,85,53,83,60,49,64,47,77,64,70,70,57,66,55,49,45,77,112,75,72,80,69,77,77,65,50,73,70,62,73,58,97,109,82,82,63,46,90,68,66,49,106,87,71,54,80,87,76,71,59,61,78,49,48,17,67,62,60,50,80,91,66,65,63,73,67,54,74,86,110,51,59,57,71,64,68,82,83,63,58,67,111,59,69,63,64,107,69,23,75,64,64,81,70,77,66,62,55,77,74,43,94,37,76,57,81,144,53,70,73,77,100,60,80,142,92,47,59,58,61,47,56,55,82,61,57,81,61,57,52,61,43,77,50,49,79,79,101,67,64,94,33,71,50,75,63,78,44,64,61,88,55,100,70,91,60,64,79,60,64,84,72,59,81,65,87,38,43,57,90,89,62,54,61,58,67,52,95,78,70,57,60,48,58,49,45,61,77,56,46,130,64,71,65,60,77,157,68,57,92,86,56,68,81,45,81,65,61,57,54,47,47,81,80,80,21,99,42,36,94,102,46,72,83,79,44,48,62,69,39,59,60,59,77,64,55,69,57,69,119,50,56,63,35,57,69,70,73,97,60,57,60,68,58,89,51,74,78,97,65,69,85,57,64,72,48,89,59,83,98,74,46,103,52,75,66,91,60,95,59,31,70,61,61,108,51,47,58,58,90,50,69,72,57,70,47,50,49,69,93,74,59,77,59,66,68,68,125,66,62,87,108,60,78,96,74,61,62,58,66,80,61,86,80,65,89,72,49,61,71,92,80,78,85,81,96,58,73,80,69,84,90,104,119,59,75,61,55,79,66,54,60,77,58,77,38,59,54,90,80,70,104,94,57,66,97,83,80,70,84,59,31,117,80,84,57,80,64,65,65,79,60,56,47,102,88,58,86,62,75,69,55,27,67,69,58,41,82,106,56,52,92,62,112,89,60,58,59,70,108,58,56,50,98,73,66,48,70,57,63,80,59,72,68,59,73,77,71,97,61,49,34,67,45,109,58,51,80,60,98,67,62,59,56,55,87,53,81,61,58,76,61,53,71,71,78,45,64,57,76,56,58,94,95,72,71,51,66,72,98,60,111,65,61,47,63,84,75,60,74,98,69,66,52,57,80,61,59,58,60,52,60,93,61,72,77,100,78,137,63,60,63,65,36,65,83,64,92,27,86,63,51,62,72,101,59,41,80,62,75,51,64,86,57,40,83,108,49,60,72,57,58,89,53,62,94,45,61,72,58,65,67,68,59,53,81,73,83,71,67,76,70,49,58,55,56,57,46,91,78,79,68,58,60,62,91,54,67,59,56,78,78,56,50,42,61,89,76,58,44,61,62,54,91,90,59,57,47,63,84,94,91,78,76,77,99,72,78,71,47,61,77,62,77,49,154,84,65,84,102,72,75,42,63,62,56,64,56,57,78,57,85,84,40,56,46,132,56,94,56,88,56,81,69,77,99,89,54,60,91,64,41,80,74,85,65,70,59,77,56,60,80,69,86,76,80,50,56,41,61,28,63,55,50,106,70,63,60,40,86,76,74,79,50,54,64,63,80,87,65,56,54,57,93,64,72,83,44,55,58,49,57,114,52,34,40,84,102,93,110,78,48,56,82,61,84,77,69,87,81,76,77,57,59,73,85,42,50,97,52,55,57,51,59,97,55,84,98,74,57,92,50,55,62,158,57,92,82,100,62,63,64,78,85,68,52,65,75,62,68,98,56,56,99,36,42,71,60,83,58,50,33,59,98,91,53,49,55,56,74,72,90,96,53,89,62,66,47,75,79,61,96,83,88,45,81,86,76,60,74,52,82,90,53,42,67,41,67,72,81,59,75,75,60,56,84,63,83,93,45,67,88,78,72,82,74,54,54,104,50,81,74,81,81,68,55,59,65,99,104,66,141,79,104,73,61,85,42,52,98,80,100,40,90,59,71,90,64,65,42,80,79,109,63,70,140,112,110,84,59,59,72,56,72,68,87,60,79,73,80,68,61,69,52,56,60,68,60,28,57,76,69,78,84,86,44,47,98,98,54,60,75,80,59,60,77,59,59,107,57,64,81,80,87,70,58,51,58,70,88,77,110,57,70,89,77,79,63,83,67,29,91,88,64,92,84,78,62,91,93,87,48,94,48,63,47,81,50,57,33,72,66,53,110,84,90,66,64,48,82,93,56,50,80,66,59,71,37,78,57,100,63,57,58,56,65,77,58,40,112,64,43,81,103,49,53,76,67,92,59,81,62,75,44,55,59,54,64,68,61,30,81,54,93,70,73,67,47,59,66,63,72,76,87,66,63,58,67,66,88,58,88,52,53,59,50,59,104,66,50,105,89,145,68,99,64,75,60,92,63,34,66,53,66,114,65,88,56,62,74,64,65,42,89,69,73,70,85,58,94,94,79,59,58,105,99,75,66,37,44,106,81,57,56,78,85,62,71,107,55,109,71,88,64,88,51,69,36,52,98,30,55,75,81,69,61,58,63,28,61,52,82,58,90,89,60,71,40,61,73,76,67,81,57,79,64,69,45,76,83,88,17,69,48,34,60,110,82,59,55,61,79,57,37,89,59,91,45,74,55,74,105,62,73,77,65,58,67,57,114,58,98,84,76,49,51,55,102,63,47,73,70,47,70,54,65,76,68,66,53,97,66,75,53,61,78,62,91,62,79,45,79,69,67,58,18,66,30,58,44,75,53,73,77,69,77,79,103,85,105,89,84,29,93,98,138,63,59,61,36,92,78,60,62,93,52,79,79,83,80,64,55,57,76,77,41,35,100,61,47,75,55,60,51,75,68,54,81,68,68,86,60,58,86,106,79,78,81,73,75,48,38,72,120,64,56,81,70,47,25,66,42,70,130,89,84,55,50,69,68,88,64,64,63,63,96,86,70,73,62,73,46,44,82,69,76,43,75,72,98,92,100,71,94,66,45,59,74,48,54,63,115,50,53,121,53,92,67,101,81,65,96,134,71,79,100,114,74,84,99,58,60,69,91,52,70,61,79,57,79,67,68,54,95,72,52,46,76,134,65,54,74,44,74,79,54,69,129,57,68,65,86,43,93,62,63,61,89,81,78,67,67,43,49,62,68,92,63,76,89,53,58,66,80,60,92,63,66,49,60,69,44,58,63,95,55,46,70,113,64,64,67,85,102,50,46,56,60,53,54,63,76,66,82,72,53,88,101,104,87,57,111,85,60,62,87,48,70,79,44,87,68,71,87,58,86,68,64,67,67,23,70,76,66,48,94,127,72,65,85,55,92,80,54,74,63,69,92,64,42,98,60,78,99,68,40,79,73,56,55,101,76,66,58,53,64,67,57,56,77,55,92,93,49,65,54,65,78,56,60,76,87,80,88,92,77,92,42,79,68,106,67,59,72,83,61,74,70,64,65,64,70,97,74,52,62,68,59,97,41,76,89,63,68,58,48,101,66,58,64,59,43,57,60,49,81,95,41,63,87,64,89,36,81,94,67,63,64,49,68,59,72,59,59,69,50,77,64,81,57,78,42,80,68,38,84,58,62,62,63,56,49,100,74,51,72,75,59,67,64,57,31,65,113,51,106,99,70,81,92,79,71,104,65,110,58,67,67,88,84,83,45,94,54,77,61,58,66,71,67,72,64,78,64,82,61,79,53,80,59,43,57,100,49,87,74,68,73,66,60,45,44,56,103,59,63,93,67,93,42,69,86,99,61,59,76,92,57,76,68,67,99,85,81,106,34,60,65,100,97,58,69,72,80,61,60,56,56,83,58,70,64,67,52,87,82,98,87,69,73,59,44,55,93,49,55,38,67,65,84,93,76,53,68,57,50,72,54,50,60,123,110,75,49,212,77,76,53,59,69,107,69,82,87,114,100,65,37,51,75,93,72,75,62,50,56,44,132,66,56,61,55,61,78,41,84,55,76,34,75,60,57,59,69,45,54,48,75,59,79,84,62,169,91,75,67,137,96,79,33,73,46,101,59,71,73,75,54,68,56,63,59,86,53,58,73,70,80,83,85,106,61,76,56,40,75,73,82,76,99,61,74,62,60,72,68,39,67,44,70,69,55,92,59,107,78,53,83,49,40,55,77,72,86,91,98,53,85,115,64,69,58,91,45,63,61,68,64,69,78,55,50,70,85,67,78,56,70,75,64,74,65,81,54,55,74,81,94,58,71,59,76,48,59,62,64,60,78,55,90,87,71,74,72,64,91,52,47,61,85,48,33,89,76,58,92,149,57,47,63,66,71,66,59,54,97,73,49,86,74,85,57,95,78,53,91,117,79,60,77,80,63,63,47,72,83,85,62,87,67,55,66,70,76,64,79,90,37,114,86,59,51,47,76,49,58,72,48,61,52,102,73,81,43,58,60,81,67,48,53,68,77,79,81,49,96,36,101,70,76,64,85,81,61,68,49,53,66,54,68,108,72,52,65,66,59,76,62,100,63,47,67,79,43,54,75,92,69,78,98,43,78,108,50,69,61,93,85,118,53,70,37,57,43,81,58,54,61,73,70,56,80,62,98,75,59,71,80,28,67,79,83,71,89,78,49,71,67,51,88,74,84,78,62,58,81,76,51,62,61,66,50,108,39,67,54,127,67,102,58,80,40,76,91,73,50,88,35,52,65,43,62,52,52,59,67,56,71,46,127,52,72,65,112,60,94,64,82,75,78,56,33,57,40,79,88,53,58,58,67,52,52,81,66,114,84,57,51,73,89,61,74,56,19,78,51,99,76,68,64,80,77,71,87,88,78,71,59,75,80,53,111,53,84,110,57,81,76,103,52,85,64,48,104,66,60,80,67,81,76,145,49,61,90,82,46,72,74,82,60,85,70,80,58,81,71,57,88,81,55,75,37,70,87,89,64,60,107,46,72,75,96,109,69,100,53,100,54,59,45,85,50,65,59,83,57,54,84,71,56,57,78,59,54,96,59,49,43,62,85,83,60,76,49,69,72,28,90,86,54,78,62,64,58,74,71,73,60,91,60,77,63,70,59,83,82,69,98,80,17,57,93,62,81,68,87,77,99,113,91,71,69,71,58,108,40,85,105,60,48,51,98,61,61,65,94,80,67,104,58,69,65,74,144,103,77,57,102,57,73,81,71,83,121,79,102,67,64,115,83,87,59,76,80,86,78,55,54,92,57,57,62,97,55,54,83,76,45,42,137,71,59,54,76,37,72,35,89,64,46,67,59,85,59,66,76,104,85,80,53,64,62,75,72,45,75,64,78,92,54,62,69,74,73,107,101,88,56,58,67,18,47,104,79,61,102,51,52,67,59,77,36,70,61,87,75,69,59,71,50,91,86,68,65,27,72,91,37,69,83,46,60,73,88,100,66,82,68,49,47,66,73,53,71,39,71,57,73,76,80,70,65,83,91,63,57,95,59,60,46,73,90,53,96,70,111,36,80,123,67,62,50,88,49,67,65,52,67,64,80,76,71,51,75,57,68,85,47,20,49,63,116,54,89,55,87,69,93,57,62,126,89,112,43,89,57,55,75,55,31,59,90,80,84,43,63,115,106,60,74,85,77,74,81,85,70,91,64,71,82,86,84,66,120,70,108,61,121,72,66,73,83,52,65,65,85,118,62,54,96,57,93,60,73,45,49,71,85,50,59,79,64,86,93,85,71,39,74,79,45,50,57,70,91,93,80,80,121,57,60,78,48,60,97,117,76,43,58,54,68,51,69,47,60,69,63,65,96,69,50,71,88,55,110,108,68,63,38,67,84,48,70,79,61,48,76,60,56,70,63,58,62,81,44,56,78,51,109,40,100,71,88,69,78,68,77,62,65,38,64,72,139,36,48,34,88,84,52,57,117,84,66,95,20,78,69,48,111,49,56,89,70,75,84,54,62,49,70,63,73,48,52,105,58,66,57,57,56,104,81,58,58,72,82,104,81,78,45,62,57,101,59,63,62,82,90,116,63,82,55,30,79,89,96,72,81,95,118,59,63,55,68,81,59,40,62,86,62,158,69,75,76,88,53,65,54,90,34,83,65,90,52,65,251,107,53,69,64,95,76,67,68,36,83,65,83,48,62,114,93,79,78,31,61,50,86,63,76,54,80,92,60,59,83,65,82,85,69,59,68,57,105,45,85,52,51,96,74,51,79,62,57,98,76,96,97,74,79,58,86,93,38,66,47,71,53,64,70,67,82,59,95,55,52,78,60,62,80,85,57,59,95,61,60,49,110,60,56,57,53,57,70,40,50,94,63,59,86,88,70,80,106,50,54,59,83,53,63,88,85,79,72,113,61,48,74,75,96,81,83,64,82,69,68,60,55,76,75,90,95,93,84,90,79,102,65,25,50,45,47,105,92,74,80,30,99,44,64,89,86,73,97,60,87,97,107,71,72,87,69,85,88,62,70,68,83,59,59,74,65,101,60,91,75,28,83,87,76,110,36,41,41,67,71,67,60,74,83,55,70,48,51,87,46,62,75,59,68,108,28,52,59,66,95,56,66,45,48,94,85,86,75,100,17,47,64,50,65,61,81,84,84,67,76,57,52,63,81,62,83,56,93,50,39,64,74,79,60,64,42,59,62,59,55,85,45,63,81,69,64,43,81,62,57,72,76,86,93,64,98,73,72,57,88,58,64,85,131,34,28,60,59,60,59,68,62,62,63,67,61,86,91,85,66,69,76,63,66,86,89,98,76,69,79,66,60,93,62,60,59,65,74,64,82,69,95,73,51,69,91,66,29,71,61,60,39,70,97,57,71,99,64,38,63,40,85,48,90,72,54,52,45,63,73,86,98,128,110,85,76,77,85,59,68,85,48,82,77,71,52,70,51,51,64,49,57,87,71,57,21,56,77,67,77,81,49,41,91,92,101,48,69,63,87,65,85,58,33,48,56,71,92,66,43,58,97,98,41,55,75,53,76,66,82,87,28,76,72,110,59,67,64,91,56,91,42,73,58,57,69,89,75,53,52,37,71,76,104,113,59,85,96,73,48,137,52,92,104,75,63,68,53,64,66,67,88,71,53,82,70,76,43,48,78,61,89,73,45,49,68,72,76,65,83,61,72,123,90,70,67,77,58,84,86,70,77,63,64,27,96,69,59,95,95,45,69,65,110,45,82,74,77,56,79,67,90,29,43,65,82,95,69,70,85,88,92,73,52,73,75,81,87,99,49,66,63,85,79,69,73,108,47,67,102,48,55,64,70,75,88,76,54,46,73,71,94,86,93,65,66,56,52,58,52,80,52,54,54,120,62,46,42,52,96,111,52,79,75,59,113,66,59,52,57,71,58,60,83,78,56,70,79,45,54,71,84,48,64,82,82,91,101,63,85,79,83,60,93,17,95,56,51,84,75,58,64,50,56,76,54,54,55,59,76,83,63,55,74,86,47,103,58,56,87,97,40,69,72,39,106,98,43,52,55,51,82,84,70,60,63,59,49,100,86,54,67,75,61,70,65,34,73,56,53,34,79,68,57,64,63,87,59,72,75,156,88,69,93,66,86,57,102,76,76,107,42,54,37,59,100,56,84,54,65,39,55,55,28,78,83,60,43,90,40,65,64,43,78,58,77,67,73,64,53,65,84,79,78,98,80,69,60,130,60,71,60,58,80,70,58,61,75,47,119,59,88,39,80,75,62,72,68,54,73,81,64,46,78,57,99,68,88,85,62,63,88,82,43,93,86,71,32,71,66,76,79,59,31,75,64,82,49,87,98,76,71,73,102,75,75,71,73,82,60,120,73,59,52,45,48,93,91,68,72,67,71,39,53,78,102,72,54,28,87,90,79,59,53,87,79,90,68,64,37,69,90,74,75,81,55,79,53,67,81,96,101,95,61,86,85,75,58,67,58,97,57,72,60,56,91,59,47,57,85,67,35,50,96,62,52,85,50,62,73,122,54,70,87,59,63,63,42,61,53,76,80,96,45,83,53,41,63,72,77,70,36,58,68,111,57,89,89,55,63,103,73,67,60,49,55,92,93,80,37,60,69,62,73,95,56,69,132,78,64,94,80,113,89,69,73,57,59,46,59,74,54,64,84,83,65,47,56,67,62,64,97,71,61,71,51,101,54,68,74,53,76,57,73,99,50,85,64,70,59,84,81,64,82,80,42,59,55,64,42,50,50,82,41,58,52,69,59,85,73,51,57,131,53,54,58,60,83,55,80,76,55,54,97,41,74,86,81,48,57,82,48,76,53,67,70,60,41,29,76,61,81,62,50,39,61,60,81,70,121,69,66,96,28,59,15,49,96,53,54,77,66,81,61,94,95,94,52,102,71,62,88,102,73,49,44,81,44,72,69,64,59,96,65,87,77,74,91,58,87,65,69,59,103,85,135,53,77,99,15,33,96,51,94,42,60,66,94,85,76,48,78,45,92,72,64,79,72,43,113,65,59,97,35,50,78,103,56,93,86,57,66,74,64,88,43,58,99,150,77,72,76,67,59,69,80,94,87,80,51,55,47,51,41,57,73,57,40,57,66,65,50,49,73,48,78,76,81,60,57,70,56,113,71,53,67,64,72,92,86,96,72,49,45,90,72,54,69,87,58,50,77,71,74,43,66,47,66,65,103,54,64,94,81,82,81,52,75,79,61,45,95,87,80,25,118,59,101,46,80,56,80,59,67,54,56,42,85,56,78,79,77,75,65,59,55,43,85,58,27,129,73,78,80,64,53,80,38,81,63,53,67,54,61,67,84,69,89,67,76,50,89,22,81,76,70,135,68,60,81,87,60,66,79,62,62,93,138,83,51,73,17,54,50,64,52,51,78,33,53,53,63,30,87,83,54,53,59,53,51,56,78,86,52,53,73,62,99,71,62,80,78,60,49,60,33,47,64,56,84,55,60,77,66,79,56,60,55,37,53,57,65,70,65,82,76,61,112,82,39,75,107,101,89,53,60,62,59,83,50,59,125,91,66,57,81,70,68,89,71,67,64,50,57,55,73,100,60,49,90,80,67,79,61,80,61,68,127,57,58,96,53,64,70,49,124,56,66,42,79,81,65,55,52,89,98,177,66,78,108,63,59,71,59,84,92,55,57,119,55,43,86,79,66,90,47,45,52,82,94,56,63,77,76,47,71,118,64,59,60,61,83,76,70,60,76,88,70,57,86,74,47,66,84,97,59,68,111,58,92,67,55,114,59,57,99,64,66,141,68,89,74,72,50,79,45,60,60,99,84,76,59,62,110,62,63,72,69,52,155,49,93,95,60,59,55,63,85,53,83,51,78,66,54,61,28,90,53,55,82,105,83,62,94,88,63,55,60,44,53,79,71,94,70,69,49,67,78,58,81,77,76,70,59,80,83,42,92,66,66,79,64,103,82,77,57,53,51,69,93,47,51,49,53,60,59,56,29,81,58,87,59,60,67,78,60,66,67,95,105,63,58,80,70,25,70,63,69,57,51,82,81,85,83,67,58,28,67,84,62,55,69,93,75,82,68,68,97,62,84,80,78,56,94,50,69,68,53,80,109,93,91,109,91,72,79,53,75,83,84,72,50,70,134,85,86,69,113,57,69,57,87,72,84,57,57,73,71,70,69,81,99,65,67,63,47,53,54,81,79,93,86,31,89,107,115,83,59,67,78,78,65,58,59,121,81,65,37,86,63,69,55,97,92,36,68,76,94,76,73,83,62,84,84,56,63,65,93,59,59,81,71,70,68,117,79,48,85,63,58,65,86,109,55,74,53,116,73,80,56,74,85,65,69,74,51,89,63,84,74,48,64,60,112,55,136,49,66,90,53,62,59,80,52,48,82,66,55,78,28,100,56,66,78,85,65,45,83,130,59,53,67,61,84,55,61,120,75,63,72,80,60,84,44,117,74,75,77,78,73,45,88,75,48,70,59,85,82,86,47,83,97,53,60,69,34,68,79,83,65,66,68,75,45,61,68,55,102,69,61,50,54,86,105,63,54,64,63,59,84,65,62,55,77,46,81,77,60,61,82,81,48,49,73,80,64,56,72,55,60,85,67,54,81,61,82,83,119,72,58,75,64,77,57,74,74,58,79,59,85,93,48,84,64,104,70,46,59,58,77,60,82,67,78,61,57,65,79,74,69,81,61,101,56,54,115,53,59,56,54,58,57,76,104,58,74,73,96,64,67,58,55,80,78,55,80,64,51,94,80,43,104,73,62,114,52,80,64,63,66,66,92,64,68,57,72,40,55,79,69,55,94,82,112,55,59,76,66,54,61,81,48,39,120,70,62,43,87,46,52,62,62,120,55,39,56,101,69,98,87,56,71,50,77,84,59,47,45,60,49,104,68,71,81,67,69,72,68,141,73,68,73,71,55,66,72,79,79,62,75,47,52,97,44,70,56,76,63,53,78,62,77,78,62,90,82,47,81,73,106,66,41,76,52,54,83,25,65,41,78,60,55,74,55,65,80,57,91,68,151,57,48,97,53,68,77,77,90,57,70,93,69,61,73,86,111,61,87,64,36,69,17,91,89,63,70,62,85,68,57,75,88,75,66,64,71,81,79,79,45,83,70,91,74,71,84,35,69,61,77,46,103,60,90,86,64,56,87,47,60,43,54,76,95,34,60,57,42,76,62,99,47,79,90,20,59,54,107,64,57,63,74,74,79,65,53,81,75,64,66,60,77,70,85,68,64,123,117,60,67,62,77,80,61,57,71,58,43,73,65,80,113,43,60,59,93,59,76,53,55,59,70,60,59,53,71,74,72,73,36,51,16,62,48,69,57,68,78,53,60,114,84,64,70,75,59,67,61,56,79,85,52,70,97,132,54,92,77,61,67,66,80,70,46,96,97,79,83,102,59,89,55,58,59,81,66,77,47,77,60,67,117,37,96,70,76,62,73,84,75,67,59,66,74,100,113,57,69,71,84,69,68,69,89,107,41,87,81,57,57,36,57,70,70,91,97,70,59,60,46,76,94,62,111,82,54,66,65,62,98,46,62,50,94,63,82,90,115,56,66,64,80,65,65,81,88,82,59,54,67,74,50,54,69,103,60,45,69,89,36,84,75,69,54,60,78,96,55,96,98,61,91,86,124,68,96,91,82,62,96,59,56,49,93,64,70,69,78,62,80,80,75,84,71,49,84,61,55,90,68,50,54,49,47,60,63,58,82,74,56,75,100,244,50,65,99,78,96,48,68,59,46,58,65,71,72,80,102,67,58,55,65,65,67,65,71,62,46,60,90,52,66,72,36,72,67,121,72,106,90,54,54,73,98,76,65,76,76,68,83,68,83,58,70,84,57,97,89,85,78,97,75,83,87,70,67,74,73,70,64,54,57,86,52,60,69,50,56,68,48,85,51,52,51,89,87,55,66,87,101,68,76,51,55,56,46,37,67,61,81,80,124,55,63,84,78,61,49,95,66,53,60,97,81,58,62,59,48,60,85,72,44,101,81,69,65,64,59,108,81,96,76,113,57,89,56,70,65,57,64,70,91,81,73,62,60,35,70,73,71,63,67,63,71,87,55,65,56,85,84,87,60,43,71,56,98,77,82,49,51,65,85,58,65,72,100,82,103,47,87,66,57,90,79,76,48,42,73,61,54,69,56,65,46,86,39,52,44,69,48,70,68,44,38,69,105,118,35,70,57,86,57,68,55,82,85,47,44,59,56,85,70,45,84,76,69,56,79,86,67,92,57,65,58,56,83,80,39,43,59,79,46,77,89,118,60,60,98,52,80,54,92,91,46,54,60,80,93,75,65,52,97,87,86,75,84,58,90,59,54,108,58,63,65,74,32,78,86,50,106,58,62,78,36,79,75,90,85,37,85,64,78,44,123,79,78,88,130,51,73,66,58,88,69,51,44,94,66,67,72,89,59,67,90,59,56,71,63,81,67,68,99,88,57,84,82,59,60,114,59,84,37,91,90,57,60,55,45,56,85,84,41,72,82,81,48,41,96,92,60,57,86,70,82,47,53,73,77,53,99,83,55,72,57,56,79,86,71,89,37,68,100,84,60,48,54,58,49,97,92,67,87,79,97,40,68,63,61,57,54,57,83,89,88,90,77,72,60,77,77,77,42,85,65,91,77,81,57,113,69,55,96,66,58,97,69,40,81,97,83,46,53,38,72,39,44,82,119,85,101,70,68,84,66,93,40,77,77,55,70,38,69,51,64,54,75,58,69,52,69,71,75,90,72,28,64,78,63,59,56,104,58,74,51,69,73,67,54,79,58,67,74,41,48,78,91,69,75,68,69,42,80,53,61,32,86,63,55,85,54,74,57,96,86,70,63,39,82,48,62,60,84,55,73,56,110,64,60,61,52,62,79,65,58,86,56,77,53,90,52,45,120,78,59,76,82,83,80,58,50,64,95,71,60,87,66,72,75,65,72,84,59,56,55,80,70,83,68,96,86,57,63,68,58,65,68,37,60,82,72,54,31,101,96,62,73,95,48,32,61,35,71,85,80,81,56,54,54,55,66,50,103,42,80,65,60,52,121,33,63,51,52,43,78,87,119,57,63,57,79,69,83,44,68,70,67,68,90,50,75,112,62,65,54,25,75,57,90,56,82,63,51,50,60,65,139,83,60,77,84,85,35,60,62,38,78,69,101,51,58,51,48,55,81,69,59,72,54,57,71,90,57,64,70,61,56,57,63,82,131,69,57,70,86,88,118,58,58,42,65,71,80,86,52,52,84,41,65,51,92,80,81,111,67,57,79,52,31,61,72,67,49,63,65,85,47,81,56,60,84,79,62,95,40,38,59,52,58,54,85,39,64,61,71,73,65,64,85,57,71,68,93,83,90,65,89,107,49,85,65,50,189,73,47,65,32,26,81,87,63,64,75,45,78,43,60,62,96,77,64,94,76,56,59,55,66,23,118,62,59,104,65,48,52,93,58,77,58,46,105,84,73,97,66,40,72,75,70,62,80,57,80,68,80,70,62,80,82,75,78,70,60,84,89,85,75,48,64,77,61,62,64,66,70,84,52,99,66,67,72,72,45,58,43,42,94,56,74,74,65,63,53,49,59,65,30,113,70,62,59,75,71,22,56,47,85,82,64,113,60,100,52,54,76,124,50,70,98,81,51,71,89,53,38,52,78,49,40,92,27,77,69,48,67,45,145,80,93,67,64,90,59,91,49,72,51,25,66,50,67,66,85,64,31,97,78,58,40,76,85,83,89,79,90,70,56,85,94,55,71,62,75,67,55,79,58,108,49,80,93,60,61,93,41,71,73,108,86,50,55,65,51,63,67,90,60,66,50,56,64,112,57,171,58,49,76,60,88,42,79,68,65,76,62,60,81,104,60,55,99,46,63,78,100,32,28,79,71,60,53,50,50,60,57,74,56,52,41,58,37,96,59,61,68,79,41,72,90,58,64,53,59,83,62,82,60,84,86,62,89,49,55,86,97,67,59,85,83,46,96,95,121,72,55,99,108,89,92,79,58,81,61,46,41,58,18,76,61,68,66,64,33,58,95,81,63,52,51,67,78,85,84,62,90,86,87,97,67,84,70,58,29,72,61,52,84,54,33,32,72,51,68,77,64,60,42,90,60,57,74,69,59,59,59,59,45,85,72,59,49,125,69,70,90,65,46,81,49,41,95,55,96,73,198,72,43,76,65,80,92,27,71,52,55,55,100,88,83,74,61,69,63,69,99,65,134,75,124,109,80,90,61,57,71,83,85,89,59,68,56,56,68,117,70,63,79,52,63,58,80,89,76,54,78,73,59,80,94,55,76,58,55,73,75,55,73,73,76,62,79,88,68,51,102,82,62,104,60,81,61,43,51,56,67,56,97,70,102,58,91,61,57,73,61,75,57,103,59,64,57,88,61,106,74,68,88,78,67,82,42,70,92,83,34,89,62,91,89,37,88,80,57,86,65,56,56,25,77,44,66,61,64,65,95,61,65,59,59,89,86,68,57,61,59,51,79,67,72,146,77,153,52,68,69,76,70,82,43,57,47,102,74,66,61,69,54,62,49,60,98,39,74,64,52,67,60,63,56,49,35,71,73,63,83,55,88,33,66,54,66,61,56,80,102,97,76,67,61,76,65,51,46,95,75,76,43,90,46,64,84,61,60,57,68,60,72,69,75,74,78,67,54,71,56,29,89,74,27,68,71,60,88,81,77,74,64,65,58,59,69,52,74,55,59,62,85,80,59,66,60,62,58,58,58,50,66,80,62,76,89,66,97,58,89,69,75,74,50,83,63,53,79,54,67,48,46,63,86,54,65,61,24,66,72,75,59,87,46,78,63,64,78,85,75,44,92,13,55,64,98,68,61,113,47,81,62,81,99,73,121,69,81,72,68,17,86,60,52,37,57,91,82,55,23,32,97,89,61,100,82,97,74,79,53,51,83,36,57,94,59,60,29,66,89,91,69,70,72,56,31,68,88,56,58,77,53,46,27,47,92,54,85,66,51,119,65,92,71,46,63,48,71,70,65,87,68,75,44,28,64,53,76,80,27,87,45,56,62,55,78,85,81,65,66,126,57,15,32,81,67,93,75,73,74,47,68,56,62,56,59,63,88,47,81,67,52,88,64,58,72,66,81,49,67,62,57,79,68,56,148,77,83,70,46,58,74,65,75,59,75,66,51,66,47,63,90,88,47,47,65,62,64,60,93,69,79,90,73,62,67,55,105,27,77,77,62,103,51,70,95,100,91,123,44,60,47,66,84,49,71,74,68,78,98,68,73,92,67,112,53,35,113,74,66,158,156,39,88,55,59,78,85,92,59,60,84,40,68,103,74,81,56,45,27,59,58,71,87,41,59,60,100,67,85,74,66,82,58,54,82,72,95,30,41,65,70,78,54,25,69,91,95,62,57,69,62,89,55,76,64,45,71,58,88,83,61,78,82,79,59,86,79,59,69,27,85,32,30,63,46,117,53,54,86,102,75,53,99,76,90,65,26,56,50,68,57,89,96,78,95,61,51,71,97,89,23,67,141,66,82,58,71,67,100,92,83,98,37,101,61,56,33,59,57,58,60,45,48,60,55,84,79,69,78,115,57,73,58,59,55,92,63,42,65,76,59,55,53,75,49,55,57,39,77,66,47,79,41,65,77,65,73,82,62,76,55,58,64,80,60,62,61,72,60,70,66,73,58,52,74,50,70,59,72,63,70,72,77,70,61,62,83,56,76,47,24,44,72,69,71,97,29,70,86,42,77,60,91,56,63,59,42,113,63,60,102,70,65,50,112,72,49,68,72,76,62,43,76,74,60,62,65,71,29,65,68,59,93,56,73,72,93,60,55,71,53,85,58,50,51,56,59,63,81,55,31,56,70,33,61,71,65,74,78,59,89,59,62,80,109,100,75,66,46,58,88,59,80,94,79,64,99,49,91,64,58,74,65,110,56,63,67,56,46,79,65,50,56,54,115,63,58,56,76,82,89,74,76,96,60,58,101,89,67,42,48,60,62,49,95,66,56,102,40,66,62,62,55,66,62,64,62,62,92,58,78,76,64,109,98,76,83,62,71,76,107,92,87,55,64,42,84,85,91,73,75,53,107,47,64,54,60,90,94,71,54,99,79,74,115,89,60,94,68,99,52,57,56,57,88,74,56,86,42,127,51,51,81,61,105,58,62,77,58,76,78,58,63,71,80,93,122,32,60,68,77,60,61,48,62,63,84,52,60,48,83,63,64,90,63,59,58,47,42,57,100,35,52,69,115,52,82,98,73,58,60,54,64,58,59,48,43,84,53,54,48,71,70,66,100,61,79,58,127,55,80,86,86,83,77,48,76,62,93,81,74,91,57,58,98,71,53,84,52,86,96,100,61,56,49,92,68,61,50,60,70,91,73,52,91,61,64,75,58,58,53,73,121,97,48,54,66,57,79,68,56,64,83,91,100,60,55,56,69,55,99,68,65,89,57,37,85,47,51,87,181,66,48,60,85,130,83,62,74,52,51,45,59,100,37,80,49,78,148,58,55,66,58,63,52,79,62,80,64,28,109,106,43,63,84,58,92,61,103,39,58,23,66,57,78,58,50,60,32,85,80,50,61,56,78,71,62,116,79,63,36,129,59,70,56,55,83,70,96,48,68,68,87,88,60,67,67,70,116,65,44,75,101,53,60,73,58,70,60,93,86,58,70,63,63,102,62,59,86,67,70,90,76,67,63,64,28,64,65,98,39,54,97,60,112,48,69,82,92,61,101,100,62,58,43,95,69,97,76,49,80,74,57,74,79,60,73,63,70,75,73,55,82,44,66,70,47,55,45,58,60,60,49,39,81,72,73,55,60,29,78,59,50,84,61,57,57,83,54,64,103,84,86,56,67,48,49,115,67,80,97,66,25,56,79,78,55,89,59,66,61,81,58,66,59,61,74,79,56,64,58,64,87,70,60,88,60,61,71,62,58,83,87,46,84,45,65,56,61,55,61,70,78,64,39,63,53,81,77,99,77,68,89,77,66,38,89,89,75,69,80,90,75,106,70,85,56,31,83,99,83,65,96,27,85,77,79,58,85,55,102,53,87,60,62,38,57,56,48,56,68,63,69,62,71,62,57,79,63,84,95,54,100,33,61,31,36,38,71,46,65,59,84,73,76,63,66,64,39,55,96,82,67,83,75,54,75,69,69,113,85,75,68,75,99,63,75,86,61,35,132,51,58,79,41,91,69,52,62,60,78,70,55,100,56,70,100,71,133,68,80,56,86,51,74,89,63,78,64,44,90,83,73,39,67,71,60,62,60,90,40,89,79,70,58,66,91,69,68,85,77,66,109,45,50,59,53,54,47,98,75,67,44,87,77,69,74,46,35,51,82,61,26,82,46,65,69,52,78,54,75,43,76,67,39,54,78,73,74,70,59,78,64,76,78,60,98,58,53,40,54,88,108,60,64,63,61,72,72,113,60,58,101,82,65,63,116,65,55,49,57,70,89,78,45,88,68,41,91,71,80,56,60,42,52,65,71,87,63,47,100,66,63,90,36,87,47,57,69,42,78,43,34,73,69,66,44,53,92,55,87,108,53,70,89,75,94,57,56,87,60,47,68,101,67,40,55,79,93,106,50,29,105,54,56,73,74,62,67,84,76,65,60,89,52,95,141,59,48,55,90,90,76,47,68,92,80,64,72,46,32,67,77,59,81,48,42,88,51,57,83,107,24,67,143,75,82,75,67,49,96,56,52,64,54,93,50,87,65,64,95,90,59,81,74,62,67,51,77,56,80,84,79,59,78,49,60,84,63,59,72,89,71,86,57,47,92,98,79,60,81,62,77,88,45,59,83,62,68,54,61,58,85,52,76,57,75,59,59,84,76,53,66,94,71,50,80,76,55,79,59,54,56,73,60,52,100,61,60,48,75,73,52,43,70,76,88,79,71,56,64,56,84,57,96,51,68,66,60,73,70,82,58,81,96,65,48,92,64,67,102,65,80,77,49,59,56,83,65,57,100,57,80,69,90,42,77,69,66,65,58,66,59,73,72,20,75,33,87,92,65,55,51,64,85,61,63,68,56,58,66,52,73,63,64,60,66,67,60,68,51,111,71,60,96,89,61,45,75,47,84,86,47,62,76,49,84,63,90,70,75,72,65,56,81,60,64,28,89,44,81,60,81,70,59,69,56,52,65,119,76,90,76,88,51,120,72,89,59,59,67,69,64,86,93,31,34,56,57,64,63,64,81,94,85,55,68,92,94,57,56,82,77,59,128,86,96,63,71,88,97,75,63,79,81,55,58,33,83,84,82,26,69,66,73,76,44,86,38,68,79,89,67,56,58,78,57,58,58,93,68,62,89,59,77,66,55,93,83,63,81,57,60,71,83,79,87,109,81,73,98,109,80,53,57,53,64,58,48,59,59,66,66,84,55,62,48,59,54,61,99,60,48,53,60,74,89,85,65,58,64,87,77,112,72,82,96,54,69,72,62,82,47,76,55,68,68,63,56,75,82,64,64,57,56,83,52,45,57,72,63,67,82,85,78,58,59,67,47,76,59,112,79,74,70,52,62,69,81,73,84,66,58,89,107,45,59,59,62,74,85,61,48,70,48,42,66,123,63,60,37,56,90,70,62,66,78,92,86,94,43,67,63,118,69,74,67,42,57,53,86,73,64,47,96,70,84,50,65,61,41,63,87,73,53,59,78,87,66,69,56,80,58,71,71,71,59,86,86,60,88,74,59,64,54,68,45,83,82,35,56,55,53,45,44,81,67,123,81,54,47,58,68,64,76,63,62,126,69,89,60,47,76,61,62,69,78,67,57,76,33,60,112,82,57,110,53,89,109,67,89,47,58,58,94,106,66,54,75,92,73,46,45,56,49,94,85,72,52,98,66,86,51,43,51,31,56,62,62,54,73,68,49,57,61,67,64,57,78,115,65,61,72,86,81,45,58,51,88,54,58,69,65,58,46,49,69,57,54,67,58,82,56,107,69,60,60,59,43,84,58,59,71,58,50,63,50,89,67,59,102,88,57,68,47,90,47,69,72,72,86,49,57,87,28,72,60,66,77,102,109,65,51,55,83,55,79,54,44,92,81,58,57,45,54,69,82,46,73,131,59,94,46,81,79,43,71,78,55,56,70,72,58,86,40,58,52,60,53,59,70,64,73,63,80,61,65,79,38,70,65,59,87,64,64,72,62,30,63,25,59,77,39,74,108,65,24,65,84,61,81,44,57,56,113,66,58,79,49,59,54,99,76,52,55,73,53,71,86,50,31,59,30,84,81,115,84,94,50,51,56,76,82,103,58,53,67,59,107,60,65,76,37,69,83,103,89,44,75,97,66,49,59,50,86,75,43,94,103,77,85,90,79,76,63,46,151,59,79,54,171,66,79,46,72,31,84,96,90,56,65,121,72,58,56,71,58,76,57,45,37,48,54,72,56,63,47,63,50,95,73,59,60,79,51,73,80,80,68,78,51,94,59,54,63,64,64,80,59,66,58,61,65,62,100,59,60,44,113,91,65,72,47,66,66,57,96,132,57,60,72,60,76,73,49,76,80,130,25,24,71,61,89,65,68,59,51,52,57,38,117,51,69,100,58,57,74,60,30,60,75,28,73,100,64,62,40,73,112,57,68,61,78,58,64,84,68,58,81,67,66,79,57,50,98,75,100,57,119,68,69,120,62,54,92,82,58,75,105,56,37,59,98,64,77,57,58,90,78,59,60,56,43,54,64,62,73,58,56,75,45,86,55,46,64,93,80,89,48,57,72,101,80,82,92,51,51,58,62,53,72,82,47,58,67,63,55,95,69,80,44,84,54,50,91,82,80,103,48,64,40,49,60,67,86,108,49,106,62,57,72,79,87,143,90,59,79,81,60,55,96,91,65,74,42,57,65,76,68,52,63,72,52,62,78,83,57,53,85,60,57,64,61,53,32,57,61,46,63,61,31,70,90,88,85,68,157,99,113,57,92,72,93,75,32,77,57,32,68,39,64,73,59,50,45,63,56,62,62,73,50,79,59,92,143,91,67,55,35,86,58,48,32,57,73,69,62,34,81,102,64,57,72,66,58,83,51,54,65,57,42,64,87,97,95,63,153,70,54,32,63,73,51,48,87,71,73,67,103,27,60,60,43,91,45,56,51,85,57,72,57,83,89,45,63,59,96,84,87,79,62,75,54,56,59,59,60,83,54,70,38,65,110,49,93,50,62,97,59,58,105,75,38,57,69,64,59,57,66,57,59,84,59,62,34,112,75,71,64,45,87,46,47,65,61,66,54,73,85,41,85,50,57,59,53,47,19,86,30,70,68,72,85,17,73,54,59,65,66,69,65,63,59,90,78,42,66,60,72,72,65,102,57,70,79,63,83,53,81,54,79,97,63,50,46,97,46,70,64,40,55,73,81,54,48,58,92,68,132,73,63,70,63,83,77,62,66,67,91,72,90,131,68,87,66,67,83,80,61,68,52,59,66,35,61,77,59,118,66,50,92,51,54,84,59,98,78,30,35,63,29,85,51,73,50,49,58,57,47,60,90,30,49,90,77,47,89,55,75,59,61,94,53,78,62,63,91,62,51,38,81,112,114,80,68,76,30,63,79,78,95,65,63,87,62,68,46,57,55,108,68,71,42,77,177,83,54,85,113,52,42,80,73,50,55,44,72,42,48,45,27,70,77,78,58,81,124,79,73,66,86,111,75,79,101,59,77,89,56,53,63,57,81,50,59,53,83,74,61,83,60,77,63,51,94,58,63,112,64,60,82,49,62,85,92,65,46,65,84,55,54,64,88,151,62,62,73,56,65,99,74,59,59,93,54,106,59,61,91,62,53,81,65,60,69,70,61,49,45,63,64,84,77,81,63,80,60,67,88,73,74,66,108,51,58,69,44,72,74,66,81,62,64,49,41,60,38,75,59,55,58,46,76,108,46,62,54,64,73,81,69,30,64,41,83,62,70,56,70,69,57,86,66,75,26,68,71,79,87,60,77,71,85,82,23,75,68,66,59,39,38,62,50,94,76,73,70,65,58,42,73,68,41,59,53,52,38,49,50,79,76,85,60,72,60,43,87,42,54,65,93,85,73,53,49,60,71,31,61,42,55,70,82,64,48,59,67,59,56,88,90,92,58,43,56,32,54,82,53,55,77,47,62,67,85,59,77,97,83,67,79,80,81,74,70,63,61,55,54,104,84,78,99,66,83,63,56,94,46,86,54,87,62,49,85,40,48,50,84,71,99,69,38,56,57,91,101,79,57,79,86,65,80,64,70,82,114,57,55,64,72,129,97,56,85,54,79,57,73,56,65,89,83,89,54,53,68,54,53,59,89,74,72,65,83,66,53,54,85,59,72,65,84,79,67,39,47,70,76,51,94,94,63,59,68,63,78,72,55,72,90,52,89,75,92,67,58,89,77,69,56,79,66,31,161,45,74,76,58,58,71,77,88,63,80,98,52,47,60,43,50,30,55,56,61,83,55,79,90,97,68,70,70,70,73,60,71,71,50,58,48,59,67,81,61,74,57,31,69,31,69,64,71,73,70,102,77,76,61,34,77,119,58,62,59,63,79,53,67,47,96,62,86,39,84,70,60,80,83,58,89,77,100,80,88,99,98,90,73,111,81,49,72,71,95,66,69,79,39,92,57,43,92,61,74,62,93,66,71,60,55,57,47,89,70,84,73,45,81,78,103,80,54,63,95,84,62,37,109,91,82,50,63,94,63,116,60,62,58,71,56,60,57,60,77,56,71,36,59,84,56,29,54,36,60,95,86,90,77,37,66,62,70,65,60,58,104,78,60,61,60,64,69,81,61,57,49,66,37,52,86,48,44,70,87,64,77,72,83,73,54,66,67,74,80,91,78,70,103,56,87,53,97,55,59,56,23,80,84,68,87,73,47,56,69,41,61,60,76,90,87,54,54,71,47,63,34,72,73,58,57,56,85,57,81,69,62,32,79,33,89,51,90,58,76,84,42,78,65,98,60,83,68,98,69,75,50,57,70,69,52,57,103,100,55,42,85,52,61,52,63,92,34,50,56,63,89,57,67,75,78,71,79,57,99,68,42,85,77,45,53,63,90,31,53,53,80,99,35,56,111,93,90,75,84,69,58,82,84,60,46,72,77,48,116,66,55,82,56,55,99,118,53,75,50,73,100,65,42,58,70,64,85,65,59,73,88,91,72,71,101,52,61,75,45,57,36,81,84,67,49,58,93,85,84,61,104,56,77,65,61,63,63,68,94,65,49,41,68,71,73,64,47,40,74,54,82,59,81,81,82,56,60,53,59,71,85,62,78,38,52,60,83,51,59,105,104,63,54,53,49,71,57,88,60,58,55,69,64,57,102,87,57,63,64,61,55,62,61,119,130,57,64,55,61,27,39,64,72,77,54,40,74,78,56,88,77,69,99,56,61,19,59,57,83,54,58,122,64,81,107,87,92,68,70,82,60,83,65,40,83,54,80,82,88,85,59,27,62,61,63,67,87,61,58,47,73,67,57,63,48,34,51,91,63,85,78,70,56,59,70,57,61,77,62,67,60,91,50,57,89,54,65,56,88,60,99,60,55,66,64,86,92,29,81,95,85,58,60,42,60,96,98,59,46,98,87,87,49,84,57,58,85,60,60,60,87,52,78,37,80,52,72,97,104,72,54,71,53,44,70,54,67,63,88,72,82,79,74,92,47,89,59,85,50,69,83,55,65,62,56,106,61,93,77,90,62,86,86,61,73,57,69,82,45,89,69,87,77,106,65,94,88,56,54,54,38,55,39,50,75,87,64,75,92,75,59,60,92,68,70,65,83,81,45,49,41,82,57,49,67,58,52,60,99,69,64,86,71,101,120,119,63,88,108,59,49,69,69,42,55,70,77,54,79,73,48,52,57,74,51,54,57,56,47,70,84,41,57,51,81,88,55,55,54,51,55,71,57,130,59,66,93,67,56,41,103,73,88,68,55,101,83,52,77,40,52,64,64,86,62,86,52,77,80,41,55,106,102,86,53,52,44,96,54,62,64,70,91,73,81,40,78,104,59,78,88,51,50,56,38,61,75,56,82,53,81,65,102,73,65,105,108,57,50,85,93,83,73,60,67,75,75,49,77,54,75,77,67,110,62,127,55,62,76,61,58,59,70,77,77,56,76,27,42,80,59,58,94,63,77,58,63,57,59,74,88,53,84,37,43,84,83,51,79,91,71,96,65,77,65,65,97,64,86,75,91,63,54,50,42,77,60,57,70,52,61,67,77,66,43,89,56,65,84,53,74,61,73,54,70,100,83,105,58,61,75,44,54,53,49,63,73,78,43,93,57,122,29,38,64,166,44,54,60,70,73,79,64,46,65,49,54,49,52,63,89,51,37,67,87,110,37,82,84,57,32,83,78,55,95,88,56,57,76,66,73,40,40,61,67,53,42,67,89,71,64,41,75,55,43,55,60,98,78,72,50,73,54,103,65,76,74,99,51,61,57,71,55,92,97,83,64,63,90,97,80,75,62,38,58,71,75,105,60,60,45,73,82,71,84,47,46,86,70,69,48,51,51,66,59,87,57,36,93,55,82,88,79,36,72,72,59,78,62,69,67,82,88,39,90,80,60,54,72,99,57,63,63,110,62,47,52,39,74,77,55,47,52,82,80,74,66,81,62,68,50,83,71,56,50,49,47,90,35,83,90,77,103,65,77,80,89,87,58,90,88,55,58,53,91,69,71,86,70,77,75,93,71,71,89,88,48,62,103,58,41,72,80,80,109,67,48,104,69,79,49,74,64,71,55,94,70,62,82,86,67,58,68,83,82,39,82,59,77,67,111,58,80,97,62,58,204,55,54,126,79,72,45,59,84,60,40,58,59,54,62,62,49,94,93,85,67,83,56,91,52,55,47,56,64,67,119,93,80,66,106,76,59,46,82,56,62,60,76,50,47,76,94,129,86,81,107,98,61,66,77,55,52,58,38,67,65,76,58,79,71,63,72,60,76,60,97,81,56,119,75,85,58,63,34,66,44,83,82,27,40,50,49,72,49,55,47,59,59,79,46,56,92,61,76,104,90,96,98,84,49,59,51,77,62,55,71,65,78,76,67,59,62,47,95,88,52,88,63,86,72,51,86,79,59,107,46,70,28,81,85,59,57,75,64,59,79,80,53,50,63,36,54,69,64,44,74,73,62,52,100,57,65,62,75,79,62,77,44,118,105,65,53,50,58,54,63,70,67,44,95,75,61,74,50,112,77,130,82,53,113,66,93,62,100,67,74,41,98,48,63,73,83,57,166,74,66,53,36,74,73,53,47,67,83,83,55,51,55,98,80,55,57,60,50,59,79,87,84,57,75,76,53,85,94,63,67,66,75,56,67,36,56,87,82,82,67,86,51,64,52,63,86,75,119,57,77,71,58,54,42,83,59,54,58,106,60,78,93,76,59,63,56,80,74,72,59,62,68,49,68,89,83,77,59,57,91,42,56,100,68,66,77,93,44,69,40,40,60,79,110,50,59,89,57,86,50,58,65,50,58,60,58,57,75,77,57,94,69,61,49,79,46,74,60,69,94,54,70,45,63,88,56,27,61,59,55,61,71,84,61,57,112,78,75,60,100,55,70,54,67,68,82,49,107,55,75,51,80,71,81,41,81,64,65,57,30,99,75,55,82,79,47,85,87,58,57,53,60,69,60,71,98,47,77,57,87,70,65,74,52,38,80,57,67,43,88,107,63,82,80,96,79,82,65,84,61,36,92,111,60,56,43,53,45,74,45,76,62,88,68,102,63,45,63,93,79,11,63,110,81,76,60,75,52,72,72,62,54,92,78,76,86,72,60,71,60,57,45,59,53,50,87,46,76,82,78,86,77,97,60,69,70,94,25,59,53,76,58,104,76,95,55,59,62,77,57,65,76,83,80,94,41,90,65,44,43,53,58,65,60,86,44,84,54,52,70,73,52,82,57,69,53,76,55,44,115,103,43,91,59,57,53,46,61,80,59,79,73,45,75,87,63,61,62,56,71,68,64,75,61,71,78,41,78,61,63,66,60,60,65,93,71,70,69,78,37,76,71,72,61,107,140,71,60,48,95,89,93,98,60,96,98,114,62,42,62,92,86,57,51,102,47,68,70,64,86,37,53,68,74,70,70,64,59,55,70,74,68,84,48,87,59,58,81,86,132,102,58,62,73,58,50,54,46,48,83,78,67,38,73,46,59,80,86,67,91,43,39,110,66,85,87,69,67,46,72,75,89,69,60,104,60,60,53,115,78,50,78,46,54,104,68,67,63,87,161,84,64,49,53,66,75,63,63,49,70,48,79,79,83,82,69,76,64,92,89,77,53,87,59,76,87,72,98,71,75,78,74,83,53,71,70,68,45,74,62,63,96,66,79,54,59,48,60,58,50,58,53,82,64,59,112,77,52,65,78,67,68,43,58,73,104,92,42,86,70,75,46,71,67,55,57,72,71,60,86,81,54,77,60,81,84,64,81,53,58,76,96,53,75,55,79,40,82,46,66,69,80,59,60,66,63,86,42,60,67,61,77,56,112,72,74,50,57,58,70,62,112,75,104,42,44,55,72,53,69,78,55,89,55,87,43,70,70,76,34,88,65,81,34,60,66,57,104,62,63,83,60,48,68,62,65,80,50,63,55,77,41,59,76,32,92,98,61,69,81,34,93,94,69,76,71,80,84,33,40,85,104,57,57,43,106,109,80,59,58,97,84,113,55,74,40,51,59,83,81,84,62,37,151,70,62,82,72,58,60,52,54,73,59,49,86,54,51,107,61,60,77,61,56,63,63,75,34,67,53,88,73,63,73,53,62,121,33,100,52,97,60,49,98,93,86,70,59,99,87,29,63,71,59,52,61,68,50,57,62,65,53,93,57,54,65,51,57,73,51,75,83,73,61,110,72,73,66,58,81,60,58,50,36,86,82,52,77,72,30,69,79,81,61,53,49,65,84,84,79,82,89,109,76,70,50,59,111,68,98,59,55,65,53,59,33,82,76,57,65,50,51,23,57,74,103,52,66,48,89,84,58,83,55,58,54,86,52,54,67,55,78,68,78,125,47,75,93,59,71,124,60,58,103,73,63,72,77,70,62,81,59,76,128,67,75,72,59,44,64,134,58,38,30,76,58,68,80,61,98,52,55,60,122,70,73,34,62,60,52,71,60,78,75,87,75,49,60,53,55,69,59,90,58,79,57,64,49,63,55,104,89,93,59,65,76,56,48,66,114,85,59,60,97,42,71,69,60,69,130,31,76,99,63,46,61,34,60,89,70,47,76,49,76,56,71,53,76,77,43,81,48,68,64,56,95,45,92,70,55,37,63,57,50,57,69,35,94,49,63,71,46,83,106,52,80,41,87,80,96,81,56,65,50,41,82,46,46,86,62,44,80,69,89,100,58,54,127,68,82,48,78,41,67,48,65,88,61,82,95,69,71,59,27,67,70,93,86,76,66,63,51,80,92,57,81,83,68,62,54,55,87,84,74,82,38,68,54,101,99,79,94,68,68,89,44,51,75,50,57,62,84,50,23,68,59,69,89,76,53,63,72,50,54,73,84,64,85,68,51,67,88,38,59,38,86,101,55,108,71,75,50,66,71,58,75,83,81,52,63,62,97,57,71,119,88,78,50,57,62,82,52,69,64,85,86,53,59,45,73,51,67,58,78,68,60,54,55,47,59,66,47,69,100,60,59],\"xaxis\":\"x\",\"yaxis\":\"y\",\"type\":\"histogram\"},{\"alignmentgroup\":\"True\",\"bingroup\":\"x\",\"hovertemplate\":\"color=sports<br>value=%{x}<br>count=%{y}<extra></extra>\",\"legendgroup\":\"sports\",\"marker\":{\"color\":\"#ab63fa\",\"pattern\":{\"shape\":\"\"}},\"name\":\"sports\",\"offsetgroup\":\"sports\",\"orientation\":\"v\",\"showlegend\":true,\"x\":[63,69,16,89,71,60,66,54,83,53,67,71,62,42,31,39,56,71,79,56,70,36,72,63,34,63,78,51,59,46,134,72,70,43,75,47,71,77,110,48,89,57,66,54,50,63,85,49,106,61,67,56,76,54,58,76,94,84,65,89,66,16,93,76,75,90,67,42,56,44,37,31,50,35,62,88,74,78,78,65,77,63,77,91,48,77,69,39,86,60,64,96,58,51,85,69,59,72,110,63,41,68,21,73,78,61,62,58,73,41,44,45,57,91,64,84,63,74,78,110,59,79,68,153,69,68,54,69,68,59,66,62,81,93,60,72,62,72,89,61,37,59,80,43,70,67,69,37,35,53,43,70,67,60,70,70,20,61,81,63,84,60,84,65,73,56,102,89,79,53,45,57,63,54,53,60,60,51,30,50,81,76,81,60,62,58,61,63,65,86,61,92,105,72,80,71,59,90,27,62,78,55,30,37,53,93,45,17,56,76,59,90,81,51,58,85,79,89,70,86,67,47,85,80,48,78,43,79,55,62,67,37,32,53,76,76,75,59,69,65,92,28,27,45,63,69,64,78,73,32,68,79,64,84,62,58,70,60,73,51,72,63,69,79,80,103,46,51,51,70,59,77,96,56,101,70,59,54,96,27,26,52,88,54,58,57,39,50,78,73,64,77,42,88,60,56,53,80,52,94,75,60,47,69,85,60,56,90,65,70,41,42,81,51,76,61,62,96,48,70,63,64,69,62,57,59,41,67,72,62,50,56,90,59,90,68,77,87,55,42,84,31,49,67,44,43,58,52,79,54,51,51,76,50,65,81,70,53,59,66,60,59,70,89,35,65,68,43,81,37,62,96,76,62,70,79,63,45,107,68,60,87,57,56,71,85,57,72,73,43,56,43,59,83,118,67,65,52,41,66,79,45,73,73,58,129,21,68,84,45,35,47,87,67,75,48,105,68,61,75,92,49,45,56,51,73,51,51,106,73,69,56,60,62,76,45,51,68,80,72,59,51,66,62,89,82,44,73,71,76,57,98,58,65,74,57,61,47,80,60,60,96,59,56,74,60,39,71,75,61,69,77,58,63,51,60,132,96,54,71,78,82,87,54,87,61,66,53,102,44,68,49,51,78,89,51,67,56,62,54,58,45,141,90,105,55,52,39,63,43,74,48,48,71,44,54,81,67,64,45,56,38,61,63,64,23,65,75,53,79,72,66,92,85,61,97,75,37,105,70,50,67,87,61,64,64,71,68,63,83,36,80,77,59,101,81,69,71,69,38,46,63,94,54,48,31,65,50,55,75,71,41,42,82,71,74,58,87,89,73,85,79,56,84,74,58,59,36,73,31,76,39,59,70,61,88,37,106,60,100,90,59,71,54,70,58,50,69,44,89,33,60,57,47,64,59,42,54,71,84,97,83,66,87,45,53,70,50,64,62,60,62,80,49,69,66,82,64,46,74,59,75,61,54,57,63,80,65,67,51,76,49,83,59,70,37,56,80,69,52,87,32,90,66,49,68,64,68,66,48,98,66,65,52,80,59,99,49,105,86,25,46,70,80,58,52,53,46,60,78,42,69,50,67,80,52,75,82,72,18,44,62,44,70,56,83,67,62,51,59,75,60,70,41,66,59,69,36,91,56,99,74,43,51,58,39,53,54,50,71,91,50,105,71,63,59,55,96,45,86,88,55,73,64,51,74,91,102,59,74,89,60,44,60,50,79,65,64,78,73,70,49,64,67,70,43,25,73,52,60,76,67,55,49,73,71,87,74,42,56,60,58,65,74,75,57,61,54,76,63,46,82,38,59,50,43,71,19,66,90,59,101,77,51,44,71,57,50,72,56,51,92,58,80,86,60,59,66,63,87,43,76,57,53,46,81,77,68,61,22,77,57,66,51,83,65,27,64,97,52,62,63,59,68,93,36,70,79,50,84,33,59,76,68,105,35,82,57,67,57,84,61,52,24,60,31,57,60,77,63,91,15,81,49,41,46,69,38,57,55,58,88,65,70,85,77,57,53,52,60,73,66,49,80,67,72,79,81,38,56,95,54,71,63,70,58,66,83,88,71,84,70,66,49,89,136,78,60,90,69,57,63,90,64,64,68,69,30,90,64,70,87,81,58,61,76,84,74,37,58,63,44,61,56,70,46,39,77,60,95,57,62,55,89,57,62,81,61,77,51,69,84,34,61,73,76,94,81,37,58,60,57,66,72,51,71,44,57,95,81,27,57,60,84,24,43,48,63,48,55,83,49,66,86,49,59,75,135,61,131,101,45,66,68,74,36,94,52,54,71,51,63,71,71,37,48,76,46,64,83,70,59,40,70,55,84,55,97,52,110,60,73,63,85,80,87,66,52,52,43,39,59,51,81,85,74,106,87,98,55,68,60,24,71,54,36,57,87,83,101,45,100,59,66,53,26,51,57,58,65,43,92,55,45,93,62,86,59,57,69,79,53,51,58,73,94,55,56,65,56,68,59,75,48,90,52,59,38,32,77,87,81,76,79,51,55,76,62,60,84,57,60,56,73,92,72,45,78,78,69,53,68,81,87,90,77,62,68,71,65,73,70,104,70,93,81,89,78,82,66,47,46,42,72,51,46,61,62,55,61,79,57,45,68,68,68,57,58,51,43,35,55,63,69,69,77,77,78,85,84,59,36,59,45,78,48,90,74,26,53,62,62,53,53,84,81,63,60,87,74,41,59,40,76,81,52,68,91,64,66,60,64,63,89,57,62,50,71,54,36,64,105,82,80,64,100,42,72,73,75,95,32,50,46,50,63,68,78,71,79,43,37,55,56,35,55,43,82,55,67,86,54,71,52,60,54,33,84,75,36,81,58,48,67,60,37,80,48,88,49,51,52,60,96,64,61,62,87,73,90,63,52,91,135,62,50,57,78,29,77,88,82,69,55,73,65,86,56,60,74,58,87,71,71,44,82,53,48,80,38,69,68,78,55,62,48,80,45,62,52,58,48,34,78,96,69,37,85,44,88,77,77,94,63,39,78,73,53,71,67,49,65,130,67,66,57,57,93,46,56,43,67,83,66,82,81,69,51,54,51,50,58,86,86,41,110,142,65,102,52,55,49,73,41,90,73,47,62,55,63,70,79,47,53,76,64,85,66,54,50,90,102,76,71,60,76,37,67,44,66,59,31,42,83,89,60,64,44,59,92,52,59,32,80,79,82,111,66,48,53,104,44,40,77,105,71,63,74,137,46,78,55,47,62,62,68,76,65,69,23,102,90,52,59,95,63,58,54,39,53,65,57,55,93,95,57,60,66,54,63,85,76,95,46,52,72,45,72,63,61,89,49,74,80,60,52,59,94,50,77,60,79,86,76,55,90,68,62,79,51,52,90,65,65,96,119,65,77,55,102,86,33,64,49,59,69,86,73,63,89,89,69,55,46,81,84,64,57,51,59,106,66,63,42,42,86,65,52,76,57,50,39,53,92,92,66,74,55,62,79,82,75,90,64,77,70,60,125,60,71,71,79,82,97,72,73,61,72,58,36,83,109,99,64,71,56,60,69,72,61,75,22,62,70,82,62,73,98,89,78,92,55,80,71,85,68,63,54,68,62,49,121,96,56,48,36,64,87,75,63,91,61,60,45,55,54,75,68,60,50,34,90,56,41,38,84,76,88,76,58,100,60,57,64,57,54,57,91,68,42,40,63,78,72,82,123,57,60,60,73,78,64,78,59,74,59,67,94,44,79,78,56,48,52,47,58,72,48,90,79,82,65,75,75,85,82,73,72,85,65,26,65,74,63,52,86,49,42,90,48,73,71,64,61,55,75,41,58,60,50,73,66,98,84,17,106,71,55,56,61,82,76,59,100,88,80,64,71,94,56,79,76,63,55,56,64,44,40,75,80,82,67,97,79,70,94,83,73,73,48,62,67,72,54,41,65,58,45,57,76,37,95,48,69,78,54,100,56,59,41,47,66,53,50,68,104,79,70,68,69,74,52,71,60,57,74,50,60,68,75,81,70,66,41,54,54,70,77,77,69,84,64,50,59,71,62,36,82,76,38,50,75,61,65,61,30,93,61,38,59,61,59,58,78,83,64,87,52,52,86,78,65,76,98,70,67,60,68,53,75,77,71,73,86,64,78,48,64,46,58,66,43,65,74,52,78,83,60,65,93,55,55,65,69,92,38,46,82,89,60,102,55,74,63,69,46,59,80,74,67,65,66,49,43,28,66,65,52,57,96,83,66,65,64,118,74,53,53,65,83,61,40,63,99,44,89,58,87,77,84,39,41,66,47,37,67,60,109,80,76,56,75,62,82,92,70,71,49,28,54,74,43,71,58,75,61,90,70,31,64,71,65,60,73,85,54,61,73,67,45,30,37,70,39,26,88,58,89,80,86,92,52,22,58,60,72,67,76,70,66,80,63,58,72,82,71,46,85,83,46,85,66,51,54,69,43,83,56,79,74,60,61,96,81,78,88,21,73,68,81,64,80,59,73,65,56,88,55,46,69,38,58,61,76,83,87,79,52,76,70,53,95,60,72,42,70,82,53,57,19,79,59,78,134,83,50,77,92,52,100,57,71,51,50,19,62,80,77,65,34,77,64,50,76,80,67,86,48,64,70,56,60,64,76,88,71,46,96,36,84,50,72,67,39,35,63,69,67,52,71,35,42,96,59,77,43,85,78,80,77,68,59,36,30,75,54,62,55,69,84,44,82,74,49,61,56,38,87,83,68,76,42,51,88,60,71,89,63,64,65,83,62,60,63,70,77,82,37,84,66,97,72,80,61,52,58,59,64,78,87,47,33,70,89,101,46,59,38,56,68,76,77,74,62,92,100,82,42,72,57,77,54,70,75,52,85,67,68,85,56,62,57,55,66,51,68,42,18,79,65,69,96,83,46,61,108,86,87,100,72,90,66,54,75,78,69,63,38,71,61,63,152,81,72,79,38,64,68,54,86,71,118,58,63,52,73,60,60,85,44,107,73,68,122,46,54,71,68,57,68,64,99,72,101,54,58,64,73,62,47,69,62,66,95,52,41,55,85,15,55,55,57,63,83,80,58,53,44,93,68,81,72,120,73,37,63,85,83,55,71,49,52,59,132,63,64,71,46,96,114,54,47,58,65,44,70,83,62,60,78,84,59,55,68,62,44,90,60,69,114,45,99,54,71,83,93,65,76,62,60,70,89,97,108,49,87,61,54,40,64,46,76,75,71,54,57,44,64,85,85,100,49,59,50,69,65,89,63,69,52,49,101,85,49,69,35,43,54,55,62,68,27,53,43,61,64,90,80,51,70,57,83,69,65,65,46,85,50,66,55,83,77,53,49,74,79,50,69,100,81,51,68,70,69,70,85,61,23,73,100,93,62,72,112,84,46,98,66,37,83,61,47,46,67,85,67,63,57,55,63,45,38,59,74,85,62,58,62,52,31,93,50,67,88,58,72,59,70,43,77,40,42,47,66,60,30,45,95,66,68,69,71,45,71,72,73,44,59,69,44,101,66,83,103,67,58,54,60,93,87,72,45,80,50,81,62,44,74,55,86,66,86,51,64,88,62,65,41,67,59,52,55,33,39,55,77,56,53,64,57,67,72,76,43,45,55,65,86,66,66,66,101,60,62,59,83,63,100,49,98,51,77,44,57,65,69,59,49,65,68,63,71,85,78,68,72,74,71,56,41,74,50,30,80,52,52,76,52,38,65,59,82,44,49,55,99,46,62,67,69,71,44,38,63,68,51,33,57,67,64,61,76,56,77,57,75,59,58,80,35,68,55,84,65,79,134,49,97,57,77,51,67,71,75,76,63,62,79,58,64,72,26,86,88,60,95,72,61,64,78,62,55,50,58,43,104,53,32,45,71,70,35,84,97,69,78,59,44,51,82,76,60,37,73,47,59,64,70,49,46,62,46,49,53,34,62,41,110,65,76,71,58,74,65,101,80,59,68,22,30,89,74,41,50,72,52,64,31,55,121,49,73,54,49,50,73,50,65,52,64,33,75,47,44,59,87,86,60,95,69,88,59,45,68,76,54,64,61,84,43,68,76,74,58,63,61,50,55,68,60,47,65,44,68,73,62,65,52,68,68,60,56,43,58,57,67,62,45,144,85,87,69,71,48,57,68,46,56,80,77,55,105,77,81,47,82,91,41,74,49,68,100,95,53,77,39,56,68,79,94,62,121,74,61,67,70,76,68,78,105,79,70,62,59,31,73,32,94,76,52,73,79,81,84,83,109,60,53,66,49,64,107,62,79,68,107,58,46,88,65,62,45,56,72,80,51,61,60,83,57,97,49,88,44,104,63,74,62,58,70,70,76,54,54,70,86,60,43,62,83,92,73,55,54,31,77,103,55,87,65,52,57,98,85,74,50,86,37,70,62,56,35,26,72,44,62,58,72,74,81,92,56,67,43,61,35,58,45,68,66,81,29,52,59,80,72,87,57,65,46,64,67,51,94,67,79,39,50,76,56,75,46,54,131,50,73,80,60,53,49,50,54,50,72,31,71,64,51,100,90,70,87,57,97,88,56,54,69,91,60,52,91,70,58,54,69,50,83,79,91,80,55,95,55,65,68,48,69,40,49,42,96,81,74,35,53,58,42,84,60,75,85,72,70,55,54,59,97,43,86,68,109,33,55,55,58,63,83,67,85,72,34,76,49,69,49,42,75,56,63,48,40,72,65,77,73,47,62,67,53,56,49,52,62,36,57,89,57,36,52,60,77,84,61,67,58,35,81,39,68,77,57,64,74,61,35,65,71,59,56,57,64,70,79,75,37,40,106,71,58,75,73,65,106,56,62,42,55,57,46,43,45,72,64,98,68,45,73,64,59,60,56,34,71,92,67,57,55,76,60,78,54,69,39,51,61,83,78,29,48,46,68,66,11,48,60,54,54,80,65,89,86,48,66,57,63,51,60,74,61,76,70,97,77,75,70,55,83,43,66,60,67,72,57,120,34,57,79,69,46,61,39,55,94,70,131,55,73,44,75,81,58,55,65,38,91,45,73,59,81,70,69,57,73,46,83,71,70,102,102,53,80,54,72,77,83,56,123,65,44,29,61,83,78,50,49,64,67,65,60,77,57,61,94,90,93,80,53,59,62,73,77,80,70,40,73,47,57,63,66,97,41,68,44,67,60,35,90,81,75,62,54,60,31,79,51,72,66,38,89,96,59,68,64,74,82,45,53,84,53,60,66,72,65,61,55,45,95,65,46,28,78,40,51,48,48,33,92,63,35,69,106,80,67,86,76,99,82,82,78,76,48,69,45,73,60,67,54,67,82,103,47,120,81,53,67,76,42,55,36,59,46,50,49,60,64,78,66,67,83,67,88,71,30,66,24,85,52,64,88,57,77,80,51,62,96,54,47,60,77,59,52,69,77,63,68,88,64,67,82,84,34,20,106,72,44,46,75,64,72,57,78,60,95,57,62,56,52,72,48,55,80,71,50,80,71,100,78,54,60,47,50,70,61,44,57,63,57,53,72,70,88,63,46,62,56,36,60,61,60,61,82,69,54,47,56,40,70,82,42,38,51,69,87,80,82,58,89,59,63,71,68,70,97,49,76,55,53,93,97,49,78,50,55,42,53,43,123,49,69,93,34,81,90,66,101,44,57,68,108,60,102,90,76,59,68,84,79,55,56,84,72,80,39,52,67,66,68,86,67,64,87,48,76,52,55,46,57,71,30,79,63,67,79,78,80,77,94,47,51,55,84,61,77,57,46,39,76,66,94,54,44,57,67,65,69,85,59,87,74,62,56,73,75,48,50,62,54,66,65,79,84,51,85,77,76,89,61,78,57,74,54,71,56,65,68,72,67,61,92,53,74,65,60,56,100,39,99,52,64,83,40,79,93,47,47,60,77,64,57,67,57,32,69,87,173,50,64,50,91,37,68,77,61,27,80,47,75,79,80,64,68,56,89,83,44,73,73,40,59,87,142,91,35,58,77,58,79,89,121,79,97,56,60,37,51,46,67,43,81,58,48,82,72,86,47,98,49,70,74,73,85,89,59,76,50,57,57,51,80,54,62,95,61,46,52,72,80,79,72,97,86,54,91,44,90,68,58,67,59,73,73,69,44,84,76,43,39,46,72,40,89,72,72,63,67,107,69,56,57,76,59,38,46,67,65,56,73,45,50,60,78,58,72,92,78,38,130,60,70,63,90,59,61,70,47,94,62,44,32,77,87,85,50,58,54,52,61,52,83,64,61,85,34,50,60,103,61,60,59,49,76,78,79,72,46,55,47,55,101,53,46,63,60,80,55,86,67,48,58,75,62,48,59,60,58,32,31,84,46,43,120,57,37,44,81,58,77,55,59,45,44,42,44,64,41,71,49,80,63,71,87,60,79,104,66,57,81,57,56,63,77,48,94,70,67,76,58,56,90,48,59,63,69,45,59,83,72,43,73,55,55,72,48,64,77,107,43,74,51,65,96,40,71,39,67,60,76,90,68,71,56,46,57,57,42,67,44,75,72,59,85,91,59,98,106,43,53,108,77,60,57,84,71,69,39,18,54,109,56,58,68,38,66,147,46,42,70,61,42,90,72,98,65,60,75,83,54,35,59,49,51,60,55,52,57,50,78,66,65,66,26,84,53,77,73,45,54,64,75,83,68,67,94,80,48,79,47,55,55,50,77,67,67,42,26,77,32,82,67,49,51,72,60,75,82,128,30,71,47,70,72,31,94,51,57,92,62,68,60,116,58,83,65,43,53,90,58,53,41,60,57,57,60,58,27,59,62,84,62,59,62,58,90,50,45,62,97,73,65,76,76,72,37,58,54,60,70,32,77,82,74,86,81,46,87,63,64,82,57,74,55,48,65,49,54,61,56,85,75,80,55,71,52,56,32,59,55,106,51,53,122,64,47,58,83,75,82,58,44,44,56,48,43,64,64,35,63,81,102,94,47,48,72,98,81,81,91,69,60,64,45,77,56,72,68,71,85,60,84,89,95,52,71,52,36,54,35,31,81,60,54,103,55,85,55,62,88,45,63,56,51,55,88,51,52,48,75,43,47,42,58,50,70,81,78,87,89,60,96,80,75,69,87,64,66,66,72,79,63,30,52,72,61,72,102,49,73,62,32,85,56,51,62,65,83,83,85,87,55,59,60,56,95,80,150,44,97,59,68,57,51,90,63,50,67,52,71,50,70,80,59,60,88,62,74,67,46,81,114,64,35,74,84,63,78,49,52,59,98,59,62,73,46,80,54,60,64,38,65,60,55,57,35,87,62,93,52,60,55,66,80,52,72,47,65,52,58,77,73,78,77,67,52,82,63,53,65,73,59,48,85,97,77,50,89,78,77,99,77,85,126,56,88,80,82,81,66,54,86,120,63,82,57,47,50,48,66,81,68,87,59,50,71,76,71,85,69,78,81,73,46,84,87,59,78,60,103,58,65,74,60,60,128,43,60,68,63,84,64,53,87,104,60,76,73,72,31,42,60,123,85,77,66,75,94,51,75,48,65,91,71,74,45,55,56,63,68,68,73,130,68,71,59,90,68,44,94,102,65,59,82,42,62,50,82,42,31,74,58,74,66,64,21,78,88,81,52,79,58,66,77,71,64,73,74,103,81,84,50,66,67,55,118,83,33,78,80,55,52,71,87,70,64,27,62,56,66,54,71,72,53,61,70,78,78,73,57,101,52,93,58,80,67,58,86,107,34,66,89,93,75,56,56,101,71,118,73,90,81,35,54,61,43,51,73,69,60,69,55,60,53,82,85,76,80,54,73,74,31,88,60,80,53,51,45,69,71,60,48,60,36,57,64,75,71,55,86,65,41,98,58,74,49,70,47,73,46,47,74,71,57,78,61,46,61,67,59,59,109,51,60,60,54,73,96,88,57,74,76,67,51,118,64,38,61,51,78,45,80,54,61,47,56,106,72,36,65,70,76,50,51,88,50,88,49,82,49,63,64,30,76,59,72,72,57,96,92,92,50,77,81,47,88,49,41,38,57,72,71,73,79,43,70,62,59,101,66,62,72,39,47,53,70,80,72,59,47,78,52,45,54,48,54,53,80,64,88,62,56,60,68,74,100,98,79,63,111,120,43,38,63,78,72,67,85,51,77,45,60,73,56,70,53,118,57,85,87,56,52,79,62,55,57,69,55,39,21,78,55,48,56,30,57,100,43,67,84,57,76,43,79,66,67,67,63,48,83,86,62,54,57,55,76,73,80,49,72,77,54,52,57,90,68,55,44,95,74,81,59,90,53,57,82,65,73,86,51,42,62,55,83,81,67,74,71,72,68,97,31,67,65,105,78,72,72,89,49,72,59,70,41,44,38,78,29,70,63,64,38,61,57,77,52,34,48,49,64,79,64,84,45,82,43,94,62,87,79,78,74,76,37,53,49,75,90,63,55,60,70,79,65,42,44,68,65,74,43,108,89,41,54,65,70,77,61,98,60,77,73,57,69,73,80,209,47,74,48,58,85,71,65,73,57,76,82,43,66,64,46,52,46,71,53,56,38,77,46,59,80,69,86,84,42,79,60,60,71,52,35,66,83,79,62,58,60,46,65,92,48,87,37,91,45,93,97,69,87,87,50,56,61,73,42,72,64,67,60,49,83,90,64,120,39,111,51,50,104,66,71,51,52,60,87,51,129,66,82,44,64,60,111,66,65,87,47,77,52,49,69,58,65,84,76,59,71,77,91,79,68,66,66,61,69,128,60,66,49,74,58,69,68,66,58,97,72,56,67,66,109,83,56,69,98,83,53,69,73,81,68,108,87,60,130,50,121,42,70,78,63,94,87,61,81,89,71,102,77,55,63,76,91,80,60,82,63,68,55,78,87,62,70,61,72,67,57,52,137,85,80,82,53,61,68,69,26,60,90,55,77,81,77,56,60,68,51,76,88,65,57,40,80,73,77,60,70,37,89,54,100,75,59,70,60,120,57,70,34,65,72,74,47,60,68,75,57,47,66,60,62,69,84,120,58,77,42,53,76,74,47,58,123,45,81,98,75,37,94,80,50,70,42,56,77,83,74,83,72,68,93,63,37,70,29,60,76,64,47,80,91,55,48,63,70,60,61,83,62,66,50,57,71,91,65,70,97,53,45,59,64,82,45,85,74,65,82,67,49,60,57,84,84,80,64,76,53,75,70,79,72,81,45,55,77,67,66,81,70,86,75,64,67,81,56,41,64,51,58,77,66,56,83,97,85,45,69,61,56,58,59,45,87,79,73,68,64,50,32,82,76,26,50,25,31,39,37,38,100,85,73,48,61,76,80,54,49,52,86,68,88,62,54,76,37,45,75,62,80,54,56,64,53,73,60,96,73,85,64,57,88,47,45,62,78,70,66,67,88,59,68,59,76,63,66,66,77,70,98,65,49,31,58,77,77,77,77,30,97,57,79,44,54,58,61,53,60,80,99,44,61,86,61,69,60,67,85,68,43,85,184,58,73,58,52,58,49,67,70,54,52,96,65,98,72,59,56,57,76,70,79,51,57,52,84,54,50,62,51,78,73,65,83,51,90,52,72,56,118,32,68,72,67,56,53,71,94,92,34,67,79,67,51,79,45,83,73,66,85,48,59,80,94,81,66,40,107,113,79,88,54,81,53,64,51,54,66,40,20,42,79,70,41,48,63,77,46,57,72,72,64,28,36,37,73,64,60,85,79,66,58,61,83,91,52,60,102,97,59,67,54,66,49,77,57,46,42,45,60,70,53,55,52,65,71,53,34,51,79,93,66,51,57,60,39,60,68,72,65,51,92,80,48,84,67,52,34,39,45,81,85,110,46,69,88,67,82,67,56,58,86,64,57,82,46,73,71,80,72,66,64,61,37,43,69,42,67,83,90,56,76,60,56,33,80,118,54,90,58,57,78,71,38,66,60,99,47,30,42,78,64,35,79,60,63,58,76,81,89,86,71,57,94,79,69,49,94,67,109,82,74,61,97,60,70,59,90,114,81,59,64,50,46,54,64,62,96,79,79,70,69,73,90,86,61,79,77,59,84,90,53,70,50,70,23,66,75,64,95,87,64,103,60,56,32,65,76,30,73,86,42,37,82,56,70,62,85,90,67,77,55,76,77,79,57,70,83,64,62,57,123,62,49,54,82,52,72,50,50,71,50,53,79,96,35,42,129,111,75,113,67,49,75,63,106,59,62,59,83,60,46,88,76,52,81,76,97,58,63,62,59,60,64,71,70,75,59,49,58,95,72,40,74,59,37,56,91,53,49,64,75,72,26,71,98,54,65,57,65,57,59,47,84,109,62,31,73,46,59,81,72,55,44,55,87,47,58,77,65,67,89,52,76,82,50,72,93,57,61,91,91,72,85,52,76,60,62,83,55,35,54,66,73,108,86,85,61,57,56,67,66,63,91,51,67,94,63,58,76,80,74,42,62,88,61,75,59,92,59,68,68,65,51,63,57,56,59,60,77,78,82,80,62,69,77,57,74,62,93,49,80,78,49,97,61,65,42,38,58,85,88,59,48,87,64,91,49,29,56,84,64,59,93,76,75,52,67,46,63,97,47,62,60,85,93,109,69,143,81,55,56,79,74,82,68,81,39,55,60,74,68,82,70,77,46,44,72,79,55,38,74,70,50,83,68,70,61,86,58,64,57,98,49,53,75,68,75,43,54,56,69,69,45,78,61,81,49,42,56,57,40,87,70,70,69,43,66,71,70,71,61,75,66,22,53,76,47,82,41,55,81,78,39,66,46,95,65,71,94,84,52,106,73,70,57,58,54,50,72,75,51,43,75,93,69,60,81,77,68,44,55,47,97,50,47,41,59,48,73,79,44,48,55,60,67,73,72,46,31,65,58,66,79,62,57,85,85,80,60,62,84,76,71,74,60,54,61,26,69,95,54,57,37,56,55,61,52,77,73,35,67,103,68,50,83,51,89,89,60,75,132,74,82,50,63,84,48,62,55,68,84,68,68,72,97,64,39,20,35,95,68,44,59,68,49,65,59,82,55,83,69,95,66,77,56,54,83,93,47,36,65,70,44,62,47,52,98,71,42,77,52,60,51,68,40,66,67,50,72,118,67,51,40,48,47,101,78,60,33,92,35,59,49,54,64,93,75,86,64,16,69,85,72,52,65,44,72,68,44,40,102,66,81,60,74,33,99,49,73,60,90,56,55,87,70,56,81,61,62,64,55,67,58,70,98,70,67,66,59,81,26,61,60,100,49,72,75,50,64,43,79,60,72,36,100,83,49,42,78,89,48,99,69,80,63,74,63,94,74,78,89,68,63,69,66,64,69,60,53,58,83,87,37,68,55,29,71,69,67,57,43,85,56,79,52,46,78,49,51,74,58,45,70,70,45,77,54,57,60,86,70,60,64,70,60,69,67,87,56,57,146,45,102,131,63,82,75,31,57,74,53,73,81,47,86,82,56,59,68,43,46,69,36,67,49,26,82,43,27,43,125,60,80,46,81,60,74,66,81,81,52,88,53,32,59,72,84,43,64,82,60,40,70,90,46,99,85,46,85,68,75,70,48,77,60,121,42,37,87,60,76,59,58,84,63,54,52,65,54,65,85,85,64,85,72,61,31,54,38,71,71,61,78,58,88,67,75,67,53,113,64,47,61,92,54,54,70,42,74,64,61,76,33,77,37,67,58,114,60,49,95,66,46,75,55,66,60,77,49,54,60,53,63,77,59,73,74,67,95,35,63,65,58,81,85,60,78,49,70,122,46,56,65,56,69,74,32,75,86,74,83,78,77,43,60,60,62,101,37,86,58,42,41,83,50,91,98,71,113,48,81,41,87,62,69,109,61,57,63,71,75,68,46,90,42,63,65,64,65,51,60,70,63,70,66,58,52,69,104,61,36,69,54,62,73,55,85,94,64,53,79,58,54,59,73,37,78,94,56,32,77,50,62,37,65,66,45,37,81,87,59,74,54,36,80,87,58,87,58,46,70,93,80,53,57,68,90,88,57,61,72,24,58,64,57,58,65,51,62,54,98,92,68,49,55,91,45,68,73,59,59,100,92,30,75,49,72,49,42,70,30,75,51,71,74,54,57,38,79,82,49,67,32,63,48,66,54,80,98,102,42,60,53,40,57,53,83,89,66,73,60,69,64,71,57,42,63,63,78,51,50,70,47,41,60,44,81,51,75,52,57,40,76,56,58,58,69,53,68,61,50,41,78,56,66,52,79,96,59,65,45,60,61,68,104,99,81,119,51,78,71,67,69,62,46,46,77,59,69,60,57,43,70,66,60,76,60,69,89,58,65,65,82,107,56,67,51,82,64,50,60,84,60,58,48,73,68,109,44,80,50,97,35,76,41,45,83,56,70,46,69,54,37,66,43,67,59,64,71,32,52,77,62,52,45,60,133,71,47,83,75,53,58,37,50,53,23,61,41,46,63,64,86,88,43,35,72,48,41,57,52,69,80,54,69,43,64,54,87,54,88,64,36,73,47,46,90,79,84,50,87,63,104,97,61,79,75,71,94,90,82,57,55,39,78,59,45,87,97,40,86,57,78,49,78,52,52,63,40,59,56,157,49,59,70,75,86,63,84,136,40,64,64,54,48,45,72,54,32,32,97,43,57,90,79,54,76,73,70,90,63,69,83,63,59,99,31,58,104,51,44,58,73,47,57,49,60,72,49,53,81,77,71,45,70,76,57,76,69,58,86,65,62,47,62,58,44,58,46,95,86,81,83,62,41,82,109,70,46,30,74,70,56,51,142,62,83,55,66,51,65,72,51,61,39,105,38,48,78,77,90,57,102,84,118,36,63,80,34,59,75,30,101,55,34,90,51,45,56,93,57,72,44,57,65,36,59,56,98,43,59,62,72,56,62,75,37,89,54,60,98,95,86,80,58,71,69,78,70,48,64,79,63,47,67,59,73,66,87,38,66,71,81,59,64,99,51,53,48,60,49,46,28,62,58,28,84,87,82,70,75,58,73,46,24,95,61,82,92,68,66,88,70,84,53,53,80,62,58,43,91,77,56,68,76,61,71,63,42,65,46,48,48,73,69,55,40,45,71,65,107,60,41,63,64,53,78,81,67,89,79,56,56,33,77,56,71,57,81,72,81,60,60,48,89,65,37,81,43,56,56,51,94,56,87,53,20,50,70,55,77,45,53,52,60,77,87,43,84,59,80,89,73,68,60,73,27,29,66,59,99,40,37,56,58,67,78,69,52,74,83,34,35,43,81,92,71,39,77,58,69,69,41,58,100,81,64,81,76,71,70,68,70,67,58,34,57,74,70,41,83,94,39,43,86,102,42,65,62,92,73,58,79,46,43,61,53,77,64,88,41,71,39,72,35,59,62,57,52,59,73,43,76,72,67,58,66,66,38,82,47,52,36,55,52,67,50,64,84,67,70,49,54,72,76,55,29,70,64,59,45,64,53,87,31,71,89,49,41,69,78,25,93,68,60,77,52,40,73,58,42,86,73,40,53,48,66,83,75,67,41,63,79,87,56,73,71,67,57,77,62,51,64,84,135,47,73,84,55,84,84,77,60,77,57,52,46,45,72,112,84,74,54,43,55,56,69,53,52,30,70,82,77,89,77,76,38,62,50,65,67,66,142,83,39,58,67,44,46,74,53,64,56,82,60,37,74,51,59,66,58,52,60,77,28,50,77,61,84,63,55,35,57,89,49,62,58,69,35,71,73,89,48,59,60,69,91,55,99,67,80,63,45,30,59,58,68,75,66,46,78,75,57,106,77,67,52,75,75,50,102,75,51,38,40,67,69,72,60,66,90,58,82,64,79,53,58,66,25,57,46,60,59,89,79,94,54,49,84,81,55,83,78,72,78,50,48,95,88,50,69,43,56,66,64,102,26,65,84,87,81,49,61,94,74,44,69,57,33,62,56,60,59,63,75,73,50,66,58,49,88,54,107,68,60,50,42,60,70,74,62,66,56,55,94,76,69,72,55,35,48,60,85,88,67,53,77,39,82,70,78,59,56,74,85,66,65,46,47,19,64,59,76,29,65,61,64,82,76,65,72,25,92,60,72,67,47,60,71,88,62,79,72,38,60,66,72,79,37,71,81,80,81,133,72,56,83,93,51,88,47,79,62,101,101,68,63,74,74,87,54,75,70,73,72,60,73,52,51,74,57,63,91,79,82,71,46,69,88,58,54,54,64,80,72,62,87,55,72,55,47,95,60,51,115,59,37,69,98,37,83,65,62,56,71,108,44,69,54,59,58,74,64,65,59,54,71,71,52,43,68,83,60,64,45,81,42,47,96,53,68,70,41,71,63,85,96,68,67,78,63,52,37,74,64,81,85,61,70,78,76,67,87,53,67,59,90,50,64,81,66,65,61,56,56,50,36,27,95,59,49,65,38,64,63,51,42,75,51,74,67,33,77,58,74,83,69,71,84,58,85,63,57,47,91,54,75,53,78,71,57,74,86,81,49,53,62,87,71,70,73,113,55,87,62,51,61,57,78,61,66,69,63,57,47,65,54,61,74,51,110,47,45,62,77,60,70,84,52,60,46,78,57,85,69,76,56,61,65,32,51,66,98,46,70,59,51,59,89,84,56,64,58,80,58,86,59,74,61,80,40,67,70,75,76,55,65,68,74,67,54,83,96,74,63,54,71,86,75,48,54,70,53,40,34,59,57,57,52,66,48,93,45,51,61,64,80,64,89,73,108,68,60,55,72,53,81,65,65,85,68,61,55,76,73,95,67,77,33,69,87,59,55,85,78,61,72,76,57,58,45,97,91,64,65,45,54,55,74,66,33,63,64,72,61,66,73,59,86,86,90,75,50,94,72,41,92,33,65,67,64,61,56,69,99,46,77,77,98,79,37,37,55,49,90,57,64,55,41,55,54,55,83,51,71,55,66,56,89,53,66,75,48,55,72,58,61,47,43,49,84,93,39,54,73,83,28,58,59,67,87,43,114,71,60,45,78,59,82,55,53,38,57,57,55,53,77,41,57,97,62,60,71,59,66,79,53,36,59,57,65,57,61,75,64,72,70,16,59,54,135,96,73,79,114,87,60,105,65,58,56,48,84,60,58,67,79,45,67,61,61,88,64,49,49,75,70,38,49,80,89,91,91,69,53,60,85,30,53,54,73,49,51,64,94,62,59,84,50,70,61,80,97,52,52,68,63,50,47,75,58,54,104,85,61,73,64,73,89,52,59,62,51,52,57,35,60,61,62,83,23,35,38,85,65,56,84,65,103,58,58,61,87,63,62,64,71,58,54,69,72,49,52,91,27,58,82,71,51,86,68,80,59,65,59,59,57,82,32,60,57,22,58,72,87,78,41,66,73,69,100,61,74,58,67,59,53,58,58,59,48,17,64,56,81,44,81,67,106,75,30,54,85,73,61,66,65,74,67,41,67,47,66,63,78,80,91,62,67,53,88,86,59,62,70,34,56,96,52,84,51,81,68,63,69,70,53,44,70,75,54,154,66,58,91,78,53,62,62,90,69,38,41,91,53,87,70,88,65,71,58,77,112,71,71,46,71,64,43,58,77,77,83,58,74,56,60,50,56,80,65,71,83,54,90,65,51,63,50,80,75,60,92,103,54,39,85,85,83,101,97,66,86,73,53,39,40,49,51,67,59,62,64,68,40,56,52,59,69,56,38,82,28,54,39,61,52,56,91,90,54,100,61,69,88,76,53,83,64,46,85,79,54,71,79,61,68,75,59,54,62,41,44,57,76,89,58,54,82,41,71,53,87,66,80,49,64,54,50,70,72,109,46,97,61,54,97,97,54,48,83,79,103,72,37,81,82,40,86,97,71,104,52,99,72,51,69,53,62,52,83,78,60,87,84,113,60,53,92,53,73,131,38,55,70,66,57,53,50,58,81,69,66,123,54,39,56,80,46,78,89,52,57,50,75,116,76,81,54,47,66,82,36,54,83,29,31,70,69,51,75,82,77,62,62,42,42,35,104,88,87,68,92,62,67,64,78,71,80,37,45,51,64,57,97,62,68,44,81,75,56,65,69,62,103,64,69,89,67,34,87,30,62,72,88,28,71,63,88,90,80,59,44,84,36,50,65,86,96,56,55,64,93,75,56,59,72,77,62,105,102,96,77,57,97,57,63,75,73,50,107,50,64,49,90,56,89,61,71,50,68,69,70,63,60,65,30,73,70,50,72,24,48,71,104,55,57,97,71,84,73,57,64,63,87,50,76,40,36,51,72,94,57,58,117,28,54,87,64,59,56,47,38,74,58,18,52,94,54,78,48,66,45,40,74,81,59,45,58,58,62,93,77,56,50,83,27,72,68,41,69,82,71,27,77,56,71,82,80,66,65,36,85,48,70,61,54,55,58,58,79,57,61,52,49,67,55,97,46,76,70,104,50,57,54,73,54,62,68,53,22,58,61,57,56,72,60,47,77,86,60,59,52,69,64,82,70,64,89,65,60,45,90,51,60,96,61,71,52,61,37,59,79,80,63,87,78,70,71,51,60,63,54,75,69,81,76,61,43,53,38,63,69,62,41,70,69,92,52,92,76,74,73,75,59,88,67,68,54,50,56,89,26,56,73,104,48,34,125,77,77,55,100,67,58,70,49,68,48,66,57,70,66,85,72,73,90,50,69,57,70,86,79,72,73,67,54,81,62,81,69,53,36,128,55,89,68,72,104,65,95,54,42,68,54,43,51,93,51,58,87,85,52,51,78,60,53,61,64,71,76,33,67,67,38,51,87,54,90,52,98,96,58,68,120,25,80,60,45,77,66,67,38,133,68,69,83,69,80,47,75,109,69,75,77,32,50,60,56,63,63,104,77,54,101,54,50,66,46,77,109,52,57,83,54,77,72,83,68,74,35,90,70,64,84,58,49,68,54,77,94,60,63,37,103,85,91,53,33,84,67,21,91,83,58,89,46,81,80,84,79,89,64,80,79,60,54,42,70,65,69,73,53,47,56,80,51,90,39,56,53,38,53,47,72,63,66,75,83,81,61,57,50,133,77,85,86,47,82,54,73,84,87,57,72,83,58,46,78,66,46,77,57,73,94,85,61,58,58,61,48,77,51,71,57,58,24,36,81,65,60,37,69,42,56,63,68,59,64,80,70,66,61,60,84,64,55,57,54,66,51,70,50,114,67,36,110,66,43,95,69,36,62,81,85,71,73,74,46,60,42,53,62,76,88,81,68,64,67,31,57,56,33,65,57,55,52,70,41,47,46,43,23,84,40,50,70,82,69,62,36,31,42,47,115,68,55,100,39,71,77,86,86,55,62,86,58,37,71,77,35,62,38,72,38,72,72,64,78,82,71,74,53,40,26,18,79,57,63,58,19,65,51,65,55,82,84,61,70,60,59,90,70,72,47,64,69,64,61,58,47,49,73,74,91,93,22,79,90,102,40,75,49,70,35,87,46,69,87,76,40,58,85,28,70,72,54,84,82,18,40,46,62,44,73,67,99,87,67,51,61,91,44,51,37,81,64,78,68,81,85,75,84,53,69,26,53,54,35,92,64,64,57,78,60,83,49,57,39,61,103,78,28,55,58,80,100,45,55,84,55,83,82,49,50,74,50,81,68,67,72,108,52,49,50,74,73,85,47,80,53,69,52,38,52,88,43,59,54,54,112,71,80,69,52,57,48,90,111,52,58,35,57,51,58,54,85,66,65,72,23,46,55,89,88,64,76,69,97,48,75,46,91,67,56,73,80,81,56,80,61,58,70,43,75,90,54,89,35,90,67,87,95,49,74,48,33,79,53,52,89,45,71,44,36,90,53,76,70,58,84,48,32,43,54,66,86,89,58,71,60,38,32,52,113,84,85,39,96,83,55,74,88,57,28,58,53,61,84,81,92,37,55,43,42,54,80,104,80,57,73,83,89,32,58,74,48,81,90,65,50,108,68,52,33,52,37,58,45,68,75,68,51,52,73,61,60,72,76,90,48,79,67,67,62,53,27,70,90,45,71,54,57,70,48,60,60,23,42,84,25,72,20,28,50,56,47,100,85,90,52,89,58,64,82,36,58,89,50,63,44,29,70,43,55,41,82,55,55,89,52,62,52,75,64,64,29,53,53,101,87,75,50,57,80,61,68,96,78,79,56,84,75,56,76,47,50,71,74,62,51,43,54,43,76,54,53,63,61,35,61,61,43,38,113,84,59,59,83,67,33,61,96,35,69,72,92,63,84,67,48,73,68,53,46,70,67,54,114,56,143,65,71,61,49,84,78,51,50,73,71,21,70,54,76,56,62,84,72,85,73,62,57,54,55,68,54,56,69,35,46,59,61,51,68,83,68,82,69,70,46,54,64,75,97,93,55,77,59,66,65,83,69,63,63,75,80,47,39,67,82,42,31,47,90,81,61,89,51,91,58,58,70,90,119,88,57,77,50,99,85,65,77,89,63,67,83,56,78,71,20,58,60,45,79,51,76,64,57,22,30,76,69,54,91,84,126,33,81,60,92,81,114,29,76,88,54,60,87,60,71,29,94,31,65,39,77,56,73,74,50,63,90,105,50,75,78,98,37,41,50,83,72,60,26,48,65,73,50,70,51,59,34,53,59,93,88,39,50,59,74,62,69,75,60,63,117,61,53,75,44,85,58,103,90,56,46,108,67,61,53,41,81,63,25,88,96,44,84,39,90,58,119,61,86,77,54,47,62,72,77,108,48,54,41,49,55,45,63,75,63,129,47,58,52,60,125,33,51,58,43,35,67,62,73,61,31,69,78,78,63,59,84,68,87,57,63,64,74,69,57,79,40,27,69,63,93,83,48,81,65,33,63,42,69,67,44,59,84,85,73,22,45,66,31,80,79,58,72,76,96,57,52,71,61,42,53,54,32,72,80,44,75,121,80,71,49,73,70,70,41,77,46,89,63,80,77,57,71,61,45,56,71,55,47,77,22,44,35,40,60,82,27,62,64,46,59,84,62,56,43,45,77,68,60,74,133,80,101,66,75,49,30,132,83,63,48,97,72,62,52,58,47,62,71,87,97,101,15,73,38,51,47,126,38,63,76,31,60,90,27,72,43,67,35,63,85,87,60,82,59,54,96,55,88,49,51,68,57,57,50,71,48,70,81,76,84,64,80,60,83,93,81,106,66,105,55,90,68,50,47,68,70,96,89,84,101,41,67,64,47,44,58,84,91,41,54,52,58,81,62,70,97,73,94,79,34,66,75,60,70,111,78,74,65,81,35,54,48,45,65,67,76,55,72,87,82,91,54,82,69,82,146,63,32,47,84,61,80,41,30,46,53,95,42,60,64,47,65,50,71,67,80,88,79,57,69,31,103,58,45,75,60,57,57,40,58,76,85,62,60,52,105,70,68,82,82,56,64,87,56,91,57,54,55,37,64,51,35,27,79,37,55,70,75,59,85,51,90,62,61,74,43,106,85,64,77,89,80,75,85,72,69,65,67,69,49,73,81,73,73,37,37,58,35,40,72,95,65,82,46,83,65,54,82,60,42,52,34,65,61,88,51,79,57,87,33,37,51,94,59,88,75,51,32,42,90,64,51,84,68,55,49,58,89,71,73,71,72,91,85,87,15,60,54,82,66,44,50,46,42,74,78,57,59,80,78,52,48,59,57,44,84,61,54,88,58,153,41,62,61,53,67,72,34,62,53,32,56,79,69,87,30,53,63,67,76,79,50,78,49,82,47,65,62,71,71,34,89,99,38,41,82,78,88,74,118,74,68,59,75,60,36,55,52,66,59,59,15,55,51,65,46,55,99,42,51,88,57,46,87,53,55,41,86,54,63,58,57,47,43,54,43,66,86,56,96,67,61,64,64,58,76,48,37,46,63,99,52,23,98,82,56,48,93,71,73,46,66,74,82,104,72,47,129,63,71,75,18,71,62,45,42,59,101,71,42,59,97,72,33,67,45,49,60,68,43,59,58,55,57,39,88,71,86,52,137,90,71,89,59,30,96,76,68,90,54,81,37,41,70,45,56,67,73,61,32,88,63,71,62,77,61,63,87,59,86,70,92,61,72,60,43,65,107,59,101,54,69,64,63,61,35,60,102,51,90,65,69,87,90,70,59,38,61,84,68,35,55,59,42,66,66,89,90,80,64,55,32,59,68,77,68,82,106,60,55,68,80,34,84,84,53,77,60,94,42,49,63,82,69,68,61,57,41,64,51,60,72,67,57,64,55,81,60,92,65,58,71,66,58,48,40,75,81,57,64,64,87,97,68,60,47,63,88,50,82,92,67,52,58,97,67,40,54,70,56,82,93,85,53,74,34,72,54,90,75,64,38,55,90,61,76,104,89,83,50,89,71,69,46,66,45,66,50,66,97,40,82,52,73,68,80,82,53,62,61,41,80,69,76,79,67,75,107,81,82,67,90,91,70,79,37,51,52,110,72,81,70,59,53,61,109,68,45,58,81,82,58,71,100,62,45,62,85,29,90,68,88,63,64,73,64,53,87,53,43,57,50,55,65,68,31,82,32,86,104,93,66,57,111,57,29,69,74,47,56,65,92,50,54,56,66,49,87,54,102,86,67,77,49,64,68,54,35,61,61,55,55,84,36,95,69,129,53,27,48,83,41,69,41,136,49,52,60,78,33,43,49,88,61,72,107,47,107,109,86,66,72,51,65,35,84,42,61,96,83,49,67,69,56,85,83,57,46,111,74,53,73,49,85,78,81,64,61,46,79,77,87,29,106,58,61,43,57,30,77,86,71,94,49,102,48,56,52,74,70,73,50,60,80,68,88,71,56,87,39,31,63,45,69,84,72,86,140,57,71,63,89,57,93,107,40,72,60,57,145,55,66,53,55,55,70,54,71,35,68,53,56,44,74,71,72,23,78,60,91,85,64,66,116,87,55,69,43,34,69,50,65,64,73,88,86,78,91,83,96,44,92,66,40,91,71,74,57,39,83,45,78,57,57,71,92,45,93,58,70,93,75,69,99,60,66,62,68,46,65,66,55,51,78,74,39,59,74,52,47,28,67,34,72,66,81,66,85,79,60,78,74,37,70,69,20,66,71,78,49,73,43,69,41,76,49,85,65,57,69,62,85,27,83,36,120,85,50,65,50,54,56,118,36,51,76,62,68,43,53,59,77,67,86,59,54,69,84,81,76,30,110,109,67,64,48,64,45,59,63,37,26,82,70,76,105,37,45,58,68,59,62,79,41,101,78,78,70,75,28,64,76,66,56,48,67,96,58,44,102,76,27,68,63,82,85,81,60,61,77,22,67,61,68,69,75,73,92,57,87,61,85,80,90,74,44,73,116,70,40,66,53,91,60,62,75,40,79,45,60,44,85,88,59,72,52,67,58,55,91,78,45,78,70,65,49,57,61,60,80,42,36,71,56,67,88,98,74,54,64,74,61,62,49,91,76,71,74,51,60,65,53,74,82,50,89,37,51,54,68,54,83,131,98,64,62,51,58,88,85,82,37,50,62,80,52,56,46,40,82,63,65,68,45,84,75,70,107,69,73,26,85,31,72,87,55,46,63,58,48,71,68,39,59,41,53,64,67,45,30,75,47,59,63,50,65,47,44,73,64,37,32,60,73,64,68,90,50,67,52,77,66,52,32,56,71,67,34,75,84,80,72,63,74,73,42,63,49,52,50,72,60,79,53,33,76,59,51,65,61,98,130,36,72,60,91,67,47,76,80,47,112,65,83,48,70,106,69,77,44,57,65,68,49,38,35,58,80,53,69,74,59,43,91,117,93,97,94,65,63,35,53,63,61,49,74,99,66,55,72,88,37,101,26,78,61,79,64,46,86,51,76,59,98,60,90,104,96,128,75,66,79,79,91,81,32,87,79,83,82,46,51,64,105,52,89,53,41,83,87,76,39,72,69,79,57,55,70,38,71,58,83,78,30,72,75,79,74,48,90,75,76,72,92,80,48,83,66,70,58,82,35,70,67,92,73,83,70,71,52,60,47,63,90,45,70,90,52,51,74,59,60,60,57,74,74,123,60,83,52,131,44,72,51,48,77,50,75,59,99,71,35,29,77,78,76,52,50,78,62,51,104,82,56,52,121,88,49,87,37,50,53,82,59,84,65,74,76,40,80,40,60,63,85,78,94,47,66,38,39,89,56,77,90,56,55,58,70,30,87,25,60,75,66,92,73,52,64,59,51,44,66,43,32,86,68,65,59,71,75,75,74,72,76,87,40,46,69,72,60,66,42,74,64,40,59,76,89,80,62,83,45,47,92,95,65,95,32,73,56,68,90,53,47,65,97,45,66,81,59,73,82,62,46,63,52,64,82,73,74,67,59,69,90,71,38,73,37,40,80,53,54,59,62,87,50,62,45,79,52,73,47,114,80,53,44,89,89,76,54,144,45,76,70,63,72,53,82,64,51,58,50,82,66,47,45,85,70,80,80,79,103,52,59,75,49,59,59,72,67,53,51,32,69,70,31,56,70,35,67,71,61,64,67,21,94,90,64,63,75,58,97,57,72,54,44,53,45,69,51,81,60,78,37,63,75,88,62,76,65,39,57,65,55,57,68,44,99,69,66,43,80,86,20,54,32,109,68,56,45,53,84,75,66,64,61,53,50,73,63,72,55,75,65,55,76,42,77,98,63,51,72,69,58,51,46,59,93,65,53,64,51,77,65,53,92,21,99,81,56,53,67,55,59,33,85,72,55,53,89,30,104,62,49,85,77,74,51,39,71,72,37,71,67,43,83,45,65,60,58,91,71,60,84,51,77,51,65,59,74,37,97,49,57,87,60,21,98,61,48,64,42,66,62,64,55,56,63,55,54,60,66,44,74,93,49,58,56,71,65,51,66,52,97,74,74,73,69,72,45,47,48,65,100,50,68,30,137,66,42,70,68,28,65,62,75,65,38,62,76,49,76,29,90,83,58,38,71,61,84,75,71,92,67,55,70,62,105,111,59,121,99,68,63,83,84,84,75,52,36,98,53,64,96,58,73,48,53,78,50,58,66,82,46,60,76,90,61,62,73,68,84,67,70,70,76,61,57,74,69,75,65,74,61,81,58,74,74,60,74,81,75,71,89,73,50,78,74,68,99,65,45,99,63,80,82,88,39,64,117,90,78,58,54,36,95,57,67,51,50,76,69,64,87,96,57,48,104,63,39,60,55,93,35,89,78,71,77,61,60,65,73,84,90,37,86,88,67,34,65,45,53,96,82,69,44,86,87,88,34,32,96,32,83,61,49,80,58,55,85,45,78,64,57,130,71,51,62,84,39,85,49,94,61,68,59,83,88,54,88,50,93,58,79,43,50,48,70,79,60,54,88,80,72,55,82,75,37,100,71,67,71,87,77,146,89,108,85,86,36,91,61,101,54,55,97,73,104,83,73,101,87,90,67,46,73,54,61,54,68,68,71,98,82,43,61,49,80,70,38,18,72,71,65,76,89,73,77,81,68,56,116,65,58,51,105,49,48,65,50,41,36,80,45,64,58,37,34,62,55,42,41,65,51,71,29,44,97,60,62,89,55,69,64,94,49,63,56,73,63,62,82,49,46,72,114,87,69,34,64,114,57,59,68,80,43,111,35,86,49,89,57,37,59,76,53,48,38,38,75,81,45,126,63,60,86,70,58,54,52,66,48,85,78,78,104,51,85,60,71,64,51,74,37,20,59,70,83,50,50,101,62,59,75,74,69,54,68,88,43,89,64,59,56,51,100,57,56,94,71,69,90,63,45,82,105,84,48,62,43,46,79,80,72,85,87,72,45,50,66,27,83,31,79,45,62,62,68,62,46,78,110,93,74,89,57,45,67,72,137,53,74,63,61,73,70,81,54,90,71,42,76,45,75,55,66,66,84,57,69,84,86,71,68,84,70,73,76,71,86,72,49,96,70,50,84,44,49,54,84,44,68,65,58,72,87,75,59,84,57,57,54,62,32,63,71,49,28,66,84,55,51,62,76,38,55,73,51,59,65,64,60,65,75,64,80,53,52,74,107,64,50,65,93,63,34,59,71,95,52,55,40,84,36,62,63,57,67,95,80,65,64,52,67,40,73,83,95,43,54,47,15,79,51,74,55,48,57,76,50,28,51,36,64,49,70,83,58,89,56,79,85,54,56,72,57,98,73,76,63,58,90,59,49,54,73,106,30,68,68,51,58,86,98,78,97,56,69,94,103,72,85,98,61,70,40,66,76,63,55,68,63,41,87,67,84,82,50,61,130,57,64,36,101,57,79,49,55,91,40,50,63,85,53,89,60,61,64,73,50,57,54,60,71,63,78,88,56,59,55,44,67,47,48,54,36,84,54,108,73,92,46,58,72,55,93,55,17,60,64,79,60,57,55,86,97,59,107,44,35,79,42,51,56,54,66,55,81,64,56,79,68,59,89,50,61,60,57,60,106,87,75,61,77,74,101,43,60,77,74,57,42,54,60,67,64,88,58,61,87,71,89,104,84,60,84,72,51,73,75,57,39,77,123,76,57,55,60,83,87,85,74,73,68,66,56,78,53,82,64,68,104,98,77,100,44,63,75,46,54,70,61,54,82,92,42,74,80,56,76,67,67,83,52,59,56,88,59,56,76,25,58,46,66,104,71,71,72,68,108,62,52,79,44,50,43,60,68,37,58,82,76,54,75,50,55,82,79,43,69,32,55,21,81,71,63,82,128,69,54,31,139,63,106,87,33,68,93,101,84,47,90,60,99,74,159,73,52,39,78,83,77,63,60,74,40,69,54,46,73,72,69,69,105,47,71,80,59,92,70,97,66,41,66,48,46,68,56,66,67,45,60,61,82,73,72,72,41,56,45,57,54,43,50,58,58,54,51,84,43,31,68,80,88,54,70,66,72,52,77,64,51,59,50,66,25,55,56,45,71,96,58,89,89,52,67,69,74,83,58,69,111,45,101,55,79,75,52,91,63,40,45,99,80,65,64,47,24,65,64,62,59,94,53,63,67,50,53,35,59,72,68,99,92,51,82,63,57,59,65,55,86,73,75,29,52,74,57,91,59,69,67,52,54,51,75,124,99,99,62,40,60,61,35,62,107,69,73,72,98,61,73,54,43,55,127,59,93,49,82,85,74,51,66,86,60,38,69,30,75,75,54,74,61,65,28,58,58,55,48,53,65,87,64,61,85,59,55,64,85,101,70,99,49,61,86,66,60,64,96,99,70,57,73,70,58,69,48,67,50,64,78,82,68,116,58,64,56,71,63,40,31,59,66,72,76,61,45,59,57,72,54,67,53,46,55,67,74,87,32,57,51,80,62,60,42,65,46,59,72,42,74,45,79,66,51,157,81,56,57,93,81,75,30,62,64,56,66,55,101,41,80,75,23,47,58,78,67,57,66,48,101,68,80,63,78,59,99,82,85,68,75,75,50,68,57,81,69,57,97,50,72,25,66,63,72,68,48,78,73,53,53,73,55,83,48,57,57,79,50,71,47,43,66,84,55,57,91,68,85,85,65,66,50,65,86,52,58,62,54,69,89,65,57,96,74,79,30,74,54,28,54,69,76,72,85,87,71,82,62,45,58,43,25,44,65,89,109,88,64,31,79,52,78,57,46,80,107,56,75,70,65,62,47,84,65,40,112,22,51,61,70,86,78,50,76,54,59,61,80,100,66,77,81,62,58,87,64,69,70,83,62,68,60,56,54,38,58,43,58,86,59,64,31,41,85,57,44,52,60,53,72,57,49,104,46,60,57,43,49,52,87,49,25,76,30,102,54,74,58,58,58,94,51,55,56,77,93,52,74,61,79,41,65,75,57,57,72,52,67,79,76,60,114,41,68,47,70,62,74,40,54,53,67,57,62,88,50,60,70,80,38,67,64,90,99,73,59,54,60,51,63,69,67,36,81,70,55,59,90,84,79,105,38,61,60,67,80,56,75,94,50,37,51,51,82,66,85,72,63,44,50,67,51,49,46,66,70,95,57,55,52,58,59,93,82,81,28,42,44,80,56,72,70,72,38,59,65,77,46,77,64,82,84,74,106,59,71,99,56,43,58,83,84,69,91,81,59,52,55,56,41,52,67,82,83,91,57,73,77,84,81,69,57,55,68,54,91,68,122,76,71,40,65,88,68,60,55,29,88,82,79,61,80,60,45,90,49,61,87,42,58,74,97,70,70,59,88,83,70,52,42,54,48,59,35,55,87,79,43,59,60,51,59,67,81,40,72,55,29,70,49,56,52,49,76,45,60,87,62,89,45,69,76,95,70,65,67,69,70,55,58,79,52,67,53,67,65,52,62,68,39,73,72,27,44,88,86,35,81,88,78,62,99,70,97,85,55,76,51,57,68,51,38,65,78,69,70,39,58,58,90,62,67,61,68,61,78,73,60,60,65,54,45,58,75,63,120,89,51,68,57,83,53,131,42,57,68,63,33,50,56,71,52,93,56,76,72,37,78,29,57,65,84,40,49,104,60,57,74,49,50,46,79,37,48,47,53,63,54,50,47,71,27,60,60,69,81,53,78,67,112,82,55,82,68,59,57,90,43,89,59,52,71,80,39,77,73,59,76,80,54,52,67,70,69,75,68,51,65,62,56,88,74,56,66,49,79,58,82,48,76,79,79,58,68,48,47,61,55,68,83,69,45,99,50,51,65,88,85,69,52,44,84,56,54,55,44,46,32,86,50,78,54,78,87,33,81,70,41,62,52,89,66,99,43,57,73,116,81,42,79,94,56,67,81,56,55,80,93,113,96,23,86,64,64,59,53,54,91,50,49,84,87,122,49,67,64,20,81,58,52,65,82,74,74,88,72,58,84,57,61,74,69,51,68,61,55,99,56,46,49,57,67,77,91,52,84,94,66,39,22,79,41,40,105,92,46,83,52,69,79,63,60,62,69,55,76,93,53,73,76,68,71,42,40,32,102,93,63,65,72,79,47,69,35,45,70,52,97,75,102,60,56,64,78,91,63,79,78,91,73,72,97,70,52,31,61,45,60,50,58,56,57,60,105,64,71,101,64,60,89,81,58,58,59,45,69,80,59,75,64,78,65,60,71,35,77,57,80,75,82,83,48,69,83,69,71,63,67,89,100,107,58,20,39,108,124,83,66,66,73,48,19,80,90,67,49,37,115,50,75,46,60,60,42,54,62,33,88,73,49,73,60,69,53,63,70,85,60,91,75,57,46,59,73,78,54,120,61,83,69,58,108,49,56,72,60,54,67,44,93,82,77,75,52,56,81,33,83,57,114,84,88,79,141,56,50,66,66,61,74,45,70,92,57,69,40,72,52,95,35,86,59,126,68,30,36,90,77,58,39,57,64,57,69,74,71,92,72,77,32,63,73,40,59,84,32,43,73,49,72,69,57,43,61,67,59,62,43,55,91,50,42,59,59,58,51,22,67,75,66,82,59,83,57,76,86,44,71,78,98,66,132,73,114,62,74,102,59,51,62,66,47,56,54,53,74,81,64,106,54,61,84,67,40,88,59,66,83,56,46,66,70,48,99,86,58,75,55,105,62,72,78,48,105,78,68,51,57,63,73,41,31,88,87,50,51,60,59,42,73,112,50,55,88,33,68,54,63,66,89,60,71,76,59,100,71,65,82,79,50,65,58,66,79,66,56,53,54,33,57,56,57,64,96,60,79,73,64,49,57,32,50,80,74,55,60,58,67,66,69,73,78,42,64,103,69,75,76,62,90,80,77,60,59,59,43,65,51,34,53,42,82,68,55,66,87,91,67,68,79,49,66,74,78,73,47,77,83,64,71,77,52,54,59,47,82,60,43,60,39,78,46,72,36,96,83,69,86,84,94,56,45,72,62,56,54,70,53,78,45,64,55,57,37,57,48,72,43,76,42,55,42,101,55,67,38,75,55,48,71,59,70,54,74,44,58,85,59,66,38,51,41,54,54,47,36,94,52,81,59,89,68,52,51,67,76,67,62,85,70,84,52,63,57,96,70,71,32,76,64,60,128,79,77,65,33,76,101,74,72,50,55,50,59,53,110,72,47,95,70,43,57,61,19,82,59,76,76,36,68,41,45,51,75,84,87,61,37,56,75,80,78,61,83,65,79,49,66,81,55,59,75,70,72,68,41,33,50,104,38,83,74,88,58,57,55,32,43,78,17,57,72,89,71,109,18,74,59,78,51,63,62,46,66,98,75,97,108,97,75,112,55,66,91,97,90,77,51,75,58,61,98,64,42,55,99,55,46,74,74,42,74,33,135,46,71,54,55,56,66,107,35,52,50,72,35,62,47,55,74,59,36,65,96,46,64,54,44,68,62,81,73,63,80,51,51,94,63,86,79,62,27,70,61,55,88,84,72,66,59,65,48,62,89,53,71,147,31,54,72,30,56,65,58,45,78,71,100,61,62,79,84,123,52,123,50,62,50,57,79,85,32,97,73,70,57,88,83,54,71,54,100,39,66,45,72,64,64,58,56,61,80,72,57,76,62,88,85,70,32,81,55,42,81,51,44,64,86,89,81,50,59,70,69,28,91,95,89,80,88,93,45,98,87,23,106,44,65,90,90,83,56,73,60,55,113,86,43,82,29,21,64,55,77,58,56,48,65,94,89,49,39,53,48,82,49,54,65,53,69,73,67,61,64,23,89,62,105,44,104,61,73,55,99,57,40,55,73,64,99,59,42,110,59,78,44,40,70,194,66,55,56,41,61,69,76,108,28,21,52,67,61,79,72,83,79,87,38,87,40,65,55,45,72,70,65,61,51,72,77,89,57,72,35,36,59,76,83,116,78,92,63,62,45,89,51,66,61,73,43,59,66,78,65,49,76,100,64,63,54,80,61,22,40,77,107,98,64,149,48,96,69,54,29,39,32,62,52,63,48,52,64,55,72,71,87,83,100,65,55,88,69,42,73,54,75,61,86,73,75,68,25,63,43,50,66,53,64,54,78,79,46,75,68,122,57,52,59,44,97,60,137,84,70,78,61,119,53,53,58,57,78,78,31,80,51,86,90,88,81,73,49,60,52,58,46,57,44,67,49,66,54,68,35,50,33,57,59,55,43,45,81,58,60,82,46,39,70,31,102,66,77,58,60,97,79,48,21,56,67,99,53,130,52,91,69,53,79,55,40,54,136,58,72,53,84,81,44,66,86,64,66,21,70,58,84,67,88,55,86,52,66,68,71,55,86,79,72,49,84,47,57,47,92,34,64,59,58,61,46,60,18,85,85,68,68,54,56,33,70,46,73,68,65,88,60,80,61,73,78,56,85,50,90,67,75,55,56,76,72,80,50,53,65,61,85,65,57,71,57,49,73,90,35,70,87,62,38,87,56,38,68,74,99,49,72,72,70,99,66,61,61,70,70,72,49,81,79,35,70,68,81,51,108,82,44,80,80,64,56,59,69,58,53,119,36,53,42,52,58,52,41,64,61,70,66,105,56,53,68,85,91,53,69,49,35,52,75,50,56,35,81,80,50,100,81,88,73,42,59,108,27,37,59,83,60,84,66,58,48,60,24,55,68,69,48,65,92,46,85,54,57,42,71,47,59,58,59,76,78,64,53,95,82,52,69,54,67,89,44,53,60,77,39,75,66,74,54,73,64,75,90,55,56,81,64,74,36,75,69,63,91,55,67,66,52,105,52,65,31,66,61,77,73,119,77,80,60,78,77,54,56,50,58,54,50,46,61,49,57,94,84,72,85,60,88,90,32,67,67,66,71,47,65,50,86,59,90,83,68,54,72,70,65,89,102,67,71,89,64,72,103,69,50,88,80,73,73,71,79,50,123,55,87,75,148,81,58,41,76,40,73,66,59,83,65,72,53,73,55,54,68,49,42,30,45,58,56,59,80,34,110,47,94,61,80,73,35,39,86,54,60,94,94,70,72,86,49,76,68,55,37,72,54,133,73,60,64,56,44,69,60,82,30,51,88,69,44,74,69,88,76,58,76,73,59,56,66,84,85,65,44,68,72,82,96,84,54,85,85,15,85,59,52,62,22,71,74,72,129,57,48,66,62,49,70,88,63,69,81,78,65,69,61,72,82,83,52,44,46,53,45,86,38,85,88,53,44,56,50,58,76,35,84,36,57,48,51,82,90,49,51,28,44,67,51,57,87,84,29,46,77,74,87,49,30,69,86,49,69,83,40,113,70,65,89,89,80,77,67,33,170,53,63,75,102,73,86,57,53,89,68,70,46,62,51,51,58,85,66,105,80,77,59,81,61,66,66,101,64,54,47,60,98,75,72,71,39,35,73,62,75,49,65,87,71,58,53,61,53,90,69,79,48,80,93,63,28,50,67,60,102,90,58,48,56,69,59,86,56,115,79,51,56,89,49,106,57,80,26,59,79,66,48,76,35,80,83,53,49,66,41,80,106,56,80,104,90,52,89,91,55,55,94,66,93,31,92,57,58,82,55,60,69,50,77,77,66,90,49,34,49,77,75,44,60,64,60,58,92,60,56,77,63,60,47,70,52,110,37,51,68,34,64,62,29,66,88,63,67,49,82,63,73,45,61,69,62,44,105,17,68,45,84,80,64,42,47,67,75,63,58,60,65,63,57,62,64,82,51,59,63,64,80,52,55,77,54,56,56,64,36,82,60,96,35,77,78,73,31,56,60,69,106,60,57,86,59,59,80,58,66,67,78,52,88,66,57,53,76,91,75,69,64,70,69,70,51,52,56,73,113,56,66,40,70,69,52,65,72,101,60,74,78,64,79,67,73,59,79,62,81,53,49,76,70,65,68,88,59,59,87,98,86,61,94,54,64,48,62,32,36,59,60,46,65,89,65,143,42,88,49,58,43,39,59,70,75,65,56,95,67,65,55,71,60,75,63,71,45,64,67,67,65,71,60,85,52,80,63,103,53,57,36,62,52,107,63,57,56,76,55,100,47,104,56,73,75,38,74,63,62,79,61,87,95,74,60,81,53,61,47,76,82,58,76,76,55,81,75,73,74,58,74,90,56,20,81,53,62,58,38,81,44,55,65,98,79,94,47,37,111,80,86,54,64,44,77,59,77,41,29,68,60,122,95,83,61,59,57,58,28],\"xaxis\":\"x\",\"yaxis\":\"y\",\"type\":\"histogram\"},{\"alignmentgroup\":\"True\",\"bingroup\":\"x\",\"hovertemplate\":\"color=weather<br>value=%{x}<br>count=%{y}<extra></extra>\",\"legendgroup\":\"weather\",\"marker\":{\"color\":\"#FFA15A\",\"pattern\":{\"shape\":\"\"}},\"name\":\"weather\",\"offsetgroup\":\"weather\",\"orientation\":\"v\",\"showlegend\":true,\"x\":[83,73,36,54,74,112,66,87,49,51,53,74,54,69,78,41,99,86,33,82,51,50,55,55,75,61,59,57,57,59,72,88,59,92,55,82,53,59,96,59,69,55,77,84,85,30,76,60,79,45,71,69,73,62,38,46,80,60,62,53,79,79,86,54,57,53,55,72,64,51,77,70,66,60,39,56,52,70,83,55,66,51,55,70,50,94,69,60,61,51,49,46,32,70,63,92,89,58,64,56,61,65,86,62,59,33,58,76,65,74,65,56,52,42,90,75,85,56,66,89,62,72,71,92,105,68,60,72,21,104,82,66,68,57,77,57,62,70,63,94,66,51,77,93,64,66,60,54,71,76,72,63,56,76,37,72,84,60,29,92,62,62,43,109,64,52,54,85,74,60,45,94,75,61,74,60,84,30,74,74,79,60,41,51,79,50,59,58,68,70,88,63,89,45,51,65,72,62,62,80,112,51,60,82,64,68,87,62,52,52,40,102,50,67,70,57,25,87,42,56,58,36,54,84,53,75,60,58,87,66,89,55,49,88,54,70,44,85,59,57,77,72,89,68,83,73,71,71,57,92,22,107,69,64,87,50,53,66,57,49,51,67,102,96,73,80,43,71,63,71,60,68,63,100,62,77,65,45,59,48,73,70,54,74,51,25,73,62,67,59,56,76,48,83,48,85,95,57,77,53,71,29,70,75,65,67,86,76,36,34,65,88,33,64,95,49,69,76,48,43,52,76,67,78,66,61,31,38,63,46,67,55,51,71,62,44,71,74,82,75,64,87,58,55,72,60,52,77,77,52,87,55,56,63,72,76,75,66,70,60,92,56,45,67,105,55,59,62,58,77,80,71,70,56,67,50,77,80,90,63,61,69,55,60,76,59,72,55,67,60,78,95,52,96,59,53,40,51,58,95,72,58,57,69,51,59,13,50,59,60,67,66,60,60,56,79,63,83,64,52,84,90,77,86,55,91,56,81,46,86,81,53,74,44,66,109,56,19,51,83,30,40,65,73,74,40,43,65,76,86,61,60,57,26,38,56,43,50,52,82,77,36,50,83,59,53,68,53,57,69,66,62,43,56,102,73,65,39,69,82,75,74,59,67,71,57,100,54,94,57,65,67,51,46,57,88,91,59,92,74,87,82,115,99,79,87,71,48,70,47,78,81,62,56,54,59,75,53,101,51,66,56,68,46,53,59,42,83,61,86,66,62,61,87,59,66,67,45,93,65,73,100,60,65,51,58,37,50,73,76,59,57,59,43,73,62,55,57,50,87,48,82,71,56,43,63,49,69,81,29,95,57,73,85,45,63,31,43,47,65,35,58,78,86,54,79,96,58,73,27,66,66,90,41,101,51,58,38,44,82,60,52,47,63,52,74,68,83,53,69,109,73,82,64,64,89,81,62,77,73,57,52,88,53,69,42,85,69,42,99,56,49,71,58,55,69,58,78,84,59,50,71,80,90,63,60,47,63,49,35,66,71,57,60,89,82,68,75,39,57,86,98,54,93,67,57,45,52,105,104,47,86,80,82,68,62,36,54,43,78,62,64,62,77,61,27,63,58,72,113,57,66,80,67,46,27,69,77,66,82,58,78,60,49,67,33,52,79,88,50,119,66,86,81,52,136,56,82,68,37,60,41,54,57,111,67,48,63,64,44,88,53,26,53,91,62,70,55,75,85,60,56,31,83,78,54,59,60,95,73,86,63,86,88,73,45,67,77,63,76,69,136,50,59,60,66,54,83,86,86,68,81,70,66,35,78,77,59,97,71,92,58,57,63,63,90,78,59,61,52,98,54,60,58,69,21,63,85,40,40,69,60,75,88,37,48,65,70,53,79,56,94,58,73,77,80,69,42,61,69,106,53,54,67,81,59,71,44,56,78,48,78,85,56,36,77,55,73,78,58,81,39,110,47,73,32,31,63,68,57,65,61,84,66,60,52,80,47,88,83,75,56,83,51,75,55,104,93,85,46,97,50,62,57,78,68,60,68,56,55,69,58,56,59,72,63,57,79,54,65,94,61,73,69,86,42,73,67,67,56,58,48,131,37,54,67,88,52,53,73,53,48,94,57,69,76,73,67,70,54,49,64,46,79,55,65,31,77,80,88,69,58,64,56,46,29,88,58,91,63,56,54,72,53,45,44,57,69,48,87,67,96,60,52,26,57,48,75,74,65,70,38,74,70,73,70,92,55,58,73,76,46,65,60,31,65,59,112,66,74,100,75,44,54,60,96,77,61,57,31,49,79,95,84,73,59,64,55,74,79,52,50,59,64,65,68,61,64,82,65,76,68,48,90,74,55,83,54,51,58,45,65,77,66,47,50,88,45,62,84,42,58,91,78,65,82,69,51,84,84,69,75,55,68,35,62,69,99,63,65,80,49,97,49,55,74,38,85,89,65,55,59,53,50,55,83,65,68,85,79,60,101,68,68,66,81,69,68,84,33,88,69,50,68,46,64,61,30,55,61,52,60,68,74,85,37,64,77,90,62,47,88,79,60,44,39,82,98,41,101,51,63,91,63,41,64,48,76,40,58,52,58,68,72,60,93,52,67,69,64,38,92,50,63,40,62,105,77,38,71,31,63,59,52,50,69,48,70,78,83,85,77,80,59,58,42,64,93,65,64,28,71,99,66,55,63,98,54,82,77,73,74,59,71,55,50,28,55,102,84,64,52,29,60,54,59,60,77,49,54,45,92,59,30,31,64,90,41,72,94,66,56,59,77,94,99,55,50,79,28,47,45,73,71,87,28,74,52,45,97,51,64,77,39,38,74,64,36,82,56,62,79,98,60,45,62,67,54,57,64,52,62,59,42,66,73,29,65,46,51,85,72,42,56,55,82,81,60,65,84,28,89,27,37,43,77,42,79,56,95,46,68,26,102,64,90,61,60,102,14,22,71,70,53,52,31,110,75,80,50,51,35,36,72,26,104,28,104,67,64,29,96,56,28,74,86,59,63,91,85,39,57,63,66,51,42,24,60,67,51,48,56,59,78,83,34,98,35,66,60,62,76,60,88,84,29,83,65,45,96,68,90,71,54,56,87,70,71,55,60,28,59,67,62,62,80,53,27,58,41,40,71,84,85,78,40,99,40,28,12,25,78,91,34,59,56,62,53,95,70,71,91,60,60,60,78,86,32,48,58,44,85,24,33,75,68,37,56,44,67,59,53,65,30,53,81,67,61,76,29,60,81,74,41,57,52,69,50,63,45,54,85,60,76,47,58,70,82,74,86,35,71,69,75,80,27,59,59,46,49,47,67,88,71,73,72,65,60,88,69,81,42,80,79,46,76,72,60,104,95,115,53,91,65,52,35,54,108,62,37,66,94,73,39,36,47,40,57,44,47,98,78,62,87,54,119,50,67,36,60,78,27,70,39,79,33,49,87,88,46,42,27,51,56,75,59,85,54,32,62,75,76,30,90,71,67,34,63,32,48,51,58,38,63,73,52,73,77,61,64,51,62,50,49,39,60,49,35,28,37,28,65,52,77,44,33,58,77,71,82,49,56,75,82,34,60,84,79,41,71,63,60,48,29,89,67,92,56,27,68,57,53,74,65,45,72,52,69,81,51,62,44,52,86,45,78,25,45,92,56,62,68,73,57,42,47,86,58,60,42,45,36,83,51,57,52,60,87,61,19,102,31,39,62,37,61,57,66,69,90,65,55,51,74,63,72,80,34,62,84,61,60,104,27,99,76,78,66,52,56,31,52,71,87,82,56,62,45,69,62,59,59,53,77,29,40,66,55,77,62,62,52,68,61,50,29,61,67,38,49,32,51,57,40,36,74,89,67,26,40,45,70,24,34,57,96,60,54,62,68,42,41,36,72,44,53,69,60,70,81,59,63,78,54,43,66,44,58,89,65,56,66,61,80,83,65,58,80,68,86,33,41,50,52,50,68,40,50,94,84,93,62,66,76,103,56,57,134,40,73,81,40,39,35,57,183,47,90,62,42,37,47,54,47,59,90,65,33,19,45,55,95,82,54,49,37,57,82,47,72,64,82,56,38,80,52,20,72,90,52,70,56,69,76,54,85,63,56,108,39,68,51,40,82,53,59,60,124,75,76,51,82,31,38,50,61,56,57,44,69,52,86,62,108,66,89,58,62,59,64,74,61,46,32,65,89,45,50,83,35,84,56,48,39,24,99,91,59,65,64,49,97,46,44,40,108,92,61,65,62,60,71,70,63,56,80,57,23,64,102,68,36,77,112,32,72,61,60,79,55,69,42,61,60,53,61,57,76,35,84,56,59,48,61,54,53,72,81,73,60,50,62,77,65,87,41,73,40,90,52,52,68,85,57,59,51,59,57,52,57,12,105,45,50,49,78,78,96,49,55,50,77,79,40,57,65,78,57,50,81,56,92,86,38,80,64,71,54,74,51,44,86,67,54,59,57,49,79,52,97,90,84,59,52,69,59,63,45,36,94,28,66,84,67,32,85,56,69,71,57,96,79,57,82,55,54,69,30,60,36,82,83,64,60,81,37,117,47,50,67,47,50,53,77,59,72,102,89,92,60,57,80,19,61,46,94,82,80,41,52,60,53,77,57,52,59,75,30,49,79,95,56,75,62,29,17,54,60,79,64,79,83,53,57,77,75,39,34,61,70,62,47,64,59,84,59,53,65],\"xaxis\":\"x\",\"yaxis\":\"y\",\"type\":\"histogram\"},{\"alignmentgroup\":\"True\",\"bingroup\":\"x\",\"hovertemplate\":\"color=entertainment<br>value=%{x}<br>count=%{y}<extra></extra>\",\"legendgroup\":\"entertainment\",\"marker\":{\"color\":\"#19d3f3\",\"pattern\":{\"shape\":\"\"}},\"name\":\"entertainment\",\"offsetgroup\":\"entertainment\",\"orientation\":\"v\",\"showlegend\":true,\"x\":[59,39,51,50,79,36,31,27,83,87,55,67,61,67,82,44,73,56,48,74,90,36,61,94,92,80,47,84,46,67,92,63,114,90,106,69,53,72,86,53,76,76,46,60,69,46,79,23,45,79,38,69,51,76,13,38,49,67,67,68,83,32,45,33,69,65,88,43,48,35,42,57,43,46,70,72,61,52,134,31,44,64,79,58,24,67,89,83,64,48,66,54,79,67,53,60,41,45,24,42,67,62,63,51,26,51,50,84,68,66,34,52,46,88,83,55,51,65,71,31,47,64,80,42,72,66,60,31,69,59,79,54,53,53,36,57,32,95,28,89,55,39,83,49,70,49,74,46,55,68,51,33,88,68,71,50,71,51,133,63,83,84,72,54,44,76,48,52,99,64,68,86,45,78,72,55,52,85,89,49,51,69,58,84,56,100,66,88,58,81,81,86,71,80,72,91,64,135,53,98,40,35,97,75,68,49,88,47,52,82,88,37,64,38,89,57,68,138,74,60,50,33,86,53,60,74,87,55,75,127,79,28,59,71,82,68,63,104,51,88,28,58,53,50,53,56,86,80,34,72,56,57,54,45,103,82,88,48,70,27,76,44,79,57,141,37,48,69,47,46,90,127,57,101,43,84,45,51,69,40,80,79,47,57,45,59,50,120,99,50,77,92,62,90,77,78,55,73,58,87,47,89,67,62,57,40,67,40,93,89,69,43,62,47,72,68,97,35,57,66,42,80,86,62,48,75,58,65,63,68,31,40,46,45,88,81,49,78,69,50,26,121,62,36,69,75,80,53,53,63,63,59,67,107,118,72,78,19,65,43,61,81,71,72,58,66,69,80,80,46,63,67,59,63,51,75,53,35,32,69,72,93,55,49,101,43,71,53,55,49,99,59,49,64,43,80,29,63,36,65,46,73,55,51,59,70,65,31,24,24,60,40,75,26,71,25,48,50,82,42,56,37,52,24,24,44,79,29,53,31,33,46,21,37,27,31,23,50,21,41,19,21,18,63,58,59,46,65,33,34,29,25,80,59,52,74,81,104,81,43,74,68,61,77,89,145,50,56,70,59,83,46,69,50,73,62,67,68,43,62,56,86,61,58,57,85,63,37,71,56,93,51,36,67,96,67,78,45,33,86,89,77,60,41,38,69,40,69,98,91,47,63,76,87,48,68,59,86,44,62,78,71,121,53,41,77,84,34,84,58,49,79,75,79,52,76,82,101,38,63,112,55,57,66,66,90,82,62,87,60,71,55,60,54,84,56,65,88,50,73,52,46,52,52,47,46,111,90,75,79,85,96,53,66,64,77,103,70,103,51,78,98,29,55,69,40,62],\"xaxis\":\"x\",\"yaxis\":\"y\",\"type\":\"histogram\"},{\"alignmentgroup\":\"True\",\"bingroup\":\"x\",\"hovertemplate\":\"color=autos<br>value=%{x}<br>count=%{y}<extra></extra>\",\"legendgroup\":\"autos\",\"marker\":{\"color\":\"#FF6692\",\"pattern\":{\"shape\":\"\"}},\"name\":\"autos\",\"offsetgroup\":\"autos\",\"orientation\":\"v\",\"showlegend\":true,\"x\":[71,34,62,61,48,60,48,86,58,59,50,59,79,73,89,64,59,53,32,43,62,74,42,37,54,58,52,28,67,50,57,60,67,35,57,72,30,80,63,55,63,31,62,56,37,58,60,66,57,59,46,70,57,63,49,38,47,54,147,34,67,67,61,45,55,66,53,62,59,104,38,41,85,57,57,56,53,67,106,59,63,71,73,54,83,71,62,69,77,68,31,83,49,60,42,49,63,71,50,79,58,70,64,63,62,51,47,82,44,88,102,80,103,66,57,74,50,60,70,56,52,81,67,69,67,81,68,52,55,53,63,60,58,66,49,55,65,57,43,49,106,27,59,67,74,65,76,69,45,46,55,46,81,43,41,61,76,61,64,56,54,76,50,35,62,68,52,74,42,52,49,62,65,86,76,67,62,81,85,61,40,100,41,65,30,35,54,47,63,68,45,49,100,86,70,31,60,62,46,44,48,62,38,41,63,66,54,46,42,72,63,55,43,58,46,66,60,93,41,64,62,64,67,40,50,63,52,53,29,89,63,65,59,72,64,68,85,40,59,57,58,38,71,46,63,66,55,58,33,59,77,43,32,64,59,60,62,64,57,71,51,70,47,52,46,38,64,64,90,39,48,37,61,47,40,61,65,47,60,46,31,53,67,59,83,50,62,59,43,67,61,60,49,28,57,66,32,65,72,58,99,51,49,74,78,55,53,36,59,74,56,61,77,65,90,57,88,59,60,69,43,34,56,56,45,62,47,37,44,54,55,64,79,52,82,92,57,59,49,57,73,58,61,64,45,66,59,55,76,87,81,37,78,48,55,41,65,60,57,54,66,77,72,59,69,67,34,67,61,61,141,58,59,60,73,50,79,79,58,45,64,84,51,70,62,68,81,64,79,46,85,63,85,67,61,49,31,65,69,80,56,36,70,61,60,58,61,24,73,70,66,55,46,80,70,48,39,57,79,68,40,43,72,79,89,51,61,72,45,58,81,85,70,75,50,60,53,72,52,67,87,65,61,54,50,33,49,78,59,87,83,61,85,70,56,74,61,54,51,83,60,62,49,90,48,60,84,60,48,59,98,61,54,73,67,63,78,64,41,63,58,59,53,53,66,71,42,48,58,79,66,35,61,51,52,41,64,51,80,62,70,55,36,30,65,62,73,64,67,72,50,72,52,58,54,73,66,39,38,53,60,73,74,86,88,69,47,79,65,78,91,65,63,76,64,50,63,61,47,32,62,75,49,48,66,64,60,43,84,96,29,96,77,62,60,86,89,55,69,56,91,63,62,63,58,62,96,97,53,51,94,29,63,44,72,69,66,62,69,40,92,75,42,63,62,66,63,69,68,74,45,52,66,53,45,54,75,57,61,45,77,63,59,70,57,53,69,68,69,75,96,50,61,71,64,35,53,62,19,41,69,70,66,80,99,78,67,55,101,40,61,58,99,57,72,63,66,42,65,75,37,69,66,58,69,95,89,63,64,40,29,38,84,75,81,81,53,51,42,49,70,92,45,87,108,104,67,72,81,29,47,74,63,69,58,71,99,69,29,68,53,54,80,44,57,45,86,49,74,41,53,66,54,102,79,63,75,70,42,56,54,39,50,102,56,54,61,64,37,40,71,58,53,98,55,58,50,72,68,86,35,85,86,66,39,59,57,41,69,60,76,44,65,57,39,84,61,61,57,46,87,55,54,71,85,74,44,53,97,28,72,45,75,51,41,90,65,31,38,39,62,63,69,60,67,49,39,51,59,69,83,65,74,67,56,45,48,67,54,80,53,52,53,63,73,77,39,64,61,44,40,70,107,67,81,56,73,58,95,73,35,70,37,53,59,48,83,47,43,39,74,59,77,79,90,52,59,32,43,52,109,63,81,60,35,70,57,83,53,40,71,69,73,63,57,75,57,43,68,54,42,61,65,63,65,80,56,52,97,73,68,61,45,60,47,97,32,59,82,61,37,58,81,105,48,48,56,50,72,44,51,61,53,57,70,74,39,63,61,78,61,47,66,34,40,50,80,66,75,50,58,39,85,89,62,68,62,42,67,85,60,57,56,68,46,48,46,49,58,66,65,40,71,60,99,63,52,70,72,67,64,54,64,64,69,57,55,51,78,61,49,62,42,69,80,87,73,74,107,76,67,53,58,58,75,75,62,50,45,72,56,73,65,63,74,53,48,53,50,42,60,54,42,62,52,83,67,65,21,46,47,57,64,69,88,65,66,59,59,65,64,79,42,45,64,56,51,63,48,96,46,67,83,61,64,61,62,61,55,54,56,53,69,28,34,50,70,74,75,56,77,88,72,65,51,41,57,61,55,88,68,57,60,75,48,46,39,57,58,46,63,60,52,69,72,43,56,51,66,59,71,81,44,53,53,57,47,57,57,84,63,43,85,80,61,68,66,56,29,53,57,58,80,65,45,76,69,68,56,76,88,31,30,90,59,56,62,80,63,84,78,69,56,61,39,67,66,74,56,75,54,55,88,89,75,58,24,80,57,55,54,67,65,72,37,82,71,47,57,39,54,50,62,71,64,86,64,76,39,51,70,38,60,30,22,37,39,43,25,37,44,37,54,140,38,70,49,38,47,57,44,44,48,32,34,74,61,63,39,35,52,56,47,65,76,84,66,65,68,73,92,79,56,59,75,85,96,42,45,79,57,65,55,87,63,95,55,41,60,57,68,71,64,49,58,47,81,73,49,72,56,46,70,65,72,69,26,61,63,34,60,95,71,39,78,64,56,44,43,26,63,68,57,46,41,58,65,61,75,61,53,60,21,45,33,58,50,74,96,43,71,73,141,58,46,44,59,33,51,42,79,48,95,56,68,63,66,52,62,57,52,74,71,62,80,32,71,47,80,45,45,48,76,61,83,58,76,64,54,60,63,37,62,55,39,54,67,64,76,69,42,47,71,39,69,61,63,62,55,75,72,70,60,64,58,70,64,59,73,74,61,68,62,49,61,38,88,69,57,52,58,59,85,42,71,81,73,46,49,38,38,59,43,65,42,85,38,56,69,59,85,54,41,65,69,62,57,36,54,87,55,72,56,44,55,87,45,76,52,96,70,103,63,39,51,27,55,73,51,64,75,58,52,57,35,78,56,29,45,50,74,56,78,47,62,75,54,70,29,53,101,82,60,75,61,127,26,60,41,57,68,52,41,33,25,55,69,41,86,67,58,52,64,51,66,37,64,72,80,41,82,67,72,82,97,42,93,44,49,30,66,48,46,66,82,38,71,90,54,80,72,52,55,61,57,68,53,63,61,55,78,47,112,78,38,64,80,72,59,52,51,35,38,61,54,78,53,33,53,62,95,73,42,80,62,82,65,86,34,69,58,43,71,62,53,56,59,49,72,62,37,45,53,64,43,71,76,70,52,20,42,47,58,41,60,29,45,18,61,53,43,76,48,87,65,49,47,52,70,88,70,63,58,79,45,58,69,68,43,86,54,61,82,64,52,28,68,69,65,65,47,52,54,57,58,47,47,75,63,77,55,65,52,63,55,76,35,78,73,52,81,54,62,51,66,33,62,79,38,63,65,45,67,99,72,84,56,66,82,72,54,58,48,44,51,56,66,69,53,65,64,64,66,56,65,56,76,41,37,40,61,92,72,47,78,66,82,33,92,87,62,79,65,47,57,53,83,81,21,81,67,79,73,86,64,53,78,34,65,31,68,39,59,50,76,76,52,95,49,62,20,41,30,60,66,53,46,38,33],\"xaxis\":\"x\",\"yaxis\":\"y\",\"type\":\"histogram\"},{\"alignmentgroup\":\"True\",\"bingroup\":\"x\",\"hovertemplate\":\"color=travel<br>value=%{x}<br>count=%{y}<extra></extra>\",\"legendgroup\":\"travel\",\"marker\":{\"color\":\"#B6E880\",\"pattern\":{\"shape\":\"\"}},\"name\":\"travel\",\"offsetgroup\":\"travel\",\"orientation\":\"v\",\"showlegend\":true,\"x\":[77,70,71,52,59,79,91,32,68,37,84,72,38,45,48,52,45,76,36,61,55,93,76,60,49,48,59,45,92,82,57,52,48,60,53,60,37,36,56,83,131,102,51,68,62,48,117,88,50,74,55,65,64,57,78,79,68,72,59,62,79,89,53,68,44,37,63,84,70,48,48,70,62,85,58,57,51,65,54,71,61,53,37,62,60,58,169,60,58,45,58,104,55,17,56,46,41,72,110,39,54,84,81,63,89,60,59,36,71,77,46,66,63,31,81,55,57,34,98,50,55,77,74,65,67,46,58,54,58,85,67,50,46,75,66,78,77,42,60,65,35,88,58,46,61,89,64,61,97,77,69,62,34,26,52,74,51,70,89,69,104,44,56,43,82,60,82,67,67,70,95,58,71,48,41,42,50,72,47,84,81,54,83,84,75,39,52,31,68,95,166,48,67,67,80,53,60,39,40,62,37,39,31,50,58,64,26,45,106,58,63,51,62,41,84,43,58,96,64,75,61,48,53,54,85,46,83,96,23,51,201,73,52,81,39,67,102,46,36,78,59,86,80,56,50,76,43,71,71,54,91,65,102,73,38,62,57,42,75,65,126,63,80,53,73,85,38,76,83,45,35,61,36,130,79,67,56,52,51,36,36,58,97,86,65,45,81,34,85,52,41,88,93,70,64,58,60,84,83,45,42,65,83,37,58,67,65,59,73,43,47,34,59,65,42,45,43,57,49,50,67,90,58,70,51,59,80,36,67,39,36,75,47,51,65,60,75,88,83,95,54,60,50,54,71,47,84,88,51,93,54,57,69,49,81,113,55,60,63,87,52,63,99,64,93,51,50,79,49,110,76,59,89,59,109,85,47,46,74,52,51,61,57,56,69,85,59,61,40,63,40,68,108,80,68,72,88,62,67,62,85,50,42,95,70,111,64,66,48,67,73,86,60,72,93,108,67,73,72,67,69,54,60,77,65,45,33,45,70,52,61,72,57,49,78,49,34,54,89,82,91,28,52,88,105,42,53,57,35,108,91,26,79,68,61,57,57,54,71,84,62,47,59,54,71,45,55,92,77,58,29,56,52,78,59,50,86,89,52,85,55,56,83,74,56,77,57,77,121,38,78,103,88,56,41,68,65,71,42,47,69,94,57,62,62,92,39,69,93,65,55,82,71,65,73,67,44,70,52,81,61,82,64,94,49,75,105,69,58,85,62,76,50,88,62,67,53,69,59,49,75,87,75,40,122,72,64,69,56,73,83,66,32,77,56,90,37,86,55,131,54,74,74,47,47,47,56,61,66,74,62,65,54,58,37,60,74,88,59,67,61,87,75,103,62,99,71,56,57,51,84,68,47,55,41,110,92,86,62,77,76,57,84,69,78,49,59,39,48,41,44,63,121,43,63,75,41,67,63,59,83,33,88,59,70,64,66,59,76,50,71,67,62,72,42,63,66,57,71,85,57,55,83,65,46,65,82,83,60,69,64,187,53,65,54,73,53,62,160,55,54,52,71,69,124,53,89,106,67,60,64,38,34,63,67,58,76,75,70,59,43,66,85,41,60,47,59,113,81,62,85,51,40,56,47,52,39,69,50,64,64,62,65,62,61,114,53,63,140,97,64,96,93,47,83,72,63,84,116,71,52,69,81,83,91,69,55,76,54,50,59,86,77,62,67,45,59,113,78,66,64,43,49,64,68,74,51,54,55,61,22,60,69,44,64,71,35,42,49,28,75,45,86,52,58,64,89,72,45,101,92,82,45,64,89,79,72,52,81,69,89,62,53,34,87,63,59,82,64,44,92,53,44,45,72,119,64,99,45,67,82,70,58,64,73,43,89,64,62,78,86,84,85,74,55,50,86,48,61,43,77,68,81,32,63,64,85,53,56,86,43,62,59,49,52,42,65,88,57,48,69,53,65,54,142,72,77,99,42,51,90,81,64,71,66,82,58,74,113,105,68,43,79,84,46,49,61,54,57,69,90,63,86,50,96,68,74,111,82,39,60,76,44,64,41,42,93,68,51,64,45,49,74,66,46,52,37,46,94,65,67,89,78,85,77,38,52,45,42,87,33,87,60,94,60,34,61,73,62,92,61,42,80,73,69,67,64,84,53,95,65,61,64,40,83,100,65,72,40,51,123,55,49,66,37,59,80,57,83,61,57,68,51,67,61,49,44,56,54,58,54,56,77,130,52,70,43,60,67,40,65,79,75,67,66,58,46,63,43,62,72,40,73,76,52,63,54,67,56,69,55,61,62,46,68,56,71,33,88,98,58,70,74,73,59,46,58,97,57,43,83,54,63,66,26,56,41,66,141,70,46,52,56,154,93,82,81,78,62,87,46,85,54,73,52,83,50,39,62,48,71,45,78,51,57,87,52,111,74,56,62,73,46,79,75,87,60,59,53,52,57,38,58,53,91,69,84,62,89,100,60,45,66,46,93,51,52,85,58,206,93,38,71,63,48,61,42,57,105,49,99,92,48,72,32,51,64,65,73,76,101,69,59,60,73,56,64,68,59,76,66,53,88,54,80,61,47,74,65,75,72,43,49,41,73,37,104,75,57,60,92,35,71,37,39,61,80,49,54,35,87,77,58,49,58,53,69,109,46,33,53,59,72,57,46,55,54,40,86,52,33,50,50,44,82,60,55,90,50,63,55,62,134,63,67,65,43,44,58,63,59,61,73,57,75,61,64,61,41,63,52,75,49,47,65,68,63,52,52,52,46,95,85,54,85,65,56,88,86,87,53,72,31,58,50,87,59,65,68,56,65,125,71,83,61,61,69,77,80,41,42,53,75,62,67,23,78,57,59,77,78,39,90,99,69,73,62,60,65,90,62,59,71,57,52,54,114,74,89,55,60,61,73,56,77,37,62,60,54,40,52,42,64,45,45,62,74,64,68,62,65,49,56,57,69,58,63,57,79,47,41,123,37,36,53,46,67,31,81,31,53,54,113,64,59,69,45,59,73,13,97,50,75,82,110,64,75,75,64,83,73,73,108,96,54,61,51,80,50,74,70,58,21,94,55,34,54,92,89,81,40,44,70,74,39,62,64,76,62,80,103,35,65,62,40,34,71,54,38,72,101,97,69,87,48,62,73,125,52,57,87,56,81,79,79,29,55,52,60,88,74,57,83,99,56,67,97,74,99,86,62,53,72,83,59,70,81,79,65,68,71,33,55,53,72,90,44,79,54,52,52,53,80,64,71,68,46,108,88,65,90,71,40,59,68,51,68,54,51,84,53,48,91,91,56,45,69,58,66,82,62,56,27,31,89,92,63,64,72,53,74,61,46,85,88,67,80,62,78,75,34,68,60,51,60,84,88,127,93,43,59,82,90,50,46,71,92,39,82,60,66,74,73,65,48,33,62,107,65,48,59,63,67,62,39,48,67,39,78,45,61,57,68,117,47,53,128,79,30,57,90,80,47,71,59,70,83,45,48,49,70,25,48,40,41,23,50,39,108,70,52,68,49,86,62,65,42,70,70,60,48,39,28,80,46,73,75,77,55,98,47,56,64,73,79,64,52,61,56,68,71,70,55,87,60,67,34,55,92,94,83,56,54,77,52,54,54,42,88,19,56,31,57,35,47,66,65,68,89,41,129,78,38,44,74,100,67,94,60,65,41,75,45,60,60,43,69,59,97,94,88,45,47,41,62,55,48,57,81,84,110,43,49,57,59,60,68,64,60,50,80,68,48,59,35,63,76,93,89,87,58,58,84,80,62,50,83,71,126,82,74,98,68,87,85,76,60,77,63,62,68,77,55,73,60,71,52,58,53,48,58,81,62,33,48,93,56,75,78,89,86,73,48,64,90,59,87,37,45,89,76,38,75,58,65,81,64,49,71,40,55,79,58,70,65,49,70,68,64,80,91,20,60,103,76,78,46,55,78,61,35,59,49,88,52,52,84,111,91,64,59,85,37,85,66,60,61,57,90,72,52,51,59,61,84,65,62,94,79,115,70,60,90,80,85,51,97,45,95,101,25,44,49,72,94,24,59,62,74,48,85,81,51,52,61,34,78,57,77,39,66,71,50,78,51,86,54,63,80,47,87,72,110,57,89,114,53,67,91,111,71,77,58,53,68,59,34,84,75,81,99,57,65,45,62,96,40,65,45,57,54,48,81,95,64,74,73,70,85,72,61,50,73,40,79,63,84,62,58,50,66,65,112,53,52,56,62,71,112,65,53,56,56,64,84,61,45,63,75,93,101,69,50,53,78,72,98,80,73,28,132,35,47,45,84,72,52,47,52,74,79,57,62,70,68,121,56,53,90,68,45,40,49,85,75,62,82,51,81,57,90,74,61,55,52,56,40,40,41,43,72,39,65,58,80,77,53,54,65,40,65,93,54,39,87,68,98,78,68,55,67,58,34,52,49,96,49,47,86,89,82,44,59,61,95,109,87,64,52,64,39,73,61,64,48,55,79,68,67,98,62,69,64,78,70,48,36,69,52,83,61,78,65,84,64,49,58,96,79,90,64,38,88,45,35,75,88,48,58,63,72,54,49,70,53,61,83,55,83,64,82,67,67,69,60,57,86,56,37,57,122,92,53,77,45,73,78,44,46,69,70,77,39,48,55,66,70,55,59,104,19,51,137,90,51,85,82,58,59,88,86,53,66,105,61,79,94,75,108,81,92,67,65,61,46,44,71,81,76,70,85,98,61,67,33,78,83,49,100,65,57,82,72,52,38,61,45,57,47,73,66,98,66,59,63,37,71,76,72,56,53,68,64,85,51,88,120,89,36,55,35,91,58,80,86,45,81,65,56,65,36,55,58,65,54,115,64,111,86,86,63,86,63,73,59,109,97,72,68,70,88,90,47,52,56,44,46,46,87,46,46,100,81,72,62,60,94,62,70,79,142,50,42,57,118,86,82,67,73,59,75,58,47,53,53,80,72,57,90,55,75,60,72,56,49,68,39,57,82,37,43,87,71,69,62,75,61,53,55,39,55,40,65,51,47,77,89,35,78,62,65,36,100,62,83,90,87,44,85,56,62,72,63,60,73,69,79,79,81,96,57,81,45,74,95,54,53,71,80,52,46,43,88,58,25,37,78,55,76,57,44,81,76,56,74,74,75,87,63,58,55,86,92,84,70,57,56,65,38,62,81,82,49,68,40,55,67,45,37,45,66,65,62,97,74,64,71,70,38,41,67,82,65,27,39,100,65,68,52,43,110,38,74,64,140,62,61,59,90,70,77,62,68,39,61,78,64,97,72,71,57,59,54,72,61,74,77,79,41,86,94,65,91,55,22,41,86,59,31,41,53,58,72,70,84,65,51,75,49,42,45,45,54,27,77,64,89,64,84,96],\"xaxis\":\"x\",\"yaxis\":\"y\",\"type\":\"histogram\"},{\"alignmentgroup\":\"True\",\"bingroup\":\"x\",\"hovertemplate\":\"color=foodanddrink<br>value=%{x}<br>count=%{y}<extra></extra>\",\"legendgroup\":\"foodanddrink\",\"marker\":{\"color\":\"#FF97FF\",\"pattern\":{\"shape\":\"\"}},\"name\":\"foodanddrink\",\"offsetgroup\":\"foodanddrink\",\"orientation\":\"v\",\"showlegend\":true,\"x\":[66,53,65,57,59,85,51,82,43,67,65,54,65,44,79,63,60,47,128,65,62,53,72,54,62,60,45,43,36,35,52,55,51,50,58,54,63,67,48,57,85,54,59,63,68,63,103,50,89,48,52,54,47,29,63,65,40,76,65,90,64,48,46,91,65,65,55,64,70,55,44,50,46,67,56,94,50,60,30,46,83,48,44,46,49,47,58,38,73,83,62,31,41,46,63,61,54,33,58,31,62,66,103,68,55,58,40,23,55,52,92,51,82,49,43,53,32,62,56,74,38,45,84,52,71,46,58,91,74,88,32,81,58,34,43,28,45,51,87,85,50,32,94,50,29,46,77,62,62,36,61,47,52,85,70,45,36,58,78,47,49,83,58,48,59,27,65,68,28,61,82,81,33,74,59,56,58,56,46,33,69,55,66,28,84,66,65,70,73,54,37,65,77,77,59,49,66,127,60,54,56,40,54,55,54,75,64,81,56,58,50,31,70,43,46,78,61,95,65,74,51,51,79,71,49,88,51,66,50,50,68,95,60,39,44,46,48,49,58,62,44,113,59,46,77,56,55,84,35,60,53,62,47,41,50,39,56,45,71,54,48,72,113,47,33,49,78,57,54,58,35,58,69,59,54,79,47,61,53,88,62,40,33,70,68,74,48,44,63,55,58,34,50,41,57,70,51,36,67,61,47,56,105,67,45,49,51,91,69,67,39,45,73,34,117,75,49,56,79,47,47,86,82,95,51,41,51,68,37,55,69,57,73,54,46,24,43,71,39,78,75,54,57,112,59,48,41,40,53,62,36,74,55,68,78,50,100,71,57,59,54,65,58,34,59,70,81,86,45,53,35,98,34,74,46,82,66,74,58,83,68,74,83,88,76,68,35,62,79,60,55,83,46,63,74,107,31,32,51,60,60,35,39,53,49,57,46,71,49,47,89,57,55,42,28,63,43,46,51,20,53,20,61,66,54,51,108,61,75,33,70,51,63,100,49,60,80,51,81,72,66,45,57,37,94,50,52,55,55,47,73,52,78,70,72,31,63,74,42,58,46,62,90,35,32,81,71,59,89,56,38,60,48,93,34,72,33,75,90,78,39,60,38,54,39,59,64,70,38,75,48,49,51,97,66,75,102,42,71,61,55,48,60,49,36,64,57,73,56,40,33,56,45,79,33,68,55,54,71,72,70,42,88,62,58,77,39,40,52,44,89,58,60,89,63,38,87,32,34,41,43,80,72,53,62,46,69,72,43,51,42,42,61,55,84,35,49,84,52,88,59,66,60,71,68,38,79,77,51,51,87,39,61,51,70,59,65,85,55,72,49,38,72,52,68,55,54,53,61,65,43,79,56,43,46,52,78,108,70,67,99,81,73,70,69,47,49,65,99,71,41,37,63,44,51,52,59,70,84,52,47,62,52,50,75,55,51,72,55,70,95,71,68,39,64,64,83,87,51,79,43,33,48,62,89,54,31,64,90,57,62,67,36,68,30,64,41,60,37,74,60,53,69,41,27,51,70,36,71,79,64,66,49,68,43,70,74,46,57,91,68,88,45,80,79,47,76,55,60,56,50,81,113,78,76,59,30,61,79,49,52,69,88,38,49,78,65,114,42,87,76,75,73,66,88,50,93,62,36,98,72,37,52,109,67,42,60,52,53,74,55,74,73,49,61,45,55,87,73,77,71,43,86,54,59,83,41,64,90,40,52,50,50,48,57,48,65,49,60,69,39,37,92,75,40,79,72,54,66,55,37,78,64,58,54,39,85,45,74,57,44,52,50,56,82,45,68,50,79,49,76,12,77,51,86,33,61,67,58,52,41,57,53,63,65,45,96,69,55,58,53,84,45,61,46,74,73,65,70,90,69,47,61,65,64,97,75,60,83,61,29,58,84,81,57,79,65,78,77,26,65,68,60,55,50,78,55,69,62,75,56,80,84,79,75,57,40,43,73,73,84,48,55,58,59,52,34,76,44,55,71,77,54,35,68,68,39,77,47,60,81,96,52,69,91,63,68,47,79,65,65,62,59,79,70,41,64,30,54,27,63,83,109,88,71,63,56,59,50,45,66,74,41,57,33,50,44,96,78,52,54,58,66,54,71,70,61,48,48,40,37,50,26,63,63,44,55,70,57,97,49,80,45,60,52,60,57,73,53,40,20,98,68,24,68,64,65,36,52,83,51,56,75,70,68,62,68,90,34,79,58,46,45,65,75,67,75,55,57,55,80,71,61,69,55,95,48,85,67,57,107,89,60,65,60,61,67,46,63,78,45,65,90,97,79,79,71,51,59,50,61,84,57,82,62,61,40,65,59,82,50,45,45,46,95,77,40,68,71,71,82,80,83,106,54,65,47,49,103,40,88,77,48,64,45,106,45,87,77,46,37,68,74,72,74,58,61,34,44,64,48,48,74,94,50,37,50,69,99,57,63,26,65,84,49,61,61,83,52,94,77,78,52,69,56,83,49,61,57,57,71,90,73,83,95,62,34,68,52,50,38,101,60,88,71,74,60,46,69,64,72,48,76,62,54,45,40,36,38,68,87,67,74,67,81,35,70,63,70,87,53,49,42,62,66,47,65,29,60,55,62,81,30,61,68,74,84,61,66,41,49,60,59,51,55,84,43,88,65,38,32,66,70,46,70,55,87,61,65,76,54,80,75,66,79,52,35,80,40,64,53,73,51,69,66,75,47,77,78,59,51,66,83,97,29,48,65,72,76,61,53,106,89,36,56,63,78,43,72,67,36,84,63,79,73,56,61,63,78,61,76,65,72,87,75,46,55,52,57,64,70,47,30,58,71,35,61,76,86,90,53,61,54,90,33,62,41,77,49,61,46,80,38,34,73,85,69,51,48,63,51,73,56,61,50,56,54,84,39,56,63,49,43,73,55,55,42,36,41,83,44,65,99,54,62,94,68,57,74,88,40,84,40,66,50,70,88,66,85,38,57,43,47,47,34,39,68,63,56,72,73,105,53,53,59,122,63,61,65,82,92,77,48,38,44,53,36,43,85,50,40,48,56,73,51,62,74,44,31,40,53,62,97,51,48,74,50,81,49,37,52,66,60,60,49,73,80,66,74,56,64,87,60,50,53,80,83,59,72,52,77,47,88,80,54,40,71,48,55,70,34,65,73,25,68,80,64,27,60,62,47,85,72,57,31,49,30,92,54,63,69,45,87,53,35,60,90,77,87,62,56,62,65,77,57,55,38,59,61,53,62,53,56,29,78,66,66,37,69,66,75,63,51,54,71,58,76,70,76,45,62,43,26,74,74,53,52,60,62,43,92,64,64,88,79,77,46,50,65,57,69,70,64,90,42,58,39,64,31,80,39,41,60,54,73,62,66,47,53,52,63,84,61,57,42,67,59,62,73,75,50,28,70,63,65,73,52,59,54,76,62,86,38,43,60,30,59,83,37,58,41,76,112,56,57,63,71,49,26,58,37,44,83,39,48,68,32,68,37,89,63,84,81,86,58,57,84,86,79,36,42,86,48,84,57,29,47,54,37,85,39,49,49,76,86,69,56,58,32,85,54,89,122,68,69,79,84,60,67,82,79,80,59,56,46,67,93,39,64,46,63,56,110,60,42,52,78,44,53,42,65,65,46,67,70,66,68,70,63,90,55,58,55,73,36,54,83,51,58,93,57,40,32,43,57,68,45,55,54,57,56,43,90,47,35,64,47,59,45,66,62,59,70,52,79,64,78,25,68,60,78,63,85,43,55,44,77,50,64,85,52,41,80,71,59,91,67,49,53,49,72,68,82,62,58,54,65,55,61,74,60,75,72,71,42,70,73,67,54,67,47,54,60,38,54,67,63,75,67,67,49,60,71,63,64,70,46,69,60,69,60,47,78,80,63,56,79,96,56,56,40,55,34,32,66,85,73,70,56,79,52,49,42,64,51,38,66,35,37,36,39,54,32,45,85,66,29,27,40,54,26,52,29,50,64,62,56,43,50,45,75,55,46,54,48,62,58,56,54,67,49,51,36,69,70,85,87,66,115,60,36,51,86,55,66,58,58,63,61,41,78,43,48,62,85,27,83,63,27,55,101,50,47,51,39,55,58,46,74,53,72,62,87,75,60,59,65,83,44,38,51,78,48,42,50,81,87,56,47,79,64,50,67,83,69,115,86,45,43,63,61,74,34,45,47,61,96,77,55,82,55,41,77,53,69,40,71,47,100,54,62,49,67,46,91,84,58,65,67,82,82,78,70,39,89,53,62,67,70,70,61,48,85,77,82,69,51,38,57,76,64,76,79,56,64,82,80,62,91,44,56,40,39,104,75,86,42,83,64,54,43,62,40,59,61,67,84,37,92,44,82,30,90,68,127,66,42,60,56,102,70,85,95,75,88,60,69,80,65,56,79,70,36,38,61,39,60,66,64,64,61,59,49,44,88,86,83,68,68,57,56,59,69,89,58,45,63,119,77,84,88,60,69,54,57,73,69,65,80,50,85,79,68,71,87,54,59,53,53,51,58,79,65,64,38,65,65,53,66,55,49,51,34,51,57,68,74,82,29,65,47,46,59,63,66,61,63,63,79,87,38,58,64,44,37,65,56,47,64,61,97,64,84,83,52,43,52,76,54,55,44,63,81,58,54,52,68,80,55,60,70,65,63,63,67,55,78,53,41,60,52,78,68,46,78,56,60,78,57,45,65,54,74,80,69,42,88,97,65,48,46,74,78,76,73,64,80,69,36,57,45,55,55,50,62,82,83,64,63,38,27,78,53,75,83,78,67,57,86,41,67,59,39,45,38,73,79,39,65,86,68,58,54,61,71,51,62,106,46,110,57,59,36,75,76,62,58,53,54,72,69,101,61,68,54,54,60,58,45,63,62,31,52,57,85,41,80,56,49,83,42,84,66,107,63,84,78,101,70,77,69,46,94,73,103,52,77,59,40,69,65,56,63,67,85,58,55,41,58,55,67,52,110,71,74,44,72,56,76,59,61,81,74,79,86,55,74,62,89,52,70,60,89,42,52,65,35,47,69,60,51,67,97,72,85,41,74,71,61,76,37,66,79,55,52,78,90,74,50,80,55,38,74,88,71,45,54,48,61,68,69,66,82,61,60,73,65,91,40,56,44,90,44,84,61,54,55,80,71,56,36,72,35,81,31,60,85,63,67,70,74,69,57,55,143,60,71,70,65,44,72,69,49,74,66,88,58,85,71,67,50,60,42,69,59,52,84,57,44,40,66,42,105,66,52,71,60,24,66,62,77,70,42,77,41,79,49,71,32,53,66,53,41,50,33,72,77,51,54,43,43,33,71,66,67,52,73,66,75,64,53,52,69,19,42,52,78,69,55,49,48,32,56,52,67,59,62,44,56,89,81,54,54,68,64,56,86,61,70,21,89,41,45,82,116,74,137,66,64,85,55,45,67,110,60,74,66,64,25,50,58,39,63,72,57,54,70,57,76,76,48,82,60,55,69,43,40,90,34,55,73,17,43,99,106,90,53,59,43,62,83,67,69,61,31,94,54,81,90,68,65,64,76,43,65,73,67,50,42,54,91,55,67,43,47,59,56,131,122,40,88,62,53,73,104,78,56,43,78,85,54,69,47,70,49,59,45,64,50,52,50,66,52,53,91,46,39,29,88,58,66,53,53,65,69,114,82,76,50,30,81,68,41,90,58,59,52,54,64,11,61,69,49,43,57,44,82,100,39,41,53,75,71,72,85,87,64,71,61,70,47,62,45,71,48,73,53,56,64,67,79,67,76,43,77,58,59,69,58,64,57,47,59,59,72,56,69,85,45,52,90],\"xaxis\":\"x\",\"yaxis\":\"y\",\"type\":\"histogram\"},{\"alignmentgroup\":\"True\",\"bingroup\":\"x\",\"hovertemplate\":\"color=tv<br>value=%{x}<br>count=%{y}<extra></extra>\",\"legendgroup\":\"tv\",\"marker\":{\"color\":\"#FECB52\",\"pattern\":{\"shape\":\"\"}},\"name\":\"tv\",\"offsetgroup\":\"tv\",\"orientation\":\"v\",\"showlegend\":true,\"x\":[34,60,90,58,57,48,66,77,66,78,92,80,96,85,58,65,93,57,78,46,97,31,59,67,84,96,84,44,45,58,42,45,52,93,88,55,88,51,71,79,71,67,101,43,94,85,66,100,83,66,23,108,80,75,62,44,69,62,65,66,98,85,79,52,89,89,68,39,85,104,59,93,70,59,94,67,97,76,63,75,92,50,92,94,79,94,73,69,88,48,79,76,92,93,85,58,64,51,87,76,50,82,66,47,94,35,72,86,66,64,83,45,38,108,37,60,89,58,63,74,32,55,86,66,86,74,52,51,81,67,108,96,92,68,66,62,51,38,51,54,68,51,58,96,79,73,47,92,92,70,68,71,69,45,76,76,72,47,94,53,94,89,73,83,33,67,63,99,73,77,95,84,97,95,59,87,75,70,73,48,99,57,70,66,68,47,42,56,77,85,80,81,75,93,55,65,85,61,95,62,80,88,50,62,73,38,72,79,37,79,66,74,63,82,97,98,41,54,110,88,45,83,55,76,68,69,42,52,82,78,65,63,95,88,75,74,83,53,91,61,65,114,70,60,74,55,86,113,64,53,53,75,31,93,89,72,77,64,94,83,87,47,81,60,78,60,93,71,120,88,80,90,56,84,71,86,74,90,94,50,57,70,134,74,70,53,71,81,79,54,72,76,83,85,35,86,71,70,83,85,36,103,44,64,110,67,64,95,69,70,95,82,88,61,95,74,51,91,66,59,67,79,51,67,50,64,50,54,56,73,55,61,77,52,90,55,57,75,61,88,85,89,105,72,64,88,71,96,103,99,93,73,81,77,68,87,47,173,60,68,39,78,40,93,96,42,63,39,90,107,43,67,77,64,67,50,92,89,65,64,71,54,66,66,92,84,54,72,70,53,92,79,82,90,81,84,92,51,70,39,67,30,68,57,62,74,28,82,105,58,75,79,76,78,63,39,72,96,60,67,67,74,56,61,83,64,129,35,68,71,66,50,61,76,68,97,102,69,78,58,91,73,87,84,78,35,50,77,66,65,53,70,40,68,67,36,83,60,80,90,83,90,70,73,71,49,43,73,86,78,63,83,105,72,94,89,100,67,70,57,96,81,96,68,43,79,36,93,94,78,109,88,72,44,63,58,54,75,63,70,77,29,65,66,84,48,44,78,39,92,70,82,71,48,66,81,85,88,76,82,82,95,84,94,82,34,74,79,76,71,65,62,77,70,97,87,71,63,89,69,61,75,45,45,88,99,54,42,57,60,141,67,55,62,62,57,73,52,55,81,86,88,67,63,72,64,51,34,76,57,83,83,51,34,96,82,77,67,57,90,46,65,67,98,76,80,84,60,68,67,80,89,92,79,128,35,68,77,49,122,95,57,69,49,50,80,89,62,115,75,93,98,90,70,96,60,68,58,61,74,54,93,99,59,66,78,71,83,93,94,73,64,112,143,68,56,37,68,55,93,67,90,54,73,48,77,85,98,96,104,58,46,57,40,42,74,63,29,86,45,82,70,88,66,67,72,78,81,93,51,67,48,81,91,82,39,70,67,91,55,62,90,102,70,82,100,63,88,67,73,68,45,59,65,93,95,40,65,49,96,69,97,67,95,91,92,93,76,59,47,74,34,72,72,84,87,41,70,65,107,60,67,110,85,87,80,93,65,82,61,59,55,73,51,71,58,61,46,59,44,69,76,67,48,67,88,46,58,76,80,60,69,80,80,76,79,60,68,77,71,115,176,64,83,78,100,97,85,93,45,59,64,77,69,80,57,66,79,89,76,88,77,35,64,88,58,109,88,73,51,126,39,82,63,93,50,60,89,77,91,92,94,45,104,91,67,81,73,72,89,84,78,95,67,67,89,109,87,91,91,61,69,69,42,91,92,80,70,95,95,75,85,84,80,82,51,65,87,65,59,58,80,63,46,67,75,91,46,57,96,61,57,29,68,68,92,108,69,53,26,72,95,58,70,81,88,66,89,109,68,98,75,84,69,97,75,58,42,86,60,82,58,98,37,74,50,78,67,69],\"xaxis\":\"x\",\"yaxis\":\"y\",\"type\":\"histogram\"},{\"alignmentgroup\":\"True\",\"bingroup\":\"x\",\"hovertemplate\":\"color=finance<br>value=%{x}<br>count=%{y}<extra></extra>\",\"legendgroup\":\"finance\",\"marker\":{\"color\":\"#636efa\",\"pattern\":{\"shape\":\"\"}},\"name\":\"finance\",\"offsetgroup\":\"finance\",\"orientation\":\"v\",\"showlegend\":true,\"x\":[54,55,56,75,48,46,57,62,58,57,26,60,57,53,87,69,39,173,48,49,71,62,74,73,72,36,51,58,51,57,36,55,50,61,82,45,74,47,48,53,55,42,52,45,111,49,61,37,41,56,38,57,44,36,46,61,62,58,30,49,57,58,67,99,45,38,45,58,79,86,77,49,46,69,62,80,35,56,79,139,63,61,63,47,41,76,50,62,34,62,61,62,57,56,91,37,66,46,56,52,47,83,42,86,40,89,51,74,58,26,57,56,67,72,55,56,62,62,113,58,50,48,124,64,39,83,70,56,83,74,67,48,39,68,29,54,60,48,49,31,58,69,52,72,51,40,62,50,66,55,47,68,49,46,64,99,85,60,100,49,61,39,53,82,52,69,63,43,53,61,35,58,57,49,90,78,55,54,50,71,75,64,60,83,74,79,45,50,105,41,50,46,46,45,70,77,48,57,48,51,43,60,47,29,44,63,47,35,67,85,56,66,58,66,44,50,69,43,57,62,82,66,49,83,32,77,60,52,48,63,44,62,51,79,76,64,92,55,61,64,59,95,75,90,62,87,75,37,67,61,40,52,48,72,63,67,75,63,52,35,41,75,42,68,39,31,64,114,56,50,82,64,43,50,63,76,29,103,44,48,87,64,63,50,122,63,62,53,64,85,68,61,75,68,47,77,53,43,98,81,64,62,51,50,100,41,45,91,79,43,51,58,59,56,31,92,46,64,58,77,57,63,64,54,51,67,36,66,52,68,63,50,64,48,64,36,62,68,48,38,67,66,69,61,64,57,42,65,51,62,45,64,71,61,61,41,60,41,53,91,68,60,57,49,39,54,59,50,59,47,62,65,87,47,79,72,76,47,47,66,66,86,51,55,84,61,68,37,72,47,45,49,51,60,72,67,50,71,41,63,94,66,48,53,59,90,57,52,64,50,45,56,56,69,60,68,69,50,45,48,49,52,48,49,35,43,48,65,69,51,68,88,60,63,39,64,49,39,50,60,40,50,101,50,58,73,69,47,51,51,56,61,53,50,31,62,92,80,54,104,67,44,29,60,63,67,47,78,97,71,50,80,53,64,122,61,47,112,84,52,64,38,98,96,39,39,55,30,77,51,63,45,58,43,36,50,83,90,62,46,57,85,68,105,44,37,80,83,62,47,55,110,59,58,82,63,63,48,56,70,98,30,73,100,50,63,41,40,48,80,78,75,58,95,77,110,99,84,49,79,47,56,64,52,38,74,99,63,63,36,80,83,57,47,72,80,74,26,48,50,35,85,77,103,52,56,96,91,60,61,61,65,58,55,37,38,46,49,68,80,66,62,48,25,64,104,81,88,66,85,60,64,45,91,67,58,52,55,48,95,81,86,93,42,68,81,72,56,49,104,59,49,56,61,70,63,77,92,54,122,71,76,84,87,102,62,52,59,65,57,58,100,98,82,59,73,47,66,143,51,80,137,23,56,67,67,38,71,43,55,99,71,63,99,71,83,62,62,77,72,76,55,64,90,65,90,60,50,61,69,65,63,57,86,88,61,79,40,55,60,74,42,64,50,136,58,49,68,61,52,49,44,76,74,50,62,48,66,44,60,62,42,58,47,61,105,57,58,65,73,38,58,50,77,39,52,55,64,87,63,52,63,54,83,37,71,58,71,65,74,81,61,51,69,44,78,52,41,54,63,64,60,81,52,81,87,73,68,84,81,46,50,67,89,77,89,54,60,69,49,94,38,81,34,52,72,51,65,61,59,79,95,93,114,60,86,59,91,180,76,56,29,34,89,44,64,76,59,56,55,63,33,85,55,57,57,64,53,60,47,101,55,63,67,62,63,52,65,61,58,59,51,55,71,55,48,33,63,88,62,62,60,51,71,85,75,55,68,69,44,39,51,55,82,51,35,70,63,64,56,58,64,57,63,69,79,51,84,59,64,70,76,40,56,63,53,68,53,67,75,79,55,70,62,109,75,47,76,57,59,32,71,48,60,63,54,96,82,67,57,57,86,103,58,76,75,84,34,67,48,48,45,127,61,129,70,56,53,68,49,58,78,55,59,39,85,59,29,81,48,64,77,58,78,53,49,33,63,30,95,47,60,61,75,57,63,46,97,44,66,140,58,71,77,52,70,58,43,33,66,63,54,34,45,48,60,102,60,58,63,77,46,60,71,65,89,44,39,90,60,77,62,34,60,53,65,65,61,82,66,64,64,57,95,33,108,60,91,84,74,82,64,72,54,60,45,84,57,84,63,101,79,71,85,60,59,57,77,58,44,57,81,50,81,52,64,56,158,54,47,66,41,51,61,47,69,54,69,59,30,84,75,55,67,58,52,66,53,81,68,61,77,48,50,46,41,51,70,61,66,43,61,41,84,38,44,100,97,48,50,59,76,63,67,117,42,55,94,50,54,60,70,60,48,51,56,67,96,59,66,61,76,54,71,57,49,65,55,59,84,73,55,66,74,57,63,44,40,69,52,65,53,333,68,48,48,60,51,60,66,59,55,45,56,112,102,60,39,65,80,76,72,68,35,62,84,72,69,76,65,40,65,48,51,94,50,68,52,54,65,33,55,58,73,94,55,66,52,58,47,58,61,59,58,89,57,56,71,52,34,69,76,80,76,86,69,74,45,81,55,69,45,117,68,61,34,61,64,80,91,44,89,79,72,114,56,51,51,54,82,58,42,44,142,51,58,71,38,60,51,52,55,47,95,60,78,64,59,71,61,51,75,67,73,49,101,58,62,43,57,60,75,54,78,45,70,63,62,62,66,48,48,42,69,65,42,72,82,53,53,74,59,61,59,74,49,62,64,35,55,78,148,57,47,55,62,45,59,66,61,36,47,65,56,62,56,75,91,58,67,80,72,45,106,53,51,62,59,62,77,36,60,61,62,85,68,88,75,62,62,61,76,35,69,73,71,64,66,58,67,79,34,28,62,62,50,74,56,62,61,63,56,69,49,65,61,43,70,65,74,60,34,63,64,85,49,47,82,34,46,72,64,74,71,105,57,35,76,94,71,95,60,53,60,56,61,68,44,74,99,56,61,54,78,81,36,193,56,55,79,61,59,48,61,59,59,64,58,64,60,67,94,81,81,61,58,42,51,78,88,75,40,50,43,50,63,34,59,76,59,71,59,84,87,59,56,58,82,44,92,83,58,59,83,66,53,66,65,108,45,49,64,66,49,58,78,80,72,57,93,92,61,53,70,104,51,87,76,60,70,66,68,60,52,102,54,59,63,106,59,40,64,64,110,53,69,68,49,60,62,61,72,62,68,66,68,57,38,36,37,66,90,65,64,48,83,51,56,78,58,56,56,83,86,47,80,37,70,48,76,73,48,40,59,117,56,89,87,52,96,72,55,38,61,49,55,96,57,54,74,68,58,57,91,81,30,63,144,64,60,55,60,56,59,94,67,89,74,30,42,54,50,62,78,66,58,55,68,57,57,71,63,65,60,79,33,171,61,36,109,56,65,37,57,64,49,54,52,60,77,65,71,56,68,50,67,62,90,57,53,58,85,58,35,59,61,84,67,48,100,70,82,87,50,66,51,41,31,36,60,71,52,60,60,74,78,86,50,50,63,46,57,67,57,54,70,62,93,61,57,99,57,48,81,43,50,62,61,57,58,48,149,73,69,86,61,47,83,68,121,63,55,47,57,64,111,35,63,56,64,69,67,42,71,58,40,53,51,70,58,89,37,39,66,42,31,45,61,72,87,54,64,68,44,49,33,51,69,49,45,58,83,39,66,42,71,73,88,48,84,71,74,52,72,53,84,43,28,62,76,76,84,88,56,62,60,71,35,56,54,56,75,52,68,109,67,76,54,54,43,69,55,67,67,55,76,66,61,60,63,83,68,63,57,60,84,40,66,79,90,65,61,37,68,55,76,53,105,58,78,65,50,92,63,59,24,84,61,41,39,74,111,49,47,80,59,71,63,52,67,62,94,46,115,61,48,45,72,65,85,52,67,68,44,68,36,71,72,85,104,92,50,82,55,50,23,52,49,35,45,50,54,76,49,57,33,77,59,66,56,89,58,111,81,66,67,104,71,39,70,50,63,64,89,57,63,92,75,66,61,52,63,73,64,65,55,67,55,85,50,64,72,69,61,59,49,53,76,56,47,70,53,52,58,60,188,63,58,58,48,54,59,69,136,59,93,59,66,62,53,53,67,64,55,48,62,56,58,42,87,77,68,69,50,53,64,80,69,63,55,75,47,60,69,40,106,56,53,51,87,58,63,75,76,60,89,53,53,31,70,54,65,72,64,68,53,63,100,41,82,84,55,71,52,84,89,70,37,49,55,70,102,59,54,56,65,87,63,59,60,53,74,64,62,41,51,61,40,50,62,89,73,45,66,66,56,59,82,74,64,64,58,61,50,61,53,65,51,65,60,50,57,65,66,55,59,60,84,63,73,47,67,59,54,61,69,85,57,63,87,44,44,51,76,64,74,74,35,45,65,61,57,38,94,53,87,42,80,42,84,44,75,84,87,48,40,49,60,87,80,79,73,33,48,65,47,83,34,46,29,35,41,49,53,30,50,50,74,60,45,94,58,27,39,65,98,83,69,84,62,77,72,56,70,58,63,73,88,56,92,58,68,78,54,48,52,68,58,66,33,89,44,66,49,45,73,46,47,52,83,73,128,70,64,67,51,80,79,44,79,47,102,76,26,62,85,76,76,78,57,63,63,105,72,56,81,36,46,77,89,70,66,33,50,26,87,100,85,46,63,134,71,52,51,94,94,58,69,93,49,57,37,123,55,69,93,90,46,57,69,58,44,95,86,60,47,63,71,61,72,51,88,28,43,50,86,53,71,63,80,24,73,70,52,45,111,48,57,85,72,105,84,57,64,147,67,57,44,60,84,149,51,78,59,77,62,36,58,56,54,58,105,42,53,67,100,67,69,76,68,93,77,58,81,60,68,80,80,101,65,64,83,63,64,66,65,55,45,93,112,40,50,33,69,50,61,111,64,68,70,51,47,91,56,105,60,58,22,53,58,56,70,66,75,68,54,71,106,63,80,69,67,57,36,81,117,48,134,80,59,69,54,52,47,62,62,69,44,102,85,77,67,72,61,74,65,60,75,64,55,61,86,47,70,45,79,72,41,87,46,46,58,48,99,65,84,46,46,66,71,60,71,34,31,67,58,86,87,57,73,59,50,62,79,102,57,47,73,45,54,69,56,78,51,79,67,57,59,62,77,54,38,60,69,71,67,57,96,55,55,54,60,91,105,66,50,52,44,53,52,56,87,70,60,72,64,59,50,54,74,68,38,95,51,67,74,57,80,99,51,71,80,82,61,53,54,57,62,73,85,52,74,63,55,81,63,71,82,50,62,37,59,77,76,95,64,50,74,88,101,85,67,42,39,60,77,47,95,85,52,71,75,105,50,62,63,59,56,66,62,53,89,63,60,79,48,78,91,73,57,73,61,57,40,68,91,72,139,43,91,70,73,59,56,62,53,43,31,64,64,58,49,80,45,67,64,71,56,77,70,84,56,93,49,71,93,80,73,79,47,82,63,37,64,45,66,70,72,62,61,50,34,89,41,48,75,70,61,63,57,110,69,80,79,72,51,60,100,76,79,76,66,40,66,47,46,60,62,24,47,48,49,95,93,76,57,87,81,49,90,41,48,43,79,57,68,64,110,120,50,37,49,40,57,88,38,60,64,55,79,37,33,67,63,56,63,92,48,63,53,56,62,82,86,49,66,71,35,58,58,42,75,57,77,74,58,50,82,58,49,48,67,50,85,63,66,48,54,83,37,77,84,49,66,119,69,57,69,55,60,43,58,60,50,44,90,69,49,68,61,75,60,107,61,63,74,110,76,99,51,57,61,77,29,58,66,78,84,69,66,63,58,45,75,64,65,50,75,72,28,60,53,32,56,65,61,66,75,108,52,83,56,57,39,61,58,42,64,99,83,42,44,90,82,72,53,72,77,39,96,87,85,65,101,74,63,48,38,83,49,80,31,45,55,63,65,63,87,57,37,69,41,64,61,74,111,65,76,47,50,57,67,55,56,60,50,88,65,83,58,66,102,67,96,89,87,63,65,81,68,43,71,44,58,51,66,75,46,60,68,56,70,54,67,78,59,89,53,48,35,65,60,47,111,71,76,59,47,61,67,55,63,58,58,59,43,96,50,77,70,49,65,59,71,84,92,59,48,65,53,67,49,77,74,96,94,57,48,51,76,97,44,43,48,69,76,85,60,60,67,93,44,74,60,54,46,82,50,57,38,60,79,28,74,66,79,97,62,57,58,95,99,94,79,70,67,58,59,86,63,48,56,61,77,64,45,130,61,61,59,63,66,91,87,86,62,95,68,92,85,61,64,64,73,58,47,43,56,87,61,56,76,85,57,53,66,58,77,38,83,64,86,55,73,51,52,76,64,49,63,92,61,66,57,71,58,78,58,58,83,64,47,59,63,62,88,46,71,83,85,47,39,79,87,68,75,65,67,79,41,48,74,63,94,52,63,57,72,65,48,55,72,60,85,80,71,66,39,91,58,67,117,57,56,62,55,71,51,60,59,55,64,58,76,51,66,92,39,69,62,59,73,75,79,70,89,77,85,64,60,63,32,79,75,38,59,57,84,57,81,52,61,53,80,57,36,96,54,90,73,68,92,45,45,66,97,80,75,51,45,70,91,62,59,79,76,58,65,47,57,64,119,74,72,68,70,82,58,44,57,57,132,67,70,77,41,68,46,49,98,101,48,68,71,55,45,75,59,53,75,51,44,60,43,59,46,44,83,98,61,69,58,45,53,57,87,64,50,83,83,58,78,64,65,86,79,97,48,72,60,54,73,48,48,56,87,59,63,55,52,45,63,67,63,68,42,61,27,107,59,89,59,55,93,79,83,56,72,97,101,59,71,89,60,67,46,90,69,58,57,87,77,81,67,58,64,43,62,33,98,46,102,69,44,66,92,113,51,49,73,54,78,86,62,68,43,79,64,59,61,64,69,60,78,58,62,56,60,63,60,101,34,62,55,53,64,91,58,68,67,47,68,39,45,61,63,79],\"xaxis\":\"x\",\"yaxis\":\"y\",\"type\":\"histogram\"},{\"alignmentgroup\":\"True\",\"bingroup\":\"x\",\"hovertemplate\":\"color=movies<br>value=%{x}<br>count=%{y}<extra></extra>\",\"legendgroup\":\"movies\",\"marker\":{\"color\":\"#EF553B\",\"pattern\":{\"shape\":\"\"}},\"name\":\"movies\",\"offsetgroup\":\"movies\",\"orientation\":\"v\",\"showlegend\":true,\"x\":[87,16,24,69,60,16,31,23,19,39,37,22,21,32,65,66,94,95,18,74,120,35,63,47,68,70,62,96,26,77,72,80,21,37,20,18,19,39,36,20,20,23,69,247,27,32,23,60,68,18,23,21,52,56,81,23,89,76,45,86,82,58,56,51,65,62,20,45,72,70,87,81,34,15,61,200,40,22,52,20,79,50,53,92,15,36,63,53,86,28,62,68,42,42,25,42,64,43,78,87,20,18,45,63,70,18,29,28,84,52,104,40,55,28,96,48,23,23,92,114,53,30,22,24,41,68,60,78,19,68,66,20,78,97,106,48,68,45,16,64,19,71,19,69,64,33,55,123,29,30,24,44,72,87,76,62,70,58,65,73,68,44,103,63,75,77,36,24,72,63,85,50,61,78,69,28,24,63,70,82,56,115,58,56,95,38,35,55,95,75,50,16,21,55,51,83,18,82,71,84,85,68,47,80,63,81,79,62,94,80,71,73,94,79,55,68,77,89,57,69,97,42,100,72,82,90,79,68,25,85,84,67,78,93,51,98,69,37,19,80,57,69,88,91,81,55,70,56,67,56,66,83,94,99,57,91,62,35,107,80,72,83,82,90,97,91,14,59,92,43,54,33,98,53,98,68,53,59,87,63,19,54,77,74,51,72,32,63,66,60,78,46,64,68,86,48,76,84,31,91,54,102,77,72,56,90,80,70,74,81,69,43,84,88,70,75,55,50,89,48,84,95,69,95,83,83,63,73,91,23,39,85,54,65,24,102,94,54,93,64,72,46,30,55,78,55,95,90,83,97,85,74,89,57,133,68,81,94,40,101,96,26,120,77,86,27,76,84,64,95,78,59,40,64,32,44,66,90,79,77,85,33,58,66,90,83,96,48,63,45,118,90,90,140,74,67,62,95,67,78,72,77,91,92,59,53,53,67,82,63,96,86,95,90,98,57,95,80,84,60,45,72,74,45,44,65,69,67,38,80,55,68,98,36,46,72,109,65,71,93,50,91,88,67,79,42,68,67,51,49,48,42,20,95,73,61,71,78,87,84,64,80,66,72,48,50,57,66,54,67,77,104,71,57,73,57,43,52,80,70,25,71,89,55,67,54,61,79,45,59,94,100,74,91,85,90,51,71,97,49,63,52,55,96,82,75,86,51,82,63,42,49,87,177,70,90,28,80,84,132,87,57,96,79,52,59,58,88,71,93,55,54,67,62,67,77,81,58,74,67,67,92,70,50,85,93,72,60,14,70,55,87,59,72,62,77,75,71,88,34,72,61,71,83,86,82,81,88,44,86,89,65,71,28,15,85,60,71,76,33,34,30,117,80,74,97,98,81,68,79,54,59,65,43,74,81,61,65,51,68,66,90,73,60,58,86],\"xaxis\":\"x\",\"yaxis\":\"y\",\"type\":\"histogram\"},{\"alignmentgroup\":\"True\",\"bingroup\":\"x\",\"hovertemplate\":\"color=video<br>value=%{x}<br>count=%{y}<extra></extra>\",\"legendgroup\":\"video\",\"marker\":{\"color\":\"#00cc96\",\"pattern\":{\"shape\":\"\"}},\"name\":\"video\",\"offsetgroup\":\"video\",\"orientation\":\"v\",\"showlegend\":true,\"x\":[63,57,77,60,51,56,87,84,48,41,53,90,83,97,54,41,44,47,57,62,57,56,51,62,59,55,58,58,61,59,51,58,63,48,43,41,34,36,52,86,50,69,71,49,39,69,79,55,63,81,55,72,70,72,49,70,50,46,52,54,51,57,60,200,56,62,38,68,45,63,56,51,64,65,40,65,64,41,39,73,92,88,94,36,55,44,56,49,66,79,58,51,100,74,46,62,49,53,47,57,77,44,44,54,52,42,51,49,74,69,83,58,87,59,39,86,44,32,65,55,40,46,69,75,38,58,47,51,59,58,54,96,63,77,80,49,54,57,64,71,52,41,49,56,54,62,42,41,28,48,41,53,57,76,60,53,47,59,61,45,43,45,38,54,59,49,67,49,50,65,68,65,49,48,69,64,70,54,52,38,122,54,44,94,102,90,51,46,28,65,95,50,52,101,41,96,60,48,51,51,56,70,58,73,90,49,48,62,52,39,48,45,55,50,48,45,58,76,54,65,93,56,65,54,57,48,65,63,46,58,58,51,42,35,68,30,53,56,55,46,56,33,48,53,78,69,59,51,54,56,66,74,53,62,54,64,69,58,40,75,75,61,83,61,51,67,67,93,56,21,64,52,33,60,65,39,51,51,56,40,52,82,61,62,40,69,42,50,54,80,49,32,49,45,35,81,50,52,55,60,56,47,44,79,37,65,47,57,35,51,28,50,68,57,58,69,42,59,87,69,67,54,39,28,58,41,46,52,54,53,59,60,61,35,55,50,47,80,57,65,39,59,51,61,66,62,48,51,94,76,36,65,30,58,49,55,44,54,66,69,25,56,64,61,49,82,55,51,42,69,49,86,62,63,80,57,66,45,47,58,54,61,57,84,50,67,53,44,42,61,73,64,48,77,77,62,72,63,50,87,52,103,59,46,64,54,73,54,52,56,129,80,81,63,63,49,66,55,47,49,61,41,69,49,55,81,40,47,58,117,52,36,43,62,51,57,61,56,51,44,54,47,57,70,56,49,59,37,54,35,43,71,61,81,47,83,45,64,49,61,80,56,41,84,57,48,50,54,46,27,34,55,66,73,116,45,60,40,77,57,63,21,61,43,69,46,53,43,76,46,75,47,54,74,68,76,90,99,44,35,58,79,59,47,83,51,50,65,68,75,53,54,65,51,86,56,76,50,50,71,68,59,67,70,45,57,89,56,65,58,63,50,75,51,40,52,44,63,58,31,62,63,57,35,97,70,23,50,43,66,64,50,47,54,61,48,51,61,46,89,58,41,49,38,59,68,101,46,54,33,40,68,88,37,54,49,49,42,98,57,93,68,72,60,62,41,69,62,77,88,47,63,104,54,44,53,43,48,50,53,44,60,57,41,46,70,57,46,70,56,83,73,61,48,44,74,53,70,45,80,41,59,62,38,47,48,57,59,43,74,42,97,95,63,45,67,58,52,56,106,58,79,79,89,80,77,57,54,66,92,79,76,59,53,72,35,39,76,74,115,56,88,70,56,45,39,47,90,54,55,46,72,78,46,65,64,60,56,51,66,73,40,95,68,40,34,43,95,48,50,55,70,67,63,48,103,55,51,89,90,43,55,78,65,55,61,60,19,40,70,105,98,60,66,52,80,47,48,42,125,61,75,55,99,92,51,71,35,59,81,66,45,65,68,54,82,101,67,55,48,46,56,75,61,54,34,64,47,80,44,62,67,63,58,49,65,48,54,50,95,73,59,81,58,60,63,82,39,58,68,74,69,55,55,33,42,60,75,85,60,71,92,82,62,84,73,58,42,74,57,49,50,49,77,97,39,82,94,76,72,85,66,58,40,87,49,50,96,76,58,52,88,90,51,77,53,44,69,40,79,47,66,53,58,64,47,86,45,69,41,75,51,59,82,118,36,26,45,97,58,46,77,71,62,47,61,46,90,40,28,81,54,46,48,48,85,52,41,48,46,54,42,58,55,44,64,56,82,34,65,50,61,28,71,96,50,62,73,60,95,49,50,110,60,47,72,63,47,49,81,61,43,63,55,51,42,31,94,59,71,81,73,77,64,41,72,63,50,48,64,58,49,71,53,102,56,50,61,41,50,49,53,52,85,62,109,49,49,110,56,51,57,40,63,60,23,60,57,61,31,75,77,67,58,61,80,46,66,51,90,72,50,61,55,63,85,54,53,84,60,54,69,78,58,33,95,65,62,51,64,44,65,55,77,49,43,45,70,49,72,65,53,39,33,37,52,32,59,51,46,89,58,45,74,59,23,76,70,75,74,88,70,51,60,63,68,56,68,48,62,68,68,46,50,93,63,60,76,53,62,50,65,69,86,66,63,43,66,47,87,80,58,52,50,71,87,45,41,60,75,35,45,63,58,62,76,50,40,69,42,30,55,51,52,72,70,63,54,70,89,46,37,80,47,55,65,72,58,27,66,59,47,58,50,45,37,87,43,50,66,52,53,80,51,86,58,45,29,55,61,42,49,50,55,50,49,80,54,62,63,86,63,50,54,57,95,49,44,44,59,49,68,41,39,49,22,37,43,46,46,46,36,43,52,30,51,49,36,40,76,65,46,81,44,72,51,68,48,59,68,58,28,46,40,73,69,54,83,110,86,71,39,55,62,47,69,53,53,47,83,59,79,43,61,79,57,45,63,78,50,47,39,59,71,34,52,80,43,36,60,90,60,77,49,49,85,38,54,65,48,38,82,58,44,55,67,47,49,37,74,48,74,52,56,53,62,32,53,43,47,94,41,41,42,54,77,87,51,66,91,46,64,84,56,53,60,89,46,52,93,40,69,49,59,51,52,54,53,46,58,99,54,69,44,87,64,70,44,48,96,58,46,83,35,39,74,62,60,52,61,45,73,63,49,61,77,36,55,56,60,59,40,41,107,54,51,49,51,50,28,47,60,62,40,39,42,64,103,62,61,68,79,28,54,77,47,40,48,83,63,72,48,45,81,67,64,54,45,53,70,90,58,49,59,82,57,55,44,41,33,96,25,57,53,103,44,72,60,41,42,57,100,70,105,69,70,47,71,66,59,54,35,86,54,28,68,40,69,87,66,40,48,76,47,67,37,81,27,76,89,55,44,49,52,32,42,72,45,99,35,88,79,30,105,45,62,50,65,37,54,68,56,30,76,58,55,59,30,95,64,51,76,47,28,73,70,97,48,46,62,46,64,57,69,59,48,57,53,52,43,54,33,48,62,56,58,55,69,83,49,36,39,84,86,57,59,74,63,62,87,105,48,52,57,58,45,60,46,75,65,61,16,50,58,53,44,57,51,60,76,43,29,62,68,61,50,68,48,56,58,40,50,50,62,62,74,58,42,58,64,69,56,52,51,53,58,74,44,48,51,58,91,54,42,50,43,65,75,55,39,38,58,42,69,75,45,66,47,50,83,54,91,50,41,72,69,59,86,73,16,42,85,70,53,59,56,82,56,61,40,67,46,53,44,99,97,47,72,60,86,60,57,39,61,74,88,60,65,44,73,48,51,47,37,76,52,90,43,37,52,63,50,48,45,64,72,43,83,90,109,59,49,52,46,93,62,55,69,68,86,60,55,58,46,61,52,36,81,44,49,71,44,63,72,47,67,48,44,44,64,35,60,30,62,55,67,106,64,61,60,51,62,55,64,58,67,65,72,53,33,36,29,75,64,54,55,53,44,75,41,58,72,40,55,34,53,50,53,36,80,89,53,84,63,72,41,66,106,54,69,73,87,66,76,64,22,78,41,39,48,29,64,53,89,16,44,62,40,75,53,61,101,88,52,73,52,43,66,110,70,50,48,83,85,51,42,52,40,33,48,44,77,65,52,68,69,47,53,83,75,52,79,97,35,71,80,59,55,38,94,68,89,68,39,72,66,63,108,76,69,53,28,64,62,48,46,40,55,38,57,58,55,61,46,60,56,84,70,60,28,62,51,110,64,72,51,60,96,71,29,76,62,98,54,57,67,45,48,48,54,50,30,50,72,28,75,45,52,52,48,53,83,45,46,44,86,51,45,63,75,59,51,72,74,63,60,44,36,43,54,47,72,60,65,45,61,54,47,75,59,84,58,58,38,47,74,68,103,66,88,44,71,50,86,72,76,62,52,68,77,83,52,54,51,61,48,43,55,55,61,71,45,68,53,48,69,53,52,47,41,95,77,51,62,77,48,44,61,48,45,80,74,60,60,74,45,53,45,65,49,70,70,98,66,71,42,63,65,56,53,39,51,46,55,93,45,49,72,43,58,54,45,65,43,58,36,48,55,56,49,42,38,60,27,30,54,56,79,47,44,53,55,78,55,40,84,42,75,43,56,39,28,55,53,26,47,64,30,45,50,62,68,43,30,132,78,83,57,43,47,46,52,82,92,53,52,95,29,56,64,60,67,75,44,53,37,57,66,58,48,87,75,65,67,87,81,55,62,81,57,95,57,71,46,64,58,55,36,51,74,70,55,45,30,61,46,76,49,49,16,43,32,39,61,73,81,41,42,50,59,41,50,59,58,44,80,75,33,49,61,63,75,55,48,70,44,59,47,46,48,47,79,40,45,50,91,14,63,50,49,28,58,38,63,68,55,28,61,47,47,68,61,58,54,72,62,45,44,79,57,97,87,48,70,77,67,47,62,38,47,49,25,31,49,56,73,52,27,98,52,54,56,81,47,37,47,38,52,59,36,53,47,56,40,62,74,49,59],\"xaxis\":\"x\",\"yaxis\":\"y\",\"type\":\"histogram\"},{\"alignmentgroup\":\"True\",\"bingroup\":\"x\",\"hovertemplate\":\"color=music<br>value=%{x}<br>count=%{y}<extra></extra>\",\"legendgroup\":\"music\",\"marker\":{\"color\":\"#ab63fa\",\"pattern\":{\"shape\":\"\"}},\"name\":\"music\",\"offsetgroup\":\"music\",\"orientation\":\"v\",\"showlegend\":true,\"x\":[70,94,47,35,57,25,91,59,63,66,80,47,67,66,72,70,58,60,66,42,64,74,43,88,65,40,56,85,62,50,62,80,46,53,64,108,99,74,103,39,28,64,50,51,84,64,69,85,43,59,92,80,98,69,55,49,82,105,100,73,80,52,25,93,102,69,77,34,70,71,58,121,49,51,87,55,88,95,68,66,78,83,81,30,41,56,40,41,90,87,61,91,98,77,65,70,50,64,59,58,80,72,73,60,56,43,55,63,62,89,77,101,55,80,70,85,63,57,53,70,64,136,56,94,59,71,70,94,96,54,87,44,63,52,85,59,80,25,79,77,62,74,65,56,67,96,78,85,83,52,79,68,52,25,79,59,77,97,45,88,57,60,83,91,78,47,54,68,48,65,41,79,72,68,90,70,93,27,46,71,35,80,85,94,85,99,58,80,30,52,93,79,68,50,86,52,101,80,57,82,78,89,62,63,61,79,70,35,99,73,80,54,97,66,76,83,72,70,69,43,59,37,83,94,88,56,104,89,67,76,59,55,65,54,67,60,59,77,90,60,32,31,89,148,90,57,115,80,28,50,67,78,90,54,96,94,60,96,74,85,69,56,56,65,74,67,58,46,63,29,91,52,74,52,75,75,25,39,48,75,37,60,73,53,83,64,70,50,76,87,85,64,45,90,63,79,76,92,60,82,44,86,142,46,85,50,106,63,85,85,93,111,56,74,54,25,52,66,49,42,88,81,77,86,91,50,50,55,97,94,41,77,82,69,84,67,84,72,48,90,58,70,54,71,93,61,85,59,107,32,57,61,59,46,66,54,61,56,51,96,118,76,70,90,50,57,91,90,59,72,61,78,70,58,48,36,46,55,77,54,88,93,34,84,36,66,84,82,73,106,44,60,74,52,69,55,56,75,48,87,50,82,98,50,96,34,70,75,96,84,78,50,67,88,63,70,71,55,58,109,101,92,37,59,72,72,36,84,56,82,90,99,65,47,71,99,49,49,55,87,54,46,60,78,84,80,90,63,92,43,70,86,77,39,95,63,60,60,94,47,71,90,46,30,31,32,33,49,88,37,64,57,103,87,53,85,37,80,94,57,95,47,59,51,82,81,83,85,51,57,61,51,57,68,72,93,86,87,55,82,108,38,38,85,99,62,71,63,70,74,108,90,67,46,116,65,94,69,31,63,61,97,65,82,70,88,82,86,74,62,43,57,43,98,43,77,73,58,90,78,72,64,86,74,79,67,91,95,45,71,74,78,44,85,81,89,59,82,79,65,58,102,51,54,55,40,63,47,99,80,52,51,48,62,57,96,59,52,75,69,93,82,55,59,77,89,71,56,52,89,74,76,40,60,89,70,64,91,57,51,85,84,98,61,46,64,43,98,64,62,84,57,96,70,71,77,91,58,53,70,46,65,57,32,74,100,82,102,72,87,75,60,69,64,49,57,80,60,87,25,50,70,71,69,119,105,59,90,46,45,45,60,56,24,55,66,46,37,104,84,41,62,49,74,69,77,63,42,94,80,78,26,37,73,33,68,42,67,110,70,63,134,65,66,92,47,55,71,92,136,63,70,74,87,79,80,71,62,58,49,91,78,47,90,58,36,55,86,67,58,98,74,76,68,55,57,33,45,56,89,87,81,43,48,46,93,64,34,77,59,59,35,65,85,94,66,59,44,55,78,84,83,82,43,78,63,108,57,49,66,97,81,71,77,102,135,91,45,52,84,87,40,64,76,56,69,92,72,86],\"xaxis\":\"x\",\"yaxis\":\"y\",\"type\":\"histogram\"},{\"alignmentgroup\":\"True\",\"bingroup\":\"x\",\"hovertemplate\":\"color=kids<br>value=%{x}<br>count=%{y}<extra></extra>\",\"legendgroup\":\"kids\",\"marker\":{\"color\":\"#FFA15A\",\"pattern\":{\"shape\":\"\"}},\"name\":\"kids\",\"offsetgroup\":\"kids\",\"orientation\":\"v\",\"showlegend\":true,\"x\":[47,52,28,72,64,13,30,30,57,68,70,46,38,53,33,75,17],\"xaxis\":\"x\",\"yaxis\":\"y\",\"type\":\"histogram\"},{\"alignmentgroup\":\"True\",\"bingroup\":\"x\",\"hovertemplate\":\"color=middleeast<br>value=%{x}<br>count=%{y}<extra></extra>\",\"legendgroup\":\"middleeast\",\"marker\":{\"color\":\"#19d3f3\",\"pattern\":{\"shape\":\"\"}},\"name\":\"middleeast\",\"offsetgroup\":\"middleeast\",\"orientation\":\"v\",\"showlegend\":true,\"x\":[63,49],\"xaxis\":\"x\",\"yaxis\":\"y\",\"type\":\"histogram\"},{\"alignmentgroup\":\"True\",\"bingroup\":\"x\",\"hovertemplate\":\"color=northamerica<br>value=%{x}<br>count=%{y}<extra></extra>\",\"legendgroup\":\"northamerica\",\"marker\":{\"color\":\"#FF6692\",\"pattern\":{\"shape\":\"\"}},\"name\":\"northamerica\",\"offsetgroup\":\"northamerica\",\"orientation\":\"v\",\"showlegend\":true,\"x\":[73],\"xaxis\":\"x\",\"yaxis\":\"y\",\"type\":\"histogram\"}],                        {\"template\":{\"data\":{\"bar\":[{\"error_x\":{\"color\":\"#2a3f5f\"},\"error_y\":{\"color\":\"#2a3f5f\"},\"marker\":{\"line\":{\"color\":\"#E5ECF6\",\"width\":0.5},\"pattern\":{\"fillmode\":\"overlay\",\"size\":10,\"solidity\":0.2}},\"type\":\"bar\"}],\"barpolar\":[{\"marker\":{\"line\":{\"color\":\"#E5ECF6\",\"width\":0.5},\"pattern\":{\"fillmode\":\"overlay\",\"size\":10,\"solidity\":0.2}},\"type\":\"barpolar\"}],\"carpet\":[{\"aaxis\":{\"endlinecolor\":\"#2a3f5f\",\"gridcolor\":\"white\",\"linecolor\":\"white\",\"minorgridcolor\":\"white\",\"startlinecolor\":\"#2a3f5f\"},\"baxis\":{\"endlinecolor\":\"#2a3f5f\",\"gridcolor\":\"white\",\"linecolor\":\"white\",\"minorgridcolor\":\"white\",\"startlinecolor\":\"#2a3f5f\"},\"type\":\"carpet\"}],\"choropleth\":[{\"colorbar\":{\"outlinewidth\":0,\"ticks\":\"\"},\"type\":\"choropleth\"}],\"contour\":[{\"colorbar\":{\"outlinewidth\":0,\"ticks\":\"\"},\"colorscale\":[[0.0,\"#0d0887\"],[0.1111111111111111,\"#46039f\"],[0.2222222222222222,\"#7201a8\"],[0.3333333333333333,\"#9c179e\"],[0.4444444444444444,\"#bd3786\"],[0.5555555555555556,\"#d8576b\"],[0.6666666666666666,\"#ed7953\"],[0.7777777777777778,\"#fb9f3a\"],[0.8888888888888888,\"#fdca26\"],[1.0,\"#f0f921\"]],\"type\":\"contour\"}],\"contourcarpet\":[{\"colorbar\":{\"outlinewidth\":0,\"ticks\":\"\"},\"type\":\"contourcarpet\"}],\"heatmap\":[{\"colorbar\":{\"outlinewidth\":0,\"ticks\":\"\"},\"colorscale\":[[0.0,\"#0d0887\"],[0.1111111111111111,\"#46039f\"],[0.2222222222222222,\"#7201a8\"],[0.3333333333333333,\"#9c179e\"],[0.4444444444444444,\"#bd3786\"],[0.5555555555555556,\"#d8576b\"],[0.6666666666666666,\"#ed7953\"],[0.7777777777777778,\"#fb9f3a\"],[0.8888888888888888,\"#fdca26\"],[1.0,\"#f0f921\"]],\"type\":\"heatmap\"}],\"heatmapgl\":[{\"colorbar\":{\"outlinewidth\":0,\"ticks\":\"\"},\"colorscale\":[[0.0,\"#0d0887\"],[0.1111111111111111,\"#46039f\"],[0.2222222222222222,\"#7201a8\"],[0.3333333333333333,\"#9c179e\"],[0.4444444444444444,\"#bd3786\"],[0.5555555555555556,\"#d8576b\"],[0.6666666666666666,\"#ed7953\"],[0.7777777777777778,\"#fb9f3a\"],[0.8888888888888888,\"#fdca26\"],[1.0,\"#f0f921\"]],\"type\":\"heatmapgl\"}],\"histogram\":[{\"marker\":{\"pattern\":{\"fillmode\":\"overlay\",\"size\":10,\"solidity\":0.2}},\"type\":\"histogram\"}],\"histogram2d\":[{\"colorbar\":{\"outlinewidth\":0,\"ticks\":\"\"},\"colorscale\":[[0.0,\"#0d0887\"],[0.1111111111111111,\"#46039f\"],[0.2222222222222222,\"#7201a8\"],[0.3333333333333333,\"#9c179e\"],[0.4444444444444444,\"#bd3786\"],[0.5555555555555556,\"#d8576b\"],[0.6666666666666666,\"#ed7953\"],[0.7777777777777778,\"#fb9f3a\"],[0.8888888888888888,\"#fdca26\"],[1.0,\"#f0f921\"]],\"type\":\"histogram2d\"}],\"histogram2dcontour\":[{\"colorbar\":{\"outlinewidth\":0,\"ticks\":\"\"},\"colorscale\":[[0.0,\"#0d0887\"],[0.1111111111111111,\"#46039f\"],[0.2222222222222222,\"#7201a8\"],[0.3333333333333333,\"#9c179e\"],[0.4444444444444444,\"#bd3786\"],[0.5555555555555556,\"#d8576b\"],[0.6666666666666666,\"#ed7953\"],[0.7777777777777778,\"#fb9f3a\"],[0.8888888888888888,\"#fdca26\"],[1.0,\"#f0f921\"]],\"type\":\"histogram2dcontour\"}],\"mesh3d\":[{\"colorbar\":{\"outlinewidth\":0,\"ticks\":\"\"},\"type\":\"mesh3d\"}],\"parcoords\":[{\"line\":{\"colorbar\":{\"outlinewidth\":0,\"ticks\":\"\"}},\"type\":\"parcoords\"}],\"pie\":[{\"automargin\":true,\"type\":\"pie\"}],\"scatter\":[{\"marker\":{\"colorbar\":{\"outlinewidth\":0,\"ticks\":\"\"}},\"type\":\"scatter\"}],\"scatter3d\":[{\"line\":{\"colorbar\":{\"outlinewidth\":0,\"ticks\":\"\"}},\"marker\":{\"colorbar\":{\"outlinewidth\":0,\"ticks\":\"\"}},\"type\":\"scatter3d\"}],\"scattercarpet\":[{\"marker\":{\"colorbar\":{\"outlinewidth\":0,\"ticks\":\"\"}},\"type\":\"scattercarpet\"}],\"scattergeo\":[{\"marker\":{\"colorbar\":{\"outlinewidth\":0,\"ticks\":\"\"}},\"type\":\"scattergeo\"}],\"scattergl\":[{\"marker\":{\"colorbar\":{\"outlinewidth\":0,\"ticks\":\"\"}},\"type\":\"scattergl\"}],\"scattermapbox\":[{\"marker\":{\"colorbar\":{\"outlinewidth\":0,\"ticks\":\"\"}},\"type\":\"scattermapbox\"}],\"scatterpolar\":[{\"marker\":{\"colorbar\":{\"outlinewidth\":0,\"ticks\":\"\"}},\"type\":\"scatterpolar\"}],\"scatterpolargl\":[{\"marker\":{\"colorbar\":{\"outlinewidth\":0,\"ticks\":\"\"}},\"type\":\"scatterpolargl\"}],\"scatterternary\":[{\"marker\":{\"colorbar\":{\"outlinewidth\":0,\"ticks\":\"\"}},\"type\":\"scatterternary\"}],\"surface\":[{\"colorbar\":{\"outlinewidth\":0,\"ticks\":\"\"},\"colorscale\":[[0.0,\"#0d0887\"],[0.1111111111111111,\"#46039f\"],[0.2222222222222222,\"#7201a8\"],[0.3333333333333333,\"#9c179e\"],[0.4444444444444444,\"#bd3786\"],[0.5555555555555556,\"#d8576b\"],[0.6666666666666666,\"#ed7953\"],[0.7777777777777778,\"#fb9f3a\"],[0.8888888888888888,\"#fdca26\"],[1.0,\"#f0f921\"]],\"type\":\"surface\"}],\"table\":[{\"cells\":{\"fill\":{\"color\":\"#EBF0F8\"},\"line\":{\"color\":\"white\"}},\"header\":{\"fill\":{\"color\":\"#C8D4E3\"},\"line\":{\"color\":\"white\"}},\"type\":\"table\"}]},\"layout\":{\"annotationdefaults\":{\"arrowcolor\":\"#2a3f5f\",\"arrowhead\":0,\"arrowwidth\":1},\"autotypenumbers\":\"strict\",\"coloraxis\":{\"colorbar\":{\"outlinewidth\":0,\"ticks\":\"\"}},\"colorscale\":{\"diverging\":[[0,\"#8e0152\"],[0.1,\"#c51b7d\"],[0.2,\"#de77ae\"],[0.3,\"#f1b6da\"],[0.4,\"#fde0ef\"],[0.5,\"#f7f7f7\"],[0.6,\"#e6f5d0\"],[0.7,\"#b8e186\"],[0.8,\"#7fbc41\"],[0.9,\"#4d9221\"],[1,\"#276419\"]],\"sequential\":[[0.0,\"#0d0887\"],[0.1111111111111111,\"#46039f\"],[0.2222222222222222,\"#7201a8\"],[0.3333333333333333,\"#9c179e\"],[0.4444444444444444,\"#bd3786\"],[0.5555555555555556,\"#d8576b\"],[0.6666666666666666,\"#ed7953\"],[0.7777777777777778,\"#fb9f3a\"],[0.8888888888888888,\"#fdca26\"],[1.0,\"#f0f921\"]],\"sequentialminus\":[[0.0,\"#0d0887\"],[0.1111111111111111,\"#46039f\"],[0.2222222222222222,\"#7201a8\"],[0.3333333333333333,\"#9c179e\"],[0.4444444444444444,\"#bd3786\"],[0.5555555555555556,\"#d8576b\"],[0.6666666666666666,\"#ed7953\"],[0.7777777777777778,\"#fb9f3a\"],[0.8888888888888888,\"#fdca26\"],[1.0,\"#f0f921\"]]},\"colorway\":[\"#636efa\",\"#EF553B\",\"#00cc96\",\"#ab63fa\",\"#FFA15A\",\"#19d3f3\",\"#FF6692\",\"#B6E880\",\"#FF97FF\",\"#FECB52\"],\"font\":{\"color\":\"#2a3f5f\"},\"geo\":{\"bgcolor\":\"white\",\"lakecolor\":\"white\",\"landcolor\":\"#E5ECF6\",\"showlakes\":true,\"showland\":true,\"subunitcolor\":\"white\"},\"hoverlabel\":{\"align\":\"left\"},\"hovermode\":\"closest\",\"mapbox\":{\"style\":\"light\"},\"paper_bgcolor\":\"white\",\"plot_bgcolor\":\"#E5ECF6\",\"polar\":{\"angularaxis\":{\"gridcolor\":\"white\",\"linecolor\":\"white\",\"ticks\":\"\"},\"bgcolor\":\"#E5ECF6\",\"radialaxis\":{\"gridcolor\":\"white\",\"linecolor\":\"white\",\"ticks\":\"\"}},\"scene\":{\"xaxis\":{\"backgroundcolor\":\"#E5ECF6\",\"gridcolor\":\"white\",\"gridwidth\":2,\"linecolor\":\"white\",\"showbackground\":true,\"ticks\":\"\",\"zerolinecolor\":\"white\"},\"yaxis\":{\"backgroundcolor\":\"#E5ECF6\",\"gridcolor\":\"white\",\"gridwidth\":2,\"linecolor\":\"white\",\"showbackground\":true,\"ticks\":\"\",\"zerolinecolor\":\"white\"},\"zaxis\":{\"backgroundcolor\":\"#E5ECF6\",\"gridcolor\":\"white\",\"gridwidth\":2,\"linecolor\":\"white\",\"showbackground\":true,\"ticks\":\"\",\"zerolinecolor\":\"white\"}},\"shapedefaults\":{\"line\":{\"color\":\"#2a3f5f\"}},\"ternary\":{\"aaxis\":{\"gridcolor\":\"white\",\"linecolor\":\"white\",\"ticks\":\"\"},\"baxis\":{\"gridcolor\":\"white\",\"linecolor\":\"white\",\"ticks\":\"\"},\"bgcolor\":\"#E5ECF6\",\"caxis\":{\"gridcolor\":\"white\",\"linecolor\":\"white\",\"ticks\":\"\"}},\"title\":{\"x\":0.05},\"xaxis\":{\"automargin\":true,\"gridcolor\":\"white\",\"linecolor\":\"white\",\"ticks\":\"\",\"title\":{\"standoff\":15},\"zerolinecolor\":\"white\",\"zerolinewidth\":2},\"yaxis\":{\"automargin\":true,\"gridcolor\":\"white\",\"linecolor\":\"white\",\"ticks\":\"\",\"title\":{\"standoff\":15},\"zerolinecolor\":\"white\",\"zerolinewidth\":2}}},\"xaxis\":{\"anchor\":\"y\",\"domain\":[0.0,1.0],\"title\":{\"text\":\"value\"}},\"yaxis\":{\"anchor\":\"x\",\"domain\":[0.0,1.0],\"title\":{\"text\":\"count\"}},\"legend\":{\"title\":{\"text\":\"color\"},\"tracegroupgap\":0},\"margin\":{\"t\":60},\"barmode\":\"relative\"},                        {\"responsive\": true}                    ).then(function(){\n",
              "                            \n",
              "var gd = document.getElementById('9fd80e0a-1fad-4393-9b8c-791e21615e15');\n",
              "var x = new MutationObserver(function (mutations, observer) {{\n",
              "        var display = window.getComputedStyle(gd).display;\n",
              "        if (!display || display === 'none') {{\n",
              "            console.log([gd, 'removed!']);\n",
              "            Plotly.purge(gd);\n",
              "            observer.disconnect();\n",
              "        }}\n",
              "}});\n",
              "\n",
              "// Listen for the removal of the full notebook cells\n",
              "var notebookContainer = gd.closest('#notebook-container');\n",
              "if (notebookContainer) {{\n",
              "    x.observe(notebookContainer, {childList: true});\n",
              "}}\n",
              "\n",
              "// Listen for the clearing of the current output cell\n",
              "var outputEl = gd.closest('.output');\n",
              "if (outputEl) {{\n",
              "    x.observe(outputEl, {childList: true});\n",
              "}}\n",
              "\n",
              "                        })                };                            </script>        </div>\n",
              "</body>\n",
              "</html>"
            ]
          },
          "metadata": {}
        }
      ]
    },
    {
      "cell_type": "markdown",
      "source": [
        "# click count "
      ],
      "metadata": {
        "id": "oa_Vwg_6Tjwu"
      }
    },
    {
      "cell_type": "markdown",
      "source": [
        "get click count of each news, to recognize most clicked news"
      ],
      "metadata": {
        "id": "PmyA0bMIV0L2"
      }
    },
    {
      "cell_type": "code",
      "source": [
        "userID_for_Count =  userID_gp_df[[\"UserID\", \"Time\", \"History\" ]] #make a new df to save click counts in it\n",
        "userID_for_Count"
      ],
      "metadata": {
        "colab": {
          "base_uri": "https://localhost:8080/",
          "height": 423
        },
        "outputId": "edbdee2f-559f-448e-8ac0-70a79785fc72",
        "id": "UZ5LhhtyTjwy"
      },
      "execution_count": null,
      "outputs": [
        {
          "output_type": "execute_result",
          "data": {
            "text/html": [
              "\n",
              "  <div id=\"df-1fb0ac81-86da-4ae1-990e-9ab90e794bd2\">\n",
              "    <div class=\"colab-df-container\">\n",
              "      <div>\n",
              "<style scoped>\n",
              "    .dataframe tbody tr th:only-of-type {\n",
              "        vertical-align: middle;\n",
              "    }\n",
              "\n",
              "    .dataframe tbody tr th {\n",
              "        vertical-align: top;\n",
              "    }\n",
              "\n",
              "    .dataframe thead th {\n",
              "        text-align: right;\n",
              "    }\n",
              "</style>\n",
              "<table border=\"1\" class=\"dataframe\">\n",
              "  <thead>\n",
              "    <tr style=\"text-align: right;\">\n",
              "      <th></th>\n",
              "      <th>UserID</th>\n",
              "      <th>Time</th>\n",
              "      <th>History</th>\n",
              "    </tr>\n",
              "  </thead>\n",
              "  <tbody>\n",
              "    <tr>\n",
              "      <th>20111</th>\n",
              "      <td>U65916</td>\n",
              "      <td>2019-11-09 00:00:19</td>\n",
              "      <td>[N51706, N40767, N12096, N9798, N38802, N54827...</td>\n",
              "    </tr>\n",
              "    <tr>\n",
              "      <th>13806</th>\n",
              "      <td>U49985</td>\n",
              "      <td>2019-11-09 00:01:13</td>\n",
              "      <td>[N5056, N29975, N53234, N39603, N50032, N8422,...</td>\n",
              "    </tr>\n",
              "    <tr>\n",
              "      <th>27659</th>\n",
              "      <td>U25550</td>\n",
              "      <td>2019-11-09 00:02:44</td>\n",
              "      <td>[N17260, N38298, N33976, N47719, N14888, N1887...</td>\n",
              "    </tr>\n",
              "    <tr>\n",
              "      <th>152216</th>\n",
              "      <td>U19710</td>\n",
              "      <td>2019-11-09 00:02:50</td>\n",
              "      <td>[N3530, N48284, N43019, N62546, N138, N13138, ...</td>\n",
              "    </tr>\n",
              "    <tr>\n",
              "      <th>42165</th>\n",
              "      <td>U38106</td>\n",
              "      <td>2019-11-09 00:03:09</td>\n",
              "      <td>[N16874, N264, N48697, N51366, N48925]</td>\n",
              "    </tr>\n",
              "    <tr>\n",
              "      <th>...</th>\n",
              "      <td>...</td>\n",
              "      <td>...</td>\n",
              "      <td>...</td>\n",
              "    </tr>\n",
              "    <tr>\n",
              "      <th>66233</th>\n",
              "      <td>U717</td>\n",
              "      <td>2019-11-14 23:58:46</td>\n",
              "      <td>[N54822, N46392, N27863, N13138, N40448, N1400...</td>\n",
              "    </tr>\n",
              "    <tr>\n",
              "      <th>36003</th>\n",
              "      <td>U44395</td>\n",
              "      <td>2019-11-14 23:58:47</td>\n",
              "      <td>[N38488, N11231, N14761, N21164, N42128, N7328...</td>\n",
              "    </tr>\n",
              "    <tr>\n",
              "      <th>105362</th>\n",
              "      <td>U41595</td>\n",
              "      <td>2019-11-14 23:58:51</td>\n",
              "      <td>[N15457, N64513, N41220, N27349, N40495, N3572...</td>\n",
              "    </tr>\n",
              "    <tr>\n",
              "      <th>108432</th>\n",
              "      <td>U75895</td>\n",
              "      <td>2019-11-14 23:59:06</td>\n",
              "      <td>[N1300, N9803, N14114, N31996, N61233]</td>\n",
              "    </tr>\n",
              "    <tr>\n",
              "      <th>90251</th>\n",
              "      <td>U82996</td>\n",
              "      <td>2019-11-14 23:59:13</td>\n",
              "      <td>[N39556, N22279, N56461, N33393, N6233, N33617...</td>\n",
              "    </tr>\n",
              "  </tbody>\n",
              "</table>\n",
              "<p>156965 rows × 3 columns</p>\n",
              "</div>\n",
              "      <button class=\"colab-df-convert\" onclick=\"convertToInteractive('df-1fb0ac81-86da-4ae1-990e-9ab90e794bd2')\"\n",
              "              title=\"Convert this dataframe to an interactive table.\"\n",
              "              style=\"display:none;\">\n",
              "        \n",
              "  <svg xmlns=\"http://www.w3.org/2000/svg\" height=\"24px\"viewBox=\"0 0 24 24\"\n",
              "       width=\"24px\">\n",
              "    <path d=\"M0 0h24v24H0V0z\" fill=\"none\"/>\n",
              "    <path d=\"M18.56 5.44l.94 2.06.94-2.06 2.06-.94-2.06-.94-.94-2.06-.94 2.06-2.06.94zm-11 1L8.5 8.5l.94-2.06 2.06-.94-2.06-.94L8.5 2.5l-.94 2.06-2.06.94zm10 10l.94 2.06.94-2.06 2.06-.94-2.06-.94-.94-2.06-.94 2.06-2.06.94z\"/><path d=\"M17.41 7.96l-1.37-1.37c-.4-.4-.92-.59-1.43-.59-.52 0-1.04.2-1.43.59L10.3 9.45l-7.72 7.72c-.78.78-.78 2.05 0 2.83L4 21.41c.39.39.9.59 1.41.59.51 0 1.02-.2 1.41-.59l7.78-7.78 2.81-2.81c.8-.78.8-2.07 0-2.86zM5.41 20L4 18.59l7.72-7.72 1.47 1.35L5.41 20z\"/>\n",
              "  </svg>\n",
              "      </button>\n",
              "      \n",
              "  <style>\n",
              "    .colab-df-container {\n",
              "      display:flex;\n",
              "      flex-wrap:wrap;\n",
              "      gap: 12px;\n",
              "    }\n",
              "\n",
              "    .colab-df-convert {\n",
              "      background-color: #E8F0FE;\n",
              "      border: none;\n",
              "      border-radius: 50%;\n",
              "      cursor: pointer;\n",
              "      display: none;\n",
              "      fill: #1967D2;\n",
              "      height: 32px;\n",
              "      padding: 0 0 0 0;\n",
              "      width: 32px;\n",
              "    }\n",
              "\n",
              "    .colab-df-convert:hover {\n",
              "      background-color: #E2EBFA;\n",
              "      box-shadow: 0px 1px 2px rgba(60, 64, 67, 0.3), 0px 1px 3px 1px rgba(60, 64, 67, 0.15);\n",
              "      fill: #174EA6;\n",
              "    }\n",
              "\n",
              "    [theme=dark] .colab-df-convert {\n",
              "      background-color: #3B4455;\n",
              "      fill: #D2E3FC;\n",
              "    }\n",
              "\n",
              "    [theme=dark] .colab-df-convert:hover {\n",
              "      background-color: #434B5C;\n",
              "      box-shadow: 0px 1px 3px 1px rgba(0, 0, 0, 0.15);\n",
              "      filter: drop-shadow(0px 1px 2px rgba(0, 0, 0, 0.3));\n",
              "      fill: #FFFFFF;\n",
              "    }\n",
              "  </style>\n",
              "\n",
              "      <script>\n",
              "        const buttonEl =\n",
              "          document.querySelector('#df-1fb0ac81-86da-4ae1-990e-9ab90e794bd2 button.colab-df-convert');\n",
              "        buttonEl.style.display =\n",
              "          google.colab.kernel.accessAllowed ? 'block' : 'none';\n",
              "\n",
              "        async function convertToInteractive(key) {\n",
              "          const element = document.querySelector('#df-1fb0ac81-86da-4ae1-990e-9ab90e794bd2');\n",
              "          const dataTable =\n",
              "            await google.colab.kernel.invokeFunction('convertToInteractive',\n",
              "                                                     [key], {});\n",
              "          if (!dataTable) return;\n",
              "\n",
              "          const docLinkHtml = 'Like what you see? Visit the ' +\n",
              "            '<a target=\"_blank\" href=https://colab.research.google.com/notebooks/data_table.ipynb>data table notebook</a>'\n",
              "            + ' to learn more about interactive tables.';\n",
              "          element.innerHTML = '';\n",
              "          dataTable['output_type'] = 'display_data';\n",
              "          await google.colab.output.renderOutput(dataTable, element);\n",
              "          const docLink = document.createElement('div');\n",
              "          docLink.innerHTML = docLinkHtml;\n",
              "          element.appendChild(docLink);\n",
              "        }\n",
              "      </script>\n",
              "    </div>\n",
              "  </div>\n",
              "  "
            ],
            "text/plain": [
              "        UserID  ...                                            History\n",
              "20111   U65916  ...  [N51706, N40767, N12096, N9798, N38802, N54827...\n",
              "13806   U49985  ...  [N5056, N29975, N53234, N39603, N50032, N8422,...\n",
              "27659   U25550  ...  [N17260, N38298, N33976, N47719, N14888, N1887...\n",
              "152216  U19710  ...  [N3530, N48284, N43019, N62546, N138, N13138, ...\n",
              "42165   U38106  ...             [N16874, N264, N48697, N51366, N48925]\n",
              "...        ...  ...                                                ...\n",
              "66233     U717  ...  [N54822, N46392, N27863, N13138, N40448, N1400...\n",
              "36003   U44395  ...  [N38488, N11231, N14761, N21164, N42128, N7328...\n",
              "105362  U41595  ...  [N15457, N64513, N41220, N27349, N40495, N3572...\n",
              "108432  U75895  ...             [N1300, N9803, N14114, N31996, N61233]\n",
              "90251   U82996  ...  [N39556, N22279, N56461, N33393, N6233, N33617...\n",
              "\n",
              "[156965 rows x 3 columns]"
            ]
          },
          "metadata": {},
          "execution_count": 108
        }
      ]
    },
    {
      "cell_type": "code",
      "source": [
        "userID_for_Count_gp = userID_for_Count.groupby(\"UserID\").first() #avalin history ro migire (click count ta avalin history ro hesab mikonim)\n"
      ],
      "metadata": {
        "id": "TcyyhbG3Tjw3"
      },
      "execution_count": null,
      "outputs": []
    },
    {
      "cell_type": "code",
      "source": [
        "Hist = userID_for_Count_gp[\"History\"].tolist()\n",
        "# Hist"
      ],
      "metadata": {
        "id": "zsR3q0qiTjw8"
      },
      "execution_count": null,
      "outputs": []
    },
    {
      "cell_type": "code",
      "source": [
        "# make a dataframe to save click counts for each news \n",
        "News_count = news['NewsID'].to_frame('NewsID')\n",
        "News_count[\"Click_Num\"] = 0\n",
        "News_count = News_count.set_index(\"NewsID\")"
      ],
      "metadata": {
        "id": "zM71QC3eTjxA"
      },
      "execution_count": null,
      "outputs": []
    },
    {
      "cell_type": "code",
      "source": [
        "# to get click counts:\n",
        "for history in Hist:\n",
        "  for khbr in history:\n",
        "    News_count.at[khbr,\"Click_Num\"] +=1\n"
      ],
      "metadata": {
        "id": "1q0jSpZhTjxE"
      },
      "execution_count": null,
      "outputs": []
    },
    {
      "cell_type": "code",
      "source": [
        "News_count"
      ],
      "metadata": {
        "colab": {
          "base_uri": "https://localhost:8080/",
          "height": 455
        },
        "outputId": "ff2ecd99-157c-43a4-8f7e-951d0bdeea0b",
        "id": "ApRgFJTxTjxH"
      },
      "execution_count": null,
      "outputs": [
        {
          "output_type": "execute_result",
          "data": {
            "text/html": [
              "\n",
              "  <div id=\"df-610a8464-eeae-4fc0-ae8c-af928a9a7ddc\">\n",
              "    <div class=\"colab-df-container\">\n",
              "      <div>\n",
              "<style scoped>\n",
              "    .dataframe tbody tr th:only-of-type {\n",
              "        vertical-align: middle;\n",
              "    }\n",
              "\n",
              "    .dataframe tbody tr th {\n",
              "        vertical-align: top;\n",
              "    }\n",
              "\n",
              "    .dataframe thead th {\n",
              "        text-align: right;\n",
              "    }\n",
              "</style>\n",
              "<table border=\"1\" class=\"dataframe\">\n",
              "  <thead>\n",
              "    <tr style=\"text-align: right;\">\n",
              "      <th></th>\n",
              "      <th>Click_Num</th>\n",
              "    </tr>\n",
              "    <tr>\n",
              "      <th>NewsID</th>\n",
              "      <th></th>\n",
              "    </tr>\n",
              "  </thead>\n",
              "  <tbody>\n",
              "    <tr>\n",
              "      <th>N55528</th>\n",
              "      <td>4</td>\n",
              "    </tr>\n",
              "    <tr>\n",
              "      <th>N19639</th>\n",
              "      <td>1</td>\n",
              "    </tr>\n",
              "    <tr>\n",
              "      <th>N61837</th>\n",
              "      <td>29</td>\n",
              "    </tr>\n",
              "    <tr>\n",
              "      <th>N53526</th>\n",
              "      <td>241</td>\n",
              "    </tr>\n",
              "    <tr>\n",
              "      <th>N38324</th>\n",
              "      <td>13</td>\n",
              "    </tr>\n",
              "    <tr>\n",
              "      <th>...</th>\n",
              "      <td>...</td>\n",
              "    </tr>\n",
              "    <tr>\n",
              "      <th>N16909</th>\n",
              "      <td>0</td>\n",
              "    </tr>\n",
              "    <tr>\n",
              "      <th>N47585</th>\n",
              "      <td>1</td>\n",
              "    </tr>\n",
              "    <tr>\n",
              "      <th>N7482</th>\n",
              "      <td>0</td>\n",
              "    </tr>\n",
              "    <tr>\n",
              "      <th>N34418</th>\n",
              "      <td>0</td>\n",
              "    </tr>\n",
              "    <tr>\n",
              "      <th>N44276</th>\n",
              "      <td>0</td>\n",
              "    </tr>\n",
              "  </tbody>\n",
              "</table>\n",
              "<p>51282 rows × 1 columns</p>\n",
              "</div>\n",
              "      <button class=\"colab-df-convert\" onclick=\"convertToInteractive('df-610a8464-eeae-4fc0-ae8c-af928a9a7ddc')\"\n",
              "              title=\"Convert this dataframe to an interactive table.\"\n",
              "              style=\"display:none;\">\n",
              "        \n",
              "  <svg xmlns=\"http://www.w3.org/2000/svg\" height=\"24px\"viewBox=\"0 0 24 24\"\n",
              "       width=\"24px\">\n",
              "    <path d=\"M0 0h24v24H0V0z\" fill=\"none\"/>\n",
              "    <path d=\"M18.56 5.44l.94 2.06.94-2.06 2.06-.94-2.06-.94-.94-2.06-.94 2.06-2.06.94zm-11 1L8.5 8.5l.94-2.06 2.06-.94-2.06-.94L8.5 2.5l-.94 2.06-2.06.94zm10 10l.94 2.06.94-2.06 2.06-.94-2.06-.94-.94-2.06-.94 2.06-2.06.94z\"/><path d=\"M17.41 7.96l-1.37-1.37c-.4-.4-.92-.59-1.43-.59-.52 0-1.04.2-1.43.59L10.3 9.45l-7.72 7.72c-.78.78-.78 2.05 0 2.83L4 21.41c.39.39.9.59 1.41.59.51 0 1.02-.2 1.41-.59l7.78-7.78 2.81-2.81c.8-.78.8-2.07 0-2.86zM5.41 20L4 18.59l7.72-7.72 1.47 1.35L5.41 20z\"/>\n",
              "  </svg>\n",
              "      </button>\n",
              "      \n",
              "  <style>\n",
              "    .colab-df-container {\n",
              "      display:flex;\n",
              "      flex-wrap:wrap;\n",
              "      gap: 12px;\n",
              "    }\n",
              "\n",
              "    .colab-df-convert {\n",
              "      background-color: #E8F0FE;\n",
              "      border: none;\n",
              "      border-radius: 50%;\n",
              "      cursor: pointer;\n",
              "      display: none;\n",
              "      fill: #1967D2;\n",
              "      height: 32px;\n",
              "      padding: 0 0 0 0;\n",
              "      width: 32px;\n",
              "    }\n",
              "\n",
              "    .colab-df-convert:hover {\n",
              "      background-color: #E2EBFA;\n",
              "      box-shadow: 0px 1px 2px rgba(60, 64, 67, 0.3), 0px 1px 3px 1px rgba(60, 64, 67, 0.15);\n",
              "      fill: #174EA6;\n",
              "    }\n",
              "\n",
              "    [theme=dark] .colab-df-convert {\n",
              "      background-color: #3B4455;\n",
              "      fill: #D2E3FC;\n",
              "    }\n",
              "\n",
              "    [theme=dark] .colab-df-convert:hover {\n",
              "      background-color: #434B5C;\n",
              "      box-shadow: 0px 1px 3px 1px rgba(0, 0, 0, 0.15);\n",
              "      filter: drop-shadow(0px 1px 2px rgba(0, 0, 0, 0.3));\n",
              "      fill: #FFFFFF;\n",
              "    }\n",
              "  </style>\n",
              "\n",
              "      <script>\n",
              "        const buttonEl =\n",
              "          document.querySelector('#df-610a8464-eeae-4fc0-ae8c-af928a9a7ddc button.colab-df-convert');\n",
              "        buttonEl.style.display =\n",
              "          google.colab.kernel.accessAllowed ? 'block' : 'none';\n",
              "\n",
              "        async function convertToInteractive(key) {\n",
              "          const element = document.querySelector('#df-610a8464-eeae-4fc0-ae8c-af928a9a7ddc');\n",
              "          const dataTable =\n",
              "            await google.colab.kernel.invokeFunction('convertToInteractive',\n",
              "                                                     [key], {});\n",
              "          if (!dataTable) return;\n",
              "\n",
              "          const docLinkHtml = 'Like what you see? Visit the ' +\n",
              "            '<a target=\"_blank\" href=https://colab.research.google.com/notebooks/data_table.ipynb>data table notebook</a>'\n",
              "            + ' to learn more about interactive tables.';\n",
              "          element.innerHTML = '';\n",
              "          dataTable['output_type'] = 'display_data';\n",
              "          await google.colab.output.renderOutput(dataTable, element);\n",
              "          const docLink = document.createElement('div');\n",
              "          docLink.innerHTML = docLinkHtml;\n",
              "          element.appendChild(docLink);\n",
              "        }\n",
              "      </script>\n",
              "    </div>\n",
              "  </div>\n",
              "  "
            ],
            "text/plain": [
              "        Click_Num\n",
              "NewsID           \n",
              "N55528          4\n",
              "N19639          1\n",
              "N61837         29\n",
              "N53526        241\n",
              "N38324         13\n",
              "...           ...\n",
              "N16909          0\n",
              "N47585          1\n",
              "N7482           0\n",
              "N34418          0\n",
              "N44276          0\n",
              "\n",
              "[51282 rows x 1 columns]"
            ]
          },
          "metadata": {},
          "execution_count": 133
        }
      ]
    },
    {
      "cell_type": "markdown",
      "source": [
        "# Count Numbre of sentences\n",
        "we wanna investigate it's usefulness, to recommend New News to our Users via our News recommender system"
      ],
      "metadata": {
        "id": "xdb1lhs4gRwq"
      }
    },
    {
      "cell_type": "code",
      "source": [
        "# import libraries\n",
        "import nltk\n",
        "nltk.download('punkt')\n",
        "from nltk.tokenize import sent_tokenize\n"
      ],
      "metadata": {
        "colab": {
          "base_uri": "https://localhost:8080/"
        },
        "id": "gyCG6r6gf8tn",
        "outputId": "7685ada8-046e-499e-901f-54ccd217732c"
      },
      "execution_count": null,
      "outputs": [
        {
          "output_type": "stream",
          "name": "stdout",
          "text": [
            "[nltk_data] Downloading package punkt to /root/nltk_data...\n",
            "[nltk_data]   Unzipping tokenizers/punkt.zip.\n"
          ]
        }
      ]
    },
    {
      "cell_type": "code",
      "source": [
        "# Count Numbre of Senteces in Abstract of each News\n",
        "news[\"Senteces_Abstract\"] = news[\"Abstract\"].apply(lambda x: len(sent_tokenize(x))if type(x) == str else 0) "
      ],
      "metadata": {
        "id": "1Fmv-bhPgjEb"
      },
      "execution_count": null,
      "outputs": []
    },
    {
      "cell_type": "code",
      "source": [
        "# Count Numbre of Senteces in Title of each News\n",
        "news[\"Senteces_Title\"] = news[\"Title\"].apply(lambda x: len(sent_tokenize(x)if type(x) == str else 0)) "
      ],
      "metadata": {
        "id": "SH1a42RUkUyx"
      },
      "execution_count": null,
      "outputs": []
    },
    {
      "cell_type": "code",
      "source": [
        "# show the resault\n",
        "news"
      ],
      "metadata": {
        "colab": {
          "base_uri": "https://localhost:8080/",
          "height": 424
        },
        "id": "7mFWUeoek_jm",
        "outputId": "b76aed61-9e8b-4bd5-b61c-647764c6e9b6"
      },
      "execution_count": null,
      "outputs": [
        {
          "output_type": "execute_result",
          "data": {
            "text/html": [
              "\n",
              "  <div id=\"df-b40f20b6-3f4e-4ce7-b1c8-03e0cf1a9232\">\n",
              "    <div class=\"colab-df-container\">\n",
              "      <div>\n",
              "<style scoped>\n",
              "    .dataframe tbody tr th:only-of-type {\n",
              "        vertical-align: middle;\n",
              "    }\n",
              "\n",
              "    .dataframe tbody tr th {\n",
              "        vertical-align: top;\n",
              "    }\n",
              "\n",
              "    .dataframe thead th {\n",
              "        text-align: right;\n",
              "    }\n",
              "</style>\n",
              "<table border=\"1\" class=\"dataframe\">\n",
              "  <thead>\n",
              "    <tr style=\"text-align: right;\">\n",
              "      <th></th>\n",
              "      <th>NewsID</th>\n",
              "      <th>Category</th>\n",
              "      <th>SubCategory</th>\n",
              "      <th>Title</th>\n",
              "      <th>Abstract</th>\n",
              "      <th>Senteces_Abstract</th>\n",
              "      <th>Senteces_Title</th>\n",
              "    </tr>\n",
              "  </thead>\n",
              "  <tbody>\n",
              "    <tr>\n",
              "      <th>0</th>\n",
              "      <td>N55528</td>\n",
              "      <td>lifestyle</td>\n",
              "      <td>lifestyleroyals</td>\n",
              "      <td>The Brands Queen Elizabeth, Prince Charles, an...</td>\n",
              "      <td>Shop the notebooks, jackets, and more that the...</td>\n",
              "      <td>1</td>\n",
              "      <td>1</td>\n",
              "    </tr>\n",
              "    <tr>\n",
              "      <th>1</th>\n",
              "      <td>N19639</td>\n",
              "      <td>health</td>\n",
              "      <td>weightloss</td>\n",
              "      <td>50 Worst Habits For Belly Fat</td>\n",
              "      <td>These seemingly harmless habits are holding yo...</td>\n",
              "      <td>1</td>\n",
              "      <td>1</td>\n",
              "    </tr>\n",
              "    <tr>\n",
              "      <th>2</th>\n",
              "      <td>N61837</td>\n",
              "      <td>news</td>\n",
              "      <td>newsworld</td>\n",
              "      <td>The Cost of Trump's Aid Freeze in the Trenches...</td>\n",
              "      <td>Lt. Ivan Molchanets peeked over a parapet of s...</td>\n",
              "      <td>2</td>\n",
              "      <td>1</td>\n",
              "    </tr>\n",
              "    <tr>\n",
              "      <th>3</th>\n",
              "      <td>N53526</td>\n",
              "      <td>health</td>\n",
              "      <td>voices</td>\n",
              "      <td>I Was An NBA Wife. Here's How It Affected My M...</td>\n",
              "      <td>I felt like I was a fraud, and being an NBA wi...</td>\n",
              "      <td>2</td>\n",
              "      <td>2</td>\n",
              "    </tr>\n",
              "    <tr>\n",
              "      <th>4</th>\n",
              "      <td>N38324</td>\n",
              "      <td>health</td>\n",
              "      <td>medical</td>\n",
              "      <td>How to Get Rid of Skin Tags, According to a De...</td>\n",
              "      <td>They seem harmless, but there's a very good re...</td>\n",
              "      <td>2</td>\n",
              "      <td>1</td>\n",
              "    </tr>\n",
              "    <tr>\n",
              "      <th>...</th>\n",
              "      <td>...</td>\n",
              "      <td>...</td>\n",
              "      <td>...</td>\n",
              "      <td>...</td>\n",
              "      <td>...</td>\n",
              "      <td>...</td>\n",
              "      <td>...</td>\n",
              "    </tr>\n",
              "    <tr>\n",
              "      <th>51277</th>\n",
              "      <td>N16909</td>\n",
              "      <td>weather</td>\n",
              "      <td>weathertopstories</td>\n",
              "      <td>Adapting, Learning And Soul Searching: Reflect...</td>\n",
              "      <td>Woolsey Fire Anniversary: A community is forev...</td>\n",
              "      <td>1</td>\n",
              "      <td>1</td>\n",
              "    </tr>\n",
              "    <tr>\n",
              "      <th>51278</th>\n",
              "      <td>N47585</td>\n",
              "      <td>lifestyle</td>\n",
              "      <td>lifestylefamily</td>\n",
              "      <td>Family says 13-year-old Broadway star died fro...</td>\n",
              "      <td>NaN</td>\n",
              "      <td>0</td>\n",
              "      <td>1</td>\n",
              "    </tr>\n",
              "    <tr>\n",
              "      <th>51279</th>\n",
              "      <td>N7482</td>\n",
              "      <td>sports</td>\n",
              "      <td>more_sports</td>\n",
              "      <td>St. Dominic soccer player tries to kick cancer...</td>\n",
              "      <td>Sometimes, what happens on the sidelines can b...</td>\n",
              "      <td>8</td>\n",
              "      <td>1</td>\n",
              "    </tr>\n",
              "    <tr>\n",
              "      <th>51280</th>\n",
              "      <td>N34418</td>\n",
              "      <td>sports</td>\n",
              "      <td>soccer_epl</td>\n",
              "      <td>How the Sounders won MLS Cup</td>\n",
              "      <td>Mark, Jeremiah and Casey were so excited they ...</td>\n",
              "      <td>1</td>\n",
              "      <td>1</td>\n",
              "    </tr>\n",
              "    <tr>\n",
              "      <th>51281</th>\n",
              "      <td>N44276</td>\n",
              "      <td>autos</td>\n",
              "      <td>autossports</td>\n",
              "      <td>Best Sports Car Deals for October</td>\n",
              "      <td>NaN</td>\n",
              "      <td>0</td>\n",
              "      <td>1</td>\n",
              "    </tr>\n",
              "  </tbody>\n",
              "</table>\n",
              "<p>51282 rows × 7 columns</p>\n",
              "</div>\n",
              "      <button class=\"colab-df-convert\" onclick=\"convertToInteractive('df-b40f20b6-3f4e-4ce7-b1c8-03e0cf1a9232')\"\n",
              "              title=\"Convert this dataframe to an interactive table.\"\n",
              "              style=\"display:none;\">\n",
              "        \n",
              "  <svg xmlns=\"http://www.w3.org/2000/svg\" height=\"24px\"viewBox=\"0 0 24 24\"\n",
              "       width=\"24px\">\n",
              "    <path d=\"M0 0h24v24H0V0z\" fill=\"none\"/>\n",
              "    <path d=\"M18.56 5.44l.94 2.06.94-2.06 2.06-.94-2.06-.94-.94-2.06-.94 2.06-2.06.94zm-11 1L8.5 8.5l.94-2.06 2.06-.94-2.06-.94L8.5 2.5l-.94 2.06-2.06.94zm10 10l.94 2.06.94-2.06 2.06-.94-2.06-.94-.94-2.06-.94 2.06-2.06.94z\"/><path d=\"M17.41 7.96l-1.37-1.37c-.4-.4-.92-.59-1.43-.59-.52 0-1.04.2-1.43.59L10.3 9.45l-7.72 7.72c-.78.78-.78 2.05 0 2.83L4 21.41c.39.39.9.59 1.41.59.51 0 1.02-.2 1.41-.59l7.78-7.78 2.81-2.81c.8-.78.8-2.07 0-2.86zM5.41 20L4 18.59l7.72-7.72 1.47 1.35L5.41 20z\"/>\n",
              "  </svg>\n",
              "      </button>\n",
              "      \n",
              "  <style>\n",
              "    .colab-df-container {\n",
              "      display:flex;\n",
              "      flex-wrap:wrap;\n",
              "      gap: 12px;\n",
              "    }\n",
              "\n",
              "    .colab-df-convert {\n",
              "      background-color: #E8F0FE;\n",
              "      border: none;\n",
              "      border-radius: 50%;\n",
              "      cursor: pointer;\n",
              "      display: none;\n",
              "      fill: #1967D2;\n",
              "      height: 32px;\n",
              "      padding: 0 0 0 0;\n",
              "      width: 32px;\n",
              "    }\n",
              "\n",
              "    .colab-df-convert:hover {\n",
              "      background-color: #E2EBFA;\n",
              "      box-shadow: 0px 1px 2px rgba(60, 64, 67, 0.3), 0px 1px 3px 1px rgba(60, 64, 67, 0.15);\n",
              "      fill: #174EA6;\n",
              "    }\n",
              "\n",
              "    [theme=dark] .colab-df-convert {\n",
              "      background-color: #3B4455;\n",
              "      fill: #D2E3FC;\n",
              "    }\n",
              "\n",
              "    [theme=dark] .colab-df-convert:hover {\n",
              "      background-color: #434B5C;\n",
              "      box-shadow: 0px 1px 3px 1px rgba(0, 0, 0, 0.15);\n",
              "      filter: drop-shadow(0px 1px 2px rgba(0, 0, 0, 0.3));\n",
              "      fill: #FFFFFF;\n",
              "    }\n",
              "  </style>\n",
              "\n",
              "      <script>\n",
              "        const buttonEl =\n",
              "          document.querySelector('#df-b40f20b6-3f4e-4ce7-b1c8-03e0cf1a9232 button.colab-df-convert');\n",
              "        buttonEl.style.display =\n",
              "          google.colab.kernel.accessAllowed ? 'block' : 'none';\n",
              "\n",
              "        async function convertToInteractive(key) {\n",
              "          const element = document.querySelector('#df-b40f20b6-3f4e-4ce7-b1c8-03e0cf1a9232');\n",
              "          const dataTable =\n",
              "            await google.colab.kernel.invokeFunction('convertToInteractive',\n",
              "                                                     [key], {});\n",
              "          if (!dataTable) return;\n",
              "\n",
              "          const docLinkHtml = 'Like what you see? Visit the ' +\n",
              "            '<a target=\"_blank\" href=https://colab.research.google.com/notebooks/data_table.ipynb>data table notebook</a>'\n",
              "            + ' to learn more about interactive tables.';\n",
              "          element.innerHTML = '';\n",
              "          dataTable['output_type'] = 'display_data';\n",
              "          await google.colab.output.renderOutput(dataTable, element);\n",
              "          const docLink = document.createElement('div');\n",
              "          docLink.innerHTML = docLinkHtml;\n",
              "          element.appendChild(docLink);\n",
              "        }\n",
              "      </script>\n",
              "    </div>\n",
              "  </div>\n",
              "  "
            ],
            "text/plain": [
              "       NewsID   Category  ... Senteces_Abstract Senteces_Title\n",
              "0      N55528  lifestyle  ...                 1              1\n",
              "1      N19639     health  ...                 1              1\n",
              "2      N61837       news  ...                 2              1\n",
              "3      N53526     health  ...                 2              2\n",
              "4      N38324     health  ...                 2              1\n",
              "...       ...        ...  ...               ...            ...\n",
              "51277  N16909    weather  ...                 1              1\n",
              "51278  N47585  lifestyle  ...                 0              1\n",
              "51279   N7482     sports  ...                 8              1\n",
              "51280  N34418     sports  ...                 1              1\n",
              "51281  N44276      autos  ...                 0              1\n",
              "\n",
              "[51282 rows x 7 columns]"
            ]
          },
          "metadata": {},
          "execution_count": 54
        }
      ]
    },
    {
      "cell_type": "code",
      "source": [
        "# get some Statistical information about above DataFrame\n",
        "news.describe()"
      ],
      "metadata": {
        "colab": {
          "base_uri": "https://localhost:8080/",
          "height": 300
        },
        "id": "gkjn3PzSmwcw",
        "outputId": "06232ecd-1262-4069-f9f6-86a467371530"
      },
      "execution_count": null,
      "outputs": [
        {
          "output_type": "execute_result",
          "data": {
            "text/html": [
              "\n",
              "  <div id=\"df-33ce895f-33c4-457e-bb55-eb411b11f062\">\n",
              "    <div class=\"colab-df-container\">\n",
              "      <div>\n",
              "<style scoped>\n",
              "    .dataframe tbody tr th:only-of-type {\n",
              "        vertical-align: middle;\n",
              "    }\n",
              "\n",
              "    .dataframe tbody tr th {\n",
              "        vertical-align: top;\n",
              "    }\n",
              "\n",
              "    .dataframe thead th {\n",
              "        text-align: right;\n",
              "    }\n",
              "</style>\n",
              "<table border=\"1\" class=\"dataframe\">\n",
              "  <thead>\n",
              "    <tr style=\"text-align: right;\">\n",
              "      <th></th>\n",
              "      <th>Senteces_Abstract</th>\n",
              "      <th>Senteces_Title</th>\n",
              "    </tr>\n",
              "  </thead>\n",
              "  <tbody>\n",
              "    <tr>\n",
              "      <th>count</th>\n",
              "      <td>51282.000000</td>\n",
              "      <td>51282.000000</td>\n",
              "    </tr>\n",
              "    <tr>\n",
              "      <th>mean</th>\n",
              "      <td>1.981221</td>\n",
              "      <td>1.057662</td>\n",
              "    </tr>\n",
              "    <tr>\n",
              "      <th>std</th>\n",
              "      <td>1.614351</td>\n",
              "      <td>0.247232</td>\n",
              "    </tr>\n",
              "    <tr>\n",
              "      <th>min</th>\n",
              "      <td>0.000000</td>\n",
              "      <td>1.000000</td>\n",
              "    </tr>\n",
              "    <tr>\n",
              "      <th>25%</th>\n",
              "      <td>1.000000</td>\n",
              "      <td>1.000000</td>\n",
              "    </tr>\n",
              "    <tr>\n",
              "      <th>50%</th>\n",
              "      <td>1.000000</td>\n",
              "      <td>1.000000</td>\n",
              "    </tr>\n",
              "    <tr>\n",
              "      <th>75%</th>\n",
              "      <td>3.000000</td>\n",
              "      <td>1.000000</td>\n",
              "    </tr>\n",
              "    <tr>\n",
              "      <th>max</th>\n",
              "      <td>36.000000</td>\n",
              "      <td>4.000000</td>\n",
              "    </tr>\n",
              "  </tbody>\n",
              "</table>\n",
              "</div>\n",
              "      <button class=\"colab-df-convert\" onclick=\"convertToInteractive('df-33ce895f-33c4-457e-bb55-eb411b11f062')\"\n",
              "              title=\"Convert this dataframe to an interactive table.\"\n",
              "              style=\"display:none;\">\n",
              "        \n",
              "  <svg xmlns=\"http://www.w3.org/2000/svg\" height=\"24px\"viewBox=\"0 0 24 24\"\n",
              "       width=\"24px\">\n",
              "    <path d=\"M0 0h24v24H0V0z\" fill=\"none\"/>\n",
              "    <path d=\"M18.56 5.44l.94 2.06.94-2.06 2.06-.94-2.06-.94-.94-2.06-.94 2.06-2.06.94zm-11 1L8.5 8.5l.94-2.06 2.06-.94-2.06-.94L8.5 2.5l-.94 2.06-2.06.94zm10 10l.94 2.06.94-2.06 2.06-.94-2.06-.94-.94-2.06-.94 2.06-2.06.94z\"/><path d=\"M17.41 7.96l-1.37-1.37c-.4-.4-.92-.59-1.43-.59-.52 0-1.04.2-1.43.59L10.3 9.45l-7.72 7.72c-.78.78-.78 2.05 0 2.83L4 21.41c.39.39.9.59 1.41.59.51 0 1.02-.2 1.41-.59l7.78-7.78 2.81-2.81c.8-.78.8-2.07 0-2.86zM5.41 20L4 18.59l7.72-7.72 1.47 1.35L5.41 20z\"/>\n",
              "  </svg>\n",
              "      </button>\n",
              "      \n",
              "  <style>\n",
              "    .colab-df-container {\n",
              "      display:flex;\n",
              "      flex-wrap:wrap;\n",
              "      gap: 12px;\n",
              "    }\n",
              "\n",
              "    .colab-df-convert {\n",
              "      background-color: #E8F0FE;\n",
              "      border: none;\n",
              "      border-radius: 50%;\n",
              "      cursor: pointer;\n",
              "      display: none;\n",
              "      fill: #1967D2;\n",
              "      height: 32px;\n",
              "      padding: 0 0 0 0;\n",
              "      width: 32px;\n",
              "    }\n",
              "\n",
              "    .colab-df-convert:hover {\n",
              "      background-color: #E2EBFA;\n",
              "      box-shadow: 0px 1px 2px rgba(60, 64, 67, 0.3), 0px 1px 3px 1px rgba(60, 64, 67, 0.15);\n",
              "      fill: #174EA6;\n",
              "    }\n",
              "\n",
              "    [theme=dark] .colab-df-convert {\n",
              "      background-color: #3B4455;\n",
              "      fill: #D2E3FC;\n",
              "    }\n",
              "\n",
              "    [theme=dark] .colab-df-convert:hover {\n",
              "      background-color: #434B5C;\n",
              "      box-shadow: 0px 1px 3px 1px rgba(0, 0, 0, 0.15);\n",
              "      filter: drop-shadow(0px 1px 2px rgba(0, 0, 0, 0.3));\n",
              "      fill: #FFFFFF;\n",
              "    }\n",
              "  </style>\n",
              "\n",
              "      <script>\n",
              "        const buttonEl =\n",
              "          document.querySelector('#df-33ce895f-33c4-457e-bb55-eb411b11f062 button.colab-df-convert');\n",
              "        buttonEl.style.display =\n",
              "          google.colab.kernel.accessAllowed ? 'block' : 'none';\n",
              "\n",
              "        async function convertToInteractive(key) {\n",
              "          const element = document.querySelector('#df-33ce895f-33c4-457e-bb55-eb411b11f062');\n",
              "          const dataTable =\n",
              "            await google.colab.kernel.invokeFunction('convertToInteractive',\n",
              "                                                     [key], {});\n",
              "          if (!dataTable) return;\n",
              "\n",
              "          const docLinkHtml = 'Like what you see? Visit the ' +\n",
              "            '<a target=\"_blank\" href=https://colab.research.google.com/notebooks/data_table.ipynb>data table notebook</a>'\n",
              "            + ' to learn more about interactive tables.';\n",
              "          element.innerHTML = '';\n",
              "          dataTable['output_type'] = 'display_data';\n",
              "          await google.colab.output.renderOutput(dataTable, element);\n",
              "          const docLink = document.createElement('div');\n",
              "          docLink.innerHTML = docLinkHtml;\n",
              "          element.appendChild(docLink);\n",
              "        }\n",
              "      </script>\n",
              "    </div>\n",
              "  </div>\n",
              "  "
            ],
            "text/plain": [
              "       Senteces_Abstract  Senteces_Title\n",
              "count       51282.000000    51282.000000\n",
              "mean            1.981221        1.057662\n",
              "std             1.614351        0.247232\n",
              "min             0.000000        1.000000\n",
              "25%             1.000000        1.000000\n",
              "50%             1.000000        1.000000\n",
              "75%             3.000000        1.000000\n",
              "max            36.000000        4.000000"
            ]
          },
          "metadata": {},
          "execution_count": 56
        }
      ]
    },
    {
      "cell_type": "markdown",
      "source": [
        "با توجه به اینکه کاربر تبتر خبر را میبیند و کلیک می کند،\n",
        "به نظرم معیار تعداد جملات ابسترکت معیار خوبی نیست و \n",
        "باتوجه به پراکندگی کم تعداد جملات در تایتل ها نیز استفاده از آن کمک چندانی به ما نخواهد کرد.\n",
        "بنابراین نتیجه ی کلی عدم استفاده از تعداد جملات برای پروژه نهایی است"
      ],
      "metadata": {
        "id": "4f3lSJa6v9ms"
      }
    },
    {
      "cell_type": "markdown",
      "source": [
        "با توجه به اینکه پس از بررسی و پیشنهاد دادن اخبار با یک شبکه اولیه به کاربران، مشاهده شد که یسری کاربران از الگوهای پیش تعریف شده برای دیدن خبر جدید استفاده نمی کنند. تصمیم بر آن شد تا ویژگی های جدیدی را برای استخراج از عنوان اخبار پیدا کنیم"
      ],
      "metadata": {
        "id": "v5CAWWA5wokH"
      }
    },
    {
      "cell_type": "markdown",
      "source": [
        "# seprate News based on Celebrity Names and Location Names"
      ],
      "metadata": {
        "id": "V5dk8KjO3QEW"
      }
    },
    {
      "cell_type": "markdown",
      "source": [
        "make a new dataframe to save features"
      ],
      "metadata": {
        "id": "-el3YEM9SCeM"
      }
    },
    {
      "cell_type": "code",
      "source": [
        "News_feature = df = pd.DataFrame()\n",
        "News_feature[\"NewsID\"] = news[\"NewsID\"]\n",
        "News_feature[\"Celebrity_name\"] = \"\"\n",
        "News_feature[\"Location\"] = \"\""
      ],
      "metadata": {
        "id": "3JqeHDoilfm9"
      },
      "execution_count": null,
      "outputs": []
    },
    {
      "cell_type": "markdown",
      "source": [
        "## Use Celebrity names to seprate news"
      ],
      "metadata": {
        "id": "FQeUDGre16cN"
      }
    },
    {
      "cell_type": "markdown",
      "source": [
        "پس از تحقیق آاری از افرادی که در جریان پروژه قرار نداشتند، در مورد اخبار مورد علاقه شان، متوجه شدیم یکسری افراد در اخبار فقط به دنبال نام افراد مشهور و نام آشنا هستند، پس یک اکسل حاوی اسامی افرادی که نامشان در خیابان \n",
        "\n",
        "\n",
        "\"HollyWood Walk of Fame _ ( for more information https://en.wikipedia.org/wiki/Hollywood_Walk_of_Fame)\" \n",
        "\n",
        " قرار دارد ایجاد واز آن استفده کردیم.\n",
        "نام سلبریتی ها از لیستی که در آدرس زیر قرار دارد استخراج شده است\n",
        "\n",
        "https://en.wikipedia.org/wiki/List_of_stars_on_the_Hollywood_Walk_of_Fame  "
      ],
      "metadata": {
        "id": "agkqUeraxZAH"
      }
    },
    {
      "cell_type": "markdown",
      "source": [
        "import celeb names"
      ],
      "metadata": {
        "id": "Z7SxiKnA2FmY"
      }
    },
    {
      "cell_type": "code",
      "source": [
        "# uploaded = files.upload()"
      ],
      "metadata": {
        "id": "Rbfyvovov65B"
      },
      "execution_count": null,
      "outputs": []
    },
    {
      "cell_type": "code",
      "source": [
        "# import io\n",
        "# data = pd.read_excel(io.BytesIO(uploaded['Celeb_list.xlsx']),names=[\"Celebn_name\"])"
      ],
      "metadata": {
        "id": "dufotrLGy3Up"
      },
      "execution_count": null,
      "outputs": []
    },
    {
      "cell_type": "code",
      "source": [
        "## \n",
        "# n = 0\n",
        "# kalamat =[]\n",
        "# for i in range(len(news[\"Title\"])):\n",
        "#   words = news[\"Title\"][i] \n",
        "#   if any(x in words for x in Celeb_list):\n",
        "#     # print(i)\n",
        "#     kalamat.append(i)\n",
        "#     n+=1\n",
        "# print(\"Numbre of Titles:\" , n)"
      ],
      "metadata": {
        "colab": {
          "base_uri": "https://localhost:8080/"
        },
        "id": "vJ4WRqH1gZwn",
        "outputId": "ffe0e424-7b1d-405a-8679-a54905f533d8"
      },
      "execution_count": null,
      "outputs": [
        {
          "output_type": "stream",
          "name": "stdout",
          "text": [
            "Numbre of Titles: 3871\n"
          ]
        }
      ]
    },
    {
      "cell_type": "code",
      "source": [
        "Celeb_list = list(set(data.Celebn_name)) # remove duplicated names"
      ],
      "metadata": {
        "id": "AVRRpjel1_6o"
      },
      "execution_count": null,
      "outputs": []
    },
    {
      "cell_type": "code",
      "source": [
        "# extract Celebrity names from Title and save them into News_feature's \"elebrity_name\" column\n",
        "NewsID_list = [] # to save NewsIDs that contains Celeb names in Title, for our check, Can be deleted\n",
        "for i in range(len(news[\"Title\"])):\n",
        "  words = news[\"Title\"][i] \n",
        "  NewsID = news[\"NewsID\"][i]\n",
        "  for x in Celeb_list:\n",
        "    if \" \"+x+\" \" in words:\n",
        "      NewsID_list.append(NewsID)\n",
        "      News_feature.loc[News_feature[\"NewsID\"] == NewsID,\"Celebrity_name\" ] += x +\"//\" # seprate words with \"//\"\n"
      ],
      "metadata": {
        "id": "-SV4F4NVyWzc"
      },
      "execution_count": null,
      "outputs": []
    },
    {
      "cell_type": "markdown",
      "source": [
        "up to here we made a new df to save news features, \n",
        "\n",
        "\n",
        "then we added Celebrity names into \"Celebrity_name\" column,\n",
        "\n",
        "now we want extract Country and City names, in News Titles\n",
        "\n"
      ],
      "metadata": {
        "id": "oeJeSZXB3cbK"
      }
    },
    {
      "cell_type": "markdown",
      "source": [
        "## Use Location Names to extract News feature"
      ],
      "metadata": {
        "id": "I81CjSkZPQ9F"
      }
    },
    {
      "cell_type": "markdown",
      "source": [
        "ایده ی دیگری که برای جدا کردن اخبار و استخراج ویژگی پس از بررسی های آماری انجام شده نیز مورد قبول واقع شد؛ جدا کردن اخبار بر اساس *مکان مورد بحث در تیتر خبر* بود.\n",
        "\n",
        " فایل اکسلی شامل نام کشور ها و پایتختشان آماده شد، بعضی از کشور ها چند پایتخت دارند و یا نام آنها به روش های متفاوتی تلفظ می شود که به لیست اضافه شدند. نام قاره ها نیز به این لیست اضافه شد. "
      ],
      "metadata": {
        "id": "ivz-XnBgIBih"
      }
    },
    {
      "cell_type": "markdown",
      "source": [
        "import Location names"
      ],
      "metadata": {
        "id": "pNG8EL0LQ6V3"
      }
    },
    {
      "cell_type": "code",
      "source": [
        "# upload City & Country names Excel\n",
        "uploaded = files.upload()"
      ],
      "metadata": {
        "colab": {
          "resources": {
            "http://localhost:8080/nbextensions/google.colab/files.js": {
              "data": "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",
              "ok": true,
              "headers": [
                [
                  "content-type",
                  "application/javascript"
                ]
              ],
              "status": 200,
              "status_text": "OK"
            }
          },
          "base_uri": "https://localhost:8080/",
          "height": 76
        },
        "id": "GkCluI7oPaSL",
        "outputId": "ab53332a-ae0f-4a8f-cc69-264a8cc1019a"
      },
      "execution_count": null,
      "outputs": [
        {
          "output_type": "display_data",
          "data": {
            "text/html": [
              "\n",
              "     <input type=\"file\" id=\"files-7a554a2b-131a-43cf-b9f3-3622a99f0350\" name=\"files[]\" multiple disabled\n",
              "        style=\"border:none\" />\n",
              "     <output id=\"result-7a554a2b-131a-43cf-b9f3-3622a99f0350\">\n",
              "      Upload widget is only available when the cell has been executed in the\n",
              "      current browser session. Please rerun this cell to enable.\n",
              "      </output>\n",
              "      <script src=\"/nbextensions/google.colab/files.js\"></script> "
            ],
            "text/plain": [
              "<IPython.core.display.HTML object>"
            ]
          },
          "metadata": {}
        },
        {
          "output_type": "stream",
          "name": "stdout",
          "text": [
            "Saving City_country.xlsx to City_country (1).xlsx\n"
          ]
        }
      ]
    },
    {
      "cell_type": "code",
      "source": [
        "Location_df = pd.read_excel(io.BytesIO(uploaded['City_country.xlsx']),names=[\"names\"])"
      ],
      "metadata": {
        "id": "Xyw-dasdQcBU"
      },
      "execution_count": null,
      "outputs": []
    },
    {
      "cell_type": "code",
      "source": [
        "Location_df_List = Location_df[\"names\"].to_list()\n",
        "Location_df_List = list(set(Location_df_List )) # remove duplicate names, if exist\n",
        "Location_df_List"
      ],
      "metadata": {
        "id": "hSRIOnDfQvmF"
      },
      "execution_count": null,
      "outputs": []
    },
    {
      "cell_type": "code",
      "source": [
        "# extract Location names from Title and save them to News_feature's \"Location\" column.\n",
        "Location_NewsID = [] # to save NewsIDs that contains Location names in Title, for our check, Can be deleted\n",
        "for i in range(len(news[\"Title\"])):\n",
        "  words = news[\"Title\"][i] \n",
        "  NewsID = news[\"NewsID\"][i]\n",
        "  for x in Location_df_List:\n",
        "    if \" \"+x+\" \" in words:\n",
        "      Location_NewsID.append(NewsID)\n",
        "      News_feature.loc[News_feature[\"NewsID\"] == NewsID,\"Location\" ] += x +\"//\" \n"
      ],
      "metadata": {
        "id": "E8Etjd8QRCA6"
      },
      "execution_count": null,
      "outputs": []
    },
    {
      "cell_type": "markdown",
      "source": [
        "# Clean Data\n",
        "News Preprocessing"
      ],
      "metadata": {
        "id": "F3I4Sz9CR6Se"
      }
    },
    {
      "cell_type": "code",
      "source": [
        "# Checking and removing all the duplicate values\n",
        "print('the number of articles before processing :',len(news))\n",
        "news.drop_duplicates(subset=['Title'],inplace=True)\n",
        "print('The number of articles after processing :',len(news))\n"
      ],
      "metadata": {
        "colab": {
          "base_uri": "https://localhost:8080/"
        },
        "id": "YJJLRDGERUQr",
        "outputId": "5080db9c-2282-4e5e-f2a6-830cd2feebd1"
      },
      "execution_count": null,
      "outputs": [
        {
          "output_type": "stream",
          "name": "stdout",
          "text": [
            "the number of articles before processing : 51282\n",
            "The number of articles after processing : 50434\n"
          ]
        }
      ]
    },
    {
      "cell_type": "code",
      "source": [
        "# Checking for NaN values\n",
        "news.isna().sum()"
      ],
      "metadata": {
        "colab": {
          "base_uri": "https://localhost:8080/"
        },
        "id": "17vR_XEMSYPq",
        "outputId": "a6e538d2-4f85-4f7d-9fa1-6172cbd8fed7"
      },
      "execution_count": null,
      "outputs": [
        {
          "output_type": "execute_result",
          "data": {
            "text/plain": [
              "News_ID           0\n",
              "Category          0\n",
              "SubCategory       0\n",
              "Title             0\n",
              "Abstract       2646\n",
              "dtype: int64"
            ]
          },
          "metadata": {},
          "execution_count": 14
        }
      ]
    },
    {
      "cell_type": "code",
      "source": [
        "# Inspecting some of the reviews\n",
        "for i in range(5):\n",
        "    print(\"news #\",i+1)\n",
        "    print(news.Title[i])\n",
        "    print(news.Abstract[i])\n",
        "    print()\n"
      ],
      "metadata": {
        "id": "Vte25LqhVmez",
        "colab": {
          "base_uri": "https://localhost:8080/"
        },
        "outputId": "fa740071-5135-4185-8616-952524623078"
      },
      "execution_count": null,
      "outputs": [
        {
          "output_type": "stream",
          "name": "stdout",
          "text": [
            "news # 1\n",
            "The Brands Queen Elizabeth, Prince Charles, and Prince Philip Swear By\n",
            "Shop the notebooks, jackets, and more that the royals can't live without.\n",
            "\n",
            "news # 2\n",
            "50 Worst Habits For Belly Fat\n",
            "These seemingly harmless habits are holding you back and keeping you from shedding that unwanted belly fat for good.\n",
            "\n",
            "news # 3\n",
            "The Cost of Trump's Aid Freeze in the Trenches of Ukraine's War\n",
            "Lt. Ivan Molchanets peeked over a parapet of sand bags at the front line of the war in Ukraine. Next to him was an empty helmet propped up to trick snipers, already perforated with multiple holes.\n",
            "\n",
            "news # 4\n",
            "I Was An NBA Wife. Here's How It Affected My Mental Health.\n",
            "I felt like I was a fraud, and being an NBA wife didn't help that. In fact, it nearly destroyed me.\n",
            "\n",
            "news # 5\n",
            "How to Get Rid of Skin Tags, According to a Dermatologist\n",
            "They seem harmless, but there's a very good reason you shouldn't ignore them. The post How to Get Rid of Skin Tags, According to a Dermatologist appeared first on Reader's Digest.\n",
            "\n"
          ]
        }
      ]
    },
    {
      "cell_type": "code",
      "source": [
        "#A list of contractions from http://stackoverflow.com/questions/19790188/expanding-english-language-contractions-in-python\n",
        "contractions = { \n",
        "\"ain't\": \"am not\",\n",
        "\"aren't\": \"are not\",\n",
        "\"can't\": \"cannot\",\n",
        "\"can't've\": \"cannot have\",\n",
        "\"'cause\": \"because\",\n",
        "\"could've\": \"could have\",\n",
        "\"couldn't\": \"could not\",\n",
        "\"couldn't've\": \"could not have\",\n",
        "\"didn't\": \"did not\",\n",
        "\"doesn't\": \"does not\",\n",
        "\"don't\": \"do not\",\n",
        "\"hadn't\": \"had not\",\n",
        "\"hadn't've\": \"had not have\",\n",
        "\"hasn't\": \"has not\",\n",
        "\"haven't\": \"have not\",\n",
        "\"he'd\": \"he would\",\n",
        "\"he'd've\": \"he would have\",\n",
        "\"he'll\": \"he will\",\n",
        "\"he's\": \"he is\",\n",
        "\"how'd\": \"how did\",\n",
        "\"how'll\": \"how will\",\n",
        "\"how's\": \"how is\",\n",
        "\"i'd\": \"i would\",\n",
        "\"i'll\": \"i will\",\n",
        "\"i'm\": \"i am\",\n",
        "\"i've\": \"i have\",\n",
        "\"isn't\": \"is not\",\n",
        "\"it'd\": \"it would\",\n",
        "\"it'll\": \"it will\",\n",
        "\"it's\": \"it is\",\n",
        "\"let's\": \"let us\",\n",
        "\"ma'am\": \"madam\",\n",
        "\"mayn't\": \"may not\",\n",
        "\"might've\": \"might have\",\n",
        "\"mightn't\": \"might not\",\n",
        "\"must've\": \"must have\",\n",
        "\"mustn't\": \"must not\",\n",
        "\"needn't\": \"need not\",\n",
        "\"oughtn't\": \"ought not\",\n",
        "\"shan't\": \"shall not\",\n",
        "\"sha'n't\": \"shall not\",\n",
        "\"she'd\": \"she would\",\n",
        "\"she'll\": \"she will\",\n",
        "\"she's\": \"she is\",\n",
        "\"should've\": \"should have\",\n",
        "\"shouldn't\": \"should not\",\n",
        "\"that'd\": \"that would\",\n",
        "\"that's\": \"that is\",\n",
        "\"there'd\": \"there had\",\n",
        "\"there's\": \"there is\",\n",
        "\"they'd\": \"they would\",\n",
        "\"they'll\": \"they will\",\n",
        "\"they're\": \"they are\",\n",
        "\"they've\": \"they have\",\n",
        "\"wasn't\": \"was not\",\n",
        "\"we'd\": \"we would\",\n",
        "\"we'll\": \"we will\",\n",
        "\"we're\": \"we are\",\n",
        "\"we've\": \"we have\",\n",
        "\"weren't\": \"were not\",\n",
        "\"what'll\": \"what will\",\n",
        "\"what're\": \"what are\",\n",
        "\"what's\": \"what is\",\n",
        "\"what've\": \"what have\",\n",
        "\"where'd\": \"where did\",\n",
        "\"where's\": \"where is\",\n",
        "\"who'll\": \"who will\",\n",
        "\"who's\": \"who is\",\n",
        "\"won't\": \"will not\",\n",
        "\"wouldn't\": \"would not\",\n",
        "\"you'd\": \"you would\",\n",
        "\"you'll\": \"you will\",\n",
        "\"you're\": \"you are\"\n",
        "}"
      ],
      "metadata": {
        "id": "f8z-9_wxSlON"
      },
      "execution_count": null,
      "outputs": []
    },
    {
      "cell_type": "code",
      "source": [
        "news.info()"
      ],
      "metadata": {
        "colab": {
          "base_uri": "https://localhost:8080/"
        },
        "id": "6HNGEmf93Btw",
        "outputId": "977057bb-8c40-42e7-fe5c-273ff3eb8d12"
      },
      "execution_count": null,
      "outputs": [
        {
          "output_type": "stream",
          "name": "stdout",
          "text": [
            "<class 'pandas.core.frame.DataFrame'>\n",
            "Int64Index: 50434 entries, 0 to 51281\n",
            "Data columns (total 5 columns):\n",
            " #   Column       Non-Null Count  Dtype \n",
            "---  ------       --------------  ----- \n",
            " 0   News_ID      50434 non-null  object\n",
            " 1   Category     50434 non-null  object\n",
            " 2   SubCategory  50434 non-null  object\n",
            " 3   Title        50434 non-null  object\n",
            " 4   Abstract     47788 non-null  object\n",
            "dtypes: object(5)\n",
            "memory usage: 3.3+ MB\n"
          ]
        }
      ]
    },
    {
      "cell_type": "code",
      "source": [
        "def clean_text(text, remove_stopwords = True):\n",
        "    '''Remove unwanted characters, stopwords, and format the text to create fewer nulls word embeddings'''\n",
        "    if type(text) == str:\n",
        "        # Convert words to lower case\n",
        "        text = text.lower()\n",
        "        \n",
        "        # Replace contractions with their longer forms \n",
        "        if True:\n",
        "            text = text.split()\n",
        "            new_text = []\n",
        "            for word in text:\n",
        "                if word in contractions:\n",
        "                    new_text.append(contractions[word])\n",
        "                else:\n",
        "                    new_text.append(word)\n",
        "            text = \" \".join(new_text)\n",
        "        \n",
        "        #Format words and remove unwanted characters\n",
        "        text = re.sub(r'https?:\\/\\/.*[\\r\\n]*', '', text, flags=re.MULTILINE)\n",
        "        text = re.sub(r'\\<a href', ' ', text)\n",
        "        text = re.sub(r'&amp;', '', text) \n",
        "        text = re.sub(r'[_\"\\-;%()|+&=*%.,!?:#$@\\[\\]/]', ' ', text)\n",
        "        text = re.sub(r'<br />', ' ', text)\n",
        "        text = re.sub(r'\\'', ' ', text)\n",
        "        \n",
        "        # Optionally, remove stop words\n",
        "        if remove_stopwords:\n",
        "            text = text.split()\n",
        "            stops = set(stopwords.words(\"english\"))\n",
        "            text = [w for w in text if not w in stops]\n",
        "            text = \" \".join(text)\n",
        "\n",
        "        return text"
      ],
      "metadata": {
        "id": "DCMBuse8VH9v"
      },
      "execution_count": null,
      "outputs": []
    },
    {
      "cell_type": "code",
      "source": [
        "# Clean the summaries and texts\n",
        "\n",
        "news[\"Title\"] = news[\"Title\"].apply(lambda x: clean_text(x, remove_stopwords= True) )\n",
        "print(\"Titles are cleaned.\")\n",
        "\n",
        "clean_titles = []\n",
        "for title in news.Title:\n",
        "    clean_titles.append(title)\n",
        "\n",
        "news[\"Abstract\"] = news[\"Abstract\"].apply(lambda x: clean_text(x , remove_stopwords= True) )\n",
        "print(\"Abstract are cleaned.\")\n",
        "\n",
        "clean_abstract = []\n",
        "for abstract in news.Abstract:\n",
        "    clean_abstract.append(abstract)\n"
      ],
      "metadata": {
        "colab": {
          "base_uri": "https://localhost:8080/"
        },
        "id": "D4Eh40qBW0nl",
        "outputId": "6a49bbca-981f-4600-8bf7-9ba9d67451c9"
      },
      "execution_count": null,
      "outputs": [
        {
          "output_type": "stream",
          "name": "stdout",
          "text": [
            "Titles are cleaned.\n",
            "Abstract are cleaned.\n"
          ]
        }
      ]
    },
    {
      "cell_type": "code",
      "source": [
        "# Inspecting some of the reviews\n",
        "for i in range(5):\n",
        "    print(\"news #\",i+1)\n",
        "    print(news.Title[i])\n",
        "    print(news.Abstract[i])\n",
        "    print()\n",
        "\n",
        "\n",
        "\n",
        "# news # 1\n",
        "# The Brands Queen Elizabeth, Prince Charles, and Prince Philip Swear By\n",
        "# Shop the notebooks, jackets, and more that the royals can't live without.\n",
        "\n",
        "# news # 2\n",
        "# 50 Worst Habits For Belly Fat\n",
        "# These seemingly harmless habits are holding you back and keeping you from shedding that unwanted belly fat for good.\n",
        "\n",
        "# news # 3\n",
        "# The Cost of Trump's Aid Freeze in the Trenches of Ukraine's War\n",
        "# Lt. Ivan Molchanets peeked over a parapet of sand bags at the front line of the war in Ukraine. Next to him was an empty helmet propped up to trick snipers, already perforated with multiple holes.\n",
        "\n",
        "# news # 4\n",
        "# I Was An NBA Wife. Here's How It Affected My Mental Health.\n",
        "# I felt like I was a fraud, and being an NBA wife didn't help that. In fact, it nearly destroyed me.\n",
        "\n",
        "# news # 5\n",
        "# How to Get Rid of Skin Tags, According to a Dermatologist\n",
        "# They seem harmless, but there's a very good reason you shouldn't ignore them. The post How to Get Rid of Skin Tags, According to a Dermatologist appeared first on Reader's Digest.\n"
      ],
      "metadata": {
        "colab": {
          "base_uri": "https://localhost:8080/"
        },
        "id": "H-ZL-yoX4KiS",
        "outputId": "8b0de945-66b4-453d-c641-389f33f7988f"
      },
      "execution_count": null,
      "outputs": [
        {
          "output_type": "stream",
          "name": "stdout",
          "text": [
            "news # 1\n",
            "brands queen elizabeth prince charles prince philip swear\n",
            "shop notebooks jackets royals cannot live without\n",
            "\n",
            "news # 2\n",
            "50 worst habits belly fat\n",
            "seemingly harmless habits holding back keeping shedding unwanted belly fat good\n",
            "\n",
            "news # 3\n",
            "cost trump aid freeze trenches ukraine war\n",
            "lt ivan molchanets peeked parapet sand bags front line war ukraine next empty helmet propped trick snipers already perforated multiple holes\n",
            "\n",
            "news # 4\n",
            "nba wife affected mental health\n",
            "felt like fraud nba wife help fact nearly destroyed\n",
            "\n",
            "news # 5\n",
            "get rid skin tags according dermatologist\n",
            "seem harmless good reason ignore post get rid skin tags according dermatologist appeared first reader digest\n",
            "\n"
          ]
        }
      ]
    },
    {
      "cell_type": "code",
      "source": [
        "def count_words(count_dict, text):\n",
        "    '''Count the number of occurrences of each word in a set of text'''\n",
        "\n",
        "    for sentence in text:\n",
        "      if type(sentence) == str:\n",
        "        for word in sentence.split():\n",
        "            if word not in count_dict:\n",
        "                count_dict[word] = 1\n",
        "            else:\n",
        "                count_dict[word] += 1"
      ],
      "metadata": {
        "id": "N3EBXIB2m7a9"
      },
      "execution_count": null,
      "outputs": []
    },
    {
      "cell_type": "code",
      "source": [
        "# Find the number of times each word was used and the size of the vocabulary\n",
        "word_counts = {}\n",
        "\n",
        "r5(word_counts, clean_titles)\n",
        "count_words(word_counts, clean_abstract)\n",
        "            \n",
        "print(\"Size of Vocabulary:\", len(word_counts))"
      ],
      "metadata": {
        "id": "ZfazE4L-nCpR",
        "colab": {
          "base_uri": "https://localhost:8080/"
        },
        "outputId": "ad35d1ab-8d46-4999-89ee-611d29ff0c6b"
      },
      "execution_count": null,
      "outputs": [
        {
          "output_type": "stream",
          "name": "stdout",
          "text": [
            "Size of Vocabulary: 54832\n"
          ]
        }
      ]
    },
    {
      "cell_type": "code",
      "source": [
        "news.head()"
      ],
      "metadata": {
        "colab": {
          "base_uri": "https://localhost:8080/",
          "height": 206
        },
        "id": "TzZ4qv3nqT6M",
        "outputId": "04ce0267-1607-47ce-9442-05d444dcd902"
      },
      "execution_count": null,
      "outputs": [
        {
          "output_type": "execute_result",
          "data": {
            "text/html": [
              "\n",
              "  <div id=\"df-5e8ac6d6-1d90-4987-a95f-164d2fc48484\">\n",
              "    <div class=\"colab-df-container\">\n",
              "      <div>\n",
              "<style scoped>\n",
              "    .dataframe tbody tr th:only-of-type {\n",
              "        vertical-align: middle;\n",
              "    }\n",
              "\n",
              "    .dataframe tbody tr th {\n",
              "        vertical-align: top;\n",
              "    }\n",
              "\n",
              "    .dataframe thead th {\n",
              "        text-align: right;\n",
              "    }\n",
              "</style>\n",
              "<table border=\"1\" class=\"dataframe\">\n",
              "  <thead>\n",
              "    <tr style=\"text-align: right;\">\n",
              "      <th></th>\n",
              "      <th>News_ID</th>\n",
              "      <th>Category</th>\n",
              "      <th>SubCategory</th>\n",
              "      <th>Title</th>\n",
              "      <th>Abstract</th>\n",
              "    </tr>\n",
              "  </thead>\n",
              "  <tbody>\n",
              "    <tr>\n",
              "      <th>0</th>\n",
              "      <td>N55528</td>\n",
              "      <td>lifestyle</td>\n",
              "      <td>lifestyleroyals</td>\n",
              "      <td>brands queen elizabeth prince charles prince p...</td>\n",
              "      <td>shop notebooks jackets royals cannot live without</td>\n",
              "    </tr>\n",
              "    <tr>\n",
              "      <th>1</th>\n",
              "      <td>N19639</td>\n",
              "      <td>health</td>\n",
              "      <td>weightloss</td>\n",
              "      <td>50 worst habits belly fat</td>\n",
              "      <td>seemingly harmless habits holding back keeping...</td>\n",
              "    </tr>\n",
              "    <tr>\n",
              "      <th>2</th>\n",
              "      <td>N61837</td>\n",
              "      <td>news</td>\n",
              "      <td>newsworld</td>\n",
              "      <td>cost trump aid freeze trenches ukraine war</td>\n",
              "      <td>lt ivan molchanets peeked parapet sand bags fr...</td>\n",
              "    </tr>\n",
              "    <tr>\n",
              "      <th>3</th>\n",
              "      <td>N53526</td>\n",
              "      <td>health</td>\n",
              "      <td>voices</td>\n",
              "      <td>nba wife affected mental health</td>\n",
              "      <td>felt like fraud nba wife help fact nearly dest...</td>\n",
              "    </tr>\n",
              "    <tr>\n",
              "      <th>4</th>\n",
              "      <td>N38324</td>\n",
              "      <td>health</td>\n",
              "      <td>medical</td>\n",
              "      <td>get rid skin tags according dermatologist</td>\n",
              "      <td>seem harmless good reason ignore post get rid ...</td>\n",
              "    </tr>\n",
              "  </tbody>\n",
              "</table>\n",
              "</div>\n",
              "      <button class=\"colab-df-convert\" onclick=\"convertToInteractive('df-5e8ac6d6-1d90-4987-a95f-164d2fc48484')\"\n",
              "              title=\"Convert this dataframe to an interactive table.\"\n",
              "              style=\"display:none;\">\n",
              "        \n",
              "  <svg xmlns=\"http://www.w3.org/2000/svg\" height=\"24px\"viewBox=\"0 0 24 24\"\n",
              "       width=\"24px\">\n",
              "    <path d=\"M0 0h24v24H0V0z\" fill=\"none\"/>\n",
              "    <path d=\"M18.56 5.44l.94 2.06.94-2.06 2.06-.94-2.06-.94-.94-2.06-.94 2.06-2.06.94zm-11 1L8.5 8.5l.94-2.06 2.06-.94-2.06-.94L8.5 2.5l-.94 2.06-2.06.94zm10 10l.94 2.06.94-2.06 2.06-.94-2.06-.94-.94-2.06-.94 2.06-2.06.94z\"/><path d=\"M17.41 7.96l-1.37-1.37c-.4-.4-.92-.59-1.43-.59-.52 0-1.04.2-1.43.59L10.3 9.45l-7.72 7.72c-.78.78-.78 2.05 0 2.83L4 21.41c.39.39.9.59 1.41.59.51 0 1.02-.2 1.41-.59l7.78-7.78 2.81-2.81c.8-.78.8-2.07 0-2.86zM5.41 20L4 18.59l7.72-7.72 1.47 1.35L5.41 20z\"/>\n",
              "  </svg>\n",
              "      </button>\n",
              "      \n",
              "  <style>\n",
              "    .colab-df-container {\n",
              "      display:flex;\n",
              "      flex-wrap:wrap;\n",
              "      gap: 12px;\n",
              "    }\n",
              "\n",
              "    .colab-df-convert {\n",
              "      background-color: #E8F0FE;\n",
              "      border: none;\n",
              "      border-radius: 50%;\n",
              "      cursor: pointer;\n",
              "      display: none;\n",
              "      fill: #1967D2;\n",
              "      height: 32px;\n",
              "      padding: 0 0 0 0;\n",
              "      width: 32px;\n",
              "    }\n",
              "\n",
              "    .colab-df-convert:hover {\n",
              "      background-color: #E2EBFA;\n",
              "      box-shadow: 0px 1px 2px rgba(60, 64, 67, 0.3), 0px 1px 3px 1px rgba(60, 64, 67, 0.15);\n",
              "      fill: #174EA6;\n",
              "    }\n",
              "\n",
              "    [theme=dark] .colab-df-convert {\n",
              "      background-color: #3B4455;\n",
              "      fill: #D2E3FC;\n",
              "    }\n",
              "\n",
              "    [theme=dark] .colab-df-convert:hover {\n",
              "      background-color: #434B5C;\n",
              "      box-shadow: 0px 1px 3px 1px rgba(0, 0, 0, 0.15);\n",
              "      filter: drop-shadow(0px 1px 2px rgba(0, 0, 0, 0.3));\n",
              "      fill: #FFFFFF;\n",
              "    }\n",
              "  </style>\n",
              "\n",
              "      <script>\n",
              "        const buttonEl =\n",
              "          document.querySelector('#df-5e8ac6d6-1d90-4987-a95f-164d2fc48484 button.colab-df-convert');\n",
              "        buttonEl.style.display =\n",
              "          google.colab.kernel.accessAllowed ? 'block' : 'none';\n",
              "\n",
              "        async function convertToInteractive(key) {\n",
              "          const element = document.querySelector('#df-5e8ac6d6-1d90-4987-a95f-164d2fc48484');\n",
              "          const dataTable =\n",
              "            await google.colab.kernel.invokeFunction('convertToInteractive',\n",
              "                                                     [key], {});\n",
              "          if (!dataTable) return;\n",
              "\n",
              "          const docLinkHtml = 'Like what you see? Visit the ' +\n",
              "            '<a target=\"_blank\" href=https://colab.research.google.com/notebooks/data_table.ipynb>data table notebook</a>'\n",
              "            + ' to learn more about interactive tables.';\n",
              "          element.innerHTML = '';\n",
              "          dataTable['output_type'] = 'display_data';\n",
              "          await google.colab.output.renderOutput(dataTable, element);\n",
              "          const docLink = document.createElement('div');\n",
              "          docLink.innerHTML = docLinkHtml;\n",
              "          element.appendChild(docLink);\n",
              "        }\n",
              "      </script>\n",
              "    </div>\n",
              "  </div>\n",
              "  "
            ],
            "text/plain": [
              "  News_ID  ...                                           Abstract\n",
              "0  N55528  ...  shop notebooks jackets royals cannot live without\n",
              "1  N19639  ...  seemingly harmless habits holding back keeping...\n",
              "2  N61837  ...  lt ivan molchanets peeked parapet sand bags fr...\n",
              "3  N53526  ...  felt like fraud nba wife help fact nearly dest...\n",
              "4  N38324  ...  seem harmless good reason ignore post get rid ...\n",
              "\n",
              "[5 rows x 5 columns]"
            ]
          },
          "metadata": {},
          "execution_count": 38
        }
      ]
    },
    {
      "cell_type": "markdown",
      "source": [
        "# save changes"
      ],
      "metadata": {
        "id": "e6_CwFtrsdSl"
      }
    },
    {
      "cell_type": "markdown",
      "source": [
        "save dataframe into excel file"
      ],
      "metadata": {
        "id": "3fgzcXJ6RWDH"
      }
    },
    {
      "cell_type": "code",
      "source": [
        "# news.to_excel('news.xlsx') \n",
        "# files.download('news.xlsx')"
      ],
      "metadata": {
        "id": "HDroTP7VFvja",
        "colab": {
          "base_uri": "https://localhost:8080/",
          "height": 17
        },
        "outputId": "1712b3cc-dae0-4329-a790-d7b45ed103af"
      },
      "execution_count": null,
      "outputs": [
        {
          "output_type": "display_data",
          "data": {
            "application/javascript": [
              "\n",
              "    async function download(id, filename, size) {\n",
              "      if (!google.colab.kernel.accessAllowed) {\n",
              "        return;\n",
              "      }\n",
              "      const div = document.createElement('div');\n",
              "      const label = document.createElement('label');\n",
              "      label.textContent = `Downloading \"${filename}\": `;\n",
              "      div.appendChild(label);\n",
              "      const progress = document.createElement('progress');\n",
              "      progress.max = size;\n",
              "      div.appendChild(progress);\n",
              "      document.body.appendChild(div);\n",
              "\n",
              "      const buffers = [];\n",
              "      let downloaded = 0;\n",
              "\n",
              "      const channel = await google.colab.kernel.comms.open(id);\n",
              "      // Send a message to notify the kernel that we're ready.\n",
              "      channel.send({})\n",
              "\n",
              "      for await (const message of channel.messages) {\n",
              "        // Send a message to notify the kernel that we're ready.\n",
              "        channel.send({})\n",
              "        if (message.buffers) {\n",
              "          for (const buffer of message.buffers) {\n",
              "            buffers.push(buffer);\n",
              "            downloaded += buffer.byteLength;\n",
              "            progress.value = downloaded;\n",
              "          }\n",
              "        }\n",
              "      }\n",
              "      const blob = new Blob(buffers, {type: 'application/binary'});\n",
              "      const a = document.createElement('a');\n",
              "      a.href = window.URL.createObjectURL(blob);\n",
              "      a.download = filename;\n",
              "      div.appendChild(a);\n",
              "      a.click();\n",
              "      div.remove();\n",
              "    }\n",
              "  "
            ],
            "text/plain": [
              "<IPython.core.display.Javascript object>"
            ]
          },
          "metadata": {}
        },
        {
          "output_type": "display_data",
          "data": {
            "application/javascript": [
              "download(\"download_f7e2999f-ab8f-4a89-9ca5-1123f8f34bef\", \"news.xlsx\", 8457356)"
            ],
            "text/plain": [
              "<IPython.core.display.Javascript object>"
            ]
          },
          "metadata": {}
        }
      ]
    },
    {
      "cell_type": "markdown",
      "source": [
        "save List into excel file"
      ],
      "metadata": {
        "id": "GAy6m3WXRaFE"
      }
    },
    {
      "cell_type": "code",
      "source": [
        "# !pip install xlsxwriter"
      ],
      "metadata": {
        "colab": {
          "base_uri": "https://localhost:8080/"
        },
        "id": "cTheAat-Xvmf",
        "outputId": "f3345a12-3ad2-4cf4-ddd1-7a2f84fb9930"
      },
      "execution_count": null,
      "outputs": [
        {
          "output_type": "stream",
          "name": "stdout",
          "text": [
            "Collecting xlsxwriter\n",
            "  Downloading XlsxWriter-3.0.2-py3-none-any.whl (149 kB)\n",
            "\u001b[?25l\r\u001b[K     |██▏                             | 10 kB 20.7 MB/s eta 0:00:01\r\u001b[K     |████▍                           | 20 kB 25.1 MB/s eta 0:00:01\r\u001b[K     |██████▋                         | 30 kB 30.4 MB/s eta 0:00:01\r\u001b[K     |████████▊                       | 40 kB 15.5 MB/s eta 0:00:01\r\u001b[K     |███████████                     | 51 kB 11.8 MB/s eta 0:00:01\r\u001b[K     |█████████████▏                  | 61 kB 12.7 MB/s eta 0:00:01\r\u001b[K     |███████████████▎                | 71 kB 12.4 MB/s eta 0:00:01\r\u001b[K     |█████████████████▌              | 81 kB 13.1 MB/s eta 0:00:01\r\u001b[K     |███████████████████▊            | 92 kB 14.1 MB/s eta 0:00:01\r\u001b[K     |█████████████████████▉          | 102 kB 13.1 MB/s eta 0:00:01\r\u001b[K     |████████████████████████        | 112 kB 13.1 MB/s eta 0:00:01\r\u001b[K     |██████████████████████████▎     | 122 kB 13.1 MB/s eta 0:00:01\r\u001b[K     |████████████████████████████▍   | 133 kB 13.1 MB/s eta 0:00:01\r\u001b[K     |██████████████████████████████▋ | 143 kB 13.1 MB/s eta 0:00:01\r\u001b[K     |████████████████████████████████| 149 kB 13.1 MB/s \n",
            "\u001b[?25hInstalling collected packages: xlsxwriter\n",
            "Successfully installed xlsxwriter-3.0.2\n"
          ]
        }
      ]
    },
    {
      "cell_type": "code",
      "source": [
        "## to save a list into xlsx\n",
        "# import xlsxwriter     \n",
        "      \n",
        "# Workbook = xlsxwriter.Workbook('Celeb_list.xlsx')     \n",
        "# sheet = Workbook.add_worksheet()     \n",
        "       \n",
        "# # Rows and columns are zero indexed.     \n",
        "# row = 0    \n",
        "# column = 0    \n",
        "      \n",
        "# content = Celeb_list  \n",
        "      \n",
        "# # iterating through the content list     \n",
        "# for item in content :     \n",
        "      \n",
        "#     # write operation perform     \n",
        "#     sheet.write(row, column, item)     \n",
        "      \n",
        "#     # incrementing the value of row by one with each iterations.     \n",
        "#     row += 1    \n",
        "          \n",
        "# Workbook.close() \n",
        "\n",
        "# files.download('Celeb_list.xlsx')"
      ],
      "metadata": {
        "colab": {
          "base_uri": "https://localhost:8080/",
          "height": 34
        },
        "id": "-pySIdelVWOl",
        "outputId": "02fef90e-3807-4aa8-d129-2eba204ef7df"
      },
      "execution_count": null,
      "outputs": [
        {
          "output_type": "display_data",
          "data": {
            "application/javascript": [
              "\n",
              "    async function download(id, filename, size) {\n",
              "      if (!google.colab.kernel.accessAllowed) {\n",
              "        return;\n",
              "      }\n",
              "      const div = document.createElement('div');\n",
              "      const label = document.createElement('label');\n",
              "      label.textContent = `Downloading \"${filename}\": `;\n",
              "      div.appendChild(label);\n",
              "      const progress = document.createElement('progress');\n",
              "      progress.max = size;\n",
              "      div.appendChild(progress);\n",
              "      document.body.appendChild(div);\n",
              "\n",
              "      const buffers = [];\n",
              "      let downloaded = 0;\n",
              "\n",
              "      const channel = await google.colab.kernel.comms.open(id);\n",
              "      // Send a message to notify the kernel that we're ready.\n",
              "      channel.send({})\n",
              "\n",
              "      for await (const message of channel.messages) {\n",
              "        // Send a message to notify the kernel that we're ready.\n",
              "        channel.send({})\n",
              "        if (message.buffers) {\n",
              "          for (const buffer of message.buffers) {\n",
              "            buffers.push(buffer);\n",
              "            downloaded += buffer.byteLength;\n",
              "            progress.value = downloaded;\n",
              "          }\n",
              "        }\n",
              "      }\n",
              "      const blob = new Blob(buffers, {type: 'application/binary'});\n",
              "      const a = document.createElement('a');\n",
              "      a.href = window.URL.createObjectURL(blob);\n",
              "      a.download = filename;\n",
              "      div.appendChild(a);\n",
              "      a.click();\n",
              "      div.remove();\n",
              "    }\n",
              "  "
            ],
            "text/plain": [
              "<IPython.core.display.Javascript object>"
            ]
          },
          "metadata": {}
        },
        {
          "output_type": "display_data",
          "data": {
            "application/javascript": [
              "download(\"download_ecf1a40f-3cdf-4387-bd13-9cb0a6c3da7f\", \"Celeb_list.xlsx\", 41694)"
            ],
            "text/plain": [
              "<IPython.core.display.Javascript object>"
            ]
          },
          "metadata": {}
        }
      ]
    }
  ]
}